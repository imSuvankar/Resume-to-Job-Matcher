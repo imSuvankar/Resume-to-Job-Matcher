{
  "nbformat": 4,
  "nbformat_minor": 0,
  "metadata": {
    "colab": {
      "provenance": [],
      "authorship_tag": "ABX9TyMUCfi3r54PVs6/pfz02JiN"
    },
    "kernelspec": {
      "name": "python3",
      "display_name": "Python 3"
    },
    "language_info": {
      "name": "python"
    }
  },
  "cells": [
    {
      "cell_type": "markdown",
      "source": [
        "### Avoids scroll-in-the-scroll in the entire Notebook"
      ],
      "metadata": {
        "id": "GVjQ2nS3JYww"
      }
    },
    {
      "cell_type": "code",
      "execution_count": 2,
      "metadata": {
        "id": "FWUE5c5SSA4q",
        "colab": {
          "base_uri": "https://localhost:8080/",
          "height": 0
        },
        "outputId": "4c18200e-0240-4ccd-e145-b5297c15451f"
      },
      "outputs": [
        {
          "output_type": "display_data",
          "data": {
            "text/plain": [
              "<IPython.core.display.Javascript object>"
            ],
            "application/javascript": [
              "google.colab.output.setIframeHeight(0, true, {maxHeight: 5000})"
            ]
          },
          "metadata": {}
        }
      ],
      "source": [
        "from IPython.display import Javascript\n",
        "def resize_colab_cell():\n",
        "    display(Javascript('google.colab.output.setIframeHeight(0, true, {maxHeight: 5000})'))\n",
        "get_ipython().events.register('pre_run_cell', resize_colab_cell)"
      ]
    },
    {
      "cell_type": "markdown",
      "source": [
        "### Extracting text from resume PDF"
      ],
      "metadata": {
        "id": "uBqel0OAKtE7"
      }
    },
    {
      "cell_type": "code",
      "source": [
        "!pip install PyPDF2"
      ],
      "metadata": {
        "colab": {
          "base_uri": "https://localhost:8080/",
          "height": 104
        },
        "id": "dfTmsE_Ef5pI",
        "outputId": "44514dc1-5252-4610-99fc-f6b2c6e539d4"
      },
      "execution_count": 3,
      "outputs": [
        {
          "output_type": "display_data",
          "data": {
            "text/plain": [
              "<IPython.core.display.Javascript object>"
            ],
            "application/javascript": [
              "google.colab.output.setIframeHeight(0, true, {maxHeight: 5000})"
            ]
          },
          "metadata": {}
        },
        {
          "output_type": "display_data",
          "data": {
            "text/plain": [
              "<IPython.core.display.Javascript object>"
            ],
            "application/javascript": [
              "google.colab.output.setIframeHeight(0, true, {maxHeight: 5000})"
            ]
          },
          "metadata": {}
        },
        {
          "output_type": "stream",
          "name": "stdout",
          "text": [
            "Collecting PyPDF2\n",
            "  Downloading pypdf2-3.0.1-py3-none-any.whl (232 kB)\n",
            "\u001b[?25l     \u001b[90m━━━━━━━━━━━━━━━━━━━━━━━━━━━━━━━━━━━━━━━━\u001b[0m \u001b[32m0.0/232.6 kB\u001b[0m \u001b[31m?\u001b[0m eta \u001b[36m-:--:--\u001b[0m\r\u001b[2K     \u001b[91m━━━━━━━━━━━━━━━━━━━━━━━━━━━━━━━━━━━━━\u001b[0m\u001b[91m╸\u001b[0m\u001b[90m━\u001b[0m \u001b[32m225.3/232.6 kB\u001b[0m \u001b[31m6.7 MB/s\u001b[0m eta \u001b[36m0:00:01\u001b[0m\r\u001b[2K     \u001b[90m━━━━━━━━━━━━━━━━━━━━━━━━━━━━━━━━━━━━━━━\u001b[0m \u001b[32m232.6/232.6 kB\u001b[0m \u001b[31m5.4 MB/s\u001b[0m eta \u001b[36m0:00:00\u001b[0m\n",
            "\u001b[?25hInstalling collected packages: PyPDF2\n",
            "Successfully installed PyPDF2-3.0.1\n"
          ]
        }
      ]
    },
    {
      "cell_type": "code",
      "source": [
        "import PyPDF2\n",
        "\n",
        "\n",
        "def extract_resume_text(filePath):\n",
        "    reader = PyPDF2.PdfReader(open(filePath, \"rb\"))\n",
        "\n",
        "    text = \"\"\n",
        "    for i in range(len(reader.pages)): text += reader.pages[i].extract_text()\n",
        "    return text"
      ],
      "metadata": {
        "id": "0Y0USa5DfSN6",
        "colab": {
          "base_uri": "https://localhost:8080/",
          "height": 17
        },
        "outputId": "524ea663-df7c-4540-96ae-cbe0f19d33bc"
      },
      "execution_count": 4,
      "outputs": [
        {
          "output_type": "display_data",
          "data": {
            "text/plain": [
              "<IPython.core.display.Javascript object>"
            ],
            "application/javascript": [
              "google.colab.output.setIframeHeight(0, true, {maxHeight: 5000})"
            ]
          },
          "metadata": {}
        },
        {
          "output_type": "display_data",
          "data": {
            "text/plain": [
              "<IPython.core.display.Javascript object>"
            ],
            "application/javascript": [
              "google.colab.output.setIframeHeight(0, true, {maxHeight: 5000})"
            ]
          },
          "metadata": {}
        }
      ]
    },
    {
      "cell_type": "markdown",
      "source": [
        "### Extracting *_`Category (Job Role)`_*"
      ],
      "metadata": {
        "id": "1wG8UEpjJ_qU"
      }
    },
    {
      "cell_type": "code",
      "source": [
        "def extract_category(text):\n",
        "     return text.strip().split(\"\\n\")[0].strip() if text.strip() else None"
      ],
      "metadata": {
        "colab": {
          "base_uri": "https://localhost:8080/",
          "height": 0
        },
        "id": "MzWyZRXLAa5P",
        "outputId": "51bf260a-19d1-4f16-9669-727dc5210356"
      },
      "execution_count": 5,
      "outputs": [
        {
          "output_type": "display_data",
          "data": {
            "text/plain": [
              "<IPython.core.display.Javascript object>"
            ],
            "application/javascript": [
              "google.colab.output.setIframeHeight(0, true, {maxHeight: 5000})"
            ]
          },
          "metadata": {}
        },
        {
          "output_type": "display_data",
          "data": {
            "text/plain": [
              "<IPython.core.display.Javascript object>"
            ],
            "application/javascript": [
              "google.colab.output.setIframeHeight(0, true, {maxHeight: 5000})"
            ]
          },
          "metadata": {}
        }
      ]
    },
    {
      "cell_type": "markdown",
      "source": [
        "### Extracting *_`Education`_*"
      ],
      "metadata": {
        "id": "Tb-Qap4nJh9g"
      }
    },
    {
      "cell_type": "code",
      "source": [
        "import re\n",
        "\n",
        "\n",
        "def extract_education(text):\n",
        "    education_keywords = ['Bsc', 'B. Pharmacy', 'B Pharmacy', 'Msc', 'M. Pharmacy', 'Ph.D', 'Bachelor', 'Master']\n",
        "    education = []\n",
        "\n",
        "    for word in education_keywords:\n",
        "        pattern = r\"(?i)\\b{}\\b\".format(re.escape(word))\n",
        "        match = re.search(pattern, text)\n",
        "        if match: education.append(match.group())\n",
        "\n",
        "    return education"
      ],
      "metadata": {
        "colab": {
          "base_uri": "https://localhost:8080/",
          "height": 0
        },
        "id": "AOUpBWPKnhNJ",
        "outputId": "c60ab75c-da1f-405c-9a4f-740e2fa9347c"
      },
      "execution_count": 6,
      "outputs": [
        {
          "output_type": "display_data",
          "data": {
            "text/plain": [
              "<IPython.core.display.Javascript object>"
            ],
            "application/javascript": [
              "google.colab.output.setIframeHeight(0, true, {maxHeight: 5000})"
            ]
          },
          "metadata": {}
        },
        {
          "output_type": "display_data",
          "data": {
            "text/plain": [
              "<IPython.core.display.Javascript object>"
            ],
            "application/javascript": [
              "google.colab.output.setIframeHeight(0, true, {maxHeight: 5000})"
            ]
          },
          "metadata": {}
        }
      ]
    },
    {
      "cell_type": "markdown",
      "source": [
        "### Extracting *_`Skills`_*"
      ],
      "metadata": {
        "id": "XOiIIrD2J30U"
      }
    },
    {
      "cell_type": "code",
      "source": [
        "!pip install spacy\n",
        "!python -m spacy info\n",
        "!python -m pip freeze | grep spacy\n",
        "!python -m spacy download en_core_web_sm"
      ],
      "metadata": {
        "colab": {
          "base_uri": "https://localhost:8080/",
          "height": 1495
        },
        "id": "BzYoCTqewTkM",
        "outputId": "d6e9fa1d-03ad-4b80-d251-8141fdb7648a"
      },
      "execution_count": 7,
      "outputs": [
        {
          "output_type": "display_data",
          "data": {
            "text/plain": [
              "<IPython.core.display.Javascript object>"
            ],
            "application/javascript": [
              "google.colab.output.setIframeHeight(0, true, {maxHeight: 5000})"
            ]
          },
          "metadata": {}
        },
        {
          "output_type": "display_data",
          "data": {
            "text/plain": [
              "<IPython.core.display.Javascript object>"
            ],
            "application/javascript": [
              "google.colab.output.setIframeHeight(0, true, {maxHeight: 5000})"
            ]
          },
          "metadata": {}
        },
        {
          "output_type": "stream",
          "name": "stdout",
          "text": [
            "Requirement already satisfied: spacy in /usr/local/lib/python3.10/dist-packages (3.6.1)\n",
            "Requirement already satisfied: spacy-legacy<3.1.0,>=3.0.11 in /usr/local/lib/python3.10/dist-packages (from spacy) (3.0.12)\n",
            "Requirement already satisfied: spacy-loggers<2.0.0,>=1.0.0 in /usr/local/lib/python3.10/dist-packages (from spacy) (1.0.4)\n",
            "Requirement already satisfied: murmurhash<1.1.0,>=0.28.0 in /usr/local/lib/python3.10/dist-packages (from spacy) (1.0.9)\n",
            "Requirement already satisfied: cymem<2.1.0,>=2.0.2 in /usr/local/lib/python3.10/dist-packages (from spacy) (2.0.7)\n",
            "Requirement already satisfied: preshed<3.1.0,>=3.0.2 in /usr/local/lib/python3.10/dist-packages (from spacy) (3.0.8)\n",
            "Requirement already satisfied: thinc<8.2.0,>=8.1.8 in /usr/local/lib/python3.10/dist-packages (from spacy) (8.1.12)\n",
            "Requirement already satisfied: wasabi<1.2.0,>=0.9.1 in /usr/local/lib/python3.10/dist-packages (from spacy) (1.1.2)\n",
            "Requirement already satisfied: srsly<3.0.0,>=2.4.3 in /usr/local/lib/python3.10/dist-packages (from spacy) (2.4.7)\n",
            "Requirement already satisfied: catalogue<2.1.0,>=2.0.6 in /usr/local/lib/python3.10/dist-packages (from spacy) (2.0.9)\n",
            "Requirement already satisfied: typer<0.10.0,>=0.3.0 in /usr/local/lib/python3.10/dist-packages (from spacy) (0.9.0)\n",
            "Requirement already satisfied: pathy>=0.10.0 in /usr/local/lib/python3.10/dist-packages (from spacy) (0.10.2)\n",
            "Requirement already satisfied: smart-open<7.0.0,>=5.2.1 in /usr/local/lib/python3.10/dist-packages (from spacy) (6.4.0)\n",
            "Requirement already satisfied: tqdm<5.0.0,>=4.38.0 in /usr/local/lib/python3.10/dist-packages (from spacy) (4.66.1)\n",
            "Requirement already satisfied: numpy>=1.15.0 in /usr/local/lib/python3.10/dist-packages (from spacy) (1.23.5)\n",
            "Requirement already satisfied: requests<3.0.0,>=2.13.0 in /usr/local/lib/python3.10/dist-packages (from spacy) (2.31.0)\n",
            "Requirement already satisfied: pydantic!=1.8,!=1.8.1,<3.0.0,>=1.7.4 in /usr/local/lib/python3.10/dist-packages (from spacy) (1.10.12)\n",
            "Requirement already satisfied: jinja2 in /usr/local/lib/python3.10/dist-packages (from spacy) (3.1.2)\n",
            "Requirement already satisfied: setuptools in /usr/local/lib/python3.10/dist-packages (from spacy) (67.7.2)\n",
            "Requirement already satisfied: packaging>=20.0 in /usr/local/lib/python3.10/dist-packages (from spacy) (23.1)\n",
            "Requirement already satisfied: langcodes<4.0.0,>=3.2.0 in /usr/local/lib/python3.10/dist-packages (from spacy) (3.3.0)\n",
            "Requirement already satisfied: typing-extensions>=4.2.0 in /usr/local/lib/python3.10/dist-packages (from pydantic!=1.8,!=1.8.1,<3.0.0,>=1.7.4->spacy) (4.5.0)\n",
            "Requirement already satisfied: charset-normalizer<4,>=2 in /usr/local/lib/python3.10/dist-packages (from requests<3.0.0,>=2.13.0->spacy) (3.2.0)\n",
            "Requirement already satisfied: idna<4,>=2.5 in /usr/local/lib/python3.10/dist-packages (from requests<3.0.0,>=2.13.0->spacy) (3.4)\n",
            "Requirement already satisfied: urllib3<3,>=1.21.1 in /usr/local/lib/python3.10/dist-packages (from requests<3.0.0,>=2.13.0->spacy) (2.0.4)\n",
            "Requirement already satisfied: certifi>=2017.4.17 in /usr/local/lib/python3.10/dist-packages (from requests<3.0.0,>=2.13.0->spacy) (2023.7.22)\n",
            "Requirement already satisfied: blis<0.8.0,>=0.7.8 in /usr/local/lib/python3.10/dist-packages (from thinc<8.2.0,>=8.1.8->spacy) (0.7.10)\n",
            "Requirement already satisfied: confection<1.0.0,>=0.0.1 in /usr/local/lib/python3.10/dist-packages (from thinc<8.2.0,>=8.1.8->spacy) (0.1.2)\n",
            "Requirement already satisfied: click<9.0.0,>=7.1.1 in /usr/local/lib/python3.10/dist-packages (from typer<0.10.0,>=0.3.0->spacy) (8.1.7)\n",
            "Requirement already satisfied: MarkupSafe>=2.0 in /usr/local/lib/python3.10/dist-packages (from jinja2->spacy) (2.1.3)\n",
            "2023-09-15 10:52:07.587683: I tensorflow/core/platform/cpu_feature_guard.cc:182] This TensorFlow binary is optimized to use available CPU instructions in performance-critical operations.\n",
            "To enable the following instructions: AVX2 FMA, in other operations, rebuild TensorFlow with the appropriate compiler flags.\n",
            "2023-09-15 10:52:08.362097: W tensorflow/compiler/tf2tensorrt/utils/py_utils.cc:38] TF-TRT Warning: Could not find TensorRT\n",
            "\u001b[1m\n",
            "============================== Info about spaCy ==============================\u001b[0m\n",
            "\n",
            "spaCy version    3.6.1                         \n",
            "Location         /usr/local/lib/python3.10/dist-packages/spacy\n",
            "Platform         Linux-5.15.109+-x86_64-with-glibc2.35\n",
            "Python version   3.10.12                       \n",
            "Pipelines        en_core_web_sm (3.6.0)        \n",
            "\n",
            "en-core-web-sm @ https://github.com/explosion/spacy-models/releases/download/en_core_web_sm-3.6.0/en_core_web_sm-3.6.0-py3-none-any.whl#sha256=83276fc78a70045627144786b52e1f2728ad5e29e5e43916ec37ea9c26a11212\n",
            "spacy==3.6.1\n",
            "spacy-legacy==3.0.12\n",
            "spacy-loggers==1.0.4\n",
            "2023-09-15 10:52:15.606595: I tensorflow/core/platform/cpu_feature_guard.cc:182] This TensorFlow binary is optimized to use available CPU instructions in performance-critical operations.\n",
            "To enable the following instructions: AVX2 FMA, in other operations, rebuild TensorFlow with the appropriate compiler flags.\n",
            "2023-09-15 10:52:16.380949: W tensorflow/compiler/tf2tensorrt/utils/py_utils.cc:38] TF-TRT Warning: Could not find TensorRT\n",
            "Collecting en-core-web-sm==3.6.0\n",
            "  Downloading https://github.com/explosion/spacy-models/releases/download/en_core_web_sm-3.6.0/en_core_web_sm-3.6.0-py3-none-any.whl (12.8 MB)\n",
            "\u001b[2K     \u001b[90m━━━━━━━━━━━━━━━━━━━━━━━━━━━━━━━━━━━━━━━\u001b[0m \u001b[32m12.8/12.8 MB\u001b[0m \u001b[31m119.2 MB/s\u001b[0m eta \u001b[36m0:00:00\u001b[0m\n",
            "\u001b[?25hRequirement already satisfied: spacy<3.7.0,>=3.6.0 in /usr/local/lib/python3.10/dist-packages (from en-core-web-sm==3.6.0) (3.6.1)\n",
            "Requirement already satisfied: spacy-legacy<3.1.0,>=3.0.11 in /usr/local/lib/python3.10/dist-packages (from spacy<3.7.0,>=3.6.0->en-core-web-sm==3.6.0) (3.0.12)\n",
            "Requirement already satisfied: spacy-loggers<2.0.0,>=1.0.0 in /usr/local/lib/python3.10/dist-packages (from spacy<3.7.0,>=3.6.0->en-core-web-sm==3.6.0) (1.0.4)\n",
            "Requirement already satisfied: murmurhash<1.1.0,>=0.28.0 in /usr/local/lib/python3.10/dist-packages (from spacy<3.7.0,>=3.6.0->en-core-web-sm==3.6.0) (1.0.9)\n",
            "Requirement already satisfied: cymem<2.1.0,>=2.0.2 in /usr/local/lib/python3.10/dist-packages (from spacy<3.7.0,>=3.6.0->en-core-web-sm==3.6.0) (2.0.7)\n",
            "Requirement already satisfied: preshed<3.1.0,>=3.0.2 in /usr/local/lib/python3.10/dist-packages (from spacy<3.7.0,>=3.6.0->en-core-web-sm==3.6.0) (3.0.8)\n",
            "Requirement already satisfied: thinc<8.2.0,>=8.1.8 in /usr/local/lib/python3.10/dist-packages (from spacy<3.7.0,>=3.6.0->en-core-web-sm==3.6.0) (8.1.12)\n",
            "Requirement already satisfied: wasabi<1.2.0,>=0.9.1 in /usr/local/lib/python3.10/dist-packages (from spacy<3.7.0,>=3.6.0->en-core-web-sm==3.6.0) (1.1.2)\n",
            "Requirement already satisfied: srsly<3.0.0,>=2.4.3 in /usr/local/lib/python3.10/dist-packages (from spacy<3.7.0,>=3.6.0->en-core-web-sm==3.6.0) (2.4.7)\n",
            "Requirement already satisfied: catalogue<2.1.0,>=2.0.6 in /usr/local/lib/python3.10/dist-packages (from spacy<3.7.0,>=3.6.0->en-core-web-sm==3.6.0) (2.0.9)\n",
            "Requirement already satisfied: typer<0.10.0,>=0.3.0 in /usr/local/lib/python3.10/dist-packages (from spacy<3.7.0,>=3.6.0->en-core-web-sm==3.6.0) (0.9.0)\n",
            "Requirement already satisfied: pathy>=0.10.0 in /usr/local/lib/python3.10/dist-packages (from spacy<3.7.0,>=3.6.0->en-core-web-sm==3.6.0) (0.10.2)\n",
            "Requirement already satisfied: smart-open<7.0.0,>=5.2.1 in /usr/local/lib/python3.10/dist-packages (from spacy<3.7.0,>=3.6.0->en-core-web-sm==3.6.0) (6.4.0)\n",
            "Requirement already satisfied: tqdm<5.0.0,>=4.38.0 in /usr/local/lib/python3.10/dist-packages (from spacy<3.7.0,>=3.6.0->en-core-web-sm==3.6.0) (4.66.1)\n",
            "Requirement already satisfied: numpy>=1.15.0 in /usr/local/lib/python3.10/dist-packages (from spacy<3.7.0,>=3.6.0->en-core-web-sm==3.6.0) (1.23.5)\n",
            "Requirement already satisfied: requests<3.0.0,>=2.13.0 in /usr/local/lib/python3.10/dist-packages (from spacy<3.7.0,>=3.6.0->en-core-web-sm==3.6.0) (2.31.0)\n",
            "Requirement already satisfied: pydantic!=1.8,!=1.8.1,<3.0.0,>=1.7.4 in /usr/local/lib/python3.10/dist-packages (from spacy<3.7.0,>=3.6.0->en-core-web-sm==3.6.0) (1.10.12)\n",
            "Requirement already satisfied: jinja2 in /usr/local/lib/python3.10/dist-packages (from spacy<3.7.0,>=3.6.0->en-core-web-sm==3.6.0) (3.1.2)\n",
            "Requirement already satisfied: setuptools in /usr/local/lib/python3.10/dist-packages (from spacy<3.7.0,>=3.6.0->en-core-web-sm==3.6.0) (67.7.2)\n",
            "Requirement already satisfied: packaging>=20.0 in /usr/local/lib/python3.10/dist-packages (from spacy<3.7.0,>=3.6.0->en-core-web-sm==3.6.0) (23.1)\n",
            "Requirement already satisfied: langcodes<4.0.0,>=3.2.0 in /usr/local/lib/python3.10/dist-packages (from spacy<3.7.0,>=3.6.0->en-core-web-sm==3.6.0) (3.3.0)\n",
            "Requirement already satisfied: typing-extensions>=4.2.0 in /usr/local/lib/python3.10/dist-packages (from pydantic!=1.8,!=1.8.1,<3.0.0,>=1.7.4->spacy<3.7.0,>=3.6.0->en-core-web-sm==3.6.0) (4.5.0)\n",
            "Requirement already satisfied: charset-normalizer<4,>=2 in /usr/local/lib/python3.10/dist-packages (from requests<3.0.0,>=2.13.0->spacy<3.7.0,>=3.6.0->en-core-web-sm==3.6.0) (3.2.0)\n",
            "Requirement already satisfied: idna<4,>=2.5 in /usr/local/lib/python3.10/dist-packages (from requests<3.0.0,>=2.13.0->spacy<3.7.0,>=3.6.0->en-core-web-sm==3.6.0) (3.4)\n",
            "Requirement already satisfied: urllib3<3,>=1.21.1 in /usr/local/lib/python3.10/dist-packages (from requests<3.0.0,>=2.13.0->spacy<3.7.0,>=3.6.0->en-core-web-sm==3.6.0) (2.0.4)\n",
            "Requirement already satisfied: certifi>=2017.4.17 in /usr/local/lib/python3.10/dist-packages (from requests<3.0.0,>=2.13.0->spacy<3.7.0,>=3.6.0->en-core-web-sm==3.6.0) (2023.7.22)\n",
            "Requirement already satisfied: blis<0.8.0,>=0.7.8 in /usr/local/lib/python3.10/dist-packages (from thinc<8.2.0,>=8.1.8->spacy<3.7.0,>=3.6.0->en-core-web-sm==3.6.0) (0.7.10)\n",
            "Requirement already satisfied: confection<1.0.0,>=0.0.1 in /usr/local/lib/python3.10/dist-packages (from thinc<8.2.0,>=8.1.8->spacy<3.7.0,>=3.6.0->en-core-web-sm==3.6.0) (0.1.2)\n",
            "Requirement already satisfied: click<9.0.0,>=7.1.1 in /usr/local/lib/python3.10/dist-packages (from typer<0.10.0,>=0.3.0->spacy<3.7.0,>=3.6.0->en-core-web-sm==3.6.0) (8.1.7)\n",
            "Requirement already satisfied: MarkupSafe>=2.0 in /usr/local/lib/python3.10/dist-packages (from jinja2->spacy<3.7.0,>=3.6.0->en-core-web-sm==3.6.0) (2.1.3)\n",
            "\u001b[38;5;2m✔ Download and installation successful\u001b[0m\n",
            "You can now load the package via spacy.load('en_core_web_sm')\n"
          ]
        }
      ]
    },
    {
      "cell_type": "code",
      "source": [
        "import spacy\n",
        "nlp = spacy.load(\"en_core_web_sm\")\n",
        "\n",
        "\n",
        "def extract_skills(text):\n",
        "    skills = []\n",
        "    doc = nlp(text)\n",
        "\n",
        "    for word in doc:\n",
        "        if \"NN\" in word.tag_: skills.append(word.text)\n",
        "\n",
        "    return list(set(skills))"
      ],
      "metadata": {
        "colab": {
          "base_uri": "https://localhost:8080/",
          "height": 17
        },
        "id": "PddzkRmHzwQB",
        "outputId": "dba39051-09e4-4fab-9492-186f8ebac23c"
      },
      "execution_count": 8,
      "outputs": [
        {
          "output_type": "display_data",
          "data": {
            "text/plain": [
              "<IPython.core.display.Javascript object>"
            ],
            "application/javascript": [
              "google.colab.output.setIframeHeight(0, true, {maxHeight: 5000})"
            ]
          },
          "metadata": {}
        },
        {
          "output_type": "display_data",
          "data": {
            "text/plain": [
              "<IPython.core.display.Javascript object>"
            ],
            "application/javascript": [
              "google.colab.output.setIframeHeight(0, true, {maxHeight: 5000})"
            ]
          },
          "metadata": {}
        }
      ]
    },
    {
      "cell_type": "markdown",
      "source": [
        "### Uploading folder containing Resume/CVs as zip\n",
        "> Files can also be uploaded from cloud or Kaggle"
      ],
      "metadata": {
        "id": "kPPSrufAKGbR"
      }
    },
    {
      "cell_type": "code",
      "source": [
        "from google.colab import files\n",
        "dataset = files.upload()"
      ],
      "metadata": {
        "colab": {
          "base_uri": "https://localhost:8080/",
          "height": 73
        },
        "id": "-p0Hk5ipTj4-",
        "outputId": "7c210386-f567-4c23-a4e6-761e22bb164a"
      },
      "execution_count": 9,
      "outputs": [
        {
          "output_type": "display_data",
          "data": {
            "text/plain": [
              "<IPython.core.display.Javascript object>"
            ],
            "application/javascript": [
              "google.colab.output.setIframeHeight(0, true, {maxHeight: 5000})"
            ]
          },
          "metadata": {}
        },
        {
          "output_type": "display_data",
          "data": {
            "text/plain": [
              "<IPython.core.display.Javascript object>"
            ],
            "application/javascript": [
              "google.colab.output.setIframeHeight(0, true, {maxHeight: 5000})"
            ]
          },
          "metadata": {}
        },
        {
          "output_type": "display_data",
          "data": {
            "text/plain": [
              "<IPython.core.display.HTML object>"
            ],
            "text/html": [
              "\n",
              "     <input type=\"file\" id=\"files-ca841bed-658d-4b0d-9965-96164b7510e4\" name=\"files[]\" multiple disabled\n",
              "        style=\"border:none\" />\n",
              "     <output id=\"result-ca841bed-658d-4b0d-9965-96164b7510e4\">\n",
              "      Upload widget is only available when the cell has been executed in the\n",
              "      current browser session. Please rerun this cell to enable.\n",
              "      </output>\n",
              "      <script>// Copyright 2017 Google LLC\n",
              "//\n",
              "// Licensed under the Apache License, Version 2.0 (the \"License\");\n",
              "// you may not use this file except in compliance with the License.\n",
              "// You may obtain a copy of the License at\n",
              "//\n",
              "//      http://www.apache.org/licenses/LICENSE-2.0\n",
              "//\n",
              "// Unless required by applicable law or agreed to in writing, software\n",
              "// distributed under the License is distributed on an \"AS IS\" BASIS,\n",
              "// WITHOUT WARRANTIES OR CONDITIONS OF ANY KIND, either express or implied.\n",
              "// See the License for the specific language governing permissions and\n",
              "// limitations under the License.\n",
              "\n",
              "/**\n",
              " * @fileoverview Helpers for google.colab Python module.\n",
              " */\n",
              "(function(scope) {\n",
              "function span(text, styleAttributes = {}) {\n",
              "  const element = document.createElement('span');\n",
              "  element.textContent = text;\n",
              "  for (const key of Object.keys(styleAttributes)) {\n",
              "    element.style[key] = styleAttributes[key];\n",
              "  }\n",
              "  return element;\n",
              "}\n",
              "\n",
              "// Max number of bytes which will be uploaded at a time.\n",
              "const MAX_PAYLOAD_SIZE = 100 * 1024;\n",
              "\n",
              "function _uploadFiles(inputId, outputId) {\n",
              "  const steps = uploadFilesStep(inputId, outputId);\n",
              "  const outputElement = document.getElementById(outputId);\n",
              "  // Cache steps on the outputElement to make it available for the next call\n",
              "  // to uploadFilesContinue from Python.\n",
              "  outputElement.steps = steps;\n",
              "\n",
              "  return _uploadFilesContinue(outputId);\n",
              "}\n",
              "\n",
              "// This is roughly an async generator (not supported in the browser yet),\n",
              "// where there are multiple asynchronous steps and the Python side is going\n",
              "// to poll for completion of each step.\n",
              "// This uses a Promise to block the python side on completion of each step,\n",
              "// then passes the result of the previous step as the input to the next step.\n",
              "function _uploadFilesContinue(outputId) {\n",
              "  const outputElement = document.getElementById(outputId);\n",
              "  const steps = outputElement.steps;\n",
              "\n",
              "  const next = steps.next(outputElement.lastPromiseValue);\n",
              "  return Promise.resolve(next.value.promise).then((value) => {\n",
              "    // Cache the last promise value to make it available to the next\n",
              "    // step of the generator.\n",
              "    outputElement.lastPromiseValue = value;\n",
              "    return next.value.response;\n",
              "  });\n",
              "}\n",
              "\n",
              "/**\n",
              " * Generator function which is called between each async step of the upload\n",
              " * process.\n",
              " * @param {string} inputId Element ID of the input file picker element.\n",
              " * @param {string} outputId Element ID of the output display.\n",
              " * @return {!Iterable<!Object>} Iterable of next steps.\n",
              " */\n",
              "function* uploadFilesStep(inputId, outputId) {\n",
              "  const inputElement = document.getElementById(inputId);\n",
              "  inputElement.disabled = false;\n",
              "\n",
              "  const outputElement = document.getElementById(outputId);\n",
              "  outputElement.innerHTML = '';\n",
              "\n",
              "  const pickedPromise = new Promise((resolve) => {\n",
              "    inputElement.addEventListener('change', (e) => {\n",
              "      resolve(e.target.files);\n",
              "    });\n",
              "  });\n",
              "\n",
              "  const cancel = document.createElement('button');\n",
              "  inputElement.parentElement.appendChild(cancel);\n",
              "  cancel.textContent = 'Cancel upload';\n",
              "  const cancelPromise = new Promise((resolve) => {\n",
              "    cancel.onclick = () => {\n",
              "      resolve(null);\n",
              "    };\n",
              "  });\n",
              "\n",
              "  // Wait for the user to pick the files.\n",
              "  const files = yield {\n",
              "    promise: Promise.race([pickedPromise, cancelPromise]),\n",
              "    response: {\n",
              "      action: 'starting',\n",
              "    }\n",
              "  };\n",
              "\n",
              "  cancel.remove();\n",
              "\n",
              "  // Disable the input element since further picks are not allowed.\n",
              "  inputElement.disabled = true;\n",
              "\n",
              "  if (!files) {\n",
              "    return {\n",
              "      response: {\n",
              "        action: 'complete',\n",
              "      }\n",
              "    };\n",
              "  }\n",
              "\n",
              "  for (const file of files) {\n",
              "    const li = document.createElement('li');\n",
              "    li.append(span(file.name, {fontWeight: 'bold'}));\n",
              "    li.append(span(\n",
              "        `(${file.type || 'n/a'}) - ${file.size} bytes, ` +\n",
              "        `last modified: ${\n",
              "            file.lastModifiedDate ? file.lastModifiedDate.toLocaleDateString() :\n",
              "                                    'n/a'} - `));\n",
              "    const percent = span('0% done');\n",
              "    li.appendChild(percent);\n",
              "\n",
              "    outputElement.appendChild(li);\n",
              "\n",
              "    const fileDataPromise = new Promise((resolve) => {\n",
              "      const reader = new FileReader();\n",
              "      reader.onload = (e) => {\n",
              "        resolve(e.target.result);\n",
              "      };\n",
              "      reader.readAsArrayBuffer(file);\n",
              "    });\n",
              "    // Wait for the data to be ready.\n",
              "    let fileData = yield {\n",
              "      promise: fileDataPromise,\n",
              "      response: {\n",
              "        action: 'continue',\n",
              "      }\n",
              "    };\n",
              "\n",
              "    // Use a chunked sending to avoid message size limits. See b/62115660.\n",
              "    let position = 0;\n",
              "    do {\n",
              "      const length = Math.min(fileData.byteLength - position, MAX_PAYLOAD_SIZE);\n",
              "      const chunk = new Uint8Array(fileData, position, length);\n",
              "      position += length;\n",
              "\n",
              "      const base64 = btoa(String.fromCharCode.apply(null, chunk));\n",
              "      yield {\n",
              "        response: {\n",
              "          action: 'append',\n",
              "          file: file.name,\n",
              "          data: base64,\n",
              "        },\n",
              "      };\n",
              "\n",
              "      let percentDone = fileData.byteLength === 0 ?\n",
              "          100 :\n",
              "          Math.round((position / fileData.byteLength) * 100);\n",
              "      percent.textContent = `${percentDone}% done`;\n",
              "\n",
              "    } while (position < fileData.byteLength);\n",
              "  }\n",
              "\n",
              "  // All done.\n",
              "  yield {\n",
              "    response: {\n",
              "      action: 'complete',\n",
              "    }\n",
              "  };\n",
              "}\n",
              "\n",
              "scope.google = scope.google || {};\n",
              "scope.google.colab = scope.google.colab || {};\n",
              "scope.google.colab._files = {\n",
              "  _uploadFiles,\n",
              "  _uploadFilesContinue,\n",
              "};\n",
              "})(self);\n",
              "</script> "
            ]
          },
          "metadata": {}
        },
        {
          "output_type": "stream",
          "name": "stdout",
          "text": [
            "Saving small_tempResume.zip to small_tempResume.zip\n"
          ]
        }
      ]
    },
    {
      "cell_type": "markdown",
      "source": [
        "### Extracting the uploaded zip file"
      ],
      "metadata": {
        "id": "KDCXdM9cKWG7"
      }
    },
    {
      "cell_type": "code",
      "source": [
        "from zipfile import ZipFile\n",
        "\n",
        "pdfs = r\"/content/small_tempResume.zip\"\n",
        "with ZipFile(pdfs, 'r') as zip: zip.extractall()\n",
        "\n",
        "print('Done')"
      ],
      "metadata": {
        "colab": {
          "base_uri": "https://localhost:8080/",
          "height": 34
        },
        "id": "M5cqLHNSexPU",
        "outputId": "18cdd1b3-3622-4cb6-b2b4-7b9ade31d811"
      },
      "execution_count": 10,
      "outputs": [
        {
          "output_type": "display_data",
          "data": {
            "text/plain": [
              "<IPython.core.display.Javascript object>"
            ],
            "application/javascript": [
              "google.colab.output.setIframeHeight(0, true, {maxHeight: 5000})"
            ]
          },
          "metadata": {}
        },
        {
          "output_type": "display_data",
          "data": {
            "text/plain": [
              "<IPython.core.display.Javascript object>"
            ],
            "application/javascript": [
              "google.colab.output.setIframeHeight(0, true, {maxHeight: 5000})"
            ]
          },
          "metadata": {}
        },
        {
          "output_type": "stream",
          "name": "stdout",
          "text": [
            "Done\n"
          ]
        }
      ]
    },
    {
      "cell_type": "markdown",
      "source": [
        "### Driver function"
      ],
      "metadata": {
        "id": "RdfkuinPK7gF"
      }
    },
    {
      "cell_type": "code",
      "source": [
        "import PyPDF2, glob, os\n",
        "\n",
        "\n",
        "if __name__ == \"__main__\":\n",
        "    pdf_files = glob.glob(os.path.join(r\"/content/small_tempResume\", \"*.pdf\"))\n",
        "\n",
        "    for i in pdf_files:\n",
        "        thisPDF_text = extract_resume_text(i)\n",
        "\n",
        "        category = extract_category(thisPDF_text)\n",
        "        skills = extract_skills(thisPDF_text)\n",
        "        education = extract_education(thisPDF_text)\n",
        "\n",
        "        print(\"Category :\", category)\n",
        "        print(\"Skills :\", skills)\n",
        "        print(\"Education :\", education)"
      ],
      "metadata": {
        "id": "iniwZ6a3kT03",
        "colab": {
          "base_uri": "https://localhost:8080/",
          "height": 349
        },
        "outputId": "786c0be6-975b-4072-9109-01c44ca586ca"
      },
      "execution_count": 15,
      "outputs": [
        {
          "output_type": "display_data",
          "data": {
            "text/plain": [
              "<IPython.core.display.Javascript object>"
            ],
            "application/javascript": [
              "google.colab.output.setIframeHeight(0, true, {maxHeight: 5000})"
            ]
          },
          "metadata": {}
        },
        {
          "output_type": "display_data",
          "data": {
            "text/plain": [
              "<IPython.core.display.Javascript object>"
            ],
            "application/javascript": [
              "google.colab.output.setIframeHeight(0, true, {maxHeight: 5000})"
            ]
          },
          "metadata": {}
        },
        {
          "output_type": "stream",
          "name": "stdout",
          "text": [
            "Category : LINE ATTENDANT\n",
            "Skills : ['work', 'tables', 'physician', 'Dictation', 'laboratory', 'Talent', 'inventory', 'patients', '-', 'Inventory', 'Answering', 'First', 'Nov', 'Strong', 'product', 'Supervisor', 'accuracy', 'Institute', 'standards', 'area', 'pace', 'telephones', 'statistics', 'temperature', 'Assurance', 'Collected', 'customers', 'Jan', 'credit', 'activities', 'desires', 'Skills', 'Osha', 'Telephone', 'records', 'Store', 'racks', 'Education', 'FDA', 'sales', 'Sales', 'products', 'history', 'Fulfillment', 'Directed', 'telephone', 'calls', 'orders', 'time', 'fountain', 'requests', 'Certification', 'Practices', 'Register', 'Office', 'Flow', 'lines', 'ATTENDANT', 'slip', 'taking', 'Crew', 'shipping', 'material', 'background', 'employees', 'information', 'growth', 'Certificate', 'patron', 'Highlights', 'September', 'Service', 'Promote', 'practices', 'use', 'instructions', 'Team', 'Assistant', 'appointments', 'stores', 'Security', 'Word', 'storage', 'Cpr', 'service', 'Upheld', 'Seasonal', 'signs', 'Sanford', 'Recommend', 'merchandise', 'Excel', 'Sep', 'Diploma', 'security', 'Name', 'CafÃ', 'height', 'date', 'forms', 'containers', 'prices', 'recommendations', 'dictation', 'Certifications', 'company', 'receipts', 'drive', 'CERTIFICATIONS', 'Attendant', 'Culinary', 'improvements', 'Summary', 'goods', 'Described', 'LINE', 'Reconciling', 'weight', 'Restaurant', 'customer', 'closing', 'procedures', 'code', 'opening', 'order', 'refreshments', '©', 'kitchens', 'Brown', 'Multi', 'cash', 'blood', 'Oct', 'player', 'payment', 'restaurant', 'General', 'specimens', 'preparation', 'August', 'policies', 'Handling', 'Associate', 'SKILLS', 'Aug', 'availability', 'Medical', 'tasker', 'Player', 'workers', 'register', 'results', 'flow', 'leader', 'office', 'levels', 'bag', 'Hostess', 'PA', 'Company', 'Receptionist', 'break', 'fulfillment', 'CPR', 'stock', 'Externship', 'glasses', 'insurance', 'Retail', 'Trevose', 'Answered', 'communication', 'Activities', 'Arts', 'Testing', 'operation', 'food', 'Cpr/', 'shipments', 'duties', 'Fda', 'promotions', 'dishes', 'analysis', 'guidelines', 'reference', 'Apr', 'Feb', 'test', 'Cash', 'Shipping', 'Analysis', 'needs', 'Aid', 'tissue', 'Leadership', 'Records', 'Competitive', 'Pricing', 'Scrubbed', 'Customer', 'purchases', 'Credit', 'State', 'shelves', 'supplies', 'vehicles', 'counters', 'steam', 'ï¼\\u200b', 'knowledge', 'Communication', 'pricing', 'quality', 'development', 'phone', 'examination', 'Results', 'Excellent', 'Accomplishments', 'items', 'equipment', 'rooms', 'Ticketed', 'Statistics', 'beverages', 'Telephones', 'Microsoft', 'floor', 'management', 'US', 'brand', 'exchanges', 'instruments', 'Laboratory', 'Line', 'City', 'care', 'Quality', 'Material', 'deadlines', 'Cooked', 'Duties', 'Training', 'tea', 'Experience', 'coffee', 'assurance', 'gauge', 'services']\n",
            "Education : []\n",
            "Category : SALON DESIGNER\n",
            "Skills : ['work', 'tables', 'Regulatory', 'styling', 'Essential', 'selection', 'Greek', 'skills', 'Inventory', 'DESIGNER', 'Set', 'States', 'Package', 'verifications', 'satisfaction', 'Answer', 'product', 'Center', 'support', 'store', 'SAINT', 'problem', 'standards', 'validity', 'initiative', 'organization', 'submission', 'client', 'consultation', 'Ticket', 'customers', 'QC', 'appraisals', 'credit', 'center', 'value', 'desires', 'Skills', 'records', 'term', 'tasks', 'sales', 'malfunctions', 'products', 'integrity', 'Sales', 'data', 'Education', 'Bilingual', 'Maintain', 'people', 'registers', 'print', 'Greet', 'benefits', 'time', 'Office', 'requests', 'Flow', 'style', 'salon', 'Schedule', 'Designer', 'Processors', 'Salon', 'cleanliness', 'Overview', 'information', 'file', 'business', 'SUNSTATE', 'status', 'Order', 'practices', 'use', 'Team', 'reputation', 'appointments', 'opportunities', 'Word', 'employment', 'service', 'atmosphere', 'features', 'questions', 'relationship', 'requirements', 'Representative', 'marketing', 'merchandise', 'Recommend', 'returns', 'answers', 'Excel', 'Sep', 'Compliance', 'security', 'Name', 'prices', 'Ms', 'Adobe', 'Point', 'transactions', 'company', 'Processor', 'sell', 'Exchange', 'techniques', 'Self', 'Power', 'call', 'inquiries', 'Assemble', 'PETERSBURG', 'issues', 'Prepare', 'customer', 'stations', 'contact', 'education', 'procedures', 'closing', 'ACADEMY', 'order', 'hair', 'locating', 'opening', 'safety', 'cash', 'base', 'Call', 'player', 'database', 'Watch', 'inventories', 'payment', 'beauty', 'COLLEGE', 'andself-', 'documents', 'General', 'Professional', 'need', 'August', 'policies', 'Associate', 'fields', 'November', 'Aug', 'vouchers', 'deposits', 'experience', 'Fulfill', 'cosmetics', 'title', 'office', 'making', 'retail', 'requisition', 'Manager', 'Company', 'charge', 'Languages', 'United', 'money', 'stock', 'month', 'group', 'Responsibilities', 'October', 'ownership', 'May', 'subordinations', 'mobility', 'attorney', 'package', 'Batteries', 'maintenance', 'Appraisal', 'Arts', 'level', 'operation', 'English', 'communication', 'slips', 'promotions', 'Compute', 'Determine', 'SALON', 'periods', 'Owner', 'Committed', 'needs', 'solutions', 'job', 'LOS', 'Originators', 'researching', 'purchases', 'Change', 'accomplishments', 'Credit', 'State', 'shelves', 'supplies', 'counters', 'decision', 'Management', 'Career', 'ï¼\\u200b', 'operations', 'cutting', 'knowledge', 'loan', 'demeanor', 'problems', 'gifts', 'trends', 'Cosmetology', 'loans', 'December', 'equipment', 'License', 'January', 'drawers', 'styles', 'exchanges', 'arrange', 'City', 'care', 'clients', 'coupons', 'eager', 'professional', 'Loan', 'training', 'Duties', 'accounts', 'Experience', 'June', 'services']\n",
            "Education : []\n",
            "Category : E-LEARNING DESIGNER\n",
            "Skills : ['Voice', 'Paolo', 'Science', 'computer', 'Human', 'team', 'problem', 'COMPUTER', 'Application', 'Sabine', 'proficiency', 'distance', 'tasks', 'design', 'web', 'iMovie', 'STATE', 'Designer', 'information', 'Researched', 'Networks', 'Service', 'experts', 'Montini', 'Athletic', 'e', 'Kutsch', 'UDB', 'developerWorks', 'TECHNOLOGY', 'Chong', 'Paper', 'Unix', 'Sardana', 'Research', 'process', 'pages', 'Board', 'White', 'theories', 'Innovation', 'owners', 'proof', 'Organization', 'Workbench', 'WESTERN', 'tool', 'proposals', 'budgets', 'matter', 'Magazine', 'Coach', 'Project', 'content', 'Stored', 'courses', 'class', 'Revolution', 'Math', 'OS', 'NIH', 'Wu', 'Player', 'Advisory', 'May', 'Master', 'variety', 'analysis', 'concepts', 'Pro', 'JavascriptÂ', 'story', 'Leung', 'Instructional', 'quality', 'development', 'Mark', 'Test', 'Technology', 'Schenker', 'video', 'online', 'channel', 'designÂ', 'Newman', 'Version', 'Rodrigues', 'resources', 'training', 'Bachelor', 'Debra', 'articles', 'stake', '-', 'Community', 'DESIGNER', 'Publications', 'Gathered', 'Macedo', 'resource', '501(r)Â', 'Design', 'room', 'Bockus', 'boarding', 'ILLINOIS', 'Tech', 'Protecting', 'Jan', 'International', 'schedules', 'Explorer', 'Manoj', 'DB2', 'time', 'Corporation', 'lines', 'SheetsÂ', 'eLearning', 'collaboration', 'Vitor', 'Ability', 'Overview', 'Swim', 'book', 'Current', 'Archiving', 'Presentations', 'Marcel', 'project', 'ILT', 'Excel', 'Name', 'Patrick', 'Association', 'Adobe', 'Google', 'E', 'techniques', 'Analysed', 'Outlook', 'DESIGN', 'Olympiad', 'line', 'expert', 'Exam', 'SAP', 'K.', 'Gmail', 'Company', 'parties', 'Expert', 'Marichu', 'Kaschta', 'TRAINER', 'administrator', 'eBook', 'Robert', 'Marina', 'test', 'Soccer', 'C', 'Preparation', 'Qualifications', 'SCORM', 'Group', 'Management', 'ï¼\\u200b', 'knowledge', 'Excellent', 'TeamÂ', 'Chrome', 'PENNSYLVANIA', 'Cross-', 'Microsoft', 'management', 'objectives', 'software', 'Stakeholder', 'Zeidenstein', 'Experience', 'April', 'June', 'Developer', 'd', 'Majcher', 'Green', 'Talent', 'Redbook', 'States', 'Ricardo', 'Gregory', 'Database', 'department', 'Facilities', 'Boosters', 'Bruni', 'HTML', 'p', 'Education', 'Snag', 'data', 'Writing', 'materials', 'assessments', 'Certification', 'approaches', 'Greenstein', 'Smith', 'Dennis', 'leadership', 'background', 'understanding', 'Team', 'sites', 'feedback', 'adult', 'Spain', 'learning', 'Word', 'Introduction', 'tools', 'subject', 'Kenexa', 'Tay', 'SharePoint', 'security', '2007Â', 'editor', 'XML', 'Editing', 'DatabaseIBM', 'Ling', 'YouTube', 'Encoder', 'BoardÂ', 'Academy', 'compliance', 'User', 'Tutorial', 'VMWare', 'DEPAUL', 'experience', 'magazine', 'Support', 'administrators', 'Work', 'solution', 'Procedures', 'Success', 'York', 'technologies', 'executives', 'School', 'Ming', 'z', 'Windows', 'needs', 'Vandensande', 'State', 'Forms', 'Patient', 'Youth', 'Luca', 'PowerPoint', 'ParticipantsÂ', 'Captivate', 'Paint', 'Drive', 'modules', 'Training', 'President', 'Development', 'methodologies', 'Elmhurst', 'skills', 'Academic', 'conferences', 'Skype', 'Part', 'storyboards', 'Platform', 'Record', 'High', 'learners', 'Information', 'technology', 'Dayana', 'Affiliations', 'F.', 'Skills', 'center', 'Technical', 'Eaton', 'Glenn', 'Internet', 'Dantressangle', 'McGeoch', 'initiatives', 'experiences', 'Red', 'Adept', 'July', 'Factors', 'Hub', 'ability', 'forÂ', 'Demand', 'LMS', 'navigation', 'Planning', 'requirements', 'delivery', 'Book', 'IBM', 'surveysÂ', 'Hutchison', 'Rome', 'Studio', 'Certifications', 'Reader', 'We', 'Safety', 'curriculum', 'Volunteer', 'Illinois', 'education', 'scheduling', 'holders', 'Data', 'scenarios', 'UNIVERSITY', 'Michael', 'implementation', 'educator', 'Apple', 'methods', 'AIX', 'Grant', 'trainer', 'Sandburg', 'SCIENCE', 'outcomes', 'Oracle', 'United', 'Â', 'SQL', 'Society', 'David', 'Customer', 'pedagogy', 'Visio', 'INSTRUCTIONAL', 'D.', 'Docs', 'publications', 'manager', 'videos', 'Career', 'Central', 'American', 'managers', 'ID', 'Children', 'Raul', 'January', 'City', 'Unites', 'Kathryn', 'Scanlon', 'Brothers', 'Media']\n",
            "Education : ['Bachelor', 'Master']\n",
            "Category : SENIOR CLIENT ADVOCATE II\n",
            "Skills : ['responsibilities', 'BlueShield', 'interviews', 'Advocate', 'EHR', '-', 'attachments', 'CLIENT', 'Community', 'coding', 'Business', 'mitigation', 'Science', 'Analyst', 'Blood', 'product', 'team', 'support', 'bench', 'measure', 'Meaningful', 'Laude', 'planning', 'performance', 'Application', 'Information', 'plans', 'calculation', 'technology', 'co', 'Interchange', 'II', 'ADVOCATE', 'focus', 'HP', 'Affiliations', 'Skills', 'Health', 'Education', 'Northampton', 'meetings', 'telecom', 'sales', 'scripts', 'products', 'data', 'research', 'design', 'leaders', 'telephone', 'position', '12/2002', 'teams', 'time', 'revenue', 'defects', 'Cable', 'collaboration', 'industry', 'employees', 'Computer', 'members', 'impact', 'information', 'business', 'Service', 'use', 'costs', 'Team', 'ability', 'Client', 'Military', 'creation', 'CRAIG', 'opportunities', 'Standards', '12/2017', 'WEDI', 'Pressure', 'record', 'analysts', 'architecture', 'features', 'Brand', 'tools', 'system', 'relationship', 'requirements', 'marketing', 'Seven', 'claims', 'project', 'projects', 'documentation', 'actuals', 'analyst', 'installation', 'Award', 'Net', 'Name', 'Wireless', 'reports', 'row', 'Carolina', 'cycles', 'company', 'V2', 'Collaboration', 'SuppCRAIG', 'improvements', 'Fast', 'Summary', 'process', 'CBP', 'expertise', 'messages', 'South', 'issues', 'Physical', '%', 'telecommunications', 'customer', 'COL', 'procedures', 'Data', 'Developing', 'Organization', 'Product', 'player', 'tool', 'Systems', 'principles', 'profits', 'health', 'role', 'Rock', 'acceptance', 'Electronic', 'site', 'acumen', 'Document', 'line', 'reviews', 'testing', 'Project', 'London', 'user', 'results', 'mapping', 'Workgroup', 'plan', 'efficiency', 'enhancements', 'measures', 'staff', 'budget', 'Manager', 'Workflow', 'Company', 'Motivated', 'gap', 'users', 'environment', 'Pennsylvania', 'sessions', 'Consolidate', 'Insurance', 'communication', 'MS', 'Screening', 'level', 'SQL', 'feature', 'spending', 'forecast', 'goals', 'analysis', 'Magna', 'TRICARE', 'concepts', 'test', 'packetize', 'solutions', 'needs', 'College', 'Release', 'matrix', 'Healthcare', 'Risk', 'Colorectal', 'IT', 'FHIR', 'State', 'stakeholders', 'Use', 'HEDIS', 'board', 'updates', 'Management', 'Cum', 'ï¼\\u200b', 'knowledge', 'cases', 'Merit', 'Slippery', 'processes', 'pricing', 'development', 'areas', 'Test', 'Technology', 'BlueCross', 'Accomplishments', 'years', 'England', 'University', 'Requirements', 'Operations', 'Architecture', 'Senior', 'management', 'Gabron', 'ordination', 'accounting', 'Communications', 'care', 'objectives', 'City', 'expense', 'Resources', 'savings', 'software', 'case', 'Lifecycle', 'progress', 'Clinical', 'changes', 'programmers', 'Duties', 'billing', 'visits', 'Training', '03/1992', 'Level', 'Experience', 'Bachelor', 'Cancer']\n",
            "Education : ['Bachelor']\n",
            "Category : SOFTWARE ENGINEERING MANAGER\n",
            "Skills : ['URI', 'playback', 'device', '07/1997', 'encoder', 'interviews', 'workflows', 'facilities', '-', 'Beijing', 'UI', 'SDK', 'Science', 'completion', 'dash', 'SAX', 'DLL', '09/2009', 'product', 'team', 'Transcoder', 'developers', 'media', 'Institute', 'standards', '08/1997', 'performance', 'Helper', 'transitions', 'contents', 'review', 'technology', 'formats', 'MFC', 'client', '+', 'container', 'Requestor', 'LAN', 'house', 'Suite', 'Skills', 'nodes', 'Education', 'products', 'design', 'web', 'json', 'sources', 'Electronics', 'teams', 'Engineering', 'communications', 'time', 'parser', 'HTTP', 'hands', 'Corporation', 'unit', '#', 'integration', 'core', 'style', 'India', 'Win32', 'handler', 'Velocity', 'servers', 'Video', 'Computer', 'header', 'business', 'decoder', 'Service', 'GPRX', 'metadata', 'revision', 'use', 'Team', 'converter', 'ENGINEERING', '08/2009', 'engineer', 'SAN', 'Current', 'opportunities', 'broadcast', 'domain', 'rules', 'rendering', 'storage', 'Imagine', 'service', 'Nexio', 'Experience', 'architecture', 'tools', 'National', 'scalability', 'project', 'projects', 'documentation', 'request', 'threads', 'engineers', 'Name', 'audio', 'Playout', 'MediaBase', 'hand', 'success', 'concept', 'Burbank', 'control', 'page', 'JavaScript', 'XML', 'Hercules', 'Editing', 'JSON', 'Harris', 'Summary', 'Visual', 'party', 'components', 'pages', 'functions', 'Content', 'vendor', 'peer', 'engine', 'issues', 'process', 'Illinois', 'picon', 'customer', 'OOP', 'Proxy', 'document', 'Encoder', 'procedures', 'access', 'dump', 'code', 'bridge', 'Helios', 'size', 'Bank', 'Leitch', 'player', 'method', 'indirect', 'codec', 'classes', 'STL', 'documents', 'Global', 'deliverables', 'legacy', 'C++', 'startup', 'methods', 'driver', 'atoms', 'reviews', 'ScrumMaster', 'stack', 'testing', 'multi-', 'Project', 'Render', 'Engineer', 'content', 'Hardware', 'experience', 'import', 'evolution', 'user', 'conditions', 'CLI', 'Handler', 'spinoff', 'solution', 'Manager', 'DTA', 'Company', 'holding', 'personnel', 'K', 'DPS', 'JS', 'ATL', 'NAS', 'Jenkins', 'HTML5', 'WinAPI', 'server', 'BCD', 'offers', 'Naperville', 'top', 'level', 'DASH', 'operation', 'Scavenger', 'engines', 'guidelines', 'analysis', 'backup', 'Principal', 'desktop', 'reader', 'Windows', 'Picon', 'side', 'C', 'crash', 'Star', 'Win', 'ftp', 'protocol', 'Software', 'REST', 'framework', 'proxy', 'MB', 'domains', 'troubleshoot', 'MP4', 'M.S', 'source', 'State', 'explorer', 'effects', 'manager', 'SOA', 'ï¼\\u200b', 'backend', 'layer', 'Communication', 'notification', 'development', 'models', 'MPEG', 'applications', 'response', 'Mercurial', 'Technology', 'years', 'export', 'AAC', 'TCP', 'part', 'video', 'MANAGER', 'specification', 'space', 'management', 'SOFTWARE', '24/7', 'HR', 'City', 'clients', 'API', 'drawing', 'software', 'Initiated', 'IPC', 'modules', 'engineering', 'Media', 'editing', 'FTP', 'IDs', 'Scrum', 'Development', 'services']\n",
            "Education : []\n",
            "Category : MORTGAGE BANKING FORECLOSURE SPECIALIST\n",
            "Skills : ['Connection', 'work', 'Services', 'Audits', 'Income', 'Foreclosure', 'Servicing', 'Administration', 'Sharepoint', 'ups', 'packages', 'Science', 'Business', 'verifications', 'Analyst', '12/2013', 'computer', 'Nss', 'Cases', 'Title', 'Consumer', 'production', 'underwriting', 'Meeting', 'standards', '*', 'applicant', 'Documentation', 'property', 'review', 'validity', 'Department', 'Assurance', 'evaluation', 'II', 'companies', 'applicants', 'self', 'BANKING', 'mainframes', 'house', 'customers', 'credit', 'SPECIALIST', 'Auburn', 'tax', 'Ambitious', 'Skills', 'Solutions', 'Telephone', 'Education', 'Specialist', 'Sales', 'products', 'in', 'history', 'Estate', 'mortgages', 'Lenstar', 'entry', 'accordance', 'strengths', 'Tax', '04/2003', 'S', 'K-1', 'sources', 'Management/', 'characteristics', 'follow', 'roles', 'Production', 'Processing', 'liability', 'Verified', 'Solver', 'Schedule', 'weaknesses', 'Environment', 'industry', 'borrowers', 'Pipeline', 'paystubs', 'Prevention/', 'Reviewing', 'MORTGAGE', 'detail', 'file', 'business', 'programs', 'Service', 'status', 'errors', 'Review', 'Team', 'MSP', 'Current', 'Military', 'Loss', 'booking', 'Security', 'Word', 'Control', 'CREDCO', 'Bankruptcy', 'services', 'requirements', 'Montgomery', 'Lending', 'Closing', 'Liability', 'documentation', 'Excel', 'attention', 'Compliance', 'security', 'Name', 'definition', 'Learner', 'Underwriting', 'company', 'Processor', 'control', 'ratio', 'Lead', 'Clients', 'Civil', 'Assessment', 'Lotus', 'Fast', 'Summary', 'inquiries', 'Returns', 'functions', 'logic', 'Underwriter', '10/2011', 'peer', 'asset', 'Mortgage', 'Fha', 'Financial', 'Banking', 'Fannie', 'File', 'SLOAD', '%', 'customer', 'modification', 'exceptions', 'procedures', 'F.H.A.', 'order', 'Data', 'bank', 'Ups', 'cash', 'Outlook', 'database', 'SCRA', 'Booking', 'FORECLOSURE', 'payment', 'error', 'Act', 'LES', 'documents', 'need', 'adherence', 'Problem', 'searches', 'Document', 'V.A.', 'policies', 'DOS', 'reviews', 'Associate', 'Dos', 'Relief', 'W2', 'experience', 'Powerpoint', 'StateMortgage', 'milestones', 'title', 'Entry', 'mortgage', 'conditions', 'willingness', 'plan', 'Statements', 'Trading', 'Auditing', 'Articulate', 'passion', 'Company', 'Preservation', 'feasibility', 'repayment', 'transcripts', 'Vendorscape', 'Prevention', 'consumer', 'environment', 'options', 'maintenance', 'opportunity', 'level', 'volume', 'omissions', 'goals', 'teammates', 'Fixed', 'DAT', 'guidelines', 'member', 'methodology', 'Detail', 'LPS', 'C', 'Analysis', 'Cash', '08/2008', 'Federal', 'Home', 'rating', 'Risk', 'ResWare', 'Live', 'recommendation', 'baseline', 'risk', 'Credit', 'Resolution', 'spectrum', 'State', 'affordability', 'Loans', 'Use', 'Corps', 'Management', 'loan', 'knowledge', 'cases', 'processes', 'quality', 'Real', 'loans', 'Accomplishments', 'years', '1120S', 'University', 'Operations', 'RELS', 'Mitigation', 'income', 'Microsoft', 'employer', 'Operations/', 'Early', '01/2014', 'banking', '01/2010', 'instruments', 'management', 'City', 'Default', 'approvals', 'clients', 'investor', 'capacity', 'Quality', 'Profit', 'professional', 'software', 'Loan', 'statements', 'learner', 'Mae', 'approval', 'Experience', 'resolution', 'Internal', 'FHA']\n",
            "Education : []\n"
          ]
        }
      ]
    }
  ]
}