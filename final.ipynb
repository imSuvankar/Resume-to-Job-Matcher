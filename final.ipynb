{
  "nbformat": 4,
  "nbformat_minor": 0,
  "metadata": {
    "colab": {
      "provenance": [],
      "collapsed_sections": [
        "nz0PKxg-_QKP",
        "3AfirBge_kO6",
        "xIh8WZkW_ypS",
        "EytN2c50ABoh",
        "bsorW8h6AKt6",
        "9sQlnMaDAtS2",
        "iyWS3D9xA5hx",
        "Z6y22DoGBDak",
        "Yf01psYjBRKN",
        "7RsiZfcDBeVb",
        "ZaIfutVGBott",
        "x9IxvrD-B4Xw",
        "T00xHtYJCKAM"
      ],
      "authorship_tag": "ABX9TyO150PKpVQC7P9ILLcYuREA"
    },
    "kernelspec": {
      "name": "python3",
      "display_name": "Python 3"
    },
    "language_info": {
      "name": "python"
    },
    "widgets": {
      "application/vnd.jupyter.widget-state+json": {
        "247c4ad91f294ce7a6740b7a97cd2351": {
          "model_module": "@jupyter-widgets/controls",
          "model_name": "HBoxModel",
          "model_module_version": "1.5.0",
          "state": {
            "_dom_classes": [],
            "_model_module": "@jupyter-widgets/controls",
            "_model_module_version": "1.5.0",
            "_model_name": "HBoxModel",
            "_view_count": null,
            "_view_module": "@jupyter-widgets/controls",
            "_view_module_version": "1.5.0",
            "_view_name": "HBoxView",
            "box_style": "",
            "children": [
              "IPY_MODEL_b530bfc3f2244a9981590271d2bb7856",
              "IPY_MODEL_e5c1a2a178694b7d8eb446c9df2e1d51",
              "IPY_MODEL_cab830d8873d4424afca075444a513be"
            ],
            "layout": "IPY_MODEL_f7461c89c67a47a68824db80e219d0c2"
          }
        },
        "b530bfc3f2244a9981590271d2bb7856": {
          "model_module": "@jupyter-widgets/controls",
          "model_name": "HTMLModel",
          "model_module_version": "1.5.0",
          "state": {
            "_dom_classes": [],
            "_model_module": "@jupyter-widgets/controls",
            "_model_module_version": "1.5.0",
            "_model_name": "HTMLModel",
            "_view_count": null,
            "_view_module": "@jupyter-widgets/controls",
            "_view_module_version": "1.5.0",
            "_view_name": "HTMLView",
            "description": "",
            "description_tooltip": null,
            "layout": "IPY_MODEL_9c055d51ea894e6d98275252ecad39d8",
            "placeholder": "​",
            "style": "IPY_MODEL_c595d297408840ccb471073724a907ac",
            "value": "Downloading readme: 100%"
          }
        },
        "e5c1a2a178694b7d8eb446c9df2e1d51": {
          "model_module": "@jupyter-widgets/controls",
          "model_name": "FloatProgressModel",
          "model_module_version": "1.5.0",
          "state": {
            "_dom_classes": [],
            "_model_module": "@jupyter-widgets/controls",
            "_model_module_version": "1.5.0",
            "_model_name": "FloatProgressModel",
            "_view_count": null,
            "_view_module": "@jupyter-widgets/controls",
            "_view_module_version": "1.5.0",
            "_view_name": "ProgressView",
            "bar_style": "success",
            "description": "",
            "description_tooltip": null,
            "layout": "IPY_MODEL_b5b5121f25e44daab8c87695b7318a14",
            "max": 24,
            "min": 0,
            "orientation": "horizontal",
            "style": "IPY_MODEL_7c3f01325ad6437f85020b4364967c1b",
            "value": 24
          }
        },
        "cab830d8873d4424afca075444a513be": {
          "model_module": "@jupyter-widgets/controls",
          "model_name": "HTMLModel",
          "model_module_version": "1.5.0",
          "state": {
            "_dom_classes": [],
            "_model_module": "@jupyter-widgets/controls",
            "_model_module_version": "1.5.0",
            "_model_name": "HTMLModel",
            "_view_count": null,
            "_view_module": "@jupyter-widgets/controls",
            "_view_module_version": "1.5.0",
            "_view_name": "HTMLView",
            "description": "",
            "description_tooltip": null,
            "layout": "IPY_MODEL_5e53f1daf68242deaa1f59ed7164e4a5",
            "placeholder": "​",
            "style": "IPY_MODEL_9ae1df19995c45d0876a3a5f6950874c",
            "value": " 24.0/24.0 [00:00&lt;00:00, 1.23kB/s]"
          }
        },
        "f7461c89c67a47a68824db80e219d0c2": {
          "model_module": "@jupyter-widgets/base",
          "model_name": "LayoutModel",
          "model_module_version": "1.2.0",
          "state": {
            "_model_module": "@jupyter-widgets/base",
            "_model_module_version": "1.2.0",
            "_model_name": "LayoutModel",
            "_view_count": null,
            "_view_module": "@jupyter-widgets/base",
            "_view_module_version": "1.2.0",
            "_view_name": "LayoutView",
            "align_content": null,
            "align_items": null,
            "align_self": null,
            "border": null,
            "bottom": null,
            "display": null,
            "flex": null,
            "flex_flow": null,
            "grid_area": null,
            "grid_auto_columns": null,
            "grid_auto_flow": null,
            "grid_auto_rows": null,
            "grid_column": null,
            "grid_gap": null,
            "grid_row": null,
            "grid_template_areas": null,
            "grid_template_columns": null,
            "grid_template_rows": null,
            "height": null,
            "justify_content": null,
            "justify_items": null,
            "left": null,
            "margin": null,
            "max_height": null,
            "max_width": null,
            "min_height": null,
            "min_width": null,
            "object_fit": null,
            "object_position": null,
            "order": null,
            "overflow": null,
            "overflow_x": null,
            "overflow_y": null,
            "padding": null,
            "right": null,
            "top": null,
            "visibility": null,
            "width": null
          }
        },
        "9c055d51ea894e6d98275252ecad39d8": {
          "model_module": "@jupyter-widgets/base",
          "model_name": "LayoutModel",
          "model_module_version": "1.2.0",
          "state": {
            "_model_module": "@jupyter-widgets/base",
            "_model_module_version": "1.2.0",
            "_model_name": "LayoutModel",
            "_view_count": null,
            "_view_module": "@jupyter-widgets/base",
            "_view_module_version": "1.2.0",
            "_view_name": "LayoutView",
            "align_content": null,
            "align_items": null,
            "align_self": null,
            "border": null,
            "bottom": null,
            "display": null,
            "flex": null,
            "flex_flow": null,
            "grid_area": null,
            "grid_auto_columns": null,
            "grid_auto_flow": null,
            "grid_auto_rows": null,
            "grid_column": null,
            "grid_gap": null,
            "grid_row": null,
            "grid_template_areas": null,
            "grid_template_columns": null,
            "grid_template_rows": null,
            "height": null,
            "justify_content": null,
            "justify_items": null,
            "left": null,
            "margin": null,
            "max_height": null,
            "max_width": null,
            "min_height": null,
            "min_width": null,
            "object_fit": null,
            "object_position": null,
            "order": null,
            "overflow": null,
            "overflow_x": null,
            "overflow_y": null,
            "padding": null,
            "right": null,
            "top": null,
            "visibility": null,
            "width": null
          }
        },
        "c595d297408840ccb471073724a907ac": {
          "model_module": "@jupyter-widgets/controls",
          "model_name": "DescriptionStyleModel",
          "model_module_version": "1.5.0",
          "state": {
            "_model_module": "@jupyter-widgets/controls",
            "_model_module_version": "1.5.0",
            "_model_name": "DescriptionStyleModel",
            "_view_count": null,
            "_view_module": "@jupyter-widgets/base",
            "_view_module_version": "1.2.0",
            "_view_name": "StyleView",
            "description_width": ""
          }
        },
        "b5b5121f25e44daab8c87695b7318a14": {
          "model_module": "@jupyter-widgets/base",
          "model_name": "LayoutModel",
          "model_module_version": "1.2.0",
          "state": {
            "_model_module": "@jupyter-widgets/base",
            "_model_module_version": "1.2.0",
            "_model_name": "LayoutModel",
            "_view_count": null,
            "_view_module": "@jupyter-widgets/base",
            "_view_module_version": "1.2.0",
            "_view_name": "LayoutView",
            "align_content": null,
            "align_items": null,
            "align_self": null,
            "border": null,
            "bottom": null,
            "display": null,
            "flex": null,
            "flex_flow": null,
            "grid_area": null,
            "grid_auto_columns": null,
            "grid_auto_flow": null,
            "grid_auto_rows": null,
            "grid_column": null,
            "grid_gap": null,
            "grid_row": null,
            "grid_template_areas": null,
            "grid_template_columns": null,
            "grid_template_rows": null,
            "height": null,
            "justify_content": null,
            "justify_items": null,
            "left": null,
            "margin": null,
            "max_height": null,
            "max_width": null,
            "min_height": null,
            "min_width": null,
            "object_fit": null,
            "object_position": null,
            "order": null,
            "overflow": null,
            "overflow_x": null,
            "overflow_y": null,
            "padding": null,
            "right": null,
            "top": null,
            "visibility": null,
            "width": null
          }
        },
        "7c3f01325ad6437f85020b4364967c1b": {
          "model_module": "@jupyter-widgets/controls",
          "model_name": "ProgressStyleModel",
          "model_module_version": "1.5.0",
          "state": {
            "_model_module": "@jupyter-widgets/controls",
            "_model_module_version": "1.5.0",
            "_model_name": "ProgressStyleModel",
            "_view_count": null,
            "_view_module": "@jupyter-widgets/base",
            "_view_module_version": "1.2.0",
            "_view_name": "StyleView",
            "bar_color": null,
            "description_width": ""
          }
        },
        "5e53f1daf68242deaa1f59ed7164e4a5": {
          "model_module": "@jupyter-widgets/base",
          "model_name": "LayoutModel",
          "model_module_version": "1.2.0",
          "state": {
            "_model_module": "@jupyter-widgets/base",
            "_model_module_version": "1.2.0",
            "_model_name": "LayoutModel",
            "_view_count": null,
            "_view_module": "@jupyter-widgets/base",
            "_view_module_version": "1.2.0",
            "_view_name": "LayoutView",
            "align_content": null,
            "align_items": null,
            "align_self": null,
            "border": null,
            "bottom": null,
            "display": null,
            "flex": null,
            "flex_flow": null,
            "grid_area": null,
            "grid_auto_columns": null,
            "grid_auto_flow": null,
            "grid_auto_rows": null,
            "grid_column": null,
            "grid_gap": null,
            "grid_row": null,
            "grid_template_areas": null,
            "grid_template_columns": null,
            "grid_template_rows": null,
            "height": null,
            "justify_content": null,
            "justify_items": null,
            "left": null,
            "margin": null,
            "max_height": null,
            "max_width": null,
            "min_height": null,
            "min_width": null,
            "object_fit": null,
            "object_position": null,
            "order": null,
            "overflow": null,
            "overflow_x": null,
            "overflow_y": null,
            "padding": null,
            "right": null,
            "top": null,
            "visibility": null,
            "width": null
          }
        },
        "9ae1df19995c45d0876a3a5f6950874c": {
          "model_module": "@jupyter-widgets/controls",
          "model_name": "DescriptionStyleModel",
          "model_module_version": "1.5.0",
          "state": {
            "_model_module": "@jupyter-widgets/controls",
            "_model_module_version": "1.5.0",
            "_model_name": "DescriptionStyleModel",
            "_view_count": null,
            "_view_module": "@jupyter-widgets/base",
            "_view_module_version": "1.2.0",
            "_view_name": "StyleView",
            "description_width": ""
          }
        },
        "b2495376881e4679944723d0c6446611": {
          "model_module": "@jupyter-widgets/controls",
          "model_name": "HBoxModel",
          "model_module_version": "1.5.0",
          "state": {
            "_dom_classes": [],
            "_model_module": "@jupyter-widgets/controls",
            "_model_module_version": "1.5.0",
            "_model_name": "HBoxModel",
            "_view_count": null,
            "_view_module": "@jupyter-widgets/controls",
            "_view_module_version": "1.5.0",
            "_view_name": "HBoxView",
            "box_style": "",
            "children": [
              "IPY_MODEL_3f2c0e6055f1427ab3721e8ca7e32843",
              "IPY_MODEL_36d05186b8d549058019c03fe59181b4",
              "IPY_MODEL_a4036e38ea5f4701a00f63ee893fa4ea"
            ],
            "layout": "IPY_MODEL_e0b7afcfc7bb4d529c5deae52df9e251"
          }
        },
        "3f2c0e6055f1427ab3721e8ca7e32843": {
          "model_module": "@jupyter-widgets/controls",
          "model_name": "HTMLModel",
          "model_module_version": "1.5.0",
          "state": {
            "_dom_classes": [],
            "_model_module": "@jupyter-widgets/controls",
            "_model_module_version": "1.5.0",
            "_model_name": "HTMLModel",
            "_view_count": null,
            "_view_module": "@jupyter-widgets/controls",
            "_view_module_version": "1.5.0",
            "_view_name": "HTMLView",
            "description": "",
            "description_tooltip": null,
            "layout": "IPY_MODEL_8d132edf822041d0af29c876da1cbcc8",
            "placeholder": "​",
            "style": "IPY_MODEL_d5e4e99e507148ab9a46777df5d79c71",
            "value": "Downloading data files: 100%"
          }
        },
        "36d05186b8d549058019c03fe59181b4": {
          "model_module": "@jupyter-widgets/controls",
          "model_name": "FloatProgressModel",
          "model_module_version": "1.5.0",
          "state": {
            "_dom_classes": [],
            "_model_module": "@jupyter-widgets/controls",
            "_model_module_version": "1.5.0",
            "_model_name": "FloatProgressModel",
            "_view_count": null,
            "_view_module": "@jupyter-widgets/controls",
            "_view_module_version": "1.5.0",
            "_view_name": "ProgressView",
            "bar_style": "success",
            "description": "",
            "description_tooltip": null,
            "layout": "IPY_MODEL_d0a324db4b394410a88c82298d79310d",
            "max": 1,
            "min": 0,
            "orientation": "horizontal",
            "style": "IPY_MODEL_78d3f4111fcd43dca66ab6a715ab771d",
            "value": 1
          }
        },
        "a4036e38ea5f4701a00f63ee893fa4ea": {
          "model_module": "@jupyter-widgets/controls",
          "model_name": "HTMLModel",
          "model_module_version": "1.5.0",
          "state": {
            "_dom_classes": [],
            "_model_module": "@jupyter-widgets/controls",
            "_model_module_version": "1.5.0",
            "_model_name": "HTMLModel",
            "_view_count": null,
            "_view_module": "@jupyter-widgets/controls",
            "_view_module_version": "1.5.0",
            "_view_name": "HTMLView",
            "description": "",
            "description_tooltip": null,
            "layout": "IPY_MODEL_0b2ab800244f4fa19762ecfa94260913",
            "placeholder": "​",
            "style": "IPY_MODEL_10497221e37b40ccae909ca72b6d86ff",
            "value": " 1/1 [00:00&lt;00:00,  4.83it/s]"
          }
        },
        "e0b7afcfc7bb4d529c5deae52df9e251": {
          "model_module": "@jupyter-widgets/base",
          "model_name": "LayoutModel",
          "model_module_version": "1.2.0",
          "state": {
            "_model_module": "@jupyter-widgets/base",
            "_model_module_version": "1.2.0",
            "_model_name": "LayoutModel",
            "_view_count": null,
            "_view_module": "@jupyter-widgets/base",
            "_view_module_version": "1.2.0",
            "_view_name": "LayoutView",
            "align_content": null,
            "align_items": null,
            "align_self": null,
            "border": null,
            "bottom": null,
            "display": null,
            "flex": null,
            "flex_flow": null,
            "grid_area": null,
            "grid_auto_columns": null,
            "grid_auto_flow": null,
            "grid_auto_rows": null,
            "grid_column": null,
            "grid_gap": null,
            "grid_row": null,
            "grid_template_areas": null,
            "grid_template_columns": null,
            "grid_template_rows": null,
            "height": null,
            "justify_content": null,
            "justify_items": null,
            "left": null,
            "margin": null,
            "max_height": null,
            "max_width": null,
            "min_height": null,
            "min_width": null,
            "object_fit": null,
            "object_position": null,
            "order": null,
            "overflow": null,
            "overflow_x": null,
            "overflow_y": null,
            "padding": null,
            "right": null,
            "top": null,
            "visibility": null,
            "width": null
          }
        },
        "8d132edf822041d0af29c876da1cbcc8": {
          "model_module": "@jupyter-widgets/base",
          "model_name": "LayoutModel",
          "model_module_version": "1.2.0",
          "state": {
            "_model_module": "@jupyter-widgets/base",
            "_model_module_version": "1.2.0",
            "_model_name": "LayoutModel",
            "_view_count": null,
            "_view_module": "@jupyter-widgets/base",
            "_view_module_version": "1.2.0",
            "_view_name": "LayoutView",
            "align_content": null,
            "align_items": null,
            "align_self": null,
            "border": null,
            "bottom": null,
            "display": null,
            "flex": null,
            "flex_flow": null,
            "grid_area": null,
            "grid_auto_columns": null,
            "grid_auto_flow": null,
            "grid_auto_rows": null,
            "grid_column": null,
            "grid_gap": null,
            "grid_row": null,
            "grid_template_areas": null,
            "grid_template_columns": null,
            "grid_template_rows": null,
            "height": null,
            "justify_content": null,
            "justify_items": null,
            "left": null,
            "margin": null,
            "max_height": null,
            "max_width": null,
            "min_height": null,
            "min_width": null,
            "object_fit": null,
            "object_position": null,
            "order": null,
            "overflow": null,
            "overflow_x": null,
            "overflow_y": null,
            "padding": null,
            "right": null,
            "top": null,
            "visibility": null,
            "width": null
          }
        },
        "d5e4e99e507148ab9a46777df5d79c71": {
          "model_module": "@jupyter-widgets/controls",
          "model_name": "DescriptionStyleModel",
          "model_module_version": "1.5.0",
          "state": {
            "_model_module": "@jupyter-widgets/controls",
            "_model_module_version": "1.5.0",
            "_model_name": "DescriptionStyleModel",
            "_view_count": null,
            "_view_module": "@jupyter-widgets/base",
            "_view_module_version": "1.2.0",
            "_view_name": "StyleView",
            "description_width": ""
          }
        },
        "d0a324db4b394410a88c82298d79310d": {
          "model_module": "@jupyter-widgets/base",
          "model_name": "LayoutModel",
          "model_module_version": "1.2.0",
          "state": {
            "_model_module": "@jupyter-widgets/base",
            "_model_module_version": "1.2.0",
            "_model_name": "LayoutModel",
            "_view_count": null,
            "_view_module": "@jupyter-widgets/base",
            "_view_module_version": "1.2.0",
            "_view_name": "LayoutView",
            "align_content": null,
            "align_items": null,
            "align_self": null,
            "border": null,
            "bottom": null,
            "display": null,
            "flex": null,
            "flex_flow": null,
            "grid_area": null,
            "grid_auto_columns": null,
            "grid_auto_flow": null,
            "grid_auto_rows": null,
            "grid_column": null,
            "grid_gap": null,
            "grid_row": null,
            "grid_template_areas": null,
            "grid_template_columns": null,
            "grid_template_rows": null,
            "height": null,
            "justify_content": null,
            "justify_items": null,
            "left": null,
            "margin": null,
            "max_height": null,
            "max_width": null,
            "min_height": null,
            "min_width": null,
            "object_fit": null,
            "object_position": null,
            "order": null,
            "overflow": null,
            "overflow_x": null,
            "overflow_y": null,
            "padding": null,
            "right": null,
            "top": null,
            "visibility": null,
            "width": null
          }
        },
        "78d3f4111fcd43dca66ab6a715ab771d": {
          "model_module": "@jupyter-widgets/controls",
          "model_name": "ProgressStyleModel",
          "model_module_version": "1.5.0",
          "state": {
            "_model_module": "@jupyter-widgets/controls",
            "_model_module_version": "1.5.0",
            "_model_name": "ProgressStyleModel",
            "_view_count": null,
            "_view_module": "@jupyter-widgets/base",
            "_view_module_version": "1.2.0",
            "_view_name": "StyleView",
            "bar_color": null,
            "description_width": ""
          }
        },
        "0b2ab800244f4fa19762ecfa94260913": {
          "model_module": "@jupyter-widgets/base",
          "model_name": "LayoutModel",
          "model_module_version": "1.2.0",
          "state": {
            "_model_module": "@jupyter-widgets/base",
            "_model_module_version": "1.2.0",
            "_model_name": "LayoutModel",
            "_view_count": null,
            "_view_module": "@jupyter-widgets/base",
            "_view_module_version": "1.2.0",
            "_view_name": "LayoutView",
            "align_content": null,
            "align_items": null,
            "align_self": null,
            "border": null,
            "bottom": null,
            "display": null,
            "flex": null,
            "flex_flow": null,
            "grid_area": null,
            "grid_auto_columns": null,
            "grid_auto_flow": null,
            "grid_auto_rows": null,
            "grid_column": null,
            "grid_gap": null,
            "grid_row": null,
            "grid_template_areas": null,
            "grid_template_columns": null,
            "grid_template_rows": null,
            "height": null,
            "justify_content": null,
            "justify_items": null,
            "left": null,
            "margin": null,
            "max_height": null,
            "max_width": null,
            "min_height": null,
            "min_width": null,
            "object_fit": null,
            "object_position": null,
            "order": null,
            "overflow": null,
            "overflow_x": null,
            "overflow_y": null,
            "padding": null,
            "right": null,
            "top": null,
            "visibility": null,
            "width": null
          }
        },
        "10497221e37b40ccae909ca72b6d86ff": {
          "model_module": "@jupyter-widgets/controls",
          "model_name": "DescriptionStyleModel",
          "model_module_version": "1.5.0",
          "state": {
            "_model_module": "@jupyter-widgets/controls",
            "_model_module_version": "1.5.0",
            "_model_name": "DescriptionStyleModel",
            "_view_count": null,
            "_view_module": "@jupyter-widgets/base",
            "_view_module_version": "1.2.0",
            "_view_name": "StyleView",
            "description_width": ""
          }
        },
        "010d8242ba824a38a256a060352ba7cf": {
          "model_module": "@jupyter-widgets/controls",
          "model_name": "HBoxModel",
          "model_module_version": "1.5.0",
          "state": {
            "_dom_classes": [],
            "_model_module": "@jupyter-widgets/controls",
            "_model_module_version": "1.5.0",
            "_model_name": "HBoxModel",
            "_view_count": null,
            "_view_module": "@jupyter-widgets/controls",
            "_view_module_version": "1.5.0",
            "_view_name": "HBoxView",
            "box_style": "",
            "children": [
              "IPY_MODEL_f48bc4380117403397698ca8d7b3ae74",
              "IPY_MODEL_c67302c10e2948338604945473d6113b",
              "IPY_MODEL_98703b4fcb2a48e1a1db45334d46d17a"
            ],
            "layout": "IPY_MODEL_e0b6e0ba837d4ccbb9994c2e2997057b"
          }
        },
        "f48bc4380117403397698ca8d7b3ae74": {
          "model_module": "@jupyter-widgets/controls",
          "model_name": "HTMLModel",
          "model_module_version": "1.5.0",
          "state": {
            "_dom_classes": [],
            "_model_module": "@jupyter-widgets/controls",
            "_model_module_version": "1.5.0",
            "_model_name": "HTMLModel",
            "_view_count": null,
            "_view_module": "@jupyter-widgets/controls",
            "_view_module_version": "1.5.0",
            "_view_name": "HTMLView",
            "description": "",
            "description_tooltip": null,
            "layout": "IPY_MODEL_87d8cba54ca7478e8d58f52b30c7f5a5",
            "placeholder": "​",
            "style": "IPY_MODEL_c61898c8af2d4017b87e7b6c3f158c30",
            "value": "Downloading data: 100%"
          }
        },
        "c67302c10e2948338604945473d6113b": {
          "model_module": "@jupyter-widgets/controls",
          "model_name": "FloatProgressModel",
          "model_module_version": "1.5.0",
          "state": {
            "_dom_classes": [],
            "_model_module": "@jupyter-widgets/controls",
            "_model_module_version": "1.5.0",
            "_model_name": "FloatProgressModel",
            "_view_count": null,
            "_view_module": "@jupyter-widgets/controls",
            "_view_module_version": "1.5.0",
            "_view_name": "ProgressView",
            "bar_style": "success",
            "description": "",
            "description_tooltip": null,
            "layout": "IPY_MODEL_f5d39b084cf14b2fb4caf30c5fed40bf",
            "max": 3766992,
            "min": 0,
            "orientation": "horizontal",
            "style": "IPY_MODEL_d8120479f9c34604b5ef41485dc448af",
            "value": 3766992
          }
        },
        "98703b4fcb2a48e1a1db45334d46d17a": {
          "model_module": "@jupyter-widgets/controls",
          "model_name": "HTMLModel",
          "model_module_version": "1.5.0",
          "state": {
            "_dom_classes": [],
            "_model_module": "@jupyter-widgets/controls",
            "_model_module_version": "1.5.0",
            "_model_name": "HTMLModel",
            "_view_count": null,
            "_view_module": "@jupyter-widgets/controls",
            "_view_module_version": "1.5.0",
            "_view_name": "HTMLView",
            "description": "",
            "description_tooltip": null,
            "layout": "IPY_MODEL_db1fb0511788408a96d0fa7a6ea22475",
            "placeholder": "​",
            "style": "IPY_MODEL_9debaebfb1f8430dbc23a3dc72b68a39",
            "value": " 3.77M/3.77M [00:00&lt;00:00, 21.0MB/s]"
          }
        },
        "e0b6e0ba837d4ccbb9994c2e2997057b": {
          "model_module": "@jupyter-widgets/base",
          "model_name": "LayoutModel",
          "model_module_version": "1.2.0",
          "state": {
            "_model_module": "@jupyter-widgets/base",
            "_model_module_version": "1.2.0",
            "_model_name": "LayoutModel",
            "_view_count": null,
            "_view_module": "@jupyter-widgets/base",
            "_view_module_version": "1.2.0",
            "_view_name": "LayoutView",
            "align_content": null,
            "align_items": null,
            "align_self": null,
            "border": null,
            "bottom": null,
            "display": null,
            "flex": null,
            "flex_flow": null,
            "grid_area": null,
            "grid_auto_columns": null,
            "grid_auto_flow": null,
            "grid_auto_rows": null,
            "grid_column": null,
            "grid_gap": null,
            "grid_row": null,
            "grid_template_areas": null,
            "grid_template_columns": null,
            "grid_template_rows": null,
            "height": null,
            "justify_content": null,
            "justify_items": null,
            "left": null,
            "margin": null,
            "max_height": null,
            "max_width": null,
            "min_height": null,
            "min_width": null,
            "object_fit": null,
            "object_position": null,
            "order": null,
            "overflow": null,
            "overflow_x": null,
            "overflow_y": null,
            "padding": null,
            "right": null,
            "top": null,
            "visibility": null,
            "width": null
          }
        },
        "87d8cba54ca7478e8d58f52b30c7f5a5": {
          "model_module": "@jupyter-widgets/base",
          "model_name": "LayoutModel",
          "model_module_version": "1.2.0",
          "state": {
            "_model_module": "@jupyter-widgets/base",
            "_model_module_version": "1.2.0",
            "_model_name": "LayoutModel",
            "_view_count": null,
            "_view_module": "@jupyter-widgets/base",
            "_view_module_version": "1.2.0",
            "_view_name": "LayoutView",
            "align_content": null,
            "align_items": null,
            "align_self": null,
            "border": null,
            "bottom": null,
            "display": null,
            "flex": null,
            "flex_flow": null,
            "grid_area": null,
            "grid_auto_columns": null,
            "grid_auto_flow": null,
            "grid_auto_rows": null,
            "grid_column": null,
            "grid_gap": null,
            "grid_row": null,
            "grid_template_areas": null,
            "grid_template_columns": null,
            "grid_template_rows": null,
            "height": null,
            "justify_content": null,
            "justify_items": null,
            "left": null,
            "margin": null,
            "max_height": null,
            "max_width": null,
            "min_height": null,
            "min_width": null,
            "object_fit": null,
            "object_position": null,
            "order": null,
            "overflow": null,
            "overflow_x": null,
            "overflow_y": null,
            "padding": null,
            "right": null,
            "top": null,
            "visibility": null,
            "width": null
          }
        },
        "c61898c8af2d4017b87e7b6c3f158c30": {
          "model_module": "@jupyter-widgets/controls",
          "model_name": "DescriptionStyleModel",
          "model_module_version": "1.5.0",
          "state": {
            "_model_module": "@jupyter-widgets/controls",
            "_model_module_version": "1.5.0",
            "_model_name": "DescriptionStyleModel",
            "_view_count": null,
            "_view_module": "@jupyter-widgets/base",
            "_view_module_version": "1.2.0",
            "_view_name": "StyleView",
            "description_width": ""
          }
        },
        "f5d39b084cf14b2fb4caf30c5fed40bf": {
          "model_module": "@jupyter-widgets/base",
          "model_name": "LayoutModel",
          "model_module_version": "1.2.0",
          "state": {
            "_model_module": "@jupyter-widgets/base",
            "_model_module_version": "1.2.0",
            "_model_name": "LayoutModel",
            "_view_count": null,
            "_view_module": "@jupyter-widgets/base",
            "_view_module_version": "1.2.0",
            "_view_name": "LayoutView",
            "align_content": null,
            "align_items": null,
            "align_self": null,
            "border": null,
            "bottom": null,
            "display": null,
            "flex": null,
            "flex_flow": null,
            "grid_area": null,
            "grid_auto_columns": null,
            "grid_auto_flow": null,
            "grid_auto_rows": null,
            "grid_column": null,
            "grid_gap": null,
            "grid_row": null,
            "grid_template_areas": null,
            "grid_template_columns": null,
            "grid_template_rows": null,
            "height": null,
            "justify_content": null,
            "justify_items": null,
            "left": null,
            "margin": null,
            "max_height": null,
            "max_width": null,
            "min_height": null,
            "min_width": null,
            "object_fit": null,
            "object_position": null,
            "order": null,
            "overflow": null,
            "overflow_x": null,
            "overflow_y": null,
            "padding": null,
            "right": null,
            "top": null,
            "visibility": null,
            "width": null
          }
        },
        "d8120479f9c34604b5ef41485dc448af": {
          "model_module": "@jupyter-widgets/controls",
          "model_name": "ProgressStyleModel",
          "model_module_version": "1.5.0",
          "state": {
            "_model_module": "@jupyter-widgets/controls",
            "_model_module_version": "1.5.0",
            "_model_name": "ProgressStyleModel",
            "_view_count": null,
            "_view_module": "@jupyter-widgets/base",
            "_view_module_version": "1.2.0",
            "_view_name": "StyleView",
            "bar_color": null,
            "description_width": ""
          }
        },
        "db1fb0511788408a96d0fa7a6ea22475": {
          "model_module": "@jupyter-widgets/base",
          "model_name": "LayoutModel",
          "model_module_version": "1.2.0",
          "state": {
            "_model_module": "@jupyter-widgets/base",
            "_model_module_version": "1.2.0",
            "_model_name": "LayoutModel",
            "_view_count": null,
            "_view_module": "@jupyter-widgets/base",
            "_view_module_version": "1.2.0",
            "_view_name": "LayoutView",
            "align_content": null,
            "align_items": null,
            "align_self": null,
            "border": null,
            "bottom": null,
            "display": null,
            "flex": null,
            "flex_flow": null,
            "grid_area": null,
            "grid_auto_columns": null,
            "grid_auto_flow": null,
            "grid_auto_rows": null,
            "grid_column": null,
            "grid_gap": null,
            "grid_row": null,
            "grid_template_areas": null,
            "grid_template_columns": null,
            "grid_template_rows": null,
            "height": null,
            "justify_content": null,
            "justify_items": null,
            "left": null,
            "margin": null,
            "max_height": null,
            "max_width": null,
            "min_height": null,
            "min_width": null,
            "object_fit": null,
            "object_position": null,
            "order": null,
            "overflow": null,
            "overflow_x": null,
            "overflow_y": null,
            "padding": null,
            "right": null,
            "top": null,
            "visibility": null,
            "width": null
          }
        },
        "9debaebfb1f8430dbc23a3dc72b68a39": {
          "model_module": "@jupyter-widgets/controls",
          "model_name": "DescriptionStyleModel",
          "model_module_version": "1.5.0",
          "state": {
            "_model_module": "@jupyter-widgets/controls",
            "_model_module_version": "1.5.0",
            "_model_name": "DescriptionStyleModel",
            "_view_count": null,
            "_view_module": "@jupyter-widgets/base",
            "_view_module_version": "1.2.0",
            "_view_name": "StyleView",
            "description_width": ""
          }
        },
        "f8f72fafac8849cfac16f7be2108987c": {
          "model_module": "@jupyter-widgets/controls",
          "model_name": "HBoxModel",
          "model_module_version": "1.5.0",
          "state": {
            "_dom_classes": [],
            "_model_module": "@jupyter-widgets/controls",
            "_model_module_version": "1.5.0",
            "_model_name": "HBoxModel",
            "_view_count": null,
            "_view_module": "@jupyter-widgets/controls",
            "_view_module_version": "1.5.0",
            "_view_name": "HBoxView",
            "box_style": "",
            "children": [
              "IPY_MODEL_3d111cce9e3647c89d0e1eb1c6d5278d",
              "IPY_MODEL_30aded21408e4a14b35578b7d0e81e8f",
              "IPY_MODEL_1fdb9678df694bcd8479264905a3bbe5"
            ],
            "layout": "IPY_MODEL_6aea1bfc3f294b1ca4a37611ea5e6bbe"
          }
        },
        "3d111cce9e3647c89d0e1eb1c6d5278d": {
          "model_module": "@jupyter-widgets/controls",
          "model_name": "HTMLModel",
          "model_module_version": "1.5.0",
          "state": {
            "_dom_classes": [],
            "_model_module": "@jupyter-widgets/controls",
            "_model_module_version": "1.5.0",
            "_model_name": "HTMLModel",
            "_view_count": null,
            "_view_module": "@jupyter-widgets/controls",
            "_view_module_version": "1.5.0",
            "_view_name": "HTMLView",
            "description": "",
            "description_tooltip": null,
            "layout": "IPY_MODEL_fbfec530d151421c8a2e54c9e28bd541",
            "placeholder": "​",
            "style": "IPY_MODEL_cbb9c3f99e054746b7c0f54cb99aee57",
            "value": "Extracting data files: 100%"
          }
        },
        "30aded21408e4a14b35578b7d0e81e8f": {
          "model_module": "@jupyter-widgets/controls",
          "model_name": "FloatProgressModel",
          "model_module_version": "1.5.0",
          "state": {
            "_dom_classes": [],
            "_model_module": "@jupyter-widgets/controls",
            "_model_module_version": "1.5.0",
            "_model_name": "FloatProgressModel",
            "_view_count": null,
            "_view_module": "@jupyter-widgets/controls",
            "_view_module_version": "1.5.0",
            "_view_name": "ProgressView",
            "bar_style": "success",
            "description": "",
            "description_tooltip": null,
            "layout": "IPY_MODEL_173c5f3a5bda49bc9cae97dbb80c2be5",
            "max": 1,
            "min": 0,
            "orientation": "horizontal",
            "style": "IPY_MODEL_242bdf5985a64373aa420197d77bf4c6",
            "value": 1
          }
        },
        "1fdb9678df694bcd8479264905a3bbe5": {
          "model_module": "@jupyter-widgets/controls",
          "model_name": "HTMLModel",
          "model_module_version": "1.5.0",
          "state": {
            "_dom_classes": [],
            "_model_module": "@jupyter-widgets/controls",
            "_model_module_version": "1.5.0",
            "_model_name": "HTMLModel",
            "_view_count": null,
            "_view_module": "@jupyter-widgets/controls",
            "_view_module_version": "1.5.0",
            "_view_name": "HTMLView",
            "description": "",
            "description_tooltip": null,
            "layout": "IPY_MODEL_a6a56318920443d599b0c9611bfe217c",
            "placeholder": "​",
            "style": "IPY_MODEL_39d1fac39c0945ef9651d62163bf6a02",
            "value": " 1/1 [00:00&lt;00:00, 38.67it/s]"
          }
        },
        "6aea1bfc3f294b1ca4a37611ea5e6bbe": {
          "model_module": "@jupyter-widgets/base",
          "model_name": "LayoutModel",
          "model_module_version": "1.2.0",
          "state": {
            "_model_module": "@jupyter-widgets/base",
            "_model_module_version": "1.2.0",
            "_model_name": "LayoutModel",
            "_view_count": null,
            "_view_module": "@jupyter-widgets/base",
            "_view_module_version": "1.2.0",
            "_view_name": "LayoutView",
            "align_content": null,
            "align_items": null,
            "align_self": null,
            "border": null,
            "bottom": null,
            "display": null,
            "flex": null,
            "flex_flow": null,
            "grid_area": null,
            "grid_auto_columns": null,
            "grid_auto_flow": null,
            "grid_auto_rows": null,
            "grid_column": null,
            "grid_gap": null,
            "grid_row": null,
            "grid_template_areas": null,
            "grid_template_columns": null,
            "grid_template_rows": null,
            "height": null,
            "justify_content": null,
            "justify_items": null,
            "left": null,
            "margin": null,
            "max_height": null,
            "max_width": null,
            "min_height": null,
            "min_width": null,
            "object_fit": null,
            "object_position": null,
            "order": null,
            "overflow": null,
            "overflow_x": null,
            "overflow_y": null,
            "padding": null,
            "right": null,
            "top": null,
            "visibility": null,
            "width": null
          }
        },
        "fbfec530d151421c8a2e54c9e28bd541": {
          "model_module": "@jupyter-widgets/base",
          "model_name": "LayoutModel",
          "model_module_version": "1.2.0",
          "state": {
            "_model_module": "@jupyter-widgets/base",
            "_model_module_version": "1.2.0",
            "_model_name": "LayoutModel",
            "_view_count": null,
            "_view_module": "@jupyter-widgets/base",
            "_view_module_version": "1.2.0",
            "_view_name": "LayoutView",
            "align_content": null,
            "align_items": null,
            "align_self": null,
            "border": null,
            "bottom": null,
            "display": null,
            "flex": null,
            "flex_flow": null,
            "grid_area": null,
            "grid_auto_columns": null,
            "grid_auto_flow": null,
            "grid_auto_rows": null,
            "grid_column": null,
            "grid_gap": null,
            "grid_row": null,
            "grid_template_areas": null,
            "grid_template_columns": null,
            "grid_template_rows": null,
            "height": null,
            "justify_content": null,
            "justify_items": null,
            "left": null,
            "margin": null,
            "max_height": null,
            "max_width": null,
            "min_height": null,
            "min_width": null,
            "object_fit": null,
            "object_position": null,
            "order": null,
            "overflow": null,
            "overflow_x": null,
            "overflow_y": null,
            "padding": null,
            "right": null,
            "top": null,
            "visibility": null,
            "width": null
          }
        },
        "cbb9c3f99e054746b7c0f54cb99aee57": {
          "model_module": "@jupyter-widgets/controls",
          "model_name": "DescriptionStyleModel",
          "model_module_version": "1.5.0",
          "state": {
            "_model_module": "@jupyter-widgets/controls",
            "_model_module_version": "1.5.0",
            "_model_name": "DescriptionStyleModel",
            "_view_count": null,
            "_view_module": "@jupyter-widgets/base",
            "_view_module_version": "1.2.0",
            "_view_name": "StyleView",
            "description_width": ""
          }
        },
        "173c5f3a5bda49bc9cae97dbb80c2be5": {
          "model_module": "@jupyter-widgets/base",
          "model_name": "LayoutModel",
          "model_module_version": "1.2.0",
          "state": {
            "_model_module": "@jupyter-widgets/base",
            "_model_module_version": "1.2.0",
            "_model_name": "LayoutModel",
            "_view_count": null,
            "_view_module": "@jupyter-widgets/base",
            "_view_module_version": "1.2.0",
            "_view_name": "LayoutView",
            "align_content": null,
            "align_items": null,
            "align_self": null,
            "border": null,
            "bottom": null,
            "display": null,
            "flex": null,
            "flex_flow": null,
            "grid_area": null,
            "grid_auto_columns": null,
            "grid_auto_flow": null,
            "grid_auto_rows": null,
            "grid_column": null,
            "grid_gap": null,
            "grid_row": null,
            "grid_template_areas": null,
            "grid_template_columns": null,
            "grid_template_rows": null,
            "height": null,
            "justify_content": null,
            "justify_items": null,
            "left": null,
            "margin": null,
            "max_height": null,
            "max_width": null,
            "min_height": null,
            "min_width": null,
            "object_fit": null,
            "object_position": null,
            "order": null,
            "overflow": null,
            "overflow_x": null,
            "overflow_y": null,
            "padding": null,
            "right": null,
            "top": null,
            "visibility": null,
            "width": null
          }
        },
        "242bdf5985a64373aa420197d77bf4c6": {
          "model_module": "@jupyter-widgets/controls",
          "model_name": "ProgressStyleModel",
          "model_module_version": "1.5.0",
          "state": {
            "_model_module": "@jupyter-widgets/controls",
            "_model_module_version": "1.5.0",
            "_model_name": "ProgressStyleModel",
            "_view_count": null,
            "_view_module": "@jupyter-widgets/base",
            "_view_module_version": "1.2.0",
            "_view_name": "StyleView",
            "bar_color": null,
            "description_width": ""
          }
        },
        "a6a56318920443d599b0c9611bfe217c": {
          "model_module": "@jupyter-widgets/base",
          "model_name": "LayoutModel",
          "model_module_version": "1.2.0",
          "state": {
            "_model_module": "@jupyter-widgets/base",
            "_model_module_version": "1.2.0",
            "_model_name": "LayoutModel",
            "_view_count": null,
            "_view_module": "@jupyter-widgets/base",
            "_view_module_version": "1.2.0",
            "_view_name": "LayoutView",
            "align_content": null,
            "align_items": null,
            "align_self": null,
            "border": null,
            "bottom": null,
            "display": null,
            "flex": null,
            "flex_flow": null,
            "grid_area": null,
            "grid_auto_columns": null,
            "grid_auto_flow": null,
            "grid_auto_rows": null,
            "grid_column": null,
            "grid_gap": null,
            "grid_row": null,
            "grid_template_areas": null,
            "grid_template_columns": null,
            "grid_template_rows": null,
            "height": null,
            "justify_content": null,
            "justify_items": null,
            "left": null,
            "margin": null,
            "max_height": null,
            "max_width": null,
            "min_height": null,
            "min_width": null,
            "object_fit": null,
            "object_position": null,
            "order": null,
            "overflow": null,
            "overflow_x": null,
            "overflow_y": null,
            "padding": null,
            "right": null,
            "top": null,
            "visibility": null,
            "width": null
          }
        },
        "39d1fac39c0945ef9651d62163bf6a02": {
          "model_module": "@jupyter-widgets/controls",
          "model_name": "DescriptionStyleModel",
          "model_module_version": "1.5.0",
          "state": {
            "_model_module": "@jupyter-widgets/controls",
            "_model_module_version": "1.5.0",
            "_model_name": "DescriptionStyleModel",
            "_view_count": null,
            "_view_module": "@jupyter-widgets/base",
            "_view_module_version": "1.2.0",
            "_view_name": "StyleView",
            "description_width": ""
          }
        },
        "36b392d6bb014441880f0758a0fa075c": {
          "model_module": "@jupyter-widgets/controls",
          "model_name": "HBoxModel",
          "model_module_version": "1.5.0",
          "state": {
            "_dom_classes": [],
            "_model_module": "@jupyter-widgets/controls",
            "_model_module_version": "1.5.0",
            "_model_name": "HBoxModel",
            "_view_count": null,
            "_view_module": "@jupyter-widgets/controls",
            "_view_module_version": "1.5.0",
            "_view_name": "HBoxView",
            "box_style": "",
            "children": [
              "IPY_MODEL_d61f133ab0c34cb18b911f8c20bea603",
              "IPY_MODEL_76cc11bb20e84b32952b8ae9b76758f0",
              "IPY_MODEL_e2b27040cdd44ab3affa5a3c7b17690b"
            ],
            "layout": "IPY_MODEL_c221bf10c45148c3a338f45d79b96e9e"
          }
        },
        "d61f133ab0c34cb18b911f8c20bea603": {
          "model_module": "@jupyter-widgets/controls",
          "model_name": "HTMLModel",
          "model_module_version": "1.5.0",
          "state": {
            "_dom_classes": [],
            "_model_module": "@jupyter-widgets/controls",
            "_model_module_version": "1.5.0",
            "_model_name": "HTMLModel",
            "_view_count": null,
            "_view_module": "@jupyter-widgets/controls",
            "_view_module_version": "1.5.0",
            "_view_name": "HTMLView",
            "description": "",
            "description_tooltip": null,
            "layout": "IPY_MODEL_fae3b5cfa156412995f0ce89bfb89023",
            "placeholder": "​",
            "style": "IPY_MODEL_e768d3400aba488a89717f48f86344ab",
            "value": "Generating train split: "
          }
        },
        "76cc11bb20e84b32952b8ae9b76758f0": {
          "model_module": "@jupyter-widgets/controls",
          "model_name": "FloatProgressModel",
          "model_module_version": "1.5.0",
          "state": {
            "_dom_classes": [],
            "_model_module": "@jupyter-widgets/controls",
            "_model_module_version": "1.5.0",
            "_model_name": "FloatProgressModel",
            "_view_count": null,
            "_view_module": "@jupyter-widgets/controls",
            "_view_module_version": "1.5.0",
            "_view_name": "ProgressView",
            "bar_style": "success",
            "description": "",
            "description_tooltip": null,
            "layout": "IPY_MODEL_5b4fbd4473c5437ca33f41ed4547bdb7",
            "max": 1,
            "min": 0,
            "orientation": "horizontal",
            "style": "IPY_MODEL_040e0765cdb248a48a675b7cc1cdd78e",
            "value": 1
          }
        },
        "e2b27040cdd44ab3affa5a3c7b17690b": {
          "model_module": "@jupyter-widgets/controls",
          "model_name": "HTMLModel",
          "model_module_version": "1.5.0",
          "state": {
            "_dom_classes": [],
            "_model_module": "@jupyter-widgets/controls",
            "_model_module_version": "1.5.0",
            "_model_name": "HTMLModel",
            "_view_count": null,
            "_view_module": "@jupyter-widgets/controls",
            "_view_module_version": "1.5.0",
            "_view_name": "HTMLView",
            "description": "",
            "description_tooltip": null,
            "layout": "IPY_MODEL_97a735beab10439780964edf784b3be3",
            "placeholder": "​",
            "style": "IPY_MODEL_989383e412a649b0a2f4a1f7543a98ff",
            "value": " 853/0 [00:00&lt;00:00, 5489.66 examples/s]"
          }
        },
        "c221bf10c45148c3a338f45d79b96e9e": {
          "model_module": "@jupyter-widgets/base",
          "model_name": "LayoutModel",
          "model_module_version": "1.2.0",
          "state": {
            "_model_module": "@jupyter-widgets/base",
            "_model_module_version": "1.2.0",
            "_model_name": "LayoutModel",
            "_view_count": null,
            "_view_module": "@jupyter-widgets/base",
            "_view_module_version": "1.2.0",
            "_view_name": "LayoutView",
            "align_content": null,
            "align_items": null,
            "align_self": null,
            "border": null,
            "bottom": null,
            "display": null,
            "flex": null,
            "flex_flow": null,
            "grid_area": null,
            "grid_auto_columns": null,
            "grid_auto_flow": null,
            "grid_auto_rows": null,
            "grid_column": null,
            "grid_gap": null,
            "grid_row": null,
            "grid_template_areas": null,
            "grid_template_columns": null,
            "grid_template_rows": null,
            "height": null,
            "justify_content": null,
            "justify_items": null,
            "left": null,
            "margin": null,
            "max_height": null,
            "max_width": null,
            "min_height": null,
            "min_width": null,
            "object_fit": null,
            "object_position": null,
            "order": null,
            "overflow": null,
            "overflow_x": null,
            "overflow_y": null,
            "padding": null,
            "right": null,
            "top": null,
            "visibility": null,
            "width": null
          }
        },
        "fae3b5cfa156412995f0ce89bfb89023": {
          "model_module": "@jupyter-widgets/base",
          "model_name": "LayoutModel",
          "model_module_version": "1.2.0",
          "state": {
            "_model_module": "@jupyter-widgets/base",
            "_model_module_version": "1.2.0",
            "_model_name": "LayoutModel",
            "_view_count": null,
            "_view_module": "@jupyter-widgets/base",
            "_view_module_version": "1.2.0",
            "_view_name": "LayoutView",
            "align_content": null,
            "align_items": null,
            "align_self": null,
            "border": null,
            "bottom": null,
            "display": null,
            "flex": null,
            "flex_flow": null,
            "grid_area": null,
            "grid_auto_columns": null,
            "grid_auto_flow": null,
            "grid_auto_rows": null,
            "grid_column": null,
            "grid_gap": null,
            "grid_row": null,
            "grid_template_areas": null,
            "grid_template_columns": null,
            "grid_template_rows": null,
            "height": null,
            "justify_content": null,
            "justify_items": null,
            "left": null,
            "margin": null,
            "max_height": null,
            "max_width": null,
            "min_height": null,
            "min_width": null,
            "object_fit": null,
            "object_position": null,
            "order": null,
            "overflow": null,
            "overflow_x": null,
            "overflow_y": null,
            "padding": null,
            "right": null,
            "top": null,
            "visibility": null,
            "width": null
          }
        },
        "e768d3400aba488a89717f48f86344ab": {
          "model_module": "@jupyter-widgets/controls",
          "model_name": "DescriptionStyleModel",
          "model_module_version": "1.5.0",
          "state": {
            "_model_module": "@jupyter-widgets/controls",
            "_model_module_version": "1.5.0",
            "_model_name": "DescriptionStyleModel",
            "_view_count": null,
            "_view_module": "@jupyter-widgets/base",
            "_view_module_version": "1.2.0",
            "_view_name": "StyleView",
            "description_width": ""
          }
        },
        "5b4fbd4473c5437ca33f41ed4547bdb7": {
          "model_module": "@jupyter-widgets/base",
          "model_name": "LayoutModel",
          "model_module_version": "1.2.0",
          "state": {
            "_model_module": "@jupyter-widgets/base",
            "_model_module_version": "1.2.0",
            "_model_name": "LayoutModel",
            "_view_count": null,
            "_view_module": "@jupyter-widgets/base",
            "_view_module_version": "1.2.0",
            "_view_name": "LayoutView",
            "align_content": null,
            "align_items": null,
            "align_self": null,
            "border": null,
            "bottom": null,
            "display": null,
            "flex": null,
            "flex_flow": null,
            "grid_area": null,
            "grid_auto_columns": null,
            "grid_auto_flow": null,
            "grid_auto_rows": null,
            "grid_column": null,
            "grid_gap": null,
            "grid_row": null,
            "grid_template_areas": null,
            "grid_template_columns": null,
            "grid_template_rows": null,
            "height": null,
            "justify_content": null,
            "justify_items": null,
            "left": null,
            "margin": null,
            "max_height": null,
            "max_width": null,
            "min_height": null,
            "min_width": null,
            "object_fit": null,
            "object_position": null,
            "order": null,
            "overflow": null,
            "overflow_x": null,
            "overflow_y": null,
            "padding": null,
            "right": null,
            "top": null,
            "visibility": null,
            "width": "20px"
          }
        },
        "040e0765cdb248a48a675b7cc1cdd78e": {
          "model_module": "@jupyter-widgets/controls",
          "model_name": "ProgressStyleModel",
          "model_module_version": "1.5.0",
          "state": {
            "_model_module": "@jupyter-widgets/controls",
            "_model_module_version": "1.5.0",
            "_model_name": "ProgressStyleModel",
            "_view_count": null,
            "_view_module": "@jupyter-widgets/base",
            "_view_module_version": "1.2.0",
            "_view_name": "StyleView",
            "bar_color": null,
            "description_width": ""
          }
        },
        "97a735beab10439780964edf784b3be3": {
          "model_module": "@jupyter-widgets/base",
          "model_name": "LayoutModel",
          "model_module_version": "1.2.0",
          "state": {
            "_model_module": "@jupyter-widgets/base",
            "_model_module_version": "1.2.0",
            "_model_name": "LayoutModel",
            "_view_count": null,
            "_view_module": "@jupyter-widgets/base",
            "_view_module_version": "1.2.0",
            "_view_name": "LayoutView",
            "align_content": null,
            "align_items": null,
            "align_self": null,
            "border": null,
            "bottom": null,
            "display": null,
            "flex": null,
            "flex_flow": null,
            "grid_area": null,
            "grid_auto_columns": null,
            "grid_auto_flow": null,
            "grid_auto_rows": null,
            "grid_column": null,
            "grid_gap": null,
            "grid_row": null,
            "grid_template_areas": null,
            "grid_template_columns": null,
            "grid_template_rows": null,
            "height": null,
            "justify_content": null,
            "justify_items": null,
            "left": null,
            "margin": null,
            "max_height": null,
            "max_width": null,
            "min_height": null,
            "min_width": null,
            "object_fit": null,
            "object_position": null,
            "order": null,
            "overflow": null,
            "overflow_x": null,
            "overflow_y": null,
            "padding": null,
            "right": null,
            "top": null,
            "visibility": null,
            "width": null
          }
        },
        "989383e412a649b0a2f4a1f7543a98ff": {
          "model_module": "@jupyter-widgets/controls",
          "model_name": "DescriptionStyleModel",
          "model_module_version": "1.5.0",
          "state": {
            "_model_module": "@jupyter-widgets/controls",
            "_model_module_version": "1.5.0",
            "_model_name": "DescriptionStyleModel",
            "_view_count": null,
            "_view_module": "@jupyter-widgets/base",
            "_view_module_version": "1.2.0",
            "_view_name": "StyleView",
            "description_width": ""
          }
        }
      }
    }
  },
  "cells": [
    {
      "cell_type": "markdown",
      "source": [
        "### Avoids scroll-in-the-scroll in the entire Notebook"
      ],
      "metadata": {
        "id": "nz0PKxg-_QKP"
      }
    },
    {
      "cell_type": "code",
      "source": [
        "from IPython.display import Javascript\n",
        "def resize_colab_cell():\n",
        "    display(Javascript('google.colab.output.setIframeHeight(0, true, {maxHeight: 5000})'))\n",
        "get_ipython().events.register('pre_run_cell', resize_colab_cell)"
      ],
      "metadata": {
        "id": "fPGCNEvP_RYV"
      },
      "execution_count": 1,
      "outputs": []
    },
    {
      "cell_type": "markdown",
      "source": [
        "# Preprocessing **`Job Description`**"
      ],
      "metadata": {
        "id": "3AfirBge_kO6"
      }
    },
    {
      "cell_type": "markdown",
      "source": [
        "### Importing dataset from Hugging Face"
      ],
      "metadata": {
        "id": "xIh8WZkW_ypS"
      }
    },
    {
      "cell_type": "code",
      "source": [
        "!pip install datasets"
      ],
      "metadata": {
        "colab": {
          "base_uri": "https://localhost:8080/",
          "height": 0
        },
        "id": "hOqw69kg_yAn",
        "outputId": "50415a3c-f3c2-43e8-8d2c-0f2d896cd3d9"
      },
      "execution_count": 2,
      "outputs": [
        {
          "output_type": "display_data",
          "data": {
            "text/plain": [
              "<IPython.core.display.Javascript object>"
            ],
            "application/javascript": [
              "google.colab.output.setIframeHeight(0, true, {maxHeight: 5000})"
            ]
          },
          "metadata": {}
        },
        {
          "output_type": "stream",
          "name": "stdout",
          "text": [
            "Collecting datasets\n",
            "  Downloading datasets-2.14.5-py3-none-any.whl (519 kB)\n",
            "\u001b[2K     \u001b[90m━━━━━━━━━━━━━━━━━━━━━━━━━━━━━━━━━━━━━━━\u001b[0m \u001b[32m519.6/519.6 kB\u001b[0m \u001b[31m6.5 MB/s\u001b[0m eta \u001b[36m0:00:00\u001b[0m\n",
            "\u001b[?25hRequirement already satisfied: numpy>=1.17 in /usr/local/lib/python3.10/dist-packages (from datasets) (1.23.5)\n",
            "Requirement already satisfied: pyarrow>=8.0.0 in /usr/local/lib/python3.10/dist-packages (from datasets) (9.0.0)\n",
            "Collecting dill<0.3.8,>=0.3.0 (from datasets)\n",
            "  Downloading dill-0.3.7-py3-none-any.whl (115 kB)\n",
            "\u001b[2K     \u001b[90m━━━━━━━━━━━━━━━━━━━━━━━━━━━━━━━━━━━━━━━\u001b[0m \u001b[32m115.3/115.3 kB\u001b[0m \u001b[31m7.6 MB/s\u001b[0m eta \u001b[36m0:00:00\u001b[0m\n",
            "\u001b[?25hRequirement already satisfied: pandas in /usr/local/lib/python3.10/dist-packages (from datasets) (1.5.3)\n",
            "Requirement already satisfied: requests>=2.19.0 in /usr/local/lib/python3.10/dist-packages (from datasets) (2.31.0)\n",
            "Requirement already satisfied: tqdm>=4.62.1 in /usr/local/lib/python3.10/dist-packages (from datasets) (4.66.1)\n",
            "Collecting xxhash (from datasets)\n",
            "  Downloading xxhash-3.3.0-cp310-cp310-manylinux_2_17_x86_64.manylinux2014_x86_64.whl (194 kB)\n",
            "\u001b[2K     \u001b[90m━━━━━━━━━━━━━━━━━━━━━━━━━━━━━━━━━━━━━━━\u001b[0m \u001b[32m194.1/194.1 kB\u001b[0m \u001b[31m9.7 MB/s\u001b[0m eta \u001b[36m0:00:00\u001b[0m\n",
            "\u001b[?25hCollecting multiprocess (from datasets)\n",
            "  Downloading multiprocess-0.70.15-py310-none-any.whl (134 kB)\n",
            "\u001b[2K     \u001b[90m━━━━━━━━━━━━━━━━━━━━━━━━━━━━━━━━━━━━━━\u001b[0m \u001b[32m134.8/134.8 kB\u001b[0m \u001b[31m13.1 MB/s\u001b[0m eta \u001b[36m0:00:00\u001b[0m\n",
            "\u001b[?25hRequirement already satisfied: fsspec[http]<2023.9.0,>=2023.1.0 in /usr/local/lib/python3.10/dist-packages (from datasets) (2023.6.0)\n",
            "Requirement already satisfied: aiohttp in /usr/local/lib/python3.10/dist-packages (from datasets) (3.8.5)\n",
            "Collecting huggingface-hub<1.0.0,>=0.14.0 (from datasets)\n",
            "  Downloading huggingface_hub-0.17.1-py3-none-any.whl (294 kB)\n",
            "\u001b[2K     \u001b[90m━━━━━━━━━━━━━━━━━━━━━━━━━━━━━━━━━━━━━━\u001b[0m \u001b[32m294.8/294.8 kB\u001b[0m \u001b[31m11.6 MB/s\u001b[0m eta \u001b[36m0:00:00\u001b[0m\n",
            "\u001b[?25hRequirement already satisfied: packaging in /usr/local/lib/python3.10/dist-packages (from datasets) (23.1)\n",
            "Requirement already satisfied: pyyaml>=5.1 in /usr/local/lib/python3.10/dist-packages (from datasets) (6.0.1)\n",
            "Requirement already satisfied: attrs>=17.3.0 in /usr/local/lib/python3.10/dist-packages (from aiohttp->datasets) (23.1.0)\n",
            "Requirement already satisfied: charset-normalizer<4.0,>=2.0 in /usr/local/lib/python3.10/dist-packages (from aiohttp->datasets) (3.2.0)\n",
            "Requirement already satisfied: multidict<7.0,>=4.5 in /usr/local/lib/python3.10/dist-packages (from aiohttp->datasets) (6.0.4)\n",
            "Requirement already satisfied: async-timeout<5.0,>=4.0.0a3 in /usr/local/lib/python3.10/dist-packages (from aiohttp->datasets) (4.0.3)\n",
            "Requirement already satisfied: yarl<2.0,>=1.0 in /usr/local/lib/python3.10/dist-packages (from aiohttp->datasets) (1.9.2)\n",
            "Requirement already satisfied: frozenlist>=1.1.1 in /usr/local/lib/python3.10/dist-packages (from aiohttp->datasets) (1.4.0)\n",
            "Requirement already satisfied: aiosignal>=1.1.2 in /usr/local/lib/python3.10/dist-packages (from aiohttp->datasets) (1.3.1)\n",
            "Requirement already satisfied: filelock in /usr/local/lib/python3.10/dist-packages (from huggingface-hub<1.0.0,>=0.14.0->datasets) (3.12.2)\n",
            "Requirement already satisfied: typing-extensions>=3.7.4.3 in /usr/local/lib/python3.10/dist-packages (from huggingface-hub<1.0.0,>=0.14.0->datasets) (4.5.0)\n",
            "Requirement already satisfied: idna<4,>=2.5 in /usr/local/lib/python3.10/dist-packages (from requests>=2.19.0->datasets) (3.4)\n",
            "Requirement already satisfied: urllib3<3,>=1.21.1 in /usr/local/lib/python3.10/dist-packages (from requests>=2.19.0->datasets) (2.0.4)\n",
            "Requirement already satisfied: certifi>=2017.4.17 in /usr/local/lib/python3.10/dist-packages (from requests>=2.19.0->datasets) (2023.7.22)\n",
            "Requirement already satisfied: python-dateutil>=2.8.1 in /usr/local/lib/python3.10/dist-packages (from pandas->datasets) (2.8.2)\n",
            "Requirement already satisfied: pytz>=2020.1 in /usr/local/lib/python3.10/dist-packages (from pandas->datasets) (2023.3.post1)\n",
            "Requirement already satisfied: six>=1.5 in /usr/local/lib/python3.10/dist-packages (from python-dateutil>=2.8.1->pandas->datasets) (1.16.0)\n",
            "Installing collected packages: xxhash, dill, multiprocess, huggingface-hub, datasets\n",
            "Successfully installed datasets-2.14.5 dill-0.3.7 huggingface-hub-0.17.1 multiprocess-0.70.15 xxhash-3.3.0\n"
          ]
        }
      ]
    },
    {
      "cell_type": "code",
      "source": [
        "from datasets import load_dataset\n",
        "\n",
        "dataset = load_dataset(\"jacob-hugging-face/job-descriptions\")\n",
        "print(dataset)"
      ],
      "metadata": {
        "colab": {
          "base_uri": "https://localhost:8080/",
          "height": 0,
          "referenced_widgets": [
            "247c4ad91f294ce7a6740b7a97cd2351",
            "b530bfc3f2244a9981590271d2bb7856",
            "e5c1a2a178694b7d8eb446c9df2e1d51",
            "cab830d8873d4424afca075444a513be",
            "f7461c89c67a47a68824db80e219d0c2",
            "9c055d51ea894e6d98275252ecad39d8",
            "c595d297408840ccb471073724a907ac",
            "b5b5121f25e44daab8c87695b7318a14",
            "7c3f01325ad6437f85020b4364967c1b",
            "5e53f1daf68242deaa1f59ed7164e4a5",
            "9ae1df19995c45d0876a3a5f6950874c",
            "b2495376881e4679944723d0c6446611",
            "3f2c0e6055f1427ab3721e8ca7e32843",
            "36d05186b8d549058019c03fe59181b4",
            "a4036e38ea5f4701a00f63ee893fa4ea",
            "e0b7afcfc7bb4d529c5deae52df9e251",
            "8d132edf822041d0af29c876da1cbcc8",
            "d5e4e99e507148ab9a46777df5d79c71",
            "d0a324db4b394410a88c82298d79310d",
            "78d3f4111fcd43dca66ab6a715ab771d",
            "0b2ab800244f4fa19762ecfa94260913",
            "10497221e37b40ccae909ca72b6d86ff",
            "010d8242ba824a38a256a060352ba7cf",
            "f48bc4380117403397698ca8d7b3ae74",
            "c67302c10e2948338604945473d6113b",
            "98703b4fcb2a48e1a1db45334d46d17a",
            "e0b6e0ba837d4ccbb9994c2e2997057b",
            "87d8cba54ca7478e8d58f52b30c7f5a5",
            "c61898c8af2d4017b87e7b6c3f158c30",
            "f5d39b084cf14b2fb4caf30c5fed40bf",
            "d8120479f9c34604b5ef41485dc448af",
            "db1fb0511788408a96d0fa7a6ea22475",
            "9debaebfb1f8430dbc23a3dc72b68a39",
            "f8f72fafac8849cfac16f7be2108987c",
            "3d111cce9e3647c89d0e1eb1c6d5278d",
            "30aded21408e4a14b35578b7d0e81e8f",
            "1fdb9678df694bcd8479264905a3bbe5",
            "6aea1bfc3f294b1ca4a37611ea5e6bbe",
            "fbfec530d151421c8a2e54c9e28bd541",
            "cbb9c3f99e054746b7c0f54cb99aee57",
            "173c5f3a5bda49bc9cae97dbb80c2be5",
            "242bdf5985a64373aa420197d77bf4c6",
            "a6a56318920443d599b0c9611bfe217c",
            "39d1fac39c0945ef9651d62163bf6a02",
            "36b392d6bb014441880f0758a0fa075c",
            "d61f133ab0c34cb18b911f8c20bea603",
            "76cc11bb20e84b32952b8ae9b76758f0",
            "e2b27040cdd44ab3affa5a3c7b17690b",
            "c221bf10c45148c3a338f45d79b96e9e",
            "fae3b5cfa156412995f0ce89bfb89023",
            "e768d3400aba488a89717f48f86344ab",
            "5b4fbd4473c5437ca33f41ed4547bdb7",
            "040e0765cdb248a48a675b7cc1cdd78e",
            "97a735beab10439780964edf784b3be3",
            "989383e412a649b0a2f4a1f7543a98ff"
          ]
        },
        "id": "MvbRkJCX_ih6",
        "outputId": "62166d38-a935-4cbd-c61d-760a8badd04f"
      },
      "execution_count": 3,
      "outputs": [
        {
          "output_type": "display_data",
          "data": {
            "text/plain": [
              "<IPython.core.display.Javascript object>"
            ],
            "application/javascript": [
              "google.colab.output.setIframeHeight(0, true, {maxHeight: 5000})"
            ]
          },
          "metadata": {}
        },
        {
          "output_type": "display_data",
          "data": {
            "text/plain": [
              "Downloading readme:   0%|          | 0.00/24.0 [00:00<?, ?B/s]"
            ],
            "application/vnd.jupyter.widget-view+json": {
              "version_major": 2,
              "version_minor": 0,
              "model_id": "247c4ad91f294ce7a6740b7a97cd2351"
            }
          },
          "metadata": {}
        },
        {
          "output_type": "display_data",
          "data": {
            "text/plain": [
              "Downloading data files:   0%|          | 0/1 [00:00<?, ?it/s]"
            ],
            "application/vnd.jupyter.widget-view+json": {
              "version_major": 2,
              "version_minor": 0,
              "model_id": "b2495376881e4679944723d0c6446611"
            }
          },
          "metadata": {}
        },
        {
          "output_type": "display_data",
          "data": {
            "text/plain": [
              "Downloading data:   0%|          | 0.00/3.77M [00:00<?, ?B/s]"
            ],
            "application/vnd.jupyter.widget-view+json": {
              "version_major": 2,
              "version_minor": 0,
              "model_id": "010d8242ba824a38a256a060352ba7cf"
            }
          },
          "metadata": {}
        },
        {
          "output_type": "display_data",
          "data": {
            "text/plain": [
              "Extracting data files:   0%|          | 0/1 [00:00<?, ?it/s]"
            ],
            "application/vnd.jupyter.widget-view+json": {
              "version_major": 2,
              "version_minor": 0,
              "model_id": "f8f72fafac8849cfac16f7be2108987c"
            }
          },
          "metadata": {}
        },
        {
          "output_type": "display_data",
          "data": {
            "text/plain": [
              "Generating train split: 0 examples [00:00, ? examples/s]"
            ],
            "application/vnd.jupyter.widget-view+json": {
              "version_major": 2,
              "version_minor": 0,
              "model_id": "36b392d6bb014441880f0758a0fa075c"
            }
          },
          "metadata": {}
        },
        {
          "output_type": "stream",
          "name": "stdout",
          "text": [
            "DatasetDict({\n",
            "    train: Dataset({\n",
            "        features: ['company_name', 'job_description', 'position_title', 'description_length', 'model_response'],\n",
            "        num_rows: 853\n",
            "    })\n",
            "})\n"
          ]
        }
      ]
    },
    {
      "cell_type": "markdown",
      "source": [
        "### Extracting *`Company Name`*"
      ],
      "metadata": {
        "id": "EytN2c50ABoh"
      }
    },
    {
      "cell_type": "code",
      "source": [
        "def JD_extract_company(job_num):\n",
        "    return dataset[\"train\"][job_num][\"company_name\"]"
      ],
      "metadata": {
        "colab": {
          "base_uri": "https://localhost:8080/",
          "height": 0
        },
        "id": "J8vfQ7GW_9Ix",
        "outputId": "35b41aa6-3e28-4061-831e-272fc18477a4"
      },
      "execution_count": 4,
      "outputs": [
        {
          "output_type": "display_data",
          "data": {
            "text/plain": [
              "<IPython.core.display.Javascript object>"
            ],
            "application/javascript": [
              "google.colab.output.setIframeHeight(0, true, {maxHeight: 5000})"
            ]
          },
          "metadata": {}
        }
      ]
    },
    {
      "cell_type": "markdown",
      "source": [
        "### Extracting *`Position`*"
      ],
      "metadata": {
        "id": "bsorW8h6AKt6"
      }
    },
    {
      "cell_type": "code",
      "source": [
        "def JD_extract_position(job_num) :\n",
        "    return dataset[\"train\"][job_num][\"position_title\"]"
      ],
      "metadata": {
        "id": "3Z6Qp7-rAJkz",
        "colab": {
          "base_uri": "https://localhost:8080/",
          "height": 0
        },
        "outputId": "71304c1e-7a48-48ed-a008-924b4a3ae6de"
      },
      "execution_count": 5,
      "outputs": [
        {
          "output_type": "display_data",
          "data": {
            "text/plain": [
              "<IPython.core.display.Javascript object>"
            ],
            "application/javascript": [
              "google.colab.output.setIframeHeight(0, true, {maxHeight: 5000})"
            ]
          },
          "metadata": {}
        }
      ]
    },
    {
      "cell_type": "markdown",
      "source": [
        "### Extracting *`Required Skills`*"
      ],
      "metadata": {
        "id": "9sQlnMaDAtS2"
      }
    },
    {
      "cell_type": "code",
      "source": [
        "def JD_extract_required_skills(job_num):\n",
        "    model_response = eval(dataset[\"train\"][job_num][\"model_response\"])\n",
        "    return model_response[\"Required Skills\"] if \"Required Skills\" in model_response else \"N/A\""
      ],
      "metadata": {
        "colab": {
          "base_uri": "https://localhost:8080/",
          "height": 0
        },
        "id": "4eR9ndszAsYO",
        "outputId": "7b85f82d-d8ea-4d61-d469-1ec823b33571"
      },
      "execution_count": 6,
      "outputs": [
        {
          "output_type": "display_data",
          "data": {
            "text/plain": [
              "<IPython.core.display.Javascript object>"
            ],
            "application/javascript": [
              "google.colab.output.setIframeHeight(0, true, {maxHeight: 5000})"
            ]
          },
          "metadata": {}
        }
      ]
    },
    {
      "cell_type": "markdown",
      "source": [
        "### Extracting *`Educational Requirements`*"
      ],
      "metadata": {
        "id": "iyWS3D9xA5hx"
      }
    },
    {
      "cell_type": "code",
      "source": [
        "def JD_extract_educational_requirements(job_num):\n",
        "    model_response = eval(dataset[\"train\"][job_num][\"model_response\"])\n",
        "    return model_response[\"Educational Requirements\"] if \"Educational Requirements\" in model_response else \"N/A\""
      ],
      "metadata": {
        "colab": {
          "base_uri": "https://localhost:8080/",
          "height": 0
        },
        "id": "qWs-5h4hA1Fi",
        "outputId": "ce0a0a4c-95c3-4d52-ce5c-d8d8d4c430ed"
      },
      "execution_count": 7,
      "outputs": [
        {
          "output_type": "display_data",
          "data": {
            "text/plain": [
              "<IPython.core.display.Javascript object>"
            ],
            "application/javascript": [
              "google.colab.output.setIframeHeight(0, true, {maxHeight: 5000})"
            ]
          },
          "metadata": {}
        }
      ]
    },
    {
      "cell_type": "markdown",
      "source": [
        "# Preprocessing **`Resume Data`**"
      ],
      "metadata": {
        "id": "Z6y22DoGBDak"
      }
    },
    {
      "cell_type": "markdown",
      "source": [
        "### Extracting text from resume PDF"
      ],
      "metadata": {
        "id": "Yf01psYjBRKN"
      }
    },
    {
      "cell_type": "code",
      "source": [
        "!pip install PyPDF2"
      ],
      "metadata": {
        "colab": {
          "base_uri": "https://localhost:8080/",
          "height": 0
        },
        "id": "-dO92QdCA9nH",
        "outputId": "3306dcaa-d78a-4197-e9f0-ded3a87f3f7c"
      },
      "execution_count": 8,
      "outputs": [
        {
          "output_type": "display_data",
          "data": {
            "text/plain": [
              "<IPython.core.display.Javascript object>"
            ],
            "application/javascript": [
              "google.colab.output.setIframeHeight(0, true, {maxHeight: 5000})"
            ]
          },
          "metadata": {}
        },
        {
          "output_type": "stream",
          "name": "stdout",
          "text": [
            "Collecting PyPDF2\n",
            "  Downloading pypdf2-3.0.1-py3-none-any.whl (232 kB)\n",
            "\u001b[2K     \u001b[90m━━━━━━━━━━━━━━━━━━━━━━━━━━━━━━━━━━━━━━━\u001b[0m \u001b[32m232.6/232.6 kB\u001b[0m \u001b[31m3.2 MB/s\u001b[0m eta \u001b[36m0:00:00\u001b[0m\n",
            "\u001b[?25hInstalling collected packages: PyPDF2\n",
            "Successfully installed PyPDF2-3.0.1\n"
          ]
        }
      ]
    },
    {
      "cell_type": "code",
      "source": [
        "import PyPDF2\n",
        "\n",
        "\n",
        "def extract_resume_text(filePath):\n",
        "    reader = PyPDF2.PdfReader(open(filePath, \"rb\"))\n",
        "\n",
        "    text = \"\"\n",
        "    for i in range(len(reader.pages)): text += reader.pages[i].extract_text()\n",
        "    return text"
      ],
      "metadata": {
        "colab": {
          "base_uri": "https://localhost:8080/",
          "height": 0
        },
        "id": "VAx3BLfaBbqS",
        "outputId": "9f191a80-aa3c-4a41-9d1f-40c5b9827475"
      },
      "execution_count": 9,
      "outputs": [
        {
          "output_type": "display_data",
          "data": {
            "text/plain": [
              "<IPython.core.display.Javascript object>"
            ],
            "application/javascript": [
              "google.colab.output.setIframeHeight(0, true, {maxHeight: 5000})"
            ]
          },
          "metadata": {}
        }
      ]
    },
    {
      "cell_type": "markdown",
      "source": [
        "### Extracting *`Category (Job Role)`*"
      ],
      "metadata": {
        "id": "7RsiZfcDBeVb"
      }
    },
    {
      "cell_type": "code",
      "source": [
        "def extract_category(text):\n",
        "     return text.strip().split(\"\\n\")[0].strip() if text.strip() else None"
      ],
      "metadata": {
        "colab": {
          "base_uri": "https://localhost:8080/",
          "height": 0
        },
        "id": "eQEeDsOZBduP",
        "outputId": "b6046f82-b851-45fa-fde7-d3e7dae9977c"
      },
      "execution_count": 10,
      "outputs": [
        {
          "output_type": "display_data",
          "data": {
            "text/plain": [
              "<IPython.core.display.Javascript object>"
            ],
            "application/javascript": [
              "google.colab.output.setIframeHeight(0, true, {maxHeight: 5000})"
            ]
          },
          "metadata": {}
        }
      ]
    },
    {
      "cell_type": "markdown",
      "source": [
        "### Extracting *`Education`*"
      ],
      "metadata": {
        "id": "ZaIfutVGBott"
      }
    },
    {
      "cell_type": "code",
      "source": [
        "import re\n",
        "\n",
        "\n",
        "def extract_education(text):\n",
        "    education_keywords = ['Bsc', 'B. Pharmacy', 'B Pharmacy', 'Msc', 'M. Pharmacy', 'Ph.D', 'Bachelor', 'Master']\n",
        "    education = []\n",
        "\n",
        "    for word in education_keywords:\n",
        "        pattern = r\"(?i)\\b{}\\b\".format(re.escape(word))\n",
        "        match = re.search(pattern, text)\n",
        "        if match: education.append(match.group())\n",
        "\n",
        "    return education"
      ],
      "metadata": {
        "colab": {
          "base_uri": "https://localhost:8080/",
          "height": 0
        },
        "id": "GgBDnXC0BoQT",
        "outputId": "0dc1232d-ba33-486c-9b69-c5b06bb02561"
      },
      "execution_count": 11,
      "outputs": [
        {
          "output_type": "display_data",
          "data": {
            "text/plain": [
              "<IPython.core.display.Javascript object>"
            ],
            "application/javascript": [
              "google.colab.output.setIframeHeight(0, true, {maxHeight: 5000})"
            ]
          },
          "metadata": {}
        }
      ]
    },
    {
      "cell_type": "markdown",
      "source": [
        "### Extracting *`Skills`*"
      ],
      "metadata": {
        "id": "x9IxvrD-B4Xw"
      }
    },
    {
      "cell_type": "code",
      "source": [
        "!pip install spacy\n",
        "!python -m spacy info\n",
        "!python -m pip freeze | grep spacy\n",
        "!python -m spacy download en_core_web_sm"
      ],
      "metadata": {
        "colab": {
          "base_uri": "https://localhost:8080/",
          "height": 1495
        },
        "id": "WbcGMZuGBnbF",
        "outputId": "bb090338-64b6-49c1-f652-0dd09cfb4c0d"
      },
      "execution_count": 12,
      "outputs": [
        {
          "output_type": "display_data",
          "data": {
            "text/plain": [
              "<IPython.core.display.Javascript object>"
            ],
            "application/javascript": [
              "google.colab.output.setIframeHeight(0, true, {maxHeight: 5000})"
            ]
          },
          "metadata": {}
        },
        {
          "output_type": "stream",
          "name": "stdout",
          "text": [
            "Requirement already satisfied: spacy in /usr/local/lib/python3.10/dist-packages (3.6.1)\n",
            "Requirement already satisfied: spacy-legacy<3.1.0,>=3.0.11 in /usr/local/lib/python3.10/dist-packages (from spacy) (3.0.12)\n",
            "Requirement already satisfied: spacy-loggers<2.0.0,>=1.0.0 in /usr/local/lib/python3.10/dist-packages (from spacy) (1.0.4)\n",
            "Requirement already satisfied: murmurhash<1.1.0,>=0.28.0 in /usr/local/lib/python3.10/dist-packages (from spacy) (1.0.9)\n",
            "Requirement already satisfied: cymem<2.1.0,>=2.0.2 in /usr/local/lib/python3.10/dist-packages (from spacy) (2.0.7)\n",
            "Requirement already satisfied: preshed<3.1.0,>=3.0.2 in /usr/local/lib/python3.10/dist-packages (from spacy) (3.0.8)\n",
            "Requirement already satisfied: thinc<8.2.0,>=8.1.8 in /usr/local/lib/python3.10/dist-packages (from spacy) (8.1.12)\n",
            "Requirement already satisfied: wasabi<1.2.0,>=0.9.1 in /usr/local/lib/python3.10/dist-packages (from spacy) (1.1.2)\n",
            "Requirement already satisfied: srsly<3.0.0,>=2.4.3 in /usr/local/lib/python3.10/dist-packages (from spacy) (2.4.7)\n",
            "Requirement already satisfied: catalogue<2.1.0,>=2.0.6 in /usr/local/lib/python3.10/dist-packages (from spacy) (2.0.9)\n",
            "Requirement already satisfied: typer<0.10.0,>=0.3.0 in /usr/local/lib/python3.10/dist-packages (from spacy) (0.9.0)\n",
            "Requirement already satisfied: pathy>=0.10.0 in /usr/local/lib/python3.10/dist-packages (from spacy) (0.10.2)\n",
            "Requirement already satisfied: smart-open<7.0.0,>=5.2.1 in /usr/local/lib/python3.10/dist-packages (from spacy) (6.4.0)\n",
            "Requirement already satisfied: tqdm<5.0.0,>=4.38.0 in /usr/local/lib/python3.10/dist-packages (from spacy) (4.66.1)\n",
            "Requirement already satisfied: numpy>=1.15.0 in /usr/local/lib/python3.10/dist-packages (from spacy) (1.23.5)\n",
            "Requirement already satisfied: requests<3.0.0,>=2.13.0 in /usr/local/lib/python3.10/dist-packages (from spacy) (2.31.0)\n",
            "Requirement already satisfied: pydantic!=1.8,!=1.8.1,<3.0.0,>=1.7.4 in /usr/local/lib/python3.10/dist-packages (from spacy) (1.10.12)\n",
            "Requirement already satisfied: jinja2 in /usr/local/lib/python3.10/dist-packages (from spacy) (3.1.2)\n",
            "Requirement already satisfied: setuptools in /usr/local/lib/python3.10/dist-packages (from spacy) (67.7.2)\n",
            "Requirement already satisfied: packaging>=20.0 in /usr/local/lib/python3.10/dist-packages (from spacy) (23.1)\n",
            "Requirement already satisfied: langcodes<4.0.0,>=3.2.0 in /usr/local/lib/python3.10/dist-packages (from spacy) (3.3.0)\n",
            "Requirement already satisfied: typing-extensions>=4.2.0 in /usr/local/lib/python3.10/dist-packages (from pydantic!=1.8,!=1.8.1,<3.0.0,>=1.7.4->spacy) (4.5.0)\n",
            "Requirement already satisfied: charset-normalizer<4,>=2 in /usr/local/lib/python3.10/dist-packages (from requests<3.0.0,>=2.13.0->spacy) (3.2.0)\n",
            "Requirement already satisfied: idna<4,>=2.5 in /usr/local/lib/python3.10/dist-packages (from requests<3.0.0,>=2.13.0->spacy) (3.4)\n",
            "Requirement already satisfied: urllib3<3,>=1.21.1 in /usr/local/lib/python3.10/dist-packages (from requests<3.0.0,>=2.13.0->spacy) (2.0.4)\n",
            "Requirement already satisfied: certifi>=2017.4.17 in /usr/local/lib/python3.10/dist-packages (from requests<3.0.0,>=2.13.0->spacy) (2023.7.22)\n",
            "Requirement already satisfied: blis<0.8.0,>=0.7.8 in /usr/local/lib/python3.10/dist-packages (from thinc<8.2.0,>=8.1.8->spacy) (0.7.10)\n",
            "Requirement already satisfied: confection<1.0.0,>=0.0.1 in /usr/local/lib/python3.10/dist-packages (from thinc<8.2.0,>=8.1.8->spacy) (0.1.2)\n",
            "Requirement already satisfied: click<9.0.0,>=7.1.1 in /usr/local/lib/python3.10/dist-packages (from typer<0.10.0,>=0.3.0->spacy) (8.1.7)\n",
            "Requirement already satisfied: MarkupSafe>=2.0 in /usr/local/lib/python3.10/dist-packages (from jinja2->spacy) (2.1.3)\n",
            "2023-09-16 08:28:45.544821: I tensorflow/core/platform/cpu_feature_guard.cc:182] This TensorFlow binary is optimized to use available CPU instructions in performance-critical operations.\n",
            "To enable the following instructions: AVX2 FMA, in other operations, rebuild TensorFlow with the appropriate compiler flags.\n",
            "2023-09-16 08:28:46.703444: W tensorflow/compiler/tf2tensorrt/utils/py_utils.cc:38] TF-TRT Warning: Could not find TensorRT\n",
            "\u001b[1m\n",
            "============================== Info about spaCy ==============================\u001b[0m\n",
            "\n",
            "spaCy version    3.6.1                         \n",
            "Location         /usr/local/lib/python3.10/dist-packages/spacy\n",
            "Platform         Linux-5.15.109+-x86_64-with-glibc2.35\n",
            "Python version   3.10.12                       \n",
            "Pipelines        en_core_web_sm (3.6.0)        \n",
            "\n",
            "en-core-web-sm @ https://github.com/explosion/spacy-models/releases/download/en_core_web_sm-3.6.0/en_core_web_sm-3.6.0-py3-none-any.whl#sha256=83276fc78a70045627144786b52e1f2728ad5e29e5e43916ec37ea9c26a11212\n",
            "spacy==3.6.1\n",
            "spacy-legacy==3.0.12\n",
            "spacy-loggers==1.0.4\n",
            "2023-09-16 08:28:56.444650: I tensorflow/core/platform/cpu_feature_guard.cc:182] This TensorFlow binary is optimized to use available CPU instructions in performance-critical operations.\n",
            "To enable the following instructions: AVX2 FMA, in other operations, rebuild TensorFlow with the appropriate compiler flags.\n",
            "2023-09-16 08:28:57.596849: W tensorflow/compiler/tf2tensorrt/utils/py_utils.cc:38] TF-TRT Warning: Could not find TensorRT\n",
            "Collecting en-core-web-sm==3.6.0\n",
            "  Downloading https://github.com/explosion/spacy-models/releases/download/en_core_web_sm-3.6.0/en_core_web_sm-3.6.0-py3-none-any.whl (12.8 MB)\n",
            "\u001b[2K     \u001b[90m━━━━━━━━━━━━━━━━━━━━━━━━━━━━━━━━━━━━━━━━\u001b[0m \u001b[32m12.8/12.8 MB\u001b[0m \u001b[31m28.2 MB/s\u001b[0m eta \u001b[36m0:00:00\u001b[0m\n",
            "\u001b[?25hRequirement already satisfied: spacy<3.7.0,>=3.6.0 in /usr/local/lib/python3.10/dist-packages (from en-core-web-sm==3.6.0) (3.6.1)\n",
            "Requirement already satisfied: spacy-legacy<3.1.0,>=3.0.11 in /usr/local/lib/python3.10/dist-packages (from spacy<3.7.0,>=3.6.0->en-core-web-sm==3.6.0) (3.0.12)\n",
            "Requirement already satisfied: spacy-loggers<2.0.0,>=1.0.0 in /usr/local/lib/python3.10/dist-packages (from spacy<3.7.0,>=3.6.0->en-core-web-sm==3.6.0) (1.0.4)\n",
            "Requirement already satisfied: murmurhash<1.1.0,>=0.28.0 in /usr/local/lib/python3.10/dist-packages (from spacy<3.7.0,>=3.6.0->en-core-web-sm==3.6.0) (1.0.9)\n",
            "Requirement already satisfied: cymem<2.1.0,>=2.0.2 in /usr/local/lib/python3.10/dist-packages (from spacy<3.7.0,>=3.6.0->en-core-web-sm==3.6.0) (2.0.7)\n",
            "Requirement already satisfied: preshed<3.1.0,>=3.0.2 in /usr/local/lib/python3.10/dist-packages (from spacy<3.7.0,>=3.6.0->en-core-web-sm==3.6.0) (3.0.8)\n",
            "Requirement already satisfied: thinc<8.2.0,>=8.1.8 in /usr/local/lib/python3.10/dist-packages (from spacy<3.7.0,>=3.6.0->en-core-web-sm==3.6.0) (8.1.12)\n",
            "Requirement already satisfied: wasabi<1.2.0,>=0.9.1 in /usr/local/lib/python3.10/dist-packages (from spacy<3.7.0,>=3.6.0->en-core-web-sm==3.6.0) (1.1.2)\n",
            "Requirement already satisfied: srsly<3.0.0,>=2.4.3 in /usr/local/lib/python3.10/dist-packages (from spacy<3.7.0,>=3.6.0->en-core-web-sm==3.6.0) (2.4.7)\n",
            "Requirement already satisfied: catalogue<2.1.0,>=2.0.6 in /usr/local/lib/python3.10/dist-packages (from spacy<3.7.0,>=3.6.0->en-core-web-sm==3.6.0) (2.0.9)\n",
            "Requirement already satisfied: typer<0.10.0,>=0.3.0 in /usr/local/lib/python3.10/dist-packages (from spacy<3.7.0,>=3.6.0->en-core-web-sm==3.6.0) (0.9.0)\n",
            "Requirement already satisfied: pathy>=0.10.0 in /usr/local/lib/python3.10/dist-packages (from spacy<3.7.0,>=3.6.0->en-core-web-sm==3.6.0) (0.10.2)\n",
            "Requirement already satisfied: smart-open<7.0.0,>=5.2.1 in /usr/local/lib/python3.10/dist-packages (from spacy<3.7.0,>=3.6.0->en-core-web-sm==3.6.0) (6.4.0)\n",
            "Requirement already satisfied: tqdm<5.0.0,>=4.38.0 in /usr/local/lib/python3.10/dist-packages (from spacy<3.7.0,>=3.6.0->en-core-web-sm==3.6.0) (4.66.1)\n",
            "Requirement already satisfied: numpy>=1.15.0 in /usr/local/lib/python3.10/dist-packages (from spacy<3.7.0,>=3.6.0->en-core-web-sm==3.6.0) (1.23.5)\n",
            "Requirement already satisfied: requests<3.0.0,>=2.13.0 in /usr/local/lib/python3.10/dist-packages (from spacy<3.7.0,>=3.6.0->en-core-web-sm==3.6.0) (2.31.0)\n",
            "Requirement already satisfied: pydantic!=1.8,!=1.8.1,<3.0.0,>=1.7.4 in /usr/local/lib/python3.10/dist-packages (from spacy<3.7.0,>=3.6.0->en-core-web-sm==3.6.0) (1.10.12)\n",
            "Requirement already satisfied: jinja2 in /usr/local/lib/python3.10/dist-packages (from spacy<3.7.0,>=3.6.0->en-core-web-sm==3.6.0) (3.1.2)\n",
            "Requirement already satisfied: setuptools in /usr/local/lib/python3.10/dist-packages (from spacy<3.7.0,>=3.6.0->en-core-web-sm==3.6.0) (67.7.2)\n",
            "Requirement already satisfied: packaging>=20.0 in /usr/local/lib/python3.10/dist-packages (from spacy<3.7.0,>=3.6.0->en-core-web-sm==3.6.0) (23.1)\n",
            "Requirement already satisfied: langcodes<4.0.0,>=3.2.0 in /usr/local/lib/python3.10/dist-packages (from spacy<3.7.0,>=3.6.0->en-core-web-sm==3.6.0) (3.3.0)\n",
            "Requirement already satisfied: typing-extensions>=4.2.0 in /usr/local/lib/python3.10/dist-packages (from pydantic!=1.8,!=1.8.1,<3.0.0,>=1.7.4->spacy<3.7.0,>=3.6.0->en-core-web-sm==3.6.0) (4.5.0)\n",
            "Requirement already satisfied: charset-normalizer<4,>=2 in /usr/local/lib/python3.10/dist-packages (from requests<3.0.0,>=2.13.0->spacy<3.7.0,>=3.6.0->en-core-web-sm==3.6.0) (3.2.0)\n",
            "Requirement already satisfied: idna<4,>=2.5 in /usr/local/lib/python3.10/dist-packages (from requests<3.0.0,>=2.13.0->spacy<3.7.0,>=3.6.0->en-core-web-sm==3.6.0) (3.4)\n",
            "Requirement already satisfied: urllib3<3,>=1.21.1 in /usr/local/lib/python3.10/dist-packages (from requests<3.0.0,>=2.13.0->spacy<3.7.0,>=3.6.0->en-core-web-sm==3.6.0) (2.0.4)\n",
            "Requirement already satisfied: certifi>=2017.4.17 in /usr/local/lib/python3.10/dist-packages (from requests<3.0.0,>=2.13.0->spacy<3.7.0,>=3.6.0->en-core-web-sm==3.6.0) (2023.7.22)\n",
            "Requirement already satisfied: blis<0.8.0,>=0.7.8 in /usr/local/lib/python3.10/dist-packages (from thinc<8.2.0,>=8.1.8->spacy<3.7.0,>=3.6.0->en-core-web-sm==3.6.0) (0.7.10)\n",
            "Requirement already satisfied: confection<1.0.0,>=0.0.1 in /usr/local/lib/python3.10/dist-packages (from thinc<8.2.0,>=8.1.8->spacy<3.7.0,>=3.6.0->en-core-web-sm==3.6.0) (0.1.2)\n",
            "Requirement already satisfied: click<9.0.0,>=7.1.1 in /usr/local/lib/python3.10/dist-packages (from typer<0.10.0,>=0.3.0->spacy<3.7.0,>=3.6.0->en-core-web-sm==3.6.0) (8.1.7)\n",
            "Requirement already satisfied: MarkupSafe>=2.0 in /usr/local/lib/python3.10/dist-packages (from jinja2->spacy<3.7.0,>=3.6.0->en-core-web-sm==3.6.0) (2.1.3)\n",
            "\u001b[38;5;2m✔ Download and installation successful\u001b[0m\n",
            "You can now load the package via spacy.load('en_core_web_sm')\n"
          ]
        }
      ]
    },
    {
      "cell_type": "code",
      "source": [
        "import spacy\n",
        "nlp = spacy.load(\"en_core_web_sm\")\n",
        "\n",
        "\n",
        "def extract_skills(text):\n",
        "    skills = []\n",
        "    doc = nlp(text)\n",
        "\n",
        "    for word in doc:\n",
        "        if \"NN\" in word.tag_: skills.append(word.text)\n",
        "\n",
        "    return list(set(skills))"
      ],
      "metadata": {
        "colab": {
          "base_uri": "https://localhost:8080/",
          "height": 17
        },
        "id": "LnL0xIGsB_G7",
        "outputId": "dd2b5967-7eb3-41ce-f563-2ef17f31ed76"
      },
      "execution_count": 13,
      "outputs": [
        {
          "output_type": "display_data",
          "data": {
            "text/plain": [
              "<IPython.core.display.Javascript object>"
            ],
            "application/javascript": [
              "google.colab.output.setIframeHeight(0, true, {maxHeight: 5000})"
            ]
          },
          "metadata": {}
        }
      ]
    },
    {
      "cell_type": "markdown",
      "source": [
        "### Uploading Resume PDFs as `Zip` and Extracting"
      ],
      "metadata": {
        "id": "T00xHtYJCKAM"
      }
    },
    {
      "cell_type": "code",
      "source": [
        "from google.colab import files\n",
        "import zipfile\n",
        "import io\n",
        "\n",
        "\n",
        "resume_folder = files.upload()\n",
        "\n",
        "for folder in resume_folder.keys():\n",
        "    if folder.endswith(\".zip\"):\n",
        "        with zipfile.ZipFile(io.BytesIO(resume_folder[folder]), \"r\") as zip_ref: zip_ref.extractall(\"/content/\")\n",
        "        path = (\"/content/\" + folder).replace(\".zip\", \"\")\n",
        "    else: print(\"Enter a ZIP file containing resume PDFs\")\n",
        "\n",
        "\n",
        "print(\"Path: \", path)"
      ],
      "metadata": {
        "colab": {
          "base_uri": "https://localhost:8080/",
          "height": 90
        },
        "id": "6sZpYgi3Ckm0",
        "outputId": "965fada1-f27f-4609-9896-17703ce3fc08"
      },
      "execution_count": 14,
      "outputs": [
        {
          "output_type": "display_data",
          "data": {
            "text/plain": [
              "<IPython.core.display.Javascript object>"
            ],
            "application/javascript": [
              "google.colab.output.setIframeHeight(0, true, {maxHeight: 5000})"
            ]
          },
          "metadata": {}
        },
        {
          "output_type": "display_data",
          "data": {
            "text/plain": [
              "<IPython.core.display.HTML object>"
            ],
            "text/html": [
              "\n",
              "     <input type=\"file\" id=\"files-ebf73b35-2615-4e89-8c8b-e761c28f3fe7\" name=\"files[]\" multiple disabled\n",
              "        style=\"border:none\" />\n",
              "     <output id=\"result-ebf73b35-2615-4e89-8c8b-e761c28f3fe7\">\n",
              "      Upload widget is only available when the cell has been executed in the\n",
              "      current browser session. Please rerun this cell to enable.\n",
              "      </output>\n",
              "      <script>// Copyright 2017 Google LLC\n",
              "//\n",
              "// Licensed under the Apache License, Version 2.0 (the \"License\");\n",
              "// you may not use this file except in compliance with the License.\n",
              "// You may obtain a copy of the License at\n",
              "//\n",
              "//      http://www.apache.org/licenses/LICENSE-2.0\n",
              "//\n",
              "// Unless required by applicable law or agreed to in writing, software\n",
              "// distributed under the License is distributed on an \"AS IS\" BASIS,\n",
              "// WITHOUT WARRANTIES OR CONDITIONS OF ANY KIND, either express or implied.\n",
              "// See the License for the specific language governing permissions and\n",
              "// limitations under the License.\n",
              "\n",
              "/**\n",
              " * @fileoverview Helpers for google.colab Python module.\n",
              " */\n",
              "(function(scope) {\n",
              "function span(text, styleAttributes = {}) {\n",
              "  const element = document.createElement('span');\n",
              "  element.textContent = text;\n",
              "  for (const key of Object.keys(styleAttributes)) {\n",
              "    element.style[key] = styleAttributes[key];\n",
              "  }\n",
              "  return element;\n",
              "}\n",
              "\n",
              "// Max number of bytes which will be uploaded at a time.\n",
              "const MAX_PAYLOAD_SIZE = 100 * 1024;\n",
              "\n",
              "function _uploadFiles(inputId, outputId) {\n",
              "  const steps = uploadFilesStep(inputId, outputId);\n",
              "  const outputElement = document.getElementById(outputId);\n",
              "  // Cache steps on the outputElement to make it available for the next call\n",
              "  // to uploadFilesContinue from Python.\n",
              "  outputElement.steps = steps;\n",
              "\n",
              "  return _uploadFilesContinue(outputId);\n",
              "}\n",
              "\n",
              "// This is roughly an async generator (not supported in the browser yet),\n",
              "// where there are multiple asynchronous steps and the Python side is going\n",
              "// to poll for completion of each step.\n",
              "// This uses a Promise to block the python side on completion of each step,\n",
              "// then passes the result of the previous step as the input to the next step.\n",
              "function _uploadFilesContinue(outputId) {\n",
              "  const outputElement = document.getElementById(outputId);\n",
              "  const steps = outputElement.steps;\n",
              "\n",
              "  const next = steps.next(outputElement.lastPromiseValue);\n",
              "  return Promise.resolve(next.value.promise).then((value) => {\n",
              "    // Cache the last promise value to make it available to the next\n",
              "    // step of the generator.\n",
              "    outputElement.lastPromiseValue = value;\n",
              "    return next.value.response;\n",
              "  });\n",
              "}\n",
              "\n",
              "/**\n",
              " * Generator function which is called between each async step of the upload\n",
              " * process.\n",
              " * @param {string} inputId Element ID of the input file picker element.\n",
              " * @param {string} outputId Element ID of the output display.\n",
              " * @return {!Iterable<!Object>} Iterable of next steps.\n",
              " */\n",
              "function* uploadFilesStep(inputId, outputId) {\n",
              "  const inputElement = document.getElementById(inputId);\n",
              "  inputElement.disabled = false;\n",
              "\n",
              "  const outputElement = document.getElementById(outputId);\n",
              "  outputElement.innerHTML = '';\n",
              "\n",
              "  const pickedPromise = new Promise((resolve) => {\n",
              "    inputElement.addEventListener('change', (e) => {\n",
              "      resolve(e.target.files);\n",
              "    });\n",
              "  });\n",
              "\n",
              "  const cancel = document.createElement('button');\n",
              "  inputElement.parentElement.appendChild(cancel);\n",
              "  cancel.textContent = 'Cancel upload';\n",
              "  const cancelPromise = new Promise((resolve) => {\n",
              "    cancel.onclick = () => {\n",
              "      resolve(null);\n",
              "    };\n",
              "  });\n",
              "\n",
              "  // Wait for the user to pick the files.\n",
              "  const files = yield {\n",
              "    promise: Promise.race([pickedPromise, cancelPromise]),\n",
              "    response: {\n",
              "      action: 'starting',\n",
              "    }\n",
              "  };\n",
              "\n",
              "  cancel.remove();\n",
              "\n",
              "  // Disable the input element since further picks are not allowed.\n",
              "  inputElement.disabled = true;\n",
              "\n",
              "  if (!files) {\n",
              "    return {\n",
              "      response: {\n",
              "        action: 'complete',\n",
              "      }\n",
              "    };\n",
              "  }\n",
              "\n",
              "  for (const file of files) {\n",
              "    const li = document.createElement('li');\n",
              "    li.append(span(file.name, {fontWeight: 'bold'}));\n",
              "    li.append(span(\n",
              "        `(${file.type || 'n/a'}) - ${file.size} bytes, ` +\n",
              "        `last modified: ${\n",
              "            file.lastModifiedDate ? file.lastModifiedDate.toLocaleDateString() :\n",
              "                                    'n/a'} - `));\n",
              "    const percent = span('0% done');\n",
              "    li.appendChild(percent);\n",
              "\n",
              "    outputElement.appendChild(li);\n",
              "\n",
              "    const fileDataPromise = new Promise((resolve) => {\n",
              "      const reader = new FileReader();\n",
              "      reader.onload = (e) => {\n",
              "        resolve(e.target.result);\n",
              "      };\n",
              "      reader.readAsArrayBuffer(file);\n",
              "    });\n",
              "    // Wait for the data to be ready.\n",
              "    let fileData = yield {\n",
              "      promise: fileDataPromise,\n",
              "      response: {\n",
              "        action: 'continue',\n",
              "      }\n",
              "    };\n",
              "\n",
              "    // Use a chunked sending to avoid message size limits. See b/62115660.\n",
              "    let position = 0;\n",
              "    do {\n",
              "      const length = Math.min(fileData.byteLength - position, MAX_PAYLOAD_SIZE);\n",
              "      const chunk = new Uint8Array(fileData, position, length);\n",
              "      position += length;\n",
              "\n",
              "      const base64 = btoa(String.fromCharCode.apply(null, chunk));\n",
              "      yield {\n",
              "        response: {\n",
              "          action: 'append',\n",
              "          file: file.name,\n",
              "          data: base64,\n",
              "        },\n",
              "      };\n",
              "\n",
              "      let percentDone = fileData.byteLength === 0 ?\n",
              "          100 :\n",
              "          Math.round((position / fileData.byteLength) * 100);\n",
              "      percent.textContent = `${percentDone}% done`;\n",
              "\n",
              "    } while (position < fileData.byteLength);\n",
              "  }\n",
              "\n",
              "  // All done.\n",
              "  yield {\n",
              "    response: {\n",
              "      action: 'complete',\n",
              "    }\n",
              "  };\n",
              "}\n",
              "\n",
              "scope.google = scope.google || {};\n",
              "scope.google.colab = scope.google.colab || {};\n",
              "scope.google.colab._files = {\n",
              "  _uploadFiles,\n",
              "  _uploadFilesContinue,\n",
              "};\n",
              "})(self);\n",
              "</script> "
            ]
          },
          "metadata": {}
        },
        {
          "output_type": "stream",
          "name": "stdout",
          "text": [
            "Saving small_tempResume.zip to small_tempResume.zip\n",
            "Path:  /content/small_tempResume\n"
          ]
        }
      ]
    },
    {
      "cell_type": "markdown",
      "source": [
        "# Driver Function"
      ],
      "metadata": {
        "id": "MlDp35tOGA6o"
      }
    },
    {
      "cell_type": "code",
      "source": [
        "import PyPDF2, glob, os\n",
        "\n",
        "\n",
        "# considering first 10 jobs from dataset\n",
        "jobs = 10\n",
        "pdf_files = glob.glob(os.path.join(path, \"*.pdf\"))\n",
        "\n",
        "for i in range(jobs):\n",
        "    JD_company = JD_extract_company(i)\n",
        "    JD_position = JD_extract_position(i)\n",
        "    JD_req_skills = JD_extract_required_skills(i)\n",
        "    JD_req_edu = JD_extract_educational_requirements(i)\n",
        "\n",
        "    print(JD_company)\n",
        "    print(JD_position)\n",
        "    print(JD_req_skills)\n",
        "    print(JD_req_edu)\n",
        "    print()\n",
        "\n",
        "\n",
        "    for i in pdf_files:\n",
        "        thisPDF_text = extract_resume_text(i)\n",
        "        CV_category = extract_category(thisPDF_text)\n",
        "        CV_skills = extract_skills(thisPDF_text)\n",
        "        CV_education = extract_education(thisPDF_text)\n",
        "\n",
        "        print(CV_category)\n",
        "        print(CV_skills)\n",
        "        print(CV_education)\n",
        "        print()\n",
        "\n",
        "\n",
        "    print(\"\\n\\n\\n>>>>>>>>>>>>>>>>>>>>>>>>>>>>>>>>>>>>>>>>>>>>>>>\\n\\n\\n\")"
      ],
      "metadata": {
        "colab": {
          "base_uri": "https://localhost:8080/",
          "height": 5000
        },
        "id": "3P94BU4HDZiM",
        "outputId": "f1542b47-ef2c-41b1-cd66-9dd9e3322c64"
      },
      "execution_count": 18,
      "outputs": [
        {
          "output_type": "display_data",
          "data": {
            "text/plain": [
              "<IPython.core.display.Javascript object>"
            ],
            "application/javascript": [
              "google.colab.output.setIframeHeight(0, true, {maxHeight: 5000})"
            ]
          },
          "metadata": {}
        },
        {
          "output_type": "stream",
          "name": "stdout",
          "text": [
            "Google\n",
            "Sales Specialist\n",
            "Bachelor's degree or equivalent experience. Experience managing enterprise SaaS accounts and sales cycles.\n",
            "Bachelor's degree or equivalent experience.\n",
            "\n",
            "SOFTWARE ENGINEERING MANAGER\n",
            "['Beijing', 'engine', 'product', 'City', 'Engineer', 'encoder', 'servers', 'DTA', 'formats', 'bridge', 'projects', 'engineers', 'service', 'Development', 'Visual', 'Transcoder', 'Helper', 'code', 'Current', 'startup', 'developers', 'Project', 'India', 'scalability', 'development', 'management', 'HTML5', 'backup', 'explorer', 'Hercules', 'crash', 'concept', 'player', 'Principal', 'personnel', 'holding', 'desktop', 'years', 'tools', 'architecture', 'Helios', 'Engineering', 'protocol', 'SAX', 'integration', 'documents', 'ScrumMaster', '-', 'project', 'document', 'Experience', 'teams', 'Editing', 'client', 'layer', 'Scavenger', 'backend', 'Technology', 'functions', 'engineering', 'spinoff', 'URI', 'nodes', 'Initiated', 'Encoder', 'MediaBase', 'AAC', 'JavaScript', 'time', 'solution', 'CLI', 'Imagine', 'video', 'ENGINEERING', 'part', 'method', 'UI', 'core', 'level', 'review', 'threads', 'API', 'products', 'Windows', 'hands', 'reader', 'side', 'specification', 'legacy', 'classes', 'source', '24/7', 'pages', 'engineer', 'standards', 'troubleshoot', 'SOFTWARE', 'SDK', 'contents', 'Mercurial', 'issues', 'access', 'operation', 'domains', 'Media', 'effects', 'interviews', 'documentation', 'technology', '08/2009', 'top', 'manager', 'facilities', 'house', 'Manager', 'stack', 'MB', '+', 'State', 'export', 'Nexio', 'Bank', 'procedures', 'import', 'transitions', 'Computer', 'Proxy', 'Playout', 'JS', 'conditions', 'BCD', 'models', 'Burbank', 'modules', 'web', 'space', 'MP4', 'FTP', 'peer', 'opportunities', 'Content', 'evolution', 'clients', 'Suite', 'SAN', 'MANAGER', 'media', 'STL', 'design', 'offers', '09/2009', 'business', 'ï¼\\u200b', 'dump', 'drawing', 'Skills', 'experience', 'Global', 'National', 'HR', 'broadcast', 'HTTP', 'page', 'rendering', 'Jenkins', 'dash', 'container', 'engines', 'MFC', 'json', 'GPRX', 'revision', 'Video', 'NAS', 'handler', 'WinAPI', 'process', 'multi-', 'applications', 'decoder', 'vendor', 'request', 'picon', 'codec', 'audio', 'DASH', 'performance', 'team', 'success', 'Company', 'control', 'Win32', 'driver', 'editing', 'Render', 'Name', 'M.S', 'response', 'storage', 'Scrum', 'methods', 'Star', 'Software', 'JSON', 'C++', 'services', 'customer', 'style', 'Education', 'TCP', 'user', 'K', 'Corporation', 'Service', 'Picon', 'Hardware', 'Leitch', 'Communication', 'Team', 'ATL', 'unit', 'indirect', 'Requestor', 'Win', 'Handler', 'communications', 'content', 'atoms', 'reviews', 'XML', 'software', 'C', 'Harris', 'DLL', 'device', 'rules', 'metadata', 'guidelines', 'SOA', 'Naperville', 'parser', 'completion', 'framework', 'converter', 'IDs', 'Institute', 'Summary', '#', 'LAN', 'DPS', 'use', 'Velocity', 'analysis', 'components', 'domain', 'notification', '08/1997', 'party', 'deliverables', 'Illinois', 'IPC', 'MPEG', 'proxy', 'OOP', 'REST', 'testing', 'playback', 'Electronics', 'header', 'size', 'server', 'hand', 'ftp', 'workflows', 'sources', 'Science', '07/1997']\n",
            "[]\n",
            "\n",
            "MORTGAGE BANKING FORECLOSURE SPECIALIST\n",
            "['liability', 'City', 'weaknesses', 'repayment', 'cash', 'statements', 'Processor', 'Sharepoint', 'Solutions', 'Analysis', 'production', 'Lotus', 'Risk', 'Current', 'error', 'Profit', 'Schedule', 'Solver', 'logic', 'mortgage', 'management', 'Resolution', 'need', 'Bankruptcy', 'Specialist', 'environment', 'Analyst', 'RELS', 'years', 'Loss', 'University', 'Military', 'title', 'mortgages', 'volume', 'Documentation', 'plan', 'documents', 'Vendorscape', 'searches', 'Statements', 'Operations', 'recommendation', 'Clients', 'Experience', 'risk', 'Income', 'Management', 'instruments', 'tax', 'spectrum', 'Accomplishments', 'functions', 'applicant', 'Mae', 'SPECIALIST', 'quality', 'Consumer', 'Fannie', 'Audits', 'Articulate', 'goals', 'Ups', 'status', 'Data', 'review', 'FHA', 'Mortgage', 'level', 'milestones', 'Environment', '10/2011', 'self', 'products', 'policies', '%', 'StateMortgage', 'security', 'standards', 'Internal', 'industry', 'packages', 'Default', 'entry', 'errors', 'work', 'computer', 'Processing', 'Department', 'Federal', 'approvals', 'loans', 'Lenstar', 'Servicing', 'detail', 'Home', 'SLOAD', 'Connection', 'order', 'willingness', 'validity', 'baseline', 'documentation', 'Closing', 'Detail', 'DAT', 'BANKING', 'employer', 'house', 'Operations/', 'Document', 'exceptions', 'State', 'CREDCO', 'Science', 'underwriting', 'feasibility', '01/2014', 'procedures', 'strengths', 'Sales', 'Loan', 'MSP', 'Entry', 'company', 'definition', 'conditions', 'Ambitious', 'file', 'Corps', 'Title', 'Underwriter', 'paystubs', 'capacity', 'Act', 'peer', 'booking', 'Real', 'W2', 'professional', 'passion', '*', 'teammates', 'approval', 'clients', 'applicants', 'loan', 'Use', 'investor', 'Services', 'Financial', 'resolution', 'Compliance', 'Auburn', 'Skills', 'Meeting', 'roles', 'Early', 'Auditing', 'Civil', 'business', 'Associate', 'Control', 'experience', 'companies', 'programs', 'omissions', 'modification', 'Dos', 'in', 'Learner', 'Prevention', 'payment', 'Nss', 'MORTGAGE', 'learner', 'Lead', 'Foreclosure', 'follow', '01/2010', 'Company', 'control', 'history', 'bank', '04/2003', 'Name', 'options', 'Tax', 'Lending', 'evaluation', 'Banking', 'opportunity', 'Loans', 'LES', 'Liability', 'Administration', 'Education', 'services', 'customer', 'Microsoft', 'attention', 'member', 'accordance', 'borrowers', 'inquiries', 'Service', 'property', 'Review', 'Powerpoint', 'income', 'Montgomery', 'Live', 'Preservation', 'requirements', 'Cash', 'F.H.A.', 'Team', 'characteristics', 'consumer', 'File', 'FORECLOSURE', 'DOS', 'Telephone', 'Problem', 'Reviewing', 'banking', 'Excel', 'processes', 'rating', 'reviews', 'Booking', 'Pipeline', 'Fha', 'Outlook', '1120S', 'adherence', 'software', 'C', 'Fast', 'Estate', 'Assessment', 'cases', 'Cases', 'Fixed', 'guidelines', 'Returns', 'verifications', 'LPS', 'maintenance', 'affordability', 'Security', 'ResWare', 'Verified', 'Summary', 'ratio', 'credit', 'Business', 'ups', 'Assurance', 'Credit', 'Underwriting', 'Trading', 'Word', 'Relief', 'methodology', '08/2008', 'Quality', 'customers', 'Management/', 'mainframes', '12/2013', 'transcripts', 'K-1', 'V.A.', 'Prevention/', 'Production', 'asset', 'Mitigation', 'II', 'sources', 'SCRA', 'S', 'knowledge', 'database']\n",
            "[]\n",
            "\n",
            "SENIOR CLIENT ADVOCATE II\n",
            "['product', 'Seven', 'City', 'impact', 'BlueCross', 'Systems', 'projects', 'changes', 'role', 'areas', 'record', 'Project', 'Risk', 'analysts', 'Motivated', 'Wireless', 'development', 'management', 'expense', 'coding', 'employees', 'Northampton', 'player', 'plans', 'FHIR', 'environment', 'Analyst', 'pricing', 'Blood', 'progress', 'years', 'Cable', 'HP', 'University', 'Military', 'planning', 'tools', 'architecture', 'SQL', 'users', 'ability', 'plan', 'Standards', 'programmers', 'Gabron', 'savings', 'Requirements', 'Operations', '-', 'board', 'College', 'project', 'research', 'Experience', 'Physical', 'teams', 'Training', 'Technology', 'Management', 'case', 'Accomplishments', 'Application', 'efficiency', 'Workflow', 'goals', 'acceptance', 'measure', 'Senior', 'acumen', 'Data', 'health', '12/2002', 'Information', 'time', 'Rock', 'Clinical', 'objectives', 'Colorectal', 'level', 'profits', 'members', 'products', '%', 'costs', 'actuals', 'Magna', 'marketing', 'installation', 'improvements', 'meetings', 'EHR', 'Test', 'Cum', 'industry', 'creation', 'defects', 'London', 'Pressure', 'Product', 'communication', 'Merit', 'issues', '03/1992', 'mapping', 'Bachelor', 'Cancer', 'documentation', 'interviews', 'Community', 'telecom', 'billing', 'forecast', 'V2', 'technology', 'Document', 'Manager', 'budget', 'State', 'data', 'stakeholders', 'procedures', 'bench', 'mitigation', 'CBP', 'Computer', 'company', 'principles', 'position', 'matrix', 'Interchange', 'claims', 'Architecture', 'Insurance', 'opportunities', 'Consolidate', 'information', 'SuppCRAIG', 'support', 'Workgroup', 'Developing', 'analyst', 'staff', 'BlueShield', 'telecommunications', 'Organization', 'Use', '12/2017', 'TRICARE', 'Client', 'Health', 'Skills', 'Collaboration', 'business', 'revenue', 'calculation', 'ï¼\\u200b', 'design', 'spending', 'ADVOCATE', 'visits', 'CRAIG', 'Electronic', 'results', 'solutions', 'South', 'row', 'process', 'Screening', 'Brand', 'telephone', 'team', 'performance', 'sessions', 'features', 'Company', 'Pennsylvania', 'CLIENT', 'Name', 'IT', 'tool', 'site', 'Level', 'Affiliations', 'Laude', 'Resources', 'updates', 'packetize', 'Education', 'customer', 'user', 'Duties', 'Service', 'Lifecycle', 'requirements', 'attachments', 'messages', 'system', 'Team', 'focus', 'test', 'MS', 'line', 'care', 'processes', 'Release', 'gap', 'reviews', 'Award', 'Meaningful', 'Fast', 'scripts', 'software', 'reports', 'cases', 'Net', 'cycles', 'needs', 'ordination', 'Carolina', 'Communications', 'Summary', 'leaders', 'Business', 'collaboration', 'use', 'Slippery', 'expertise', 'analysis', 'Advocate', 'feature', 'co', 'WEDI', 'accounting', 'relationship', 'measures', 'enhancements', 'England', 'HEDIS', 'testing', 'Healthcare', 'responsibilities', 'COL', 'sales', 'concepts', 'II', 'Science', 'knowledge']\n",
            "['Bachelor']\n",
            "\n",
            "LINE ATTENDANT\n",
            "['desires', 'City', 'product', 'Externship', 'orders', 'accuracy', 'tissue', 'cash', 'food', 'Talent', 'Retail', 'service', 'Upheld', 'Analysis', 'code', 'inventory', 'Scrubbed', 'Customer', 'Dictation', 'Records', 'merchandise', 'Certificate', 'management', 'development', 'coffee', 'employees', 'Results', 'vehicles', 'player', 'Sep', 'preparation', 'purchases', 'pricing', 'register', 'Trevose', 'Reconciling', 'shelves', 'promotions', 'levels', 'appointments', 'Cpr/', 'office', 'calls', 'Collected', 'beverages', 'Sanford', 'Line', 'slip', 'Described', 'Inventory', '-', 'floor', 'receipts', 'duties', 'assurance', 'Experience', 'shipping', 'Training', 'FDA', 'PA', 'instruments', 'Shipping', 'Accomplishments', 'Attendant', 'bag', 'Player', 'Seasonal', 'quality', 'time', 'equipment', 'Handling', 'CPR', 'ATTENDANT', 'Excellent', 'workers', 'policies', 'products', 'Highlights', 'exchanges', 'instructions', 'security', 'improvements', 'September', 'Fulfillment', 'material', 'standards', 'stores', 'Material', 'containers', 'Certifications', 'work', 'fountain', 'communication', 'order', 'operation', 'steam', 'patients', 'Receptionist', 'dishes', 'flow', 'Practices', 'stock', 'State', 'phone', 'Sales', 'procedures', 'Answering', 'deadlines', 'Cpr', 'break', 'Multi', 'Jan', 'activities', 'company', 'Telephones', 'pace', 'Promote', 'tea', 'dictation', 'physician', 'recommendations', 'shipments', 'information', 'Nov', 'LINE', 'statistics', 'availability', 'Feb', 'US', 'supplies', 'Register', 'glasses', 'Skills', 'Directed', 'items', 'ï¼\\u200b', 'Aug', 'Associate', 'Supervisor', 'background', 'results', 'Aid', 'rooms', '©', 'Pricing', 'tables', 'Office', 'payment', 'drive', 'Restaurant', 'SKILLS', 'tasker', 'laboratory', 'specimens', 'telephone', 'telephones', 'growth', 'examination', 'Company', 'history', 'prices', 'August', 'Strong', 'Name', 'Medical', 'Crew', 'storage', 'Flow', 'CafÃ', 'Brown', 'height', 'refreshments', 'Education', 'temperature', 'services', 'customer', 'Microsoft', 'signs', 'patron', 'Cash', 'Oct', 'Assistant', 'Duties', 'Certification', 'Service', 'Hostess', 'Activities', 'Cooked', 'Communication', 'Culinary', 'Team', 'goods', 'test', 'area', 'Telephone', 'care', 'insurance', 'Excel', 'Recommend', 'reference', 'closing', 'leader', 'Diploma', 'opening', 'lines', 'Ticketed', 'First', 'Competitive', 'needs', 'gauge', 'Osha', 'guidelines', 'Apr', 'counters', 'Fda', 'General', 'records', 'Institute', 'Security', 'Summary', 'credit', 'racks', 'kitchens', 'taking', 'restaurant', 'Assurance', 'Store', 'use', 'Credit', 'analysis', 'fulfillment', 'CERTIFICATIONS', 'blood', 'Word', 'date', 'Leadership', 'forms', 'brand', 'Arts', 'Quality', 'customers', 'practices', 'requests', 'weight', 'Answered', 'Testing', 'Laboratory', 'sales', 'Statistics', 'knowledge']\n",
            "[]\n",
            "\n",
            "SALON DESIGNER\n",
            "['SUNSTATE', 'product', 'City', 'malfunctions', 'desires', 'problem', 'Determine', 'Processor', 'cash', 'questions', 'styles', 'education', 'service', 'styling', 'transactions', 'Schedule', 'Order', 'andself-', 'Responsibilities', 'merchandise', 'package', 'Self', 'Power', 'need', 'techniques', 'player', 'center', 'charge', 'cutting', 'purchases', 'Set', 'Sep', 'shelves', 'promotions', 'appointments', 'October', 'office', 'title', 'employment', 'Appraisal', 'Package', 'Maintain', 'documents', 'Ms', 'Inventory', 'slips', 'Experience', 'client', 'requisition', 'Management', 'DESIGNER', 'month', 'tasks', 'Call', 'contact', 'skills', 'time', 'status', 'December', 'researching', 'decision', 'hair', 'equipment', 'Bilingual', 'level', 'arrange', 'Processors', 'Committed', 'reputation', 'satisfaction', 'products', 'policies', 'United', 'initiative', 'exchanges', 'drawers', 'marketing', 'security', 'registers', 'safety', 'standards', 'Prepare', 'Change', 'Answer', 'call', 'work', 'May', 'salon', 'communication', 'issues', 'Languages', 'validity', 'loans', 'ACADEMY', 'operations', 'order', 'Representative', 'operation', 'SAINT', 'fields', 'problems', 'Manager', 'stock', 'making', 'consultation', 'State', 'data', 'Sales', 'ownership', 'Cosmetology', 'procedures', 'Originators', 'Loan', 'value', 'company', 'Exchange', 'file', 'deposits', 'English', 'opportunities', 'atmosphere', 'information', 'cosmetics', 'support', 'cleanliness', 'professional', 'Point', 'clients', 'integrity', 'loan', 'supplies', 'vouchers', 'Assemble', 'SALON', 'Fulfill', 'January', 'Skills', 'business', 'Compliance', 'Associate', 'ï¼\\u200b', 'beauty', 'print', 'Essential', 'experience', 'appraisals', 'Salon', 'November', 'job', 'Aug', 'PETERSBURG', 'tables', 'Office', 'solutions', 'payment', 'group', 'benefits', 'inventories', 'features', 'Company', 'store', 'Compute', 'August', 'QC', 'Batteries', 'Name', 'prices', 'base', 'Center', 'coupons', 'accounts', 'Flow', 'June', 'Greet', 'stations', 'License', 'training', 'Professional', 'Education', 'style', 'customer', 'services', 'returns', 'Duties', 'inquiries', 'Watch', 'requirements', 'organization', 'Team', 'accomplishments', 'Overview', 'COLLEGE', 'subordinations', 'people', 'eager', 'care', 'periods', 'Excel', 'Regulatory', 'answers', 'Recommend', 'retail', 'closing', 'submission', 'Ticket', 'opening', 'sell', 'needs', 'trends', 'Career', 'maintenance', 'verifications', 'counters', 'General', 'records', 'credit', 'use', 'demeanor', 'money', 'Credit', 'Designer', 'locating', 'Word', 'Arts', 'relationship', 'customers', 'practices', 'States', 'requests', 'gifts', 'selection', 'LOS', 'Owner', 'attorney', 'term', 'Adobe', 'Greek', 'sales', 'mobility', 'knowledge', 'database']\n",
            "[]\n",
            "\n",
            "E-LEARNING DESIGNER\n",
            "['Â', 'Factors', 'sites', 'Patrick', 'development', 'management', 'variety', 'PowerPoint', 'Kutsch', 'storyboards', 'iMovie', '-', 'publications', '2007Â', 'User', 'Preparation', 'owners', 'technologies', 'School', 'Encoder', 'navigation', 'Master', 'leadership', 'Macedo', 'Excellent', 'DB2', 'Dantressangle', 'security', 'Design', 'Kenexa', 'z', 'UNIVERSITY', 'Certifications', 'Captivate', 'Tutorial', 'State', 'VMWare', 'learning', 'Wu', 'magazine', 'Brothers', 'Magazine', 'web', 'We', 'holders', 'WESTERN', 'High', 'information', 'Unix', 'proof', 'Paolo', 'January', 'Soccer', 'Green', 'background', 'Oracle', 'Vitor', 'SCORM', 'process', 'Instructional', 'Planning', 'AIX', 'Company', 'Name', 'forÂ', 'tool', 'June', 'methods', 'Affiliations', 'training', 'editor', 'BoardÂ', 'conferences', 'Board', 'Certification', 'p', 'Stakeholder', 'adult', 'Work', 'Outlook', 'software', 'C', 'LMS', 'learners', 'Math', 'Sabine', 'Designer', 'experts', 'ParticipantsÂ', 'TeamÂ', 'McGeoch', 'Skype', 'Gathered', 'methodologies', 'City', 'Ling', 'Developer', 'Drive', 'education', 'Innovation', 'Talent', 'Current', 'administrators', 'techniques', 'Apple', 'center', 'Tay', 'TECHNOLOGY', 'Technical', 'Hub', 'Swim', 'project', 'Procedures', 'Studio', 'Montini', 'Management', 'Player', 'Application', 'quality', 'Ability', 'Gmail', 'Paint', 'administrator', 'Data', 'resources', 'Academic', 'Record', 'INSTRUCTIONAL', 'COMPUTER', 'United', 'Support', 'Rome', 'DatabaseIBM', '501(r)Â', 'e', 'White', 'Reader', 'May', 'Bachelor', 'Gregory', 'Protecting', 'Media', 'Community', 'technology', 'Jan', 'Ming', 'knowledge', 'Sardana', 'Success', 'Snag', 'HTML', 'design', 'book', 'Society', 'Database', 'trainer', 'matter', 'Chong', 'Forms', 'Kathryn', 'department', 'Dayana', 'ILLINOIS', 'Service', 'expert', 'Team', 'Overview', 'content', 'resource', 'SharePoint', 'Version', 'Safety', 'subject', 'Career', 'Olympiad', 'Marichu', 'collaboration', 'analysis', 'Writing', 'Revolution', 'Voice', 'articles', 'Illinois', 'Workbench', 'American', 'problem', 'Youth', 'Dennis', 'Robert', 'E', 'Pro', 'Customer', 'eBook', 'designÂ', 'Publications', 'educator', 'Explorer', 'SQL', 'PENNSYLVANIA', 'ability', 'scenarios', 'Paper', 'Presentations', 'Experience', 'Training', 'Technology', 'Editing', 'understanding', 'stake', 'skills', 'SAP', 'time', 'David', 'Windows', 'F.', 'Test', 'Unites', 'computer', 'Visio', 'Coach', 'Greenstein', 'April', 'Leung', 'surveysÂ', 'manager', 'Bruni', 'Docs', 'Patient', 'modules', 'NIH', 'assessments', 'Schenker', 'Mark', 'Adept', 'Organization', 'Eaton', 'Skills', 'Michael', 'Kaschta', 'experience', 'SCIENCE', 'Athletic', 'Introduction', 'managers', 'implementation', 'Stored', 'pedagogy', 'Internet', 'Spain', 'budgets', 'York', 'developerWorks', 'compliance', 'Microsoft', 'Corporation', 'eLearning', 'Children', 'Sandburg', 'STATE', 'test', 'videos', 'Archiving', 'ID', 'Marina', 'Debra', 'lines', 'Group', 'Smith', 'Analysed', 'experiences', 'Qualifications', 'Platform', 'class', 'proposals', 'theories', 'Elmhurst', 'Word', 'schedules', 'DEPAUL', 'Adobe', 'concepts', 'Science', 'JavascriptÂ', 'boarding', 'materials', 'delivery', 'Newman', 'Volunteer', 'Marcel', 'Development', 'Project', 'Exam', 'ILT', 'Researched', 'Google', 'tools', 'online', 'Research', 'TRAINER', 'Cross-', 'OS', 'room', 'DESIGNER', 'scheduling', 'K.', 'tasks', 'Ricardo', 'Part', 'solution', 'video', 'Information', 'Boosters', 'objectives', 'President', 'pages', 'proficiency', 'd', 'Redbook', 'Book', 'outcomes', 'Rodrigues', 'data', 'Luca', 'Central', 'Hutchison', 'Facilities', 'Raul', 'Zeidenstein', 'ï¼\\u200b', 'Majcher', 'initiatives', 'Vandensande', 'D.', 'Tech', 'channel', 'Advisory', 'team', 'DESIGN', 'curriculum', 'Association', 'Chrome', 'Bockus', 'Grant', 'executives', 'Education', 'Academy', 'International', 'requirements', 'approaches', 'line', 'UDB', 'Excel', 'story', 'XML', 'Networks', 'IBM', 'feedback', 'needs', 'distance', 'Manoj', 'courses', 'Scanlon', 'Red', 'July', 'Demand', 'parties', 'SheetsÂ', 'States', 'Glenn', 'Expert', 'Human', 'YouTube']\n",
            "['Bachelor', 'Master']\n",
            "\n",
            "\n",
            "\n",
            "\n",
            ">>>>>>>>>>>>>>>>>>>>>>>>>>>>>>>>>>>>>>>>>>>>>>>\n",
            "\n",
            "\n",
            "\n",
            "Apple\n",
            "Apple Solutions Consultant\n",
            "a passion to help people understand how apple products can enrich their livesexcellent communication skills allowing you to be as comfortable in front of a small group as you are speaking with individuals years preferred working in a dynamic sales andor results driven environment as well as proven success developing customer loyaltyability to encourage a partner team and grow apple business\n",
            "N/A\n",
            "\n",
            "SOFTWARE ENGINEERING MANAGER\n",
            "['Beijing', 'engine', 'product', 'City', 'Engineer', 'encoder', 'servers', 'DTA', 'formats', 'bridge', 'projects', 'engineers', 'service', 'Development', 'Visual', 'Transcoder', 'Helper', 'code', 'Current', 'startup', 'developers', 'Project', 'India', 'scalability', 'development', 'management', 'HTML5', 'backup', 'explorer', 'Hercules', 'crash', 'concept', 'player', 'Principal', 'personnel', 'holding', 'desktop', 'years', 'tools', 'architecture', 'Helios', 'Engineering', 'protocol', 'SAX', 'integration', 'documents', 'ScrumMaster', '-', 'project', 'document', 'Experience', 'teams', 'Editing', 'client', 'layer', 'Scavenger', 'backend', 'Technology', 'functions', 'engineering', 'spinoff', 'URI', 'nodes', 'Initiated', 'Encoder', 'MediaBase', 'AAC', 'JavaScript', 'time', 'solution', 'CLI', 'Imagine', 'video', 'ENGINEERING', 'part', 'method', 'UI', 'core', 'level', 'review', 'threads', 'API', 'products', 'Windows', 'hands', 'reader', 'side', 'specification', 'legacy', 'classes', 'source', '24/7', 'pages', 'engineer', 'standards', 'troubleshoot', 'SOFTWARE', 'SDK', 'contents', 'Mercurial', 'issues', 'access', 'operation', 'domains', 'Media', 'effects', 'interviews', 'documentation', 'technology', '08/2009', 'top', 'manager', 'facilities', 'house', 'Manager', 'stack', 'MB', '+', 'State', 'export', 'Nexio', 'Bank', 'procedures', 'import', 'transitions', 'Computer', 'Proxy', 'Playout', 'JS', 'conditions', 'BCD', 'models', 'Burbank', 'modules', 'web', 'space', 'MP4', 'FTP', 'peer', 'opportunities', 'Content', 'evolution', 'clients', 'Suite', 'SAN', 'MANAGER', 'media', 'STL', 'design', 'offers', '09/2009', 'business', 'ï¼\\u200b', 'dump', 'drawing', 'Skills', 'experience', 'Global', 'National', 'HR', 'broadcast', 'HTTP', 'page', 'rendering', 'Jenkins', 'dash', 'container', 'engines', 'MFC', 'json', 'GPRX', 'revision', 'Video', 'NAS', 'handler', 'WinAPI', 'process', 'multi-', 'applications', 'decoder', 'vendor', 'request', 'picon', 'codec', 'audio', 'DASH', 'performance', 'team', 'success', 'Company', 'control', 'Win32', 'driver', 'editing', 'Render', 'Name', 'M.S', 'response', 'storage', 'Scrum', 'methods', 'Star', 'Software', 'JSON', 'C++', 'services', 'customer', 'style', 'Education', 'TCP', 'user', 'K', 'Corporation', 'Service', 'Picon', 'Hardware', 'Leitch', 'Communication', 'Team', 'ATL', 'unit', 'indirect', 'Requestor', 'Win', 'Handler', 'communications', 'content', 'atoms', 'reviews', 'XML', 'software', 'C', 'Harris', 'DLL', 'device', 'rules', 'metadata', 'guidelines', 'SOA', 'Naperville', 'parser', 'completion', 'framework', 'converter', 'IDs', 'Institute', 'Summary', '#', 'LAN', 'DPS', 'use', 'Velocity', 'analysis', 'components', 'domain', 'notification', '08/1997', 'party', 'deliverables', 'Illinois', 'IPC', 'MPEG', 'proxy', 'OOP', 'REST', 'testing', 'playback', 'Electronics', 'header', 'size', 'server', 'hand', 'ftp', 'workflows', 'sources', 'Science', '07/1997']\n",
            "[]\n",
            "\n",
            "MORTGAGE BANKING FORECLOSURE SPECIALIST\n",
            "['liability', 'City', 'weaknesses', 'repayment', 'cash', 'statements', 'Processor', 'Sharepoint', 'Solutions', 'Analysis', 'production', 'Lotus', 'Risk', 'Current', 'error', 'Profit', 'Schedule', 'Solver', 'logic', 'mortgage', 'management', 'Resolution', 'need', 'Bankruptcy', 'Specialist', 'environment', 'Analyst', 'RELS', 'years', 'Loss', 'University', 'Military', 'title', 'mortgages', 'volume', 'Documentation', 'plan', 'documents', 'Vendorscape', 'searches', 'Statements', 'Operations', 'recommendation', 'Clients', 'Experience', 'risk', 'Income', 'Management', 'instruments', 'tax', 'spectrum', 'Accomplishments', 'functions', 'applicant', 'Mae', 'SPECIALIST', 'quality', 'Consumer', 'Fannie', 'Audits', 'Articulate', 'goals', 'Ups', 'status', 'Data', 'review', 'FHA', 'Mortgage', 'level', 'milestones', 'Environment', '10/2011', 'self', 'products', 'policies', '%', 'StateMortgage', 'security', 'standards', 'Internal', 'industry', 'packages', 'Default', 'entry', 'errors', 'work', 'computer', 'Processing', 'Department', 'Federal', 'approvals', 'loans', 'Lenstar', 'Servicing', 'detail', 'Home', 'SLOAD', 'Connection', 'order', 'willingness', 'validity', 'baseline', 'documentation', 'Closing', 'Detail', 'DAT', 'BANKING', 'employer', 'house', 'Operations/', 'Document', 'exceptions', 'State', 'CREDCO', 'Science', 'underwriting', 'feasibility', '01/2014', 'procedures', 'strengths', 'Sales', 'Loan', 'MSP', 'Entry', 'company', 'definition', 'conditions', 'Ambitious', 'file', 'Corps', 'Title', 'Underwriter', 'paystubs', 'capacity', 'Act', 'peer', 'booking', 'Real', 'W2', 'professional', 'passion', '*', 'teammates', 'approval', 'clients', 'applicants', 'loan', 'Use', 'investor', 'Services', 'Financial', 'resolution', 'Compliance', 'Auburn', 'Skills', 'Meeting', 'roles', 'Early', 'Auditing', 'Civil', 'business', 'Associate', 'Control', 'experience', 'companies', 'programs', 'omissions', 'modification', 'Dos', 'in', 'Learner', 'Prevention', 'payment', 'Nss', 'MORTGAGE', 'learner', 'Lead', 'Foreclosure', 'follow', '01/2010', 'Company', 'control', 'history', 'bank', '04/2003', 'Name', 'options', 'Tax', 'Lending', 'evaluation', 'Banking', 'opportunity', 'Loans', 'LES', 'Liability', 'Administration', 'Education', 'services', 'customer', 'Microsoft', 'attention', 'member', 'accordance', 'borrowers', 'inquiries', 'Service', 'property', 'Review', 'Powerpoint', 'income', 'Montgomery', 'Live', 'Preservation', 'requirements', 'Cash', 'F.H.A.', 'Team', 'characteristics', 'consumer', 'File', 'FORECLOSURE', 'DOS', 'Telephone', 'Problem', 'Reviewing', 'banking', 'Excel', 'processes', 'rating', 'reviews', 'Booking', 'Pipeline', 'Fha', 'Outlook', '1120S', 'adherence', 'software', 'C', 'Fast', 'Estate', 'Assessment', 'cases', 'Cases', 'Fixed', 'guidelines', 'Returns', 'verifications', 'LPS', 'maintenance', 'affordability', 'Security', 'ResWare', 'Verified', 'Summary', 'ratio', 'credit', 'Business', 'ups', 'Assurance', 'Credit', 'Underwriting', 'Trading', 'Word', 'Relief', 'methodology', '08/2008', 'Quality', 'customers', 'Management/', 'mainframes', '12/2013', 'transcripts', 'K-1', 'V.A.', 'Prevention/', 'Production', 'asset', 'Mitigation', 'II', 'sources', 'SCRA', 'S', 'knowledge', 'database']\n",
            "[]\n",
            "\n",
            "SENIOR CLIENT ADVOCATE II\n",
            "['product', 'Seven', 'City', 'impact', 'BlueCross', 'Systems', 'projects', 'changes', 'role', 'areas', 'record', 'Project', 'Risk', 'analysts', 'Motivated', 'Wireless', 'development', 'management', 'expense', 'coding', 'employees', 'Northampton', 'player', 'plans', 'FHIR', 'environment', 'Analyst', 'pricing', 'Blood', 'progress', 'years', 'Cable', 'HP', 'University', 'Military', 'planning', 'tools', 'architecture', 'SQL', 'users', 'ability', 'plan', 'Standards', 'programmers', 'Gabron', 'savings', 'Requirements', 'Operations', '-', 'board', 'College', 'project', 'research', 'Experience', 'Physical', 'teams', 'Training', 'Technology', 'Management', 'case', 'Accomplishments', 'Application', 'efficiency', 'Workflow', 'goals', 'acceptance', 'measure', 'Senior', 'acumen', 'Data', 'health', '12/2002', 'Information', 'time', 'Rock', 'Clinical', 'objectives', 'Colorectal', 'level', 'profits', 'members', 'products', '%', 'costs', 'actuals', 'Magna', 'marketing', 'installation', 'improvements', 'meetings', 'EHR', 'Test', 'Cum', 'industry', 'creation', 'defects', 'London', 'Pressure', 'Product', 'communication', 'Merit', 'issues', '03/1992', 'mapping', 'Bachelor', 'Cancer', 'documentation', 'interviews', 'Community', 'telecom', 'billing', 'forecast', 'V2', 'technology', 'Document', 'Manager', 'budget', 'State', 'data', 'stakeholders', 'procedures', 'bench', 'mitigation', 'CBP', 'Computer', 'company', 'principles', 'position', 'matrix', 'Interchange', 'claims', 'Architecture', 'Insurance', 'opportunities', 'Consolidate', 'information', 'SuppCRAIG', 'support', 'Workgroup', 'Developing', 'analyst', 'staff', 'BlueShield', 'telecommunications', 'Organization', 'Use', '12/2017', 'TRICARE', 'Client', 'Health', 'Skills', 'Collaboration', 'business', 'revenue', 'calculation', 'ï¼\\u200b', 'design', 'spending', 'ADVOCATE', 'visits', 'CRAIG', 'Electronic', 'results', 'solutions', 'South', 'row', 'process', 'Screening', 'Brand', 'telephone', 'team', 'performance', 'sessions', 'features', 'Company', 'Pennsylvania', 'CLIENT', 'Name', 'IT', 'tool', 'site', 'Level', 'Affiliations', 'Laude', 'Resources', 'updates', 'packetize', 'Education', 'customer', 'user', 'Duties', 'Service', 'Lifecycle', 'requirements', 'attachments', 'messages', 'system', 'Team', 'focus', 'test', 'MS', 'line', 'care', 'processes', 'Release', 'gap', 'reviews', 'Award', 'Meaningful', 'Fast', 'scripts', 'software', 'reports', 'cases', 'Net', 'cycles', 'needs', 'ordination', 'Carolina', 'Communications', 'Summary', 'leaders', 'Business', 'collaboration', 'use', 'Slippery', 'expertise', 'analysis', 'Advocate', 'feature', 'co', 'WEDI', 'accounting', 'relationship', 'measures', 'enhancements', 'England', 'HEDIS', 'testing', 'Healthcare', 'responsibilities', 'COL', 'sales', 'concepts', 'II', 'Science', 'knowledge']\n",
            "['Bachelor']\n",
            "\n",
            "LINE ATTENDANT\n",
            "['desires', 'City', 'product', 'Externship', 'orders', 'accuracy', 'tissue', 'cash', 'food', 'Talent', 'Retail', 'service', 'Upheld', 'Analysis', 'code', 'inventory', 'Scrubbed', 'Customer', 'Dictation', 'Records', 'merchandise', 'Certificate', 'management', 'development', 'coffee', 'employees', 'Results', 'vehicles', 'player', 'Sep', 'preparation', 'purchases', 'pricing', 'register', 'Trevose', 'Reconciling', 'shelves', 'promotions', 'levels', 'appointments', 'Cpr/', 'office', 'calls', 'Collected', 'beverages', 'Sanford', 'Line', 'slip', 'Described', 'Inventory', '-', 'floor', 'receipts', 'duties', 'assurance', 'Experience', 'shipping', 'Training', 'FDA', 'PA', 'instruments', 'Shipping', 'Accomplishments', 'Attendant', 'bag', 'Player', 'Seasonal', 'quality', 'time', 'equipment', 'Handling', 'CPR', 'ATTENDANT', 'Excellent', 'workers', 'policies', 'products', 'Highlights', 'exchanges', 'instructions', 'security', 'improvements', 'September', 'Fulfillment', 'material', 'standards', 'stores', 'Material', 'containers', 'Certifications', 'work', 'fountain', 'communication', 'order', 'operation', 'steam', 'patients', 'Receptionist', 'dishes', 'flow', 'Practices', 'stock', 'State', 'phone', 'Sales', 'procedures', 'Answering', 'deadlines', 'Cpr', 'break', 'Multi', 'Jan', 'activities', 'company', 'Telephones', 'pace', 'Promote', 'tea', 'dictation', 'physician', 'recommendations', 'shipments', 'information', 'Nov', 'LINE', 'statistics', 'availability', 'Feb', 'US', 'supplies', 'Register', 'glasses', 'Skills', 'Directed', 'items', 'ï¼\\u200b', 'Aug', 'Associate', 'Supervisor', 'background', 'results', 'Aid', 'rooms', '©', 'Pricing', 'tables', 'Office', 'payment', 'drive', 'Restaurant', 'SKILLS', 'tasker', 'laboratory', 'specimens', 'telephone', 'telephones', 'growth', 'examination', 'Company', 'history', 'prices', 'August', 'Strong', 'Name', 'Medical', 'Crew', 'storage', 'Flow', 'CafÃ', 'Brown', 'height', 'refreshments', 'Education', 'temperature', 'services', 'customer', 'Microsoft', 'signs', 'patron', 'Cash', 'Oct', 'Assistant', 'Duties', 'Certification', 'Service', 'Hostess', 'Activities', 'Cooked', 'Communication', 'Culinary', 'Team', 'goods', 'test', 'area', 'Telephone', 'care', 'insurance', 'Excel', 'Recommend', 'reference', 'closing', 'leader', 'Diploma', 'opening', 'lines', 'Ticketed', 'First', 'Competitive', 'needs', 'gauge', 'Osha', 'guidelines', 'Apr', 'counters', 'Fda', 'General', 'records', 'Institute', 'Security', 'Summary', 'credit', 'racks', 'kitchens', 'taking', 'restaurant', 'Assurance', 'Store', 'use', 'Credit', 'analysis', 'fulfillment', 'CERTIFICATIONS', 'blood', 'Word', 'date', 'Leadership', 'forms', 'brand', 'Arts', 'Quality', 'customers', 'practices', 'requests', 'weight', 'Answered', 'Testing', 'Laboratory', 'sales', 'Statistics', 'knowledge']\n",
            "[]\n",
            "\n",
            "SALON DESIGNER\n",
            "['SUNSTATE', 'product', 'City', 'malfunctions', 'desires', 'problem', 'Determine', 'Processor', 'cash', 'questions', 'styles', 'education', 'service', 'styling', 'transactions', 'Schedule', 'Order', 'andself-', 'Responsibilities', 'merchandise', 'package', 'Self', 'Power', 'need', 'techniques', 'player', 'center', 'charge', 'cutting', 'purchases', 'Set', 'Sep', 'shelves', 'promotions', 'appointments', 'October', 'office', 'title', 'employment', 'Appraisal', 'Package', 'Maintain', 'documents', 'Ms', 'Inventory', 'slips', 'Experience', 'client', 'requisition', 'Management', 'DESIGNER', 'month', 'tasks', 'Call', 'contact', 'skills', 'time', 'status', 'December', 'researching', 'decision', 'hair', 'equipment', 'Bilingual', 'level', 'arrange', 'Processors', 'Committed', 'reputation', 'satisfaction', 'products', 'policies', 'United', 'initiative', 'exchanges', 'drawers', 'marketing', 'security', 'registers', 'safety', 'standards', 'Prepare', 'Change', 'Answer', 'call', 'work', 'May', 'salon', 'communication', 'issues', 'Languages', 'validity', 'loans', 'ACADEMY', 'operations', 'order', 'Representative', 'operation', 'SAINT', 'fields', 'problems', 'Manager', 'stock', 'making', 'consultation', 'State', 'data', 'Sales', 'ownership', 'Cosmetology', 'procedures', 'Originators', 'Loan', 'value', 'company', 'Exchange', 'file', 'deposits', 'English', 'opportunities', 'atmosphere', 'information', 'cosmetics', 'support', 'cleanliness', 'professional', 'Point', 'clients', 'integrity', 'loan', 'supplies', 'vouchers', 'Assemble', 'SALON', 'Fulfill', 'January', 'Skills', 'business', 'Compliance', 'Associate', 'ï¼\\u200b', 'beauty', 'print', 'Essential', 'experience', 'appraisals', 'Salon', 'November', 'job', 'Aug', 'PETERSBURG', 'tables', 'Office', 'solutions', 'payment', 'group', 'benefits', 'inventories', 'features', 'Company', 'store', 'Compute', 'August', 'QC', 'Batteries', 'Name', 'prices', 'base', 'Center', 'coupons', 'accounts', 'Flow', 'June', 'Greet', 'stations', 'License', 'training', 'Professional', 'Education', 'style', 'customer', 'services', 'returns', 'Duties', 'inquiries', 'Watch', 'requirements', 'organization', 'Team', 'accomplishments', 'Overview', 'COLLEGE', 'subordinations', 'people', 'eager', 'care', 'periods', 'Excel', 'Regulatory', 'answers', 'Recommend', 'retail', 'closing', 'submission', 'Ticket', 'opening', 'sell', 'needs', 'trends', 'Career', 'maintenance', 'verifications', 'counters', 'General', 'records', 'credit', 'use', 'demeanor', 'money', 'Credit', 'Designer', 'locating', 'Word', 'Arts', 'relationship', 'customers', 'practices', 'States', 'requests', 'gifts', 'selection', 'LOS', 'Owner', 'attorney', 'term', 'Adobe', 'Greek', 'sales', 'mobility', 'knowledge', 'database']\n",
            "[]\n",
            "\n",
            "E-LEARNING DESIGNER\n",
            "['Â', 'Factors', 'sites', 'Patrick', 'development', 'management', 'variety', 'PowerPoint', 'Kutsch', 'storyboards', 'iMovie', '-', 'publications', '2007Â', 'User', 'Preparation', 'owners', 'technologies', 'School', 'Encoder', 'navigation', 'Master', 'leadership', 'Macedo', 'Excellent', 'DB2', 'Dantressangle', 'security', 'Design', 'Kenexa', 'z', 'UNIVERSITY', 'Certifications', 'Captivate', 'Tutorial', 'State', 'VMWare', 'learning', 'Wu', 'magazine', 'Brothers', 'Magazine', 'web', 'We', 'holders', 'WESTERN', 'High', 'information', 'Unix', 'proof', 'Paolo', 'January', 'Soccer', 'Green', 'background', 'Oracle', 'Vitor', 'SCORM', 'process', 'Instructional', 'Planning', 'AIX', 'Company', 'Name', 'forÂ', 'tool', 'June', 'methods', 'Affiliations', 'training', 'editor', 'BoardÂ', 'conferences', 'Board', 'Certification', 'p', 'Stakeholder', 'adult', 'Work', 'Outlook', 'software', 'C', 'LMS', 'learners', 'Math', 'Sabine', 'Designer', 'experts', 'ParticipantsÂ', 'TeamÂ', 'McGeoch', 'Skype', 'Gathered', 'methodologies', 'City', 'Ling', 'Developer', 'Drive', 'education', 'Innovation', 'Talent', 'Current', 'administrators', 'techniques', 'Apple', 'center', 'Tay', 'TECHNOLOGY', 'Technical', 'Hub', 'Swim', 'project', 'Procedures', 'Studio', 'Montini', 'Management', 'Player', 'Application', 'quality', 'Ability', 'Gmail', 'Paint', 'administrator', 'Data', 'resources', 'Academic', 'Record', 'INSTRUCTIONAL', 'COMPUTER', 'United', 'Support', 'Rome', 'DatabaseIBM', '501(r)Â', 'e', 'White', 'Reader', 'May', 'Bachelor', 'Gregory', 'Protecting', 'Media', 'Community', 'technology', 'Jan', 'Ming', 'knowledge', 'Sardana', 'Success', 'Snag', 'HTML', 'design', 'book', 'Society', 'Database', 'trainer', 'matter', 'Chong', 'Forms', 'Kathryn', 'department', 'Dayana', 'ILLINOIS', 'Service', 'expert', 'Team', 'Overview', 'content', 'resource', 'SharePoint', 'Version', 'Safety', 'subject', 'Career', 'Olympiad', 'Marichu', 'collaboration', 'analysis', 'Writing', 'Revolution', 'Voice', 'articles', 'Illinois', 'Workbench', 'American', 'problem', 'Youth', 'Dennis', 'Robert', 'E', 'Pro', 'Customer', 'eBook', 'designÂ', 'Publications', 'educator', 'Explorer', 'SQL', 'PENNSYLVANIA', 'ability', 'scenarios', 'Paper', 'Presentations', 'Experience', 'Training', 'Technology', 'Editing', 'understanding', 'stake', 'skills', 'SAP', 'time', 'David', 'Windows', 'F.', 'Test', 'Unites', 'computer', 'Visio', 'Coach', 'Greenstein', 'April', 'Leung', 'surveysÂ', 'manager', 'Bruni', 'Docs', 'Patient', 'modules', 'NIH', 'assessments', 'Schenker', 'Mark', 'Adept', 'Organization', 'Eaton', 'Skills', 'Michael', 'Kaschta', 'experience', 'SCIENCE', 'Athletic', 'Introduction', 'managers', 'implementation', 'Stored', 'pedagogy', 'Internet', 'Spain', 'budgets', 'York', 'developerWorks', 'compliance', 'Microsoft', 'Corporation', 'eLearning', 'Children', 'Sandburg', 'STATE', 'test', 'videos', 'Archiving', 'ID', 'Marina', 'Debra', 'lines', 'Group', 'Smith', 'Analysed', 'experiences', 'Qualifications', 'Platform', 'class', 'proposals', 'theories', 'Elmhurst', 'Word', 'schedules', 'DEPAUL', 'Adobe', 'concepts', 'Science', 'JavascriptÂ', 'boarding', 'materials', 'delivery', 'Newman', 'Volunteer', 'Marcel', 'Development', 'Project', 'Exam', 'ILT', 'Researched', 'Google', 'tools', 'online', 'Research', 'TRAINER', 'Cross-', 'OS', 'room', 'DESIGNER', 'scheduling', 'K.', 'tasks', 'Ricardo', 'Part', 'solution', 'video', 'Information', 'Boosters', 'objectives', 'President', 'pages', 'proficiency', 'd', 'Redbook', 'Book', 'outcomes', 'Rodrigues', 'data', 'Luca', 'Central', 'Hutchison', 'Facilities', 'Raul', 'Zeidenstein', 'ï¼\\u200b', 'Majcher', 'initiatives', 'Vandensande', 'D.', 'Tech', 'channel', 'Advisory', 'team', 'DESIGN', 'curriculum', 'Association', 'Chrome', 'Bockus', 'Grant', 'executives', 'Education', 'Academy', 'International', 'requirements', 'approaches', 'line', 'UDB', 'Excel', 'story', 'XML', 'Networks', 'IBM', 'feedback', 'needs', 'distance', 'Manoj', 'courses', 'Scanlon', 'Red', 'July', 'Demand', 'parties', 'SheetsÂ', 'States', 'Glenn', 'Expert', 'Human', 'YouTube']\n",
            "['Bachelor', 'Master']\n",
            "\n",
            "\n",
            "\n",
            "\n",
            ">>>>>>>>>>>>>>>>>>>>>>>>>>>>>>>>>>>>>>>>>>>>>>>\n",
            "\n",
            "\n",
            "\n",
            "Netflix\n",
            "Licensing Coordinator - Consumer Products\n",
            "2+ years experience in preferably outbound licensing. Understanding of category manufacturing and sales cycles for toys/food/beverage preferred. Experience with entertainment/lifestyle brands. Self-starter, proactive, flexible. Thrives under pressure. Superb organizational and multitasking skills. Excellent communication skills.\n",
            "N/A\n",
            "\n",
            "SOFTWARE ENGINEERING MANAGER\n",
            "['Beijing', 'engine', 'product', 'City', 'Engineer', 'encoder', 'servers', 'DTA', 'formats', 'bridge', 'projects', 'engineers', 'service', 'Development', 'Visual', 'Transcoder', 'Helper', 'code', 'Current', 'startup', 'developers', 'Project', 'India', 'scalability', 'development', 'management', 'HTML5', 'backup', 'explorer', 'Hercules', 'crash', 'concept', 'player', 'Principal', 'personnel', 'holding', 'desktop', 'years', 'tools', 'architecture', 'Helios', 'Engineering', 'protocol', 'SAX', 'integration', 'documents', 'ScrumMaster', '-', 'project', 'document', 'Experience', 'teams', 'Editing', 'client', 'layer', 'Scavenger', 'backend', 'Technology', 'functions', 'engineering', 'spinoff', 'URI', 'nodes', 'Initiated', 'Encoder', 'MediaBase', 'AAC', 'JavaScript', 'time', 'solution', 'CLI', 'Imagine', 'video', 'ENGINEERING', 'part', 'method', 'UI', 'core', 'level', 'review', 'threads', 'API', 'products', 'Windows', 'hands', 'reader', 'side', 'specification', 'legacy', 'classes', 'source', '24/7', 'pages', 'engineer', 'standards', 'troubleshoot', 'SOFTWARE', 'SDK', 'contents', 'Mercurial', 'issues', 'access', 'operation', 'domains', 'Media', 'effects', 'interviews', 'documentation', 'technology', '08/2009', 'top', 'manager', 'facilities', 'house', 'Manager', 'stack', 'MB', '+', 'State', 'export', 'Nexio', 'Bank', 'procedures', 'import', 'transitions', 'Computer', 'Proxy', 'Playout', 'JS', 'conditions', 'BCD', 'models', 'Burbank', 'modules', 'web', 'space', 'MP4', 'FTP', 'peer', 'opportunities', 'Content', 'evolution', 'clients', 'Suite', 'SAN', 'MANAGER', 'media', 'STL', 'design', 'offers', '09/2009', 'business', 'ï¼\\u200b', 'dump', 'drawing', 'Skills', 'experience', 'Global', 'National', 'HR', 'broadcast', 'HTTP', 'page', 'rendering', 'Jenkins', 'dash', 'container', 'engines', 'MFC', 'json', 'GPRX', 'revision', 'Video', 'NAS', 'handler', 'WinAPI', 'process', 'multi-', 'applications', 'decoder', 'vendor', 'request', 'picon', 'codec', 'audio', 'DASH', 'performance', 'team', 'success', 'Company', 'control', 'Win32', 'driver', 'editing', 'Render', 'Name', 'M.S', 'response', 'storage', 'Scrum', 'methods', 'Star', 'Software', 'JSON', 'C++', 'services', 'customer', 'style', 'Education', 'TCP', 'user', 'K', 'Corporation', 'Service', 'Picon', 'Hardware', 'Leitch', 'Communication', 'Team', 'ATL', 'unit', 'indirect', 'Requestor', 'Win', 'Handler', 'communications', 'content', 'atoms', 'reviews', 'XML', 'software', 'C', 'Harris', 'DLL', 'device', 'rules', 'metadata', 'guidelines', 'SOA', 'Naperville', 'parser', 'completion', 'framework', 'converter', 'IDs', 'Institute', 'Summary', '#', 'LAN', 'DPS', 'use', 'Velocity', 'analysis', 'components', 'domain', 'notification', '08/1997', 'party', 'deliverables', 'Illinois', 'IPC', 'MPEG', 'proxy', 'OOP', 'REST', 'testing', 'playback', 'Electronics', 'header', 'size', 'server', 'hand', 'ftp', 'workflows', 'sources', 'Science', '07/1997']\n",
            "[]\n",
            "\n",
            "MORTGAGE BANKING FORECLOSURE SPECIALIST\n",
            "['liability', 'City', 'weaknesses', 'repayment', 'cash', 'statements', 'Processor', 'Sharepoint', 'Solutions', 'Analysis', 'production', 'Lotus', 'Risk', 'Current', 'error', 'Profit', 'Schedule', 'Solver', 'logic', 'mortgage', 'management', 'Resolution', 'need', 'Bankruptcy', 'Specialist', 'environment', 'Analyst', 'RELS', 'years', 'Loss', 'University', 'Military', 'title', 'mortgages', 'volume', 'Documentation', 'plan', 'documents', 'Vendorscape', 'searches', 'Statements', 'Operations', 'recommendation', 'Clients', 'Experience', 'risk', 'Income', 'Management', 'instruments', 'tax', 'spectrum', 'Accomplishments', 'functions', 'applicant', 'Mae', 'SPECIALIST', 'quality', 'Consumer', 'Fannie', 'Audits', 'Articulate', 'goals', 'Ups', 'status', 'Data', 'review', 'FHA', 'Mortgage', 'level', 'milestones', 'Environment', '10/2011', 'self', 'products', 'policies', '%', 'StateMortgage', 'security', 'standards', 'Internal', 'industry', 'packages', 'Default', 'entry', 'errors', 'work', 'computer', 'Processing', 'Department', 'Federal', 'approvals', 'loans', 'Lenstar', 'Servicing', 'detail', 'Home', 'SLOAD', 'Connection', 'order', 'willingness', 'validity', 'baseline', 'documentation', 'Closing', 'Detail', 'DAT', 'BANKING', 'employer', 'house', 'Operations/', 'Document', 'exceptions', 'State', 'CREDCO', 'Science', 'underwriting', 'feasibility', '01/2014', 'procedures', 'strengths', 'Sales', 'Loan', 'MSP', 'Entry', 'company', 'definition', 'conditions', 'Ambitious', 'file', 'Corps', 'Title', 'Underwriter', 'paystubs', 'capacity', 'Act', 'peer', 'booking', 'Real', 'W2', 'professional', 'passion', '*', 'teammates', 'approval', 'clients', 'applicants', 'loan', 'Use', 'investor', 'Services', 'Financial', 'resolution', 'Compliance', 'Auburn', 'Skills', 'Meeting', 'roles', 'Early', 'Auditing', 'Civil', 'business', 'Associate', 'Control', 'experience', 'companies', 'programs', 'omissions', 'modification', 'Dos', 'in', 'Learner', 'Prevention', 'payment', 'Nss', 'MORTGAGE', 'learner', 'Lead', 'Foreclosure', 'follow', '01/2010', 'Company', 'control', 'history', 'bank', '04/2003', 'Name', 'options', 'Tax', 'Lending', 'evaluation', 'Banking', 'opportunity', 'Loans', 'LES', 'Liability', 'Administration', 'Education', 'services', 'customer', 'Microsoft', 'attention', 'member', 'accordance', 'borrowers', 'inquiries', 'Service', 'property', 'Review', 'Powerpoint', 'income', 'Montgomery', 'Live', 'Preservation', 'requirements', 'Cash', 'F.H.A.', 'Team', 'characteristics', 'consumer', 'File', 'FORECLOSURE', 'DOS', 'Telephone', 'Problem', 'Reviewing', 'banking', 'Excel', 'processes', 'rating', 'reviews', 'Booking', 'Pipeline', 'Fha', 'Outlook', '1120S', 'adherence', 'software', 'C', 'Fast', 'Estate', 'Assessment', 'cases', 'Cases', 'Fixed', 'guidelines', 'Returns', 'verifications', 'LPS', 'maintenance', 'affordability', 'Security', 'ResWare', 'Verified', 'Summary', 'ratio', 'credit', 'Business', 'ups', 'Assurance', 'Credit', 'Underwriting', 'Trading', 'Word', 'Relief', 'methodology', '08/2008', 'Quality', 'customers', 'Management/', 'mainframes', '12/2013', 'transcripts', 'K-1', 'V.A.', 'Prevention/', 'Production', 'asset', 'Mitigation', 'II', 'sources', 'SCRA', 'S', 'knowledge', 'database']\n",
            "[]\n",
            "\n",
            "SENIOR CLIENT ADVOCATE II\n",
            "['product', 'Seven', 'City', 'impact', 'BlueCross', 'Systems', 'projects', 'changes', 'role', 'areas', 'record', 'Project', 'Risk', 'analysts', 'Motivated', 'Wireless', 'development', 'management', 'expense', 'coding', 'employees', 'Northampton', 'player', 'plans', 'FHIR', 'environment', 'Analyst', 'pricing', 'Blood', 'progress', 'years', 'Cable', 'HP', 'University', 'Military', 'planning', 'tools', 'architecture', 'SQL', 'users', 'ability', 'plan', 'Standards', 'programmers', 'Gabron', 'savings', 'Requirements', 'Operations', '-', 'board', 'College', 'project', 'research', 'Experience', 'Physical', 'teams', 'Training', 'Technology', 'Management', 'case', 'Accomplishments', 'Application', 'efficiency', 'Workflow', 'goals', 'acceptance', 'measure', 'Senior', 'acumen', 'Data', 'health', '12/2002', 'Information', 'time', 'Rock', 'Clinical', 'objectives', 'Colorectal', 'level', 'profits', 'members', 'products', '%', 'costs', 'actuals', 'Magna', 'marketing', 'installation', 'improvements', 'meetings', 'EHR', 'Test', 'Cum', 'industry', 'creation', 'defects', 'London', 'Pressure', 'Product', 'communication', 'Merit', 'issues', '03/1992', 'mapping', 'Bachelor', 'Cancer', 'documentation', 'interviews', 'Community', 'telecom', 'billing', 'forecast', 'V2', 'technology', 'Document', 'Manager', 'budget', 'State', 'data', 'stakeholders', 'procedures', 'bench', 'mitigation', 'CBP', 'Computer', 'company', 'principles', 'position', 'matrix', 'Interchange', 'claims', 'Architecture', 'Insurance', 'opportunities', 'Consolidate', 'information', 'SuppCRAIG', 'support', 'Workgroup', 'Developing', 'analyst', 'staff', 'BlueShield', 'telecommunications', 'Organization', 'Use', '12/2017', 'TRICARE', 'Client', 'Health', 'Skills', 'Collaboration', 'business', 'revenue', 'calculation', 'ï¼\\u200b', 'design', 'spending', 'ADVOCATE', 'visits', 'CRAIG', 'Electronic', 'results', 'solutions', 'South', 'row', 'process', 'Screening', 'Brand', 'telephone', 'team', 'performance', 'sessions', 'features', 'Company', 'Pennsylvania', 'CLIENT', 'Name', 'IT', 'tool', 'site', 'Level', 'Affiliations', 'Laude', 'Resources', 'updates', 'packetize', 'Education', 'customer', 'user', 'Duties', 'Service', 'Lifecycle', 'requirements', 'attachments', 'messages', 'system', 'Team', 'focus', 'test', 'MS', 'line', 'care', 'processes', 'Release', 'gap', 'reviews', 'Award', 'Meaningful', 'Fast', 'scripts', 'software', 'reports', 'cases', 'Net', 'cycles', 'needs', 'ordination', 'Carolina', 'Communications', 'Summary', 'leaders', 'Business', 'collaboration', 'use', 'Slippery', 'expertise', 'analysis', 'Advocate', 'feature', 'co', 'WEDI', 'accounting', 'relationship', 'measures', 'enhancements', 'England', 'HEDIS', 'testing', 'Healthcare', 'responsibilities', 'COL', 'sales', 'concepts', 'II', 'Science', 'knowledge']\n",
            "['Bachelor']\n",
            "\n",
            "LINE ATTENDANT\n",
            "['desires', 'City', 'product', 'Externship', 'orders', 'accuracy', 'tissue', 'cash', 'food', 'Talent', 'Retail', 'service', 'Upheld', 'Analysis', 'code', 'inventory', 'Scrubbed', 'Customer', 'Dictation', 'Records', 'merchandise', 'Certificate', 'management', 'development', 'coffee', 'employees', 'Results', 'vehicles', 'player', 'Sep', 'preparation', 'purchases', 'pricing', 'register', 'Trevose', 'Reconciling', 'shelves', 'promotions', 'levels', 'appointments', 'Cpr/', 'office', 'calls', 'Collected', 'beverages', 'Sanford', 'Line', 'slip', 'Described', 'Inventory', '-', 'floor', 'receipts', 'duties', 'assurance', 'Experience', 'shipping', 'Training', 'FDA', 'PA', 'instruments', 'Shipping', 'Accomplishments', 'Attendant', 'bag', 'Player', 'Seasonal', 'quality', 'time', 'equipment', 'Handling', 'CPR', 'ATTENDANT', 'Excellent', 'workers', 'policies', 'products', 'Highlights', 'exchanges', 'instructions', 'security', 'improvements', 'September', 'Fulfillment', 'material', 'standards', 'stores', 'Material', 'containers', 'Certifications', 'work', 'fountain', 'communication', 'order', 'operation', 'steam', 'patients', 'Receptionist', 'dishes', 'flow', 'Practices', 'stock', 'State', 'phone', 'Sales', 'procedures', 'Answering', 'deadlines', 'Cpr', 'break', 'Multi', 'Jan', 'activities', 'company', 'Telephones', 'pace', 'Promote', 'tea', 'dictation', 'physician', 'recommendations', 'shipments', 'information', 'Nov', 'LINE', 'statistics', 'availability', 'Feb', 'US', 'supplies', 'Register', 'glasses', 'Skills', 'Directed', 'items', 'ï¼\\u200b', 'Aug', 'Associate', 'Supervisor', 'background', 'results', 'Aid', 'rooms', '©', 'Pricing', 'tables', 'Office', 'payment', 'drive', 'Restaurant', 'SKILLS', 'tasker', 'laboratory', 'specimens', 'telephone', 'telephones', 'growth', 'examination', 'Company', 'history', 'prices', 'August', 'Strong', 'Name', 'Medical', 'Crew', 'storage', 'Flow', 'CafÃ', 'Brown', 'height', 'refreshments', 'Education', 'temperature', 'services', 'customer', 'Microsoft', 'signs', 'patron', 'Cash', 'Oct', 'Assistant', 'Duties', 'Certification', 'Service', 'Hostess', 'Activities', 'Cooked', 'Communication', 'Culinary', 'Team', 'goods', 'test', 'area', 'Telephone', 'care', 'insurance', 'Excel', 'Recommend', 'reference', 'closing', 'leader', 'Diploma', 'opening', 'lines', 'Ticketed', 'First', 'Competitive', 'needs', 'gauge', 'Osha', 'guidelines', 'Apr', 'counters', 'Fda', 'General', 'records', 'Institute', 'Security', 'Summary', 'credit', 'racks', 'kitchens', 'taking', 'restaurant', 'Assurance', 'Store', 'use', 'Credit', 'analysis', 'fulfillment', 'CERTIFICATIONS', 'blood', 'Word', 'date', 'Leadership', 'forms', 'brand', 'Arts', 'Quality', 'customers', 'practices', 'requests', 'weight', 'Answered', 'Testing', 'Laboratory', 'sales', 'Statistics', 'knowledge']\n",
            "[]\n",
            "\n",
            "SALON DESIGNER\n",
            "['SUNSTATE', 'product', 'City', 'malfunctions', 'desires', 'problem', 'Determine', 'Processor', 'cash', 'questions', 'styles', 'education', 'service', 'styling', 'transactions', 'Schedule', 'Order', 'andself-', 'Responsibilities', 'merchandise', 'package', 'Self', 'Power', 'need', 'techniques', 'player', 'center', 'charge', 'cutting', 'purchases', 'Set', 'Sep', 'shelves', 'promotions', 'appointments', 'October', 'office', 'title', 'employment', 'Appraisal', 'Package', 'Maintain', 'documents', 'Ms', 'Inventory', 'slips', 'Experience', 'client', 'requisition', 'Management', 'DESIGNER', 'month', 'tasks', 'Call', 'contact', 'skills', 'time', 'status', 'December', 'researching', 'decision', 'hair', 'equipment', 'Bilingual', 'level', 'arrange', 'Processors', 'Committed', 'reputation', 'satisfaction', 'products', 'policies', 'United', 'initiative', 'exchanges', 'drawers', 'marketing', 'security', 'registers', 'safety', 'standards', 'Prepare', 'Change', 'Answer', 'call', 'work', 'May', 'salon', 'communication', 'issues', 'Languages', 'validity', 'loans', 'ACADEMY', 'operations', 'order', 'Representative', 'operation', 'SAINT', 'fields', 'problems', 'Manager', 'stock', 'making', 'consultation', 'State', 'data', 'Sales', 'ownership', 'Cosmetology', 'procedures', 'Originators', 'Loan', 'value', 'company', 'Exchange', 'file', 'deposits', 'English', 'opportunities', 'atmosphere', 'information', 'cosmetics', 'support', 'cleanliness', 'professional', 'Point', 'clients', 'integrity', 'loan', 'supplies', 'vouchers', 'Assemble', 'SALON', 'Fulfill', 'January', 'Skills', 'business', 'Compliance', 'Associate', 'ï¼\\u200b', 'beauty', 'print', 'Essential', 'experience', 'appraisals', 'Salon', 'November', 'job', 'Aug', 'PETERSBURG', 'tables', 'Office', 'solutions', 'payment', 'group', 'benefits', 'inventories', 'features', 'Company', 'store', 'Compute', 'August', 'QC', 'Batteries', 'Name', 'prices', 'base', 'Center', 'coupons', 'accounts', 'Flow', 'June', 'Greet', 'stations', 'License', 'training', 'Professional', 'Education', 'style', 'customer', 'services', 'returns', 'Duties', 'inquiries', 'Watch', 'requirements', 'organization', 'Team', 'accomplishments', 'Overview', 'COLLEGE', 'subordinations', 'people', 'eager', 'care', 'periods', 'Excel', 'Regulatory', 'answers', 'Recommend', 'retail', 'closing', 'submission', 'Ticket', 'opening', 'sell', 'needs', 'trends', 'Career', 'maintenance', 'verifications', 'counters', 'General', 'records', 'credit', 'use', 'demeanor', 'money', 'Credit', 'Designer', 'locating', 'Word', 'Arts', 'relationship', 'customers', 'practices', 'States', 'requests', 'gifts', 'selection', 'LOS', 'Owner', 'attorney', 'term', 'Adobe', 'Greek', 'sales', 'mobility', 'knowledge', 'database']\n",
            "[]\n",
            "\n",
            "E-LEARNING DESIGNER\n",
            "['Â', 'Factors', 'sites', 'Patrick', 'development', 'management', 'variety', 'PowerPoint', 'Kutsch', 'storyboards', 'iMovie', '-', 'publications', '2007Â', 'User', 'Preparation', 'owners', 'technologies', 'School', 'Encoder', 'navigation', 'Master', 'leadership', 'Macedo', 'Excellent', 'DB2', 'Dantressangle', 'security', 'Design', 'Kenexa', 'z', 'UNIVERSITY', 'Certifications', 'Captivate', 'Tutorial', 'State', 'VMWare', 'learning', 'Wu', 'magazine', 'Brothers', 'Magazine', 'web', 'We', 'holders', 'WESTERN', 'High', 'information', 'Unix', 'proof', 'Paolo', 'January', 'Soccer', 'Green', 'background', 'Oracle', 'Vitor', 'SCORM', 'process', 'Instructional', 'Planning', 'AIX', 'Company', 'Name', 'forÂ', 'tool', 'June', 'methods', 'Affiliations', 'training', 'editor', 'BoardÂ', 'conferences', 'Board', 'Certification', 'p', 'Stakeholder', 'adult', 'Work', 'Outlook', 'software', 'C', 'LMS', 'learners', 'Math', 'Sabine', 'Designer', 'experts', 'ParticipantsÂ', 'TeamÂ', 'McGeoch', 'Skype', 'Gathered', 'methodologies', 'City', 'Ling', 'Developer', 'Drive', 'education', 'Innovation', 'Talent', 'Current', 'administrators', 'techniques', 'Apple', 'center', 'Tay', 'TECHNOLOGY', 'Technical', 'Hub', 'Swim', 'project', 'Procedures', 'Studio', 'Montini', 'Management', 'Player', 'Application', 'quality', 'Ability', 'Gmail', 'Paint', 'administrator', 'Data', 'resources', 'Academic', 'Record', 'INSTRUCTIONAL', 'COMPUTER', 'United', 'Support', 'Rome', 'DatabaseIBM', '501(r)Â', 'e', 'White', 'Reader', 'May', 'Bachelor', 'Gregory', 'Protecting', 'Media', 'Community', 'technology', 'Jan', 'Ming', 'knowledge', 'Sardana', 'Success', 'Snag', 'HTML', 'design', 'book', 'Society', 'Database', 'trainer', 'matter', 'Chong', 'Forms', 'Kathryn', 'department', 'Dayana', 'ILLINOIS', 'Service', 'expert', 'Team', 'Overview', 'content', 'resource', 'SharePoint', 'Version', 'Safety', 'subject', 'Career', 'Olympiad', 'Marichu', 'collaboration', 'analysis', 'Writing', 'Revolution', 'Voice', 'articles', 'Illinois', 'Workbench', 'American', 'problem', 'Youth', 'Dennis', 'Robert', 'E', 'Pro', 'Customer', 'eBook', 'designÂ', 'Publications', 'educator', 'Explorer', 'SQL', 'PENNSYLVANIA', 'ability', 'scenarios', 'Paper', 'Presentations', 'Experience', 'Training', 'Technology', 'Editing', 'understanding', 'stake', 'skills', 'SAP', 'time', 'David', 'Windows', 'F.', 'Test', 'Unites', 'computer', 'Visio', 'Coach', 'Greenstein', 'April', 'Leung', 'surveysÂ', 'manager', 'Bruni', 'Docs', 'Patient', 'modules', 'NIH', 'assessments', 'Schenker', 'Mark', 'Adept', 'Organization', 'Eaton', 'Skills', 'Michael', 'Kaschta', 'experience', 'SCIENCE', 'Athletic', 'Introduction', 'managers', 'implementation', 'Stored', 'pedagogy', 'Internet', 'Spain', 'budgets', 'York', 'developerWorks', 'compliance', 'Microsoft', 'Corporation', 'eLearning', 'Children', 'Sandburg', 'STATE', 'test', 'videos', 'Archiving', 'ID', 'Marina', 'Debra', 'lines', 'Group', 'Smith', 'Analysed', 'experiences', 'Qualifications', 'Platform', 'class', 'proposals', 'theories', 'Elmhurst', 'Word', 'schedules', 'DEPAUL', 'Adobe', 'concepts', 'Science', 'JavascriptÂ', 'boarding', 'materials', 'delivery', 'Newman', 'Volunteer', 'Marcel', 'Development', 'Project', 'Exam', 'ILT', 'Researched', 'Google', 'tools', 'online', 'Research', 'TRAINER', 'Cross-', 'OS', 'room', 'DESIGNER', 'scheduling', 'K.', 'tasks', 'Ricardo', 'Part', 'solution', 'video', 'Information', 'Boosters', 'objectives', 'President', 'pages', 'proficiency', 'd', 'Redbook', 'Book', 'outcomes', 'Rodrigues', 'data', 'Luca', 'Central', 'Hutchison', 'Facilities', 'Raul', 'Zeidenstein', 'ï¼\\u200b', 'Majcher', 'initiatives', 'Vandensande', 'D.', 'Tech', 'channel', 'Advisory', 'team', 'DESIGN', 'curriculum', 'Association', 'Chrome', 'Bockus', 'Grant', 'executives', 'Education', 'Academy', 'International', 'requirements', 'approaches', 'line', 'UDB', 'Excel', 'story', 'XML', 'Networks', 'IBM', 'feedback', 'needs', 'distance', 'Manoj', 'courses', 'Scanlon', 'Red', 'July', 'Demand', 'parties', 'SheetsÂ', 'States', 'Glenn', 'Expert', 'Human', 'YouTube']\n",
            "['Bachelor', 'Master']\n",
            "\n",
            "\n",
            "\n",
            "\n",
            ">>>>>>>>>>>>>>>>>>>>>>>>>>>>>>>>>>>>>>>>>>>>>>>\n",
            "\n",
            "\n",
            "\n",
            "Robert Half\n",
            "Web Designer\n",
            "2+ years experience in web design. Proficiency with Adobe Creative Cloud (Photoshop, Illustrator, InDesign). Strong HTML, CSS, JavaScript skills. Familiarity with content management systems.\n",
            "N/A\n",
            "\n",
            "SOFTWARE ENGINEERING MANAGER\n",
            "['Beijing', 'engine', 'product', 'City', 'Engineer', 'encoder', 'servers', 'DTA', 'formats', 'bridge', 'projects', 'engineers', 'service', 'Development', 'Visual', 'Transcoder', 'Helper', 'code', 'Current', 'startup', 'developers', 'Project', 'India', 'scalability', 'development', 'management', 'HTML5', 'backup', 'explorer', 'Hercules', 'crash', 'concept', 'player', 'Principal', 'personnel', 'holding', 'desktop', 'years', 'tools', 'architecture', 'Helios', 'Engineering', 'protocol', 'SAX', 'integration', 'documents', 'ScrumMaster', '-', 'project', 'document', 'Experience', 'teams', 'Editing', 'client', 'layer', 'Scavenger', 'backend', 'Technology', 'functions', 'engineering', 'spinoff', 'URI', 'nodes', 'Initiated', 'Encoder', 'MediaBase', 'AAC', 'JavaScript', 'time', 'solution', 'CLI', 'Imagine', 'video', 'ENGINEERING', 'part', 'method', 'UI', 'core', 'level', 'review', 'threads', 'API', 'products', 'Windows', 'hands', 'reader', 'side', 'specification', 'legacy', 'classes', 'source', '24/7', 'pages', 'engineer', 'standards', 'troubleshoot', 'SOFTWARE', 'SDK', 'contents', 'Mercurial', 'issues', 'access', 'operation', 'domains', 'Media', 'effects', 'interviews', 'documentation', 'technology', '08/2009', 'top', 'manager', 'facilities', 'house', 'Manager', 'stack', 'MB', '+', 'State', 'export', 'Nexio', 'Bank', 'procedures', 'import', 'transitions', 'Computer', 'Proxy', 'Playout', 'JS', 'conditions', 'BCD', 'models', 'Burbank', 'modules', 'web', 'space', 'MP4', 'FTP', 'peer', 'opportunities', 'Content', 'evolution', 'clients', 'Suite', 'SAN', 'MANAGER', 'media', 'STL', 'design', 'offers', '09/2009', 'business', 'ï¼\\u200b', 'dump', 'drawing', 'Skills', 'experience', 'Global', 'National', 'HR', 'broadcast', 'HTTP', 'page', 'rendering', 'Jenkins', 'dash', 'container', 'engines', 'MFC', 'json', 'GPRX', 'revision', 'Video', 'NAS', 'handler', 'WinAPI', 'process', 'multi-', 'applications', 'decoder', 'vendor', 'request', 'picon', 'codec', 'audio', 'DASH', 'performance', 'team', 'success', 'Company', 'control', 'Win32', 'driver', 'editing', 'Render', 'Name', 'M.S', 'response', 'storage', 'Scrum', 'methods', 'Star', 'Software', 'JSON', 'C++', 'services', 'customer', 'style', 'Education', 'TCP', 'user', 'K', 'Corporation', 'Service', 'Picon', 'Hardware', 'Leitch', 'Communication', 'Team', 'ATL', 'unit', 'indirect', 'Requestor', 'Win', 'Handler', 'communications', 'content', 'atoms', 'reviews', 'XML', 'software', 'C', 'Harris', 'DLL', 'device', 'rules', 'metadata', 'guidelines', 'SOA', 'Naperville', 'parser', 'completion', 'framework', 'converter', 'IDs', 'Institute', 'Summary', '#', 'LAN', 'DPS', 'use', 'Velocity', 'analysis', 'components', 'domain', 'notification', '08/1997', 'party', 'deliverables', 'Illinois', 'IPC', 'MPEG', 'proxy', 'OOP', 'REST', 'testing', 'playback', 'Electronics', 'header', 'size', 'server', 'hand', 'ftp', 'workflows', 'sources', 'Science', '07/1997']\n",
            "[]\n",
            "\n",
            "MORTGAGE BANKING FORECLOSURE SPECIALIST\n",
            "['liability', 'City', 'weaknesses', 'repayment', 'cash', 'statements', 'Processor', 'Sharepoint', 'Solutions', 'Analysis', 'production', 'Lotus', 'Risk', 'Current', 'error', 'Profit', 'Schedule', 'Solver', 'logic', 'mortgage', 'management', 'Resolution', 'need', 'Bankruptcy', 'Specialist', 'environment', 'Analyst', 'RELS', 'years', 'Loss', 'University', 'Military', 'title', 'mortgages', 'volume', 'Documentation', 'plan', 'documents', 'Vendorscape', 'searches', 'Statements', 'Operations', 'recommendation', 'Clients', 'Experience', 'risk', 'Income', 'Management', 'instruments', 'tax', 'spectrum', 'Accomplishments', 'functions', 'applicant', 'Mae', 'SPECIALIST', 'quality', 'Consumer', 'Fannie', 'Audits', 'Articulate', 'goals', 'Ups', 'status', 'Data', 'review', 'FHA', 'Mortgage', 'level', 'milestones', 'Environment', '10/2011', 'self', 'products', 'policies', '%', 'StateMortgage', 'security', 'standards', 'Internal', 'industry', 'packages', 'Default', 'entry', 'errors', 'work', 'computer', 'Processing', 'Department', 'Federal', 'approvals', 'loans', 'Lenstar', 'Servicing', 'detail', 'Home', 'SLOAD', 'Connection', 'order', 'willingness', 'validity', 'baseline', 'documentation', 'Closing', 'Detail', 'DAT', 'BANKING', 'employer', 'house', 'Operations/', 'Document', 'exceptions', 'State', 'CREDCO', 'Science', 'underwriting', 'feasibility', '01/2014', 'procedures', 'strengths', 'Sales', 'Loan', 'MSP', 'Entry', 'company', 'definition', 'conditions', 'Ambitious', 'file', 'Corps', 'Title', 'Underwriter', 'paystubs', 'capacity', 'Act', 'peer', 'booking', 'Real', 'W2', 'professional', 'passion', '*', 'teammates', 'approval', 'clients', 'applicants', 'loan', 'Use', 'investor', 'Services', 'Financial', 'resolution', 'Compliance', 'Auburn', 'Skills', 'Meeting', 'roles', 'Early', 'Auditing', 'Civil', 'business', 'Associate', 'Control', 'experience', 'companies', 'programs', 'omissions', 'modification', 'Dos', 'in', 'Learner', 'Prevention', 'payment', 'Nss', 'MORTGAGE', 'learner', 'Lead', 'Foreclosure', 'follow', '01/2010', 'Company', 'control', 'history', 'bank', '04/2003', 'Name', 'options', 'Tax', 'Lending', 'evaluation', 'Banking', 'opportunity', 'Loans', 'LES', 'Liability', 'Administration', 'Education', 'services', 'customer', 'Microsoft', 'attention', 'member', 'accordance', 'borrowers', 'inquiries', 'Service', 'property', 'Review', 'Powerpoint', 'income', 'Montgomery', 'Live', 'Preservation', 'requirements', 'Cash', 'F.H.A.', 'Team', 'characteristics', 'consumer', 'File', 'FORECLOSURE', 'DOS', 'Telephone', 'Problem', 'Reviewing', 'banking', 'Excel', 'processes', 'rating', 'reviews', 'Booking', 'Pipeline', 'Fha', 'Outlook', '1120S', 'adherence', 'software', 'C', 'Fast', 'Estate', 'Assessment', 'cases', 'Cases', 'Fixed', 'guidelines', 'Returns', 'verifications', 'LPS', 'maintenance', 'affordability', 'Security', 'ResWare', 'Verified', 'Summary', 'ratio', 'credit', 'Business', 'ups', 'Assurance', 'Credit', 'Underwriting', 'Trading', 'Word', 'Relief', 'methodology', '08/2008', 'Quality', 'customers', 'Management/', 'mainframes', '12/2013', 'transcripts', 'K-1', 'V.A.', 'Prevention/', 'Production', 'asset', 'Mitigation', 'II', 'sources', 'SCRA', 'S', 'knowledge', 'database']\n",
            "[]\n",
            "\n",
            "SENIOR CLIENT ADVOCATE II\n",
            "['product', 'Seven', 'City', 'impact', 'BlueCross', 'Systems', 'projects', 'changes', 'role', 'areas', 'record', 'Project', 'Risk', 'analysts', 'Motivated', 'Wireless', 'development', 'management', 'expense', 'coding', 'employees', 'Northampton', 'player', 'plans', 'FHIR', 'environment', 'Analyst', 'pricing', 'Blood', 'progress', 'years', 'Cable', 'HP', 'University', 'Military', 'planning', 'tools', 'architecture', 'SQL', 'users', 'ability', 'plan', 'Standards', 'programmers', 'Gabron', 'savings', 'Requirements', 'Operations', '-', 'board', 'College', 'project', 'research', 'Experience', 'Physical', 'teams', 'Training', 'Technology', 'Management', 'case', 'Accomplishments', 'Application', 'efficiency', 'Workflow', 'goals', 'acceptance', 'measure', 'Senior', 'acumen', 'Data', 'health', '12/2002', 'Information', 'time', 'Rock', 'Clinical', 'objectives', 'Colorectal', 'level', 'profits', 'members', 'products', '%', 'costs', 'actuals', 'Magna', 'marketing', 'installation', 'improvements', 'meetings', 'EHR', 'Test', 'Cum', 'industry', 'creation', 'defects', 'London', 'Pressure', 'Product', 'communication', 'Merit', 'issues', '03/1992', 'mapping', 'Bachelor', 'Cancer', 'documentation', 'interviews', 'Community', 'telecom', 'billing', 'forecast', 'V2', 'technology', 'Document', 'Manager', 'budget', 'State', 'data', 'stakeholders', 'procedures', 'bench', 'mitigation', 'CBP', 'Computer', 'company', 'principles', 'position', 'matrix', 'Interchange', 'claims', 'Architecture', 'Insurance', 'opportunities', 'Consolidate', 'information', 'SuppCRAIG', 'support', 'Workgroup', 'Developing', 'analyst', 'staff', 'BlueShield', 'telecommunications', 'Organization', 'Use', '12/2017', 'TRICARE', 'Client', 'Health', 'Skills', 'Collaboration', 'business', 'revenue', 'calculation', 'ï¼\\u200b', 'design', 'spending', 'ADVOCATE', 'visits', 'CRAIG', 'Electronic', 'results', 'solutions', 'South', 'row', 'process', 'Screening', 'Brand', 'telephone', 'team', 'performance', 'sessions', 'features', 'Company', 'Pennsylvania', 'CLIENT', 'Name', 'IT', 'tool', 'site', 'Level', 'Affiliations', 'Laude', 'Resources', 'updates', 'packetize', 'Education', 'customer', 'user', 'Duties', 'Service', 'Lifecycle', 'requirements', 'attachments', 'messages', 'system', 'Team', 'focus', 'test', 'MS', 'line', 'care', 'processes', 'Release', 'gap', 'reviews', 'Award', 'Meaningful', 'Fast', 'scripts', 'software', 'reports', 'cases', 'Net', 'cycles', 'needs', 'ordination', 'Carolina', 'Communications', 'Summary', 'leaders', 'Business', 'collaboration', 'use', 'Slippery', 'expertise', 'analysis', 'Advocate', 'feature', 'co', 'WEDI', 'accounting', 'relationship', 'measures', 'enhancements', 'England', 'HEDIS', 'testing', 'Healthcare', 'responsibilities', 'COL', 'sales', 'concepts', 'II', 'Science', 'knowledge']\n",
            "['Bachelor']\n",
            "\n",
            "LINE ATTENDANT\n",
            "['desires', 'City', 'product', 'Externship', 'orders', 'accuracy', 'tissue', 'cash', 'food', 'Talent', 'Retail', 'service', 'Upheld', 'Analysis', 'code', 'inventory', 'Scrubbed', 'Customer', 'Dictation', 'Records', 'merchandise', 'Certificate', 'management', 'development', 'coffee', 'employees', 'Results', 'vehicles', 'player', 'Sep', 'preparation', 'purchases', 'pricing', 'register', 'Trevose', 'Reconciling', 'shelves', 'promotions', 'levels', 'appointments', 'Cpr/', 'office', 'calls', 'Collected', 'beverages', 'Sanford', 'Line', 'slip', 'Described', 'Inventory', '-', 'floor', 'receipts', 'duties', 'assurance', 'Experience', 'shipping', 'Training', 'FDA', 'PA', 'instruments', 'Shipping', 'Accomplishments', 'Attendant', 'bag', 'Player', 'Seasonal', 'quality', 'time', 'equipment', 'Handling', 'CPR', 'ATTENDANT', 'Excellent', 'workers', 'policies', 'products', 'Highlights', 'exchanges', 'instructions', 'security', 'improvements', 'September', 'Fulfillment', 'material', 'standards', 'stores', 'Material', 'containers', 'Certifications', 'work', 'fountain', 'communication', 'order', 'operation', 'steam', 'patients', 'Receptionist', 'dishes', 'flow', 'Practices', 'stock', 'State', 'phone', 'Sales', 'procedures', 'Answering', 'deadlines', 'Cpr', 'break', 'Multi', 'Jan', 'activities', 'company', 'Telephones', 'pace', 'Promote', 'tea', 'dictation', 'physician', 'recommendations', 'shipments', 'information', 'Nov', 'LINE', 'statistics', 'availability', 'Feb', 'US', 'supplies', 'Register', 'glasses', 'Skills', 'Directed', 'items', 'ï¼\\u200b', 'Aug', 'Associate', 'Supervisor', 'background', 'results', 'Aid', 'rooms', '©', 'Pricing', 'tables', 'Office', 'payment', 'drive', 'Restaurant', 'SKILLS', 'tasker', 'laboratory', 'specimens', 'telephone', 'telephones', 'growth', 'examination', 'Company', 'history', 'prices', 'August', 'Strong', 'Name', 'Medical', 'Crew', 'storage', 'Flow', 'CafÃ', 'Brown', 'height', 'refreshments', 'Education', 'temperature', 'services', 'customer', 'Microsoft', 'signs', 'patron', 'Cash', 'Oct', 'Assistant', 'Duties', 'Certification', 'Service', 'Hostess', 'Activities', 'Cooked', 'Communication', 'Culinary', 'Team', 'goods', 'test', 'area', 'Telephone', 'care', 'insurance', 'Excel', 'Recommend', 'reference', 'closing', 'leader', 'Diploma', 'opening', 'lines', 'Ticketed', 'First', 'Competitive', 'needs', 'gauge', 'Osha', 'guidelines', 'Apr', 'counters', 'Fda', 'General', 'records', 'Institute', 'Security', 'Summary', 'credit', 'racks', 'kitchens', 'taking', 'restaurant', 'Assurance', 'Store', 'use', 'Credit', 'analysis', 'fulfillment', 'CERTIFICATIONS', 'blood', 'Word', 'date', 'Leadership', 'forms', 'brand', 'Arts', 'Quality', 'customers', 'practices', 'requests', 'weight', 'Answered', 'Testing', 'Laboratory', 'sales', 'Statistics', 'knowledge']\n",
            "[]\n",
            "\n",
            "SALON DESIGNER\n",
            "['SUNSTATE', 'product', 'City', 'malfunctions', 'desires', 'problem', 'Determine', 'Processor', 'cash', 'questions', 'styles', 'education', 'service', 'styling', 'transactions', 'Schedule', 'Order', 'andself-', 'Responsibilities', 'merchandise', 'package', 'Self', 'Power', 'need', 'techniques', 'player', 'center', 'charge', 'cutting', 'purchases', 'Set', 'Sep', 'shelves', 'promotions', 'appointments', 'October', 'office', 'title', 'employment', 'Appraisal', 'Package', 'Maintain', 'documents', 'Ms', 'Inventory', 'slips', 'Experience', 'client', 'requisition', 'Management', 'DESIGNER', 'month', 'tasks', 'Call', 'contact', 'skills', 'time', 'status', 'December', 'researching', 'decision', 'hair', 'equipment', 'Bilingual', 'level', 'arrange', 'Processors', 'Committed', 'reputation', 'satisfaction', 'products', 'policies', 'United', 'initiative', 'exchanges', 'drawers', 'marketing', 'security', 'registers', 'safety', 'standards', 'Prepare', 'Change', 'Answer', 'call', 'work', 'May', 'salon', 'communication', 'issues', 'Languages', 'validity', 'loans', 'ACADEMY', 'operations', 'order', 'Representative', 'operation', 'SAINT', 'fields', 'problems', 'Manager', 'stock', 'making', 'consultation', 'State', 'data', 'Sales', 'ownership', 'Cosmetology', 'procedures', 'Originators', 'Loan', 'value', 'company', 'Exchange', 'file', 'deposits', 'English', 'opportunities', 'atmosphere', 'information', 'cosmetics', 'support', 'cleanliness', 'professional', 'Point', 'clients', 'integrity', 'loan', 'supplies', 'vouchers', 'Assemble', 'SALON', 'Fulfill', 'January', 'Skills', 'business', 'Compliance', 'Associate', 'ï¼\\u200b', 'beauty', 'print', 'Essential', 'experience', 'appraisals', 'Salon', 'November', 'job', 'Aug', 'PETERSBURG', 'tables', 'Office', 'solutions', 'payment', 'group', 'benefits', 'inventories', 'features', 'Company', 'store', 'Compute', 'August', 'QC', 'Batteries', 'Name', 'prices', 'base', 'Center', 'coupons', 'accounts', 'Flow', 'June', 'Greet', 'stations', 'License', 'training', 'Professional', 'Education', 'style', 'customer', 'services', 'returns', 'Duties', 'inquiries', 'Watch', 'requirements', 'organization', 'Team', 'accomplishments', 'Overview', 'COLLEGE', 'subordinations', 'people', 'eager', 'care', 'periods', 'Excel', 'Regulatory', 'answers', 'Recommend', 'retail', 'closing', 'submission', 'Ticket', 'opening', 'sell', 'needs', 'trends', 'Career', 'maintenance', 'verifications', 'counters', 'General', 'records', 'credit', 'use', 'demeanor', 'money', 'Credit', 'Designer', 'locating', 'Word', 'Arts', 'relationship', 'customers', 'practices', 'States', 'requests', 'gifts', 'selection', 'LOS', 'Owner', 'attorney', 'term', 'Adobe', 'Greek', 'sales', 'mobility', 'knowledge', 'database']\n",
            "[]\n",
            "\n",
            "E-LEARNING DESIGNER\n",
            "['Â', 'Factors', 'sites', 'Patrick', 'development', 'management', 'variety', 'PowerPoint', 'Kutsch', 'storyboards', 'iMovie', '-', 'publications', '2007Â', 'User', 'Preparation', 'owners', 'technologies', 'School', 'Encoder', 'navigation', 'Master', 'leadership', 'Macedo', 'Excellent', 'DB2', 'Dantressangle', 'security', 'Design', 'Kenexa', 'z', 'UNIVERSITY', 'Certifications', 'Captivate', 'Tutorial', 'State', 'VMWare', 'learning', 'Wu', 'magazine', 'Brothers', 'Magazine', 'web', 'We', 'holders', 'WESTERN', 'High', 'information', 'Unix', 'proof', 'Paolo', 'January', 'Soccer', 'Green', 'background', 'Oracle', 'Vitor', 'SCORM', 'process', 'Instructional', 'Planning', 'AIX', 'Company', 'Name', 'forÂ', 'tool', 'June', 'methods', 'Affiliations', 'training', 'editor', 'BoardÂ', 'conferences', 'Board', 'Certification', 'p', 'Stakeholder', 'adult', 'Work', 'Outlook', 'software', 'C', 'LMS', 'learners', 'Math', 'Sabine', 'Designer', 'experts', 'ParticipantsÂ', 'TeamÂ', 'McGeoch', 'Skype', 'Gathered', 'methodologies', 'City', 'Ling', 'Developer', 'Drive', 'education', 'Innovation', 'Talent', 'Current', 'administrators', 'techniques', 'Apple', 'center', 'Tay', 'TECHNOLOGY', 'Technical', 'Hub', 'Swim', 'project', 'Procedures', 'Studio', 'Montini', 'Management', 'Player', 'Application', 'quality', 'Ability', 'Gmail', 'Paint', 'administrator', 'Data', 'resources', 'Academic', 'Record', 'INSTRUCTIONAL', 'COMPUTER', 'United', 'Support', 'Rome', 'DatabaseIBM', '501(r)Â', 'e', 'White', 'Reader', 'May', 'Bachelor', 'Gregory', 'Protecting', 'Media', 'Community', 'technology', 'Jan', 'Ming', 'knowledge', 'Sardana', 'Success', 'Snag', 'HTML', 'design', 'book', 'Society', 'Database', 'trainer', 'matter', 'Chong', 'Forms', 'Kathryn', 'department', 'Dayana', 'ILLINOIS', 'Service', 'expert', 'Team', 'Overview', 'content', 'resource', 'SharePoint', 'Version', 'Safety', 'subject', 'Career', 'Olympiad', 'Marichu', 'collaboration', 'analysis', 'Writing', 'Revolution', 'Voice', 'articles', 'Illinois', 'Workbench', 'American', 'problem', 'Youth', 'Dennis', 'Robert', 'E', 'Pro', 'Customer', 'eBook', 'designÂ', 'Publications', 'educator', 'Explorer', 'SQL', 'PENNSYLVANIA', 'ability', 'scenarios', 'Paper', 'Presentations', 'Experience', 'Training', 'Technology', 'Editing', 'understanding', 'stake', 'skills', 'SAP', 'time', 'David', 'Windows', 'F.', 'Test', 'Unites', 'computer', 'Visio', 'Coach', 'Greenstein', 'April', 'Leung', 'surveysÂ', 'manager', 'Bruni', 'Docs', 'Patient', 'modules', 'NIH', 'assessments', 'Schenker', 'Mark', 'Adept', 'Organization', 'Eaton', 'Skills', 'Michael', 'Kaschta', 'experience', 'SCIENCE', 'Athletic', 'Introduction', 'managers', 'implementation', 'Stored', 'pedagogy', 'Internet', 'Spain', 'budgets', 'York', 'developerWorks', 'compliance', 'Microsoft', 'Corporation', 'eLearning', 'Children', 'Sandburg', 'STATE', 'test', 'videos', 'Archiving', 'ID', 'Marina', 'Debra', 'lines', 'Group', 'Smith', 'Analysed', 'experiences', 'Qualifications', 'Platform', 'class', 'proposals', 'theories', 'Elmhurst', 'Word', 'schedules', 'DEPAUL', 'Adobe', 'concepts', 'Science', 'JavascriptÂ', 'boarding', 'materials', 'delivery', 'Newman', 'Volunteer', 'Marcel', 'Development', 'Project', 'Exam', 'ILT', 'Researched', 'Google', 'tools', 'online', 'Research', 'TRAINER', 'Cross-', 'OS', 'room', 'DESIGNER', 'scheduling', 'K.', 'tasks', 'Ricardo', 'Part', 'solution', 'video', 'Information', 'Boosters', 'objectives', 'President', 'pages', 'proficiency', 'd', 'Redbook', 'Book', 'outcomes', 'Rodrigues', 'data', 'Luca', 'Central', 'Hutchison', 'Facilities', 'Raul', 'Zeidenstein', 'ï¼\\u200b', 'Majcher', 'initiatives', 'Vandensande', 'D.', 'Tech', 'channel', 'Advisory', 'team', 'DESIGN', 'curriculum', 'Association', 'Chrome', 'Bockus', 'Grant', 'executives', 'Education', 'Academy', 'International', 'requirements', 'approaches', 'line', 'UDB', 'Excel', 'story', 'XML', 'Networks', 'IBM', 'feedback', 'needs', 'distance', 'Manoj', 'courses', 'Scanlon', 'Red', 'July', 'Demand', 'parties', 'SheetsÂ', 'States', 'Glenn', 'Expert', 'Human', 'YouTube']\n",
            "['Bachelor', 'Master']\n",
            "\n",
            "\n",
            "\n",
            "\n",
            ">>>>>>>>>>>>>>>>>>>>>>>>>>>>>>>>>>>>>>>>>>>>>>>\n",
            "\n",
            "\n",
            "\n",
            "TrackFive\n",
            "Web Developer\n",
            "2+ years of experience with HTML and CSS/SASS, 2+ years of experience with programming PHP applications and LAMP stack development, experience with ES6 JavaScript and jQuery, thorough understanding of relational databases and security relating to PHP/MySQL, expert knowledge with content management systems either from your own design or from MVC frameworks such as Zend, Laravel etc., ability to build and consume custom SOAP and REST APIs, 2+ years of experience writing unit tests detailing procedures, self-motivated requiring minimal supervision, exceptional organization and communication skills\n",
            "N/A\n",
            "\n",
            "SOFTWARE ENGINEERING MANAGER\n",
            "['Beijing', 'engine', 'product', 'City', 'Engineer', 'encoder', 'servers', 'DTA', 'formats', 'bridge', 'projects', 'engineers', 'service', 'Development', 'Visual', 'Transcoder', 'Helper', 'code', 'Current', 'startup', 'developers', 'Project', 'India', 'scalability', 'development', 'management', 'HTML5', 'backup', 'explorer', 'Hercules', 'crash', 'concept', 'player', 'Principal', 'personnel', 'holding', 'desktop', 'years', 'tools', 'architecture', 'Helios', 'Engineering', 'protocol', 'SAX', 'integration', 'documents', 'ScrumMaster', '-', 'project', 'document', 'Experience', 'teams', 'Editing', 'client', 'layer', 'Scavenger', 'backend', 'Technology', 'functions', 'engineering', 'spinoff', 'URI', 'nodes', 'Initiated', 'Encoder', 'MediaBase', 'AAC', 'JavaScript', 'time', 'solution', 'CLI', 'Imagine', 'video', 'ENGINEERING', 'part', 'method', 'UI', 'core', 'level', 'review', 'threads', 'API', 'products', 'Windows', 'hands', 'reader', 'side', 'specification', 'legacy', 'classes', 'source', '24/7', 'pages', 'engineer', 'standards', 'troubleshoot', 'SOFTWARE', 'SDK', 'contents', 'Mercurial', 'issues', 'access', 'operation', 'domains', 'Media', 'effects', 'interviews', 'documentation', 'technology', '08/2009', 'top', 'manager', 'facilities', 'house', 'Manager', 'stack', 'MB', '+', 'State', 'export', 'Nexio', 'Bank', 'procedures', 'import', 'transitions', 'Computer', 'Proxy', 'Playout', 'JS', 'conditions', 'BCD', 'models', 'Burbank', 'modules', 'web', 'space', 'MP4', 'FTP', 'peer', 'opportunities', 'Content', 'evolution', 'clients', 'Suite', 'SAN', 'MANAGER', 'media', 'STL', 'design', 'offers', '09/2009', 'business', 'ï¼\\u200b', 'dump', 'drawing', 'Skills', 'experience', 'Global', 'National', 'HR', 'broadcast', 'HTTP', 'page', 'rendering', 'Jenkins', 'dash', 'container', 'engines', 'MFC', 'json', 'GPRX', 'revision', 'Video', 'NAS', 'handler', 'WinAPI', 'process', 'multi-', 'applications', 'decoder', 'vendor', 'request', 'picon', 'codec', 'audio', 'DASH', 'performance', 'team', 'success', 'Company', 'control', 'Win32', 'driver', 'editing', 'Render', 'Name', 'M.S', 'response', 'storage', 'Scrum', 'methods', 'Star', 'Software', 'JSON', 'C++', 'services', 'customer', 'style', 'Education', 'TCP', 'user', 'K', 'Corporation', 'Service', 'Picon', 'Hardware', 'Leitch', 'Communication', 'Team', 'ATL', 'unit', 'indirect', 'Requestor', 'Win', 'Handler', 'communications', 'content', 'atoms', 'reviews', 'XML', 'software', 'C', 'Harris', 'DLL', 'device', 'rules', 'metadata', 'guidelines', 'SOA', 'Naperville', 'parser', 'completion', 'framework', 'converter', 'IDs', 'Institute', 'Summary', '#', 'LAN', 'DPS', 'use', 'Velocity', 'analysis', 'components', 'domain', 'notification', '08/1997', 'party', 'deliverables', 'Illinois', 'IPC', 'MPEG', 'proxy', 'OOP', 'REST', 'testing', 'playback', 'Electronics', 'header', 'size', 'server', 'hand', 'ftp', 'workflows', 'sources', 'Science', '07/1997']\n",
            "[]\n",
            "\n",
            "MORTGAGE BANKING FORECLOSURE SPECIALIST\n",
            "['liability', 'City', 'weaknesses', 'repayment', 'cash', 'statements', 'Processor', 'Sharepoint', 'Solutions', 'Analysis', 'production', 'Lotus', 'Risk', 'Current', 'error', 'Profit', 'Schedule', 'Solver', 'logic', 'mortgage', 'management', 'Resolution', 'need', 'Bankruptcy', 'Specialist', 'environment', 'Analyst', 'RELS', 'years', 'Loss', 'University', 'Military', 'title', 'mortgages', 'volume', 'Documentation', 'plan', 'documents', 'Vendorscape', 'searches', 'Statements', 'Operations', 'recommendation', 'Clients', 'Experience', 'risk', 'Income', 'Management', 'instruments', 'tax', 'spectrum', 'Accomplishments', 'functions', 'applicant', 'Mae', 'SPECIALIST', 'quality', 'Consumer', 'Fannie', 'Audits', 'Articulate', 'goals', 'Ups', 'status', 'Data', 'review', 'FHA', 'Mortgage', 'level', 'milestones', 'Environment', '10/2011', 'self', 'products', 'policies', '%', 'StateMortgage', 'security', 'standards', 'Internal', 'industry', 'packages', 'Default', 'entry', 'errors', 'work', 'computer', 'Processing', 'Department', 'Federal', 'approvals', 'loans', 'Lenstar', 'Servicing', 'detail', 'Home', 'SLOAD', 'Connection', 'order', 'willingness', 'validity', 'baseline', 'documentation', 'Closing', 'Detail', 'DAT', 'BANKING', 'employer', 'house', 'Operations/', 'Document', 'exceptions', 'State', 'CREDCO', 'Science', 'underwriting', 'feasibility', '01/2014', 'procedures', 'strengths', 'Sales', 'Loan', 'MSP', 'Entry', 'company', 'definition', 'conditions', 'Ambitious', 'file', 'Corps', 'Title', 'Underwriter', 'paystubs', 'capacity', 'Act', 'peer', 'booking', 'Real', 'W2', 'professional', 'passion', '*', 'teammates', 'approval', 'clients', 'applicants', 'loan', 'Use', 'investor', 'Services', 'Financial', 'resolution', 'Compliance', 'Auburn', 'Skills', 'Meeting', 'roles', 'Early', 'Auditing', 'Civil', 'business', 'Associate', 'Control', 'experience', 'companies', 'programs', 'omissions', 'modification', 'Dos', 'in', 'Learner', 'Prevention', 'payment', 'Nss', 'MORTGAGE', 'learner', 'Lead', 'Foreclosure', 'follow', '01/2010', 'Company', 'control', 'history', 'bank', '04/2003', 'Name', 'options', 'Tax', 'Lending', 'evaluation', 'Banking', 'opportunity', 'Loans', 'LES', 'Liability', 'Administration', 'Education', 'services', 'customer', 'Microsoft', 'attention', 'member', 'accordance', 'borrowers', 'inquiries', 'Service', 'property', 'Review', 'Powerpoint', 'income', 'Montgomery', 'Live', 'Preservation', 'requirements', 'Cash', 'F.H.A.', 'Team', 'characteristics', 'consumer', 'File', 'FORECLOSURE', 'DOS', 'Telephone', 'Problem', 'Reviewing', 'banking', 'Excel', 'processes', 'rating', 'reviews', 'Booking', 'Pipeline', 'Fha', 'Outlook', '1120S', 'adherence', 'software', 'C', 'Fast', 'Estate', 'Assessment', 'cases', 'Cases', 'Fixed', 'guidelines', 'Returns', 'verifications', 'LPS', 'maintenance', 'affordability', 'Security', 'ResWare', 'Verified', 'Summary', 'ratio', 'credit', 'Business', 'ups', 'Assurance', 'Credit', 'Underwriting', 'Trading', 'Word', 'Relief', 'methodology', '08/2008', 'Quality', 'customers', 'Management/', 'mainframes', '12/2013', 'transcripts', 'K-1', 'V.A.', 'Prevention/', 'Production', 'asset', 'Mitigation', 'II', 'sources', 'SCRA', 'S', 'knowledge', 'database']\n",
            "[]\n",
            "\n",
            "SENIOR CLIENT ADVOCATE II\n",
            "['product', 'Seven', 'City', 'impact', 'BlueCross', 'Systems', 'projects', 'changes', 'role', 'areas', 'record', 'Project', 'Risk', 'analysts', 'Motivated', 'Wireless', 'development', 'management', 'expense', 'coding', 'employees', 'Northampton', 'player', 'plans', 'FHIR', 'environment', 'Analyst', 'pricing', 'Blood', 'progress', 'years', 'Cable', 'HP', 'University', 'Military', 'planning', 'tools', 'architecture', 'SQL', 'users', 'ability', 'plan', 'Standards', 'programmers', 'Gabron', 'savings', 'Requirements', 'Operations', '-', 'board', 'College', 'project', 'research', 'Experience', 'Physical', 'teams', 'Training', 'Technology', 'Management', 'case', 'Accomplishments', 'Application', 'efficiency', 'Workflow', 'goals', 'acceptance', 'measure', 'Senior', 'acumen', 'Data', 'health', '12/2002', 'Information', 'time', 'Rock', 'Clinical', 'objectives', 'Colorectal', 'level', 'profits', 'members', 'products', '%', 'costs', 'actuals', 'Magna', 'marketing', 'installation', 'improvements', 'meetings', 'EHR', 'Test', 'Cum', 'industry', 'creation', 'defects', 'London', 'Pressure', 'Product', 'communication', 'Merit', 'issues', '03/1992', 'mapping', 'Bachelor', 'Cancer', 'documentation', 'interviews', 'Community', 'telecom', 'billing', 'forecast', 'V2', 'technology', 'Document', 'Manager', 'budget', 'State', 'data', 'stakeholders', 'procedures', 'bench', 'mitigation', 'CBP', 'Computer', 'company', 'principles', 'position', 'matrix', 'Interchange', 'claims', 'Architecture', 'Insurance', 'opportunities', 'Consolidate', 'information', 'SuppCRAIG', 'support', 'Workgroup', 'Developing', 'analyst', 'staff', 'BlueShield', 'telecommunications', 'Organization', 'Use', '12/2017', 'TRICARE', 'Client', 'Health', 'Skills', 'Collaboration', 'business', 'revenue', 'calculation', 'ï¼\\u200b', 'design', 'spending', 'ADVOCATE', 'visits', 'CRAIG', 'Electronic', 'results', 'solutions', 'South', 'row', 'process', 'Screening', 'Brand', 'telephone', 'team', 'performance', 'sessions', 'features', 'Company', 'Pennsylvania', 'CLIENT', 'Name', 'IT', 'tool', 'site', 'Level', 'Affiliations', 'Laude', 'Resources', 'updates', 'packetize', 'Education', 'customer', 'user', 'Duties', 'Service', 'Lifecycle', 'requirements', 'attachments', 'messages', 'system', 'Team', 'focus', 'test', 'MS', 'line', 'care', 'processes', 'Release', 'gap', 'reviews', 'Award', 'Meaningful', 'Fast', 'scripts', 'software', 'reports', 'cases', 'Net', 'cycles', 'needs', 'ordination', 'Carolina', 'Communications', 'Summary', 'leaders', 'Business', 'collaboration', 'use', 'Slippery', 'expertise', 'analysis', 'Advocate', 'feature', 'co', 'WEDI', 'accounting', 'relationship', 'measures', 'enhancements', 'England', 'HEDIS', 'testing', 'Healthcare', 'responsibilities', 'COL', 'sales', 'concepts', 'II', 'Science', 'knowledge']\n",
            "['Bachelor']\n",
            "\n",
            "LINE ATTENDANT\n",
            "['desires', 'City', 'product', 'Externship', 'orders', 'accuracy', 'tissue', 'cash', 'food', 'Talent', 'Retail', 'service', 'Upheld', 'Analysis', 'code', 'inventory', 'Scrubbed', 'Customer', 'Dictation', 'Records', 'merchandise', 'Certificate', 'management', 'development', 'coffee', 'employees', 'Results', 'vehicles', 'player', 'Sep', 'preparation', 'purchases', 'pricing', 'register', 'Trevose', 'Reconciling', 'shelves', 'promotions', 'levels', 'appointments', 'Cpr/', 'office', 'calls', 'Collected', 'beverages', 'Sanford', 'Line', 'slip', 'Described', 'Inventory', '-', 'floor', 'receipts', 'duties', 'assurance', 'Experience', 'shipping', 'Training', 'FDA', 'PA', 'instruments', 'Shipping', 'Accomplishments', 'Attendant', 'bag', 'Player', 'Seasonal', 'quality', 'time', 'equipment', 'Handling', 'CPR', 'ATTENDANT', 'Excellent', 'workers', 'policies', 'products', 'Highlights', 'exchanges', 'instructions', 'security', 'improvements', 'September', 'Fulfillment', 'material', 'standards', 'stores', 'Material', 'containers', 'Certifications', 'work', 'fountain', 'communication', 'order', 'operation', 'steam', 'patients', 'Receptionist', 'dishes', 'flow', 'Practices', 'stock', 'State', 'phone', 'Sales', 'procedures', 'Answering', 'deadlines', 'Cpr', 'break', 'Multi', 'Jan', 'activities', 'company', 'Telephones', 'pace', 'Promote', 'tea', 'dictation', 'physician', 'recommendations', 'shipments', 'information', 'Nov', 'LINE', 'statistics', 'availability', 'Feb', 'US', 'supplies', 'Register', 'glasses', 'Skills', 'Directed', 'items', 'ï¼\\u200b', 'Aug', 'Associate', 'Supervisor', 'background', 'results', 'Aid', 'rooms', '©', 'Pricing', 'tables', 'Office', 'payment', 'drive', 'Restaurant', 'SKILLS', 'tasker', 'laboratory', 'specimens', 'telephone', 'telephones', 'growth', 'examination', 'Company', 'history', 'prices', 'August', 'Strong', 'Name', 'Medical', 'Crew', 'storage', 'Flow', 'CafÃ', 'Brown', 'height', 'refreshments', 'Education', 'temperature', 'services', 'customer', 'Microsoft', 'signs', 'patron', 'Cash', 'Oct', 'Assistant', 'Duties', 'Certification', 'Service', 'Hostess', 'Activities', 'Cooked', 'Communication', 'Culinary', 'Team', 'goods', 'test', 'area', 'Telephone', 'care', 'insurance', 'Excel', 'Recommend', 'reference', 'closing', 'leader', 'Diploma', 'opening', 'lines', 'Ticketed', 'First', 'Competitive', 'needs', 'gauge', 'Osha', 'guidelines', 'Apr', 'counters', 'Fda', 'General', 'records', 'Institute', 'Security', 'Summary', 'credit', 'racks', 'kitchens', 'taking', 'restaurant', 'Assurance', 'Store', 'use', 'Credit', 'analysis', 'fulfillment', 'CERTIFICATIONS', 'blood', 'Word', 'date', 'Leadership', 'forms', 'brand', 'Arts', 'Quality', 'customers', 'practices', 'requests', 'weight', 'Answered', 'Testing', 'Laboratory', 'sales', 'Statistics', 'knowledge']\n",
            "[]\n",
            "\n",
            "SALON DESIGNER\n",
            "['SUNSTATE', 'product', 'City', 'malfunctions', 'desires', 'problem', 'Determine', 'Processor', 'cash', 'questions', 'styles', 'education', 'service', 'styling', 'transactions', 'Schedule', 'Order', 'andself-', 'Responsibilities', 'merchandise', 'package', 'Self', 'Power', 'need', 'techniques', 'player', 'center', 'charge', 'cutting', 'purchases', 'Set', 'Sep', 'shelves', 'promotions', 'appointments', 'October', 'office', 'title', 'employment', 'Appraisal', 'Package', 'Maintain', 'documents', 'Ms', 'Inventory', 'slips', 'Experience', 'client', 'requisition', 'Management', 'DESIGNER', 'month', 'tasks', 'Call', 'contact', 'skills', 'time', 'status', 'December', 'researching', 'decision', 'hair', 'equipment', 'Bilingual', 'level', 'arrange', 'Processors', 'Committed', 'reputation', 'satisfaction', 'products', 'policies', 'United', 'initiative', 'exchanges', 'drawers', 'marketing', 'security', 'registers', 'safety', 'standards', 'Prepare', 'Change', 'Answer', 'call', 'work', 'May', 'salon', 'communication', 'issues', 'Languages', 'validity', 'loans', 'ACADEMY', 'operations', 'order', 'Representative', 'operation', 'SAINT', 'fields', 'problems', 'Manager', 'stock', 'making', 'consultation', 'State', 'data', 'Sales', 'ownership', 'Cosmetology', 'procedures', 'Originators', 'Loan', 'value', 'company', 'Exchange', 'file', 'deposits', 'English', 'opportunities', 'atmosphere', 'information', 'cosmetics', 'support', 'cleanliness', 'professional', 'Point', 'clients', 'integrity', 'loan', 'supplies', 'vouchers', 'Assemble', 'SALON', 'Fulfill', 'January', 'Skills', 'business', 'Compliance', 'Associate', 'ï¼\\u200b', 'beauty', 'print', 'Essential', 'experience', 'appraisals', 'Salon', 'November', 'job', 'Aug', 'PETERSBURG', 'tables', 'Office', 'solutions', 'payment', 'group', 'benefits', 'inventories', 'features', 'Company', 'store', 'Compute', 'August', 'QC', 'Batteries', 'Name', 'prices', 'base', 'Center', 'coupons', 'accounts', 'Flow', 'June', 'Greet', 'stations', 'License', 'training', 'Professional', 'Education', 'style', 'customer', 'services', 'returns', 'Duties', 'inquiries', 'Watch', 'requirements', 'organization', 'Team', 'accomplishments', 'Overview', 'COLLEGE', 'subordinations', 'people', 'eager', 'care', 'periods', 'Excel', 'Regulatory', 'answers', 'Recommend', 'retail', 'closing', 'submission', 'Ticket', 'opening', 'sell', 'needs', 'trends', 'Career', 'maintenance', 'verifications', 'counters', 'General', 'records', 'credit', 'use', 'demeanor', 'money', 'Credit', 'Designer', 'locating', 'Word', 'Arts', 'relationship', 'customers', 'practices', 'States', 'requests', 'gifts', 'selection', 'LOS', 'Owner', 'attorney', 'term', 'Adobe', 'Greek', 'sales', 'mobility', 'knowledge', 'database']\n",
            "[]\n",
            "\n",
            "E-LEARNING DESIGNER\n",
            "['Â', 'Factors', 'sites', 'Patrick', 'development', 'management', 'variety', 'PowerPoint', 'Kutsch', 'storyboards', 'iMovie', '-', 'publications', '2007Â', 'User', 'Preparation', 'owners', 'technologies', 'School', 'Encoder', 'navigation', 'Master', 'leadership', 'Macedo', 'Excellent', 'DB2', 'Dantressangle', 'security', 'Design', 'Kenexa', 'z', 'UNIVERSITY', 'Certifications', 'Captivate', 'Tutorial', 'State', 'VMWare', 'learning', 'Wu', 'magazine', 'Brothers', 'Magazine', 'web', 'We', 'holders', 'WESTERN', 'High', 'information', 'Unix', 'proof', 'Paolo', 'January', 'Soccer', 'Green', 'background', 'Oracle', 'Vitor', 'SCORM', 'process', 'Instructional', 'Planning', 'AIX', 'Company', 'Name', 'forÂ', 'tool', 'June', 'methods', 'Affiliations', 'training', 'editor', 'BoardÂ', 'conferences', 'Board', 'Certification', 'p', 'Stakeholder', 'adult', 'Work', 'Outlook', 'software', 'C', 'LMS', 'learners', 'Math', 'Sabine', 'Designer', 'experts', 'ParticipantsÂ', 'TeamÂ', 'McGeoch', 'Skype', 'Gathered', 'methodologies', 'City', 'Ling', 'Developer', 'Drive', 'education', 'Innovation', 'Talent', 'Current', 'administrators', 'techniques', 'Apple', 'center', 'Tay', 'TECHNOLOGY', 'Technical', 'Hub', 'Swim', 'project', 'Procedures', 'Studio', 'Montini', 'Management', 'Player', 'Application', 'quality', 'Ability', 'Gmail', 'Paint', 'administrator', 'Data', 'resources', 'Academic', 'Record', 'INSTRUCTIONAL', 'COMPUTER', 'United', 'Support', 'Rome', 'DatabaseIBM', '501(r)Â', 'e', 'White', 'Reader', 'May', 'Bachelor', 'Gregory', 'Protecting', 'Media', 'Community', 'technology', 'Jan', 'Ming', 'knowledge', 'Sardana', 'Success', 'Snag', 'HTML', 'design', 'book', 'Society', 'Database', 'trainer', 'matter', 'Chong', 'Forms', 'Kathryn', 'department', 'Dayana', 'ILLINOIS', 'Service', 'expert', 'Team', 'Overview', 'content', 'resource', 'SharePoint', 'Version', 'Safety', 'subject', 'Career', 'Olympiad', 'Marichu', 'collaboration', 'analysis', 'Writing', 'Revolution', 'Voice', 'articles', 'Illinois', 'Workbench', 'American', 'problem', 'Youth', 'Dennis', 'Robert', 'E', 'Pro', 'Customer', 'eBook', 'designÂ', 'Publications', 'educator', 'Explorer', 'SQL', 'PENNSYLVANIA', 'ability', 'scenarios', 'Paper', 'Presentations', 'Experience', 'Training', 'Technology', 'Editing', 'understanding', 'stake', 'skills', 'SAP', 'time', 'David', 'Windows', 'F.', 'Test', 'Unites', 'computer', 'Visio', 'Coach', 'Greenstein', 'April', 'Leung', 'surveysÂ', 'manager', 'Bruni', 'Docs', 'Patient', 'modules', 'NIH', 'assessments', 'Schenker', 'Mark', 'Adept', 'Organization', 'Eaton', 'Skills', 'Michael', 'Kaschta', 'experience', 'SCIENCE', 'Athletic', 'Introduction', 'managers', 'implementation', 'Stored', 'pedagogy', 'Internet', 'Spain', 'budgets', 'York', 'developerWorks', 'compliance', 'Microsoft', 'Corporation', 'eLearning', 'Children', 'Sandburg', 'STATE', 'test', 'videos', 'Archiving', 'ID', 'Marina', 'Debra', 'lines', 'Group', 'Smith', 'Analysed', 'experiences', 'Qualifications', 'Platform', 'class', 'proposals', 'theories', 'Elmhurst', 'Word', 'schedules', 'DEPAUL', 'Adobe', 'concepts', 'Science', 'JavascriptÂ', 'boarding', 'materials', 'delivery', 'Newman', 'Volunteer', 'Marcel', 'Development', 'Project', 'Exam', 'ILT', 'Researched', 'Google', 'tools', 'online', 'Research', 'TRAINER', 'Cross-', 'OS', 'room', 'DESIGNER', 'scheduling', 'K.', 'tasks', 'Ricardo', 'Part', 'solution', 'video', 'Information', 'Boosters', 'objectives', 'President', 'pages', 'proficiency', 'd', 'Redbook', 'Book', 'outcomes', 'Rodrigues', 'data', 'Luca', 'Central', 'Hutchison', 'Facilities', 'Raul', 'Zeidenstein', 'ï¼\\u200b', 'Majcher', 'initiatives', 'Vandensande', 'D.', 'Tech', 'channel', 'Advisory', 'team', 'DESIGN', 'curriculum', 'Association', 'Chrome', 'Bockus', 'Grant', 'executives', 'Education', 'Academy', 'International', 'requirements', 'approaches', 'line', 'UDB', 'Excel', 'story', 'XML', 'Networks', 'IBM', 'feedback', 'needs', 'distance', 'Manoj', 'courses', 'Scanlon', 'Red', 'July', 'Demand', 'parties', 'SheetsÂ', 'States', 'Glenn', 'Expert', 'Human', 'YouTube']\n",
            "['Bachelor', 'Master']\n",
            "\n",
            "\n",
            "\n",
            "\n",
            ">>>>>>>>>>>>>>>>>>>>>>>>>>>>>>>>>>>>>>>>>>>>>>>\n",
            "\n",
            "\n",
            "\n",
            "DesignUps\n",
            "Frontend Web Developer\n",
            "Strong attention to design details, typography, UI, etc. Familiarity with Bootstrap or similar frameworks. WordPress knowledge.\n",
            "N/A\n",
            "\n",
            "SOFTWARE ENGINEERING MANAGER\n",
            "['Beijing', 'engine', 'product', 'City', 'Engineer', 'encoder', 'servers', 'DTA', 'formats', 'bridge', 'projects', 'engineers', 'service', 'Development', 'Visual', 'Transcoder', 'Helper', 'code', 'Current', 'startup', 'developers', 'Project', 'India', 'scalability', 'development', 'management', 'HTML5', 'backup', 'explorer', 'Hercules', 'crash', 'concept', 'player', 'Principal', 'personnel', 'holding', 'desktop', 'years', 'tools', 'architecture', 'Helios', 'Engineering', 'protocol', 'SAX', 'integration', 'documents', 'ScrumMaster', '-', 'project', 'document', 'Experience', 'teams', 'Editing', 'client', 'layer', 'Scavenger', 'backend', 'Technology', 'functions', 'engineering', 'spinoff', 'URI', 'nodes', 'Initiated', 'Encoder', 'MediaBase', 'AAC', 'JavaScript', 'time', 'solution', 'CLI', 'Imagine', 'video', 'ENGINEERING', 'part', 'method', 'UI', 'core', 'level', 'review', 'threads', 'API', 'products', 'Windows', 'hands', 'reader', 'side', 'specification', 'legacy', 'classes', 'source', '24/7', 'pages', 'engineer', 'standards', 'troubleshoot', 'SOFTWARE', 'SDK', 'contents', 'Mercurial', 'issues', 'access', 'operation', 'domains', 'Media', 'effects', 'interviews', 'documentation', 'technology', '08/2009', 'top', 'manager', 'facilities', 'house', 'Manager', 'stack', 'MB', '+', 'State', 'export', 'Nexio', 'Bank', 'procedures', 'import', 'transitions', 'Computer', 'Proxy', 'Playout', 'JS', 'conditions', 'BCD', 'models', 'Burbank', 'modules', 'web', 'space', 'MP4', 'FTP', 'peer', 'opportunities', 'Content', 'evolution', 'clients', 'Suite', 'SAN', 'MANAGER', 'media', 'STL', 'design', 'offers', '09/2009', 'business', 'ï¼\\u200b', 'dump', 'drawing', 'Skills', 'experience', 'Global', 'National', 'HR', 'broadcast', 'HTTP', 'page', 'rendering', 'Jenkins', 'dash', 'container', 'engines', 'MFC', 'json', 'GPRX', 'revision', 'Video', 'NAS', 'handler', 'WinAPI', 'process', 'multi-', 'applications', 'decoder', 'vendor', 'request', 'picon', 'codec', 'audio', 'DASH', 'performance', 'team', 'success', 'Company', 'control', 'Win32', 'driver', 'editing', 'Render', 'Name', 'M.S', 'response', 'storage', 'Scrum', 'methods', 'Star', 'Software', 'JSON', 'C++', 'services', 'customer', 'style', 'Education', 'TCP', 'user', 'K', 'Corporation', 'Service', 'Picon', 'Hardware', 'Leitch', 'Communication', 'Team', 'ATL', 'unit', 'indirect', 'Requestor', 'Win', 'Handler', 'communications', 'content', 'atoms', 'reviews', 'XML', 'software', 'C', 'Harris', 'DLL', 'device', 'rules', 'metadata', 'guidelines', 'SOA', 'Naperville', 'parser', 'completion', 'framework', 'converter', 'IDs', 'Institute', 'Summary', '#', 'LAN', 'DPS', 'use', 'Velocity', 'analysis', 'components', 'domain', 'notification', '08/1997', 'party', 'deliverables', 'Illinois', 'IPC', 'MPEG', 'proxy', 'OOP', 'REST', 'testing', 'playback', 'Electronics', 'header', 'size', 'server', 'hand', 'ftp', 'workflows', 'sources', 'Science', '07/1997']\n",
            "[]\n",
            "\n",
            "MORTGAGE BANKING FORECLOSURE SPECIALIST\n",
            "['liability', 'City', 'weaknesses', 'repayment', 'cash', 'statements', 'Processor', 'Sharepoint', 'Solutions', 'Analysis', 'production', 'Lotus', 'Risk', 'Current', 'error', 'Profit', 'Schedule', 'Solver', 'logic', 'mortgage', 'management', 'Resolution', 'need', 'Bankruptcy', 'Specialist', 'environment', 'Analyst', 'RELS', 'years', 'Loss', 'University', 'Military', 'title', 'mortgages', 'volume', 'Documentation', 'plan', 'documents', 'Vendorscape', 'searches', 'Statements', 'Operations', 'recommendation', 'Clients', 'Experience', 'risk', 'Income', 'Management', 'instruments', 'tax', 'spectrum', 'Accomplishments', 'functions', 'applicant', 'Mae', 'SPECIALIST', 'quality', 'Consumer', 'Fannie', 'Audits', 'Articulate', 'goals', 'Ups', 'status', 'Data', 'review', 'FHA', 'Mortgage', 'level', 'milestones', 'Environment', '10/2011', 'self', 'products', 'policies', '%', 'StateMortgage', 'security', 'standards', 'Internal', 'industry', 'packages', 'Default', 'entry', 'errors', 'work', 'computer', 'Processing', 'Department', 'Federal', 'approvals', 'loans', 'Lenstar', 'Servicing', 'detail', 'Home', 'SLOAD', 'Connection', 'order', 'willingness', 'validity', 'baseline', 'documentation', 'Closing', 'Detail', 'DAT', 'BANKING', 'employer', 'house', 'Operations/', 'Document', 'exceptions', 'State', 'CREDCO', 'Science', 'underwriting', 'feasibility', '01/2014', 'procedures', 'strengths', 'Sales', 'Loan', 'MSP', 'Entry', 'company', 'definition', 'conditions', 'Ambitious', 'file', 'Corps', 'Title', 'Underwriter', 'paystubs', 'capacity', 'Act', 'peer', 'booking', 'Real', 'W2', 'professional', 'passion', '*', 'teammates', 'approval', 'clients', 'applicants', 'loan', 'Use', 'investor', 'Services', 'Financial', 'resolution', 'Compliance', 'Auburn', 'Skills', 'Meeting', 'roles', 'Early', 'Auditing', 'Civil', 'business', 'Associate', 'Control', 'experience', 'companies', 'programs', 'omissions', 'modification', 'Dos', 'in', 'Learner', 'Prevention', 'payment', 'Nss', 'MORTGAGE', 'learner', 'Lead', 'Foreclosure', 'follow', '01/2010', 'Company', 'control', 'history', 'bank', '04/2003', 'Name', 'options', 'Tax', 'Lending', 'evaluation', 'Banking', 'opportunity', 'Loans', 'LES', 'Liability', 'Administration', 'Education', 'services', 'customer', 'Microsoft', 'attention', 'member', 'accordance', 'borrowers', 'inquiries', 'Service', 'property', 'Review', 'Powerpoint', 'income', 'Montgomery', 'Live', 'Preservation', 'requirements', 'Cash', 'F.H.A.', 'Team', 'characteristics', 'consumer', 'File', 'FORECLOSURE', 'DOS', 'Telephone', 'Problem', 'Reviewing', 'banking', 'Excel', 'processes', 'rating', 'reviews', 'Booking', 'Pipeline', 'Fha', 'Outlook', '1120S', 'adherence', 'software', 'C', 'Fast', 'Estate', 'Assessment', 'cases', 'Cases', 'Fixed', 'guidelines', 'Returns', 'verifications', 'LPS', 'maintenance', 'affordability', 'Security', 'ResWare', 'Verified', 'Summary', 'ratio', 'credit', 'Business', 'ups', 'Assurance', 'Credit', 'Underwriting', 'Trading', 'Word', 'Relief', 'methodology', '08/2008', 'Quality', 'customers', 'Management/', 'mainframes', '12/2013', 'transcripts', 'K-1', 'V.A.', 'Prevention/', 'Production', 'asset', 'Mitigation', 'II', 'sources', 'SCRA', 'S', 'knowledge', 'database']\n",
            "[]\n",
            "\n",
            "SENIOR CLIENT ADVOCATE II\n",
            "['product', 'Seven', 'City', 'impact', 'BlueCross', 'Systems', 'projects', 'changes', 'role', 'areas', 'record', 'Project', 'Risk', 'analysts', 'Motivated', 'Wireless', 'development', 'management', 'expense', 'coding', 'employees', 'Northampton', 'player', 'plans', 'FHIR', 'environment', 'Analyst', 'pricing', 'Blood', 'progress', 'years', 'Cable', 'HP', 'University', 'Military', 'planning', 'tools', 'architecture', 'SQL', 'users', 'ability', 'plan', 'Standards', 'programmers', 'Gabron', 'savings', 'Requirements', 'Operations', '-', 'board', 'College', 'project', 'research', 'Experience', 'Physical', 'teams', 'Training', 'Technology', 'Management', 'case', 'Accomplishments', 'Application', 'efficiency', 'Workflow', 'goals', 'acceptance', 'measure', 'Senior', 'acumen', 'Data', 'health', '12/2002', 'Information', 'time', 'Rock', 'Clinical', 'objectives', 'Colorectal', 'level', 'profits', 'members', 'products', '%', 'costs', 'actuals', 'Magna', 'marketing', 'installation', 'improvements', 'meetings', 'EHR', 'Test', 'Cum', 'industry', 'creation', 'defects', 'London', 'Pressure', 'Product', 'communication', 'Merit', 'issues', '03/1992', 'mapping', 'Bachelor', 'Cancer', 'documentation', 'interviews', 'Community', 'telecom', 'billing', 'forecast', 'V2', 'technology', 'Document', 'Manager', 'budget', 'State', 'data', 'stakeholders', 'procedures', 'bench', 'mitigation', 'CBP', 'Computer', 'company', 'principles', 'position', 'matrix', 'Interchange', 'claims', 'Architecture', 'Insurance', 'opportunities', 'Consolidate', 'information', 'SuppCRAIG', 'support', 'Workgroup', 'Developing', 'analyst', 'staff', 'BlueShield', 'telecommunications', 'Organization', 'Use', '12/2017', 'TRICARE', 'Client', 'Health', 'Skills', 'Collaboration', 'business', 'revenue', 'calculation', 'ï¼\\u200b', 'design', 'spending', 'ADVOCATE', 'visits', 'CRAIG', 'Electronic', 'results', 'solutions', 'South', 'row', 'process', 'Screening', 'Brand', 'telephone', 'team', 'performance', 'sessions', 'features', 'Company', 'Pennsylvania', 'CLIENT', 'Name', 'IT', 'tool', 'site', 'Level', 'Affiliations', 'Laude', 'Resources', 'updates', 'packetize', 'Education', 'customer', 'user', 'Duties', 'Service', 'Lifecycle', 'requirements', 'attachments', 'messages', 'system', 'Team', 'focus', 'test', 'MS', 'line', 'care', 'processes', 'Release', 'gap', 'reviews', 'Award', 'Meaningful', 'Fast', 'scripts', 'software', 'reports', 'cases', 'Net', 'cycles', 'needs', 'ordination', 'Carolina', 'Communications', 'Summary', 'leaders', 'Business', 'collaboration', 'use', 'Slippery', 'expertise', 'analysis', 'Advocate', 'feature', 'co', 'WEDI', 'accounting', 'relationship', 'measures', 'enhancements', 'England', 'HEDIS', 'testing', 'Healthcare', 'responsibilities', 'COL', 'sales', 'concepts', 'II', 'Science', 'knowledge']\n",
            "['Bachelor']\n",
            "\n",
            "LINE ATTENDANT\n",
            "['desires', 'City', 'product', 'Externship', 'orders', 'accuracy', 'tissue', 'cash', 'food', 'Talent', 'Retail', 'service', 'Upheld', 'Analysis', 'code', 'inventory', 'Scrubbed', 'Customer', 'Dictation', 'Records', 'merchandise', 'Certificate', 'management', 'development', 'coffee', 'employees', 'Results', 'vehicles', 'player', 'Sep', 'preparation', 'purchases', 'pricing', 'register', 'Trevose', 'Reconciling', 'shelves', 'promotions', 'levels', 'appointments', 'Cpr/', 'office', 'calls', 'Collected', 'beverages', 'Sanford', 'Line', 'slip', 'Described', 'Inventory', '-', 'floor', 'receipts', 'duties', 'assurance', 'Experience', 'shipping', 'Training', 'FDA', 'PA', 'instruments', 'Shipping', 'Accomplishments', 'Attendant', 'bag', 'Player', 'Seasonal', 'quality', 'time', 'equipment', 'Handling', 'CPR', 'ATTENDANT', 'Excellent', 'workers', 'policies', 'products', 'Highlights', 'exchanges', 'instructions', 'security', 'improvements', 'September', 'Fulfillment', 'material', 'standards', 'stores', 'Material', 'containers', 'Certifications', 'work', 'fountain', 'communication', 'order', 'operation', 'steam', 'patients', 'Receptionist', 'dishes', 'flow', 'Practices', 'stock', 'State', 'phone', 'Sales', 'procedures', 'Answering', 'deadlines', 'Cpr', 'break', 'Multi', 'Jan', 'activities', 'company', 'Telephones', 'pace', 'Promote', 'tea', 'dictation', 'physician', 'recommendations', 'shipments', 'information', 'Nov', 'LINE', 'statistics', 'availability', 'Feb', 'US', 'supplies', 'Register', 'glasses', 'Skills', 'Directed', 'items', 'ï¼\\u200b', 'Aug', 'Associate', 'Supervisor', 'background', 'results', 'Aid', 'rooms', '©', 'Pricing', 'tables', 'Office', 'payment', 'drive', 'Restaurant', 'SKILLS', 'tasker', 'laboratory', 'specimens', 'telephone', 'telephones', 'growth', 'examination', 'Company', 'history', 'prices', 'August', 'Strong', 'Name', 'Medical', 'Crew', 'storage', 'Flow', 'CafÃ', 'Brown', 'height', 'refreshments', 'Education', 'temperature', 'services', 'customer', 'Microsoft', 'signs', 'patron', 'Cash', 'Oct', 'Assistant', 'Duties', 'Certification', 'Service', 'Hostess', 'Activities', 'Cooked', 'Communication', 'Culinary', 'Team', 'goods', 'test', 'area', 'Telephone', 'care', 'insurance', 'Excel', 'Recommend', 'reference', 'closing', 'leader', 'Diploma', 'opening', 'lines', 'Ticketed', 'First', 'Competitive', 'needs', 'gauge', 'Osha', 'guidelines', 'Apr', 'counters', 'Fda', 'General', 'records', 'Institute', 'Security', 'Summary', 'credit', 'racks', 'kitchens', 'taking', 'restaurant', 'Assurance', 'Store', 'use', 'Credit', 'analysis', 'fulfillment', 'CERTIFICATIONS', 'blood', 'Word', 'date', 'Leadership', 'forms', 'brand', 'Arts', 'Quality', 'customers', 'practices', 'requests', 'weight', 'Answered', 'Testing', 'Laboratory', 'sales', 'Statistics', 'knowledge']\n",
            "[]\n",
            "\n",
            "SALON DESIGNER\n",
            "['SUNSTATE', 'product', 'City', 'malfunctions', 'desires', 'problem', 'Determine', 'Processor', 'cash', 'questions', 'styles', 'education', 'service', 'styling', 'transactions', 'Schedule', 'Order', 'andself-', 'Responsibilities', 'merchandise', 'package', 'Self', 'Power', 'need', 'techniques', 'player', 'center', 'charge', 'cutting', 'purchases', 'Set', 'Sep', 'shelves', 'promotions', 'appointments', 'October', 'office', 'title', 'employment', 'Appraisal', 'Package', 'Maintain', 'documents', 'Ms', 'Inventory', 'slips', 'Experience', 'client', 'requisition', 'Management', 'DESIGNER', 'month', 'tasks', 'Call', 'contact', 'skills', 'time', 'status', 'December', 'researching', 'decision', 'hair', 'equipment', 'Bilingual', 'level', 'arrange', 'Processors', 'Committed', 'reputation', 'satisfaction', 'products', 'policies', 'United', 'initiative', 'exchanges', 'drawers', 'marketing', 'security', 'registers', 'safety', 'standards', 'Prepare', 'Change', 'Answer', 'call', 'work', 'May', 'salon', 'communication', 'issues', 'Languages', 'validity', 'loans', 'ACADEMY', 'operations', 'order', 'Representative', 'operation', 'SAINT', 'fields', 'problems', 'Manager', 'stock', 'making', 'consultation', 'State', 'data', 'Sales', 'ownership', 'Cosmetology', 'procedures', 'Originators', 'Loan', 'value', 'company', 'Exchange', 'file', 'deposits', 'English', 'opportunities', 'atmosphere', 'information', 'cosmetics', 'support', 'cleanliness', 'professional', 'Point', 'clients', 'integrity', 'loan', 'supplies', 'vouchers', 'Assemble', 'SALON', 'Fulfill', 'January', 'Skills', 'business', 'Compliance', 'Associate', 'ï¼\\u200b', 'beauty', 'print', 'Essential', 'experience', 'appraisals', 'Salon', 'November', 'job', 'Aug', 'PETERSBURG', 'tables', 'Office', 'solutions', 'payment', 'group', 'benefits', 'inventories', 'features', 'Company', 'store', 'Compute', 'August', 'QC', 'Batteries', 'Name', 'prices', 'base', 'Center', 'coupons', 'accounts', 'Flow', 'June', 'Greet', 'stations', 'License', 'training', 'Professional', 'Education', 'style', 'customer', 'services', 'returns', 'Duties', 'inquiries', 'Watch', 'requirements', 'organization', 'Team', 'accomplishments', 'Overview', 'COLLEGE', 'subordinations', 'people', 'eager', 'care', 'periods', 'Excel', 'Regulatory', 'answers', 'Recommend', 'retail', 'closing', 'submission', 'Ticket', 'opening', 'sell', 'needs', 'trends', 'Career', 'maintenance', 'verifications', 'counters', 'General', 'records', 'credit', 'use', 'demeanor', 'money', 'Credit', 'Designer', 'locating', 'Word', 'Arts', 'relationship', 'customers', 'practices', 'States', 'requests', 'gifts', 'selection', 'LOS', 'Owner', 'attorney', 'term', 'Adobe', 'Greek', 'sales', 'mobility', 'knowledge', 'database']\n",
            "[]\n",
            "\n",
            "E-LEARNING DESIGNER\n",
            "['Â', 'Factors', 'sites', 'Patrick', 'development', 'management', 'variety', 'PowerPoint', 'Kutsch', 'storyboards', 'iMovie', '-', 'publications', '2007Â', 'User', 'Preparation', 'owners', 'technologies', 'School', 'Encoder', 'navigation', 'Master', 'leadership', 'Macedo', 'Excellent', 'DB2', 'Dantressangle', 'security', 'Design', 'Kenexa', 'z', 'UNIVERSITY', 'Certifications', 'Captivate', 'Tutorial', 'State', 'VMWare', 'learning', 'Wu', 'magazine', 'Brothers', 'Magazine', 'web', 'We', 'holders', 'WESTERN', 'High', 'information', 'Unix', 'proof', 'Paolo', 'January', 'Soccer', 'Green', 'background', 'Oracle', 'Vitor', 'SCORM', 'process', 'Instructional', 'Planning', 'AIX', 'Company', 'Name', 'forÂ', 'tool', 'June', 'methods', 'Affiliations', 'training', 'editor', 'BoardÂ', 'conferences', 'Board', 'Certification', 'p', 'Stakeholder', 'adult', 'Work', 'Outlook', 'software', 'C', 'LMS', 'learners', 'Math', 'Sabine', 'Designer', 'experts', 'ParticipantsÂ', 'TeamÂ', 'McGeoch', 'Skype', 'Gathered', 'methodologies', 'City', 'Ling', 'Developer', 'Drive', 'education', 'Innovation', 'Talent', 'Current', 'administrators', 'techniques', 'Apple', 'center', 'Tay', 'TECHNOLOGY', 'Technical', 'Hub', 'Swim', 'project', 'Procedures', 'Studio', 'Montini', 'Management', 'Player', 'Application', 'quality', 'Ability', 'Gmail', 'Paint', 'administrator', 'Data', 'resources', 'Academic', 'Record', 'INSTRUCTIONAL', 'COMPUTER', 'United', 'Support', 'Rome', 'DatabaseIBM', '501(r)Â', 'e', 'White', 'Reader', 'May', 'Bachelor', 'Gregory', 'Protecting', 'Media', 'Community', 'technology', 'Jan', 'Ming', 'knowledge', 'Sardana', 'Success', 'Snag', 'HTML', 'design', 'book', 'Society', 'Database', 'trainer', 'matter', 'Chong', 'Forms', 'Kathryn', 'department', 'Dayana', 'ILLINOIS', 'Service', 'expert', 'Team', 'Overview', 'content', 'resource', 'SharePoint', 'Version', 'Safety', 'subject', 'Career', 'Olympiad', 'Marichu', 'collaboration', 'analysis', 'Writing', 'Revolution', 'Voice', 'articles', 'Illinois', 'Workbench', 'American', 'problem', 'Youth', 'Dennis', 'Robert', 'E', 'Pro', 'Customer', 'eBook', 'designÂ', 'Publications', 'educator', 'Explorer', 'SQL', 'PENNSYLVANIA', 'ability', 'scenarios', 'Paper', 'Presentations', 'Experience', 'Training', 'Technology', 'Editing', 'understanding', 'stake', 'skills', 'SAP', 'time', 'David', 'Windows', 'F.', 'Test', 'Unites', 'computer', 'Visio', 'Coach', 'Greenstein', 'April', 'Leung', 'surveysÂ', 'manager', 'Bruni', 'Docs', 'Patient', 'modules', 'NIH', 'assessments', 'Schenker', 'Mark', 'Adept', 'Organization', 'Eaton', 'Skills', 'Michael', 'Kaschta', 'experience', 'SCIENCE', 'Athletic', 'Introduction', 'managers', 'implementation', 'Stored', 'pedagogy', 'Internet', 'Spain', 'budgets', 'York', 'developerWorks', 'compliance', 'Microsoft', 'Corporation', 'eLearning', 'Children', 'Sandburg', 'STATE', 'test', 'videos', 'Archiving', 'ID', 'Marina', 'Debra', 'lines', 'Group', 'Smith', 'Analysed', 'experiences', 'Qualifications', 'Platform', 'class', 'proposals', 'theories', 'Elmhurst', 'Word', 'schedules', 'DEPAUL', 'Adobe', 'concepts', 'Science', 'JavascriptÂ', 'boarding', 'materials', 'delivery', 'Newman', 'Volunteer', 'Marcel', 'Development', 'Project', 'Exam', 'ILT', 'Researched', 'Google', 'tools', 'online', 'Research', 'TRAINER', 'Cross-', 'OS', 'room', 'DESIGNER', 'scheduling', 'K.', 'tasks', 'Ricardo', 'Part', 'solution', 'video', 'Information', 'Boosters', 'objectives', 'President', 'pages', 'proficiency', 'd', 'Redbook', 'Book', 'outcomes', 'Rodrigues', 'data', 'Luca', 'Central', 'Hutchison', 'Facilities', 'Raul', 'Zeidenstein', 'ï¼\\u200b', 'Majcher', 'initiatives', 'Vandensande', 'D.', 'Tech', 'channel', 'Advisory', 'team', 'DESIGN', 'curriculum', 'Association', 'Chrome', 'Bockus', 'Grant', 'executives', 'Education', 'Academy', 'International', 'requirements', 'approaches', 'line', 'UDB', 'Excel', 'story', 'XML', 'Networks', 'IBM', 'feedback', 'needs', 'distance', 'Manoj', 'courses', 'Scanlon', 'Red', 'July', 'Demand', 'parties', 'SheetsÂ', 'States', 'Glenn', 'Expert', 'Human', 'YouTube']\n",
            "['Bachelor', 'Master']\n",
            "\n",
            "\n",
            "\n",
            "\n",
            ">>>>>>>>>>>>>>>>>>>>>>>>>>>>>>>>>>>>>>>>>>>>>>>\n",
            "\n",
            "\n",
            "\n",
            "Equisolve, Inc.\n",
            "Remote Website Designer\n",
            "2+ years experience in web or product design. Portfolio showcasing typography, interaction and visual design skills. Understanding of responsive design and modular design systems. Figma and design tools proficiency. Strong communication skills. Self-starter.\n",
            "N/A\n",
            "\n",
            "SOFTWARE ENGINEERING MANAGER\n",
            "['Beijing', 'engine', 'product', 'City', 'Engineer', 'encoder', 'servers', 'DTA', 'formats', 'bridge', 'projects', 'engineers', 'service', 'Development', 'Visual', 'Transcoder', 'Helper', 'code', 'Current', 'startup', 'developers', 'Project', 'India', 'scalability', 'development', 'management', 'HTML5', 'backup', 'explorer', 'Hercules', 'crash', 'concept', 'player', 'Principal', 'personnel', 'holding', 'desktop', 'years', 'tools', 'architecture', 'Helios', 'Engineering', 'protocol', 'SAX', 'integration', 'documents', 'ScrumMaster', '-', 'project', 'document', 'Experience', 'teams', 'Editing', 'client', 'layer', 'Scavenger', 'backend', 'Technology', 'functions', 'engineering', 'spinoff', 'URI', 'nodes', 'Initiated', 'Encoder', 'MediaBase', 'AAC', 'JavaScript', 'time', 'solution', 'CLI', 'Imagine', 'video', 'ENGINEERING', 'part', 'method', 'UI', 'core', 'level', 'review', 'threads', 'API', 'products', 'Windows', 'hands', 'reader', 'side', 'specification', 'legacy', 'classes', 'source', '24/7', 'pages', 'engineer', 'standards', 'troubleshoot', 'SOFTWARE', 'SDK', 'contents', 'Mercurial', 'issues', 'access', 'operation', 'domains', 'Media', 'effects', 'interviews', 'documentation', 'technology', '08/2009', 'top', 'manager', 'facilities', 'house', 'Manager', 'stack', 'MB', '+', 'State', 'export', 'Nexio', 'Bank', 'procedures', 'import', 'transitions', 'Computer', 'Proxy', 'Playout', 'JS', 'conditions', 'BCD', 'models', 'Burbank', 'modules', 'web', 'space', 'MP4', 'FTP', 'peer', 'opportunities', 'Content', 'evolution', 'clients', 'Suite', 'SAN', 'MANAGER', 'media', 'STL', 'design', 'offers', '09/2009', 'business', 'ï¼\\u200b', 'dump', 'drawing', 'Skills', 'experience', 'Global', 'National', 'HR', 'broadcast', 'HTTP', 'page', 'rendering', 'Jenkins', 'dash', 'container', 'engines', 'MFC', 'json', 'GPRX', 'revision', 'Video', 'NAS', 'handler', 'WinAPI', 'process', 'multi-', 'applications', 'decoder', 'vendor', 'request', 'picon', 'codec', 'audio', 'DASH', 'performance', 'team', 'success', 'Company', 'control', 'Win32', 'driver', 'editing', 'Render', 'Name', 'M.S', 'response', 'storage', 'Scrum', 'methods', 'Star', 'Software', 'JSON', 'C++', 'services', 'customer', 'style', 'Education', 'TCP', 'user', 'K', 'Corporation', 'Service', 'Picon', 'Hardware', 'Leitch', 'Communication', 'Team', 'ATL', 'unit', 'indirect', 'Requestor', 'Win', 'Handler', 'communications', 'content', 'atoms', 'reviews', 'XML', 'software', 'C', 'Harris', 'DLL', 'device', 'rules', 'metadata', 'guidelines', 'SOA', 'Naperville', 'parser', 'completion', 'framework', 'converter', 'IDs', 'Institute', 'Summary', '#', 'LAN', 'DPS', 'use', 'Velocity', 'analysis', 'components', 'domain', 'notification', '08/1997', 'party', 'deliverables', 'Illinois', 'IPC', 'MPEG', 'proxy', 'OOP', 'REST', 'testing', 'playback', 'Electronics', 'header', 'size', 'server', 'hand', 'ftp', 'workflows', 'sources', 'Science', '07/1997']\n",
            "[]\n",
            "\n",
            "MORTGAGE BANKING FORECLOSURE SPECIALIST\n",
            "['liability', 'City', 'weaknesses', 'repayment', 'cash', 'statements', 'Processor', 'Sharepoint', 'Solutions', 'Analysis', 'production', 'Lotus', 'Risk', 'Current', 'error', 'Profit', 'Schedule', 'Solver', 'logic', 'mortgage', 'management', 'Resolution', 'need', 'Bankruptcy', 'Specialist', 'environment', 'Analyst', 'RELS', 'years', 'Loss', 'University', 'Military', 'title', 'mortgages', 'volume', 'Documentation', 'plan', 'documents', 'Vendorscape', 'searches', 'Statements', 'Operations', 'recommendation', 'Clients', 'Experience', 'risk', 'Income', 'Management', 'instruments', 'tax', 'spectrum', 'Accomplishments', 'functions', 'applicant', 'Mae', 'SPECIALIST', 'quality', 'Consumer', 'Fannie', 'Audits', 'Articulate', 'goals', 'Ups', 'status', 'Data', 'review', 'FHA', 'Mortgage', 'level', 'milestones', 'Environment', '10/2011', 'self', 'products', 'policies', '%', 'StateMortgage', 'security', 'standards', 'Internal', 'industry', 'packages', 'Default', 'entry', 'errors', 'work', 'computer', 'Processing', 'Department', 'Federal', 'approvals', 'loans', 'Lenstar', 'Servicing', 'detail', 'Home', 'SLOAD', 'Connection', 'order', 'willingness', 'validity', 'baseline', 'documentation', 'Closing', 'Detail', 'DAT', 'BANKING', 'employer', 'house', 'Operations/', 'Document', 'exceptions', 'State', 'CREDCO', 'Science', 'underwriting', 'feasibility', '01/2014', 'procedures', 'strengths', 'Sales', 'Loan', 'MSP', 'Entry', 'company', 'definition', 'conditions', 'Ambitious', 'file', 'Corps', 'Title', 'Underwriter', 'paystubs', 'capacity', 'Act', 'peer', 'booking', 'Real', 'W2', 'professional', 'passion', '*', 'teammates', 'approval', 'clients', 'applicants', 'loan', 'Use', 'investor', 'Services', 'Financial', 'resolution', 'Compliance', 'Auburn', 'Skills', 'Meeting', 'roles', 'Early', 'Auditing', 'Civil', 'business', 'Associate', 'Control', 'experience', 'companies', 'programs', 'omissions', 'modification', 'Dos', 'in', 'Learner', 'Prevention', 'payment', 'Nss', 'MORTGAGE', 'learner', 'Lead', 'Foreclosure', 'follow', '01/2010', 'Company', 'control', 'history', 'bank', '04/2003', 'Name', 'options', 'Tax', 'Lending', 'evaluation', 'Banking', 'opportunity', 'Loans', 'LES', 'Liability', 'Administration', 'Education', 'services', 'customer', 'Microsoft', 'attention', 'member', 'accordance', 'borrowers', 'inquiries', 'Service', 'property', 'Review', 'Powerpoint', 'income', 'Montgomery', 'Live', 'Preservation', 'requirements', 'Cash', 'F.H.A.', 'Team', 'characteristics', 'consumer', 'File', 'FORECLOSURE', 'DOS', 'Telephone', 'Problem', 'Reviewing', 'banking', 'Excel', 'processes', 'rating', 'reviews', 'Booking', 'Pipeline', 'Fha', 'Outlook', '1120S', 'adherence', 'software', 'C', 'Fast', 'Estate', 'Assessment', 'cases', 'Cases', 'Fixed', 'guidelines', 'Returns', 'verifications', 'LPS', 'maintenance', 'affordability', 'Security', 'ResWare', 'Verified', 'Summary', 'ratio', 'credit', 'Business', 'ups', 'Assurance', 'Credit', 'Underwriting', 'Trading', 'Word', 'Relief', 'methodology', '08/2008', 'Quality', 'customers', 'Management/', 'mainframes', '12/2013', 'transcripts', 'K-1', 'V.A.', 'Prevention/', 'Production', 'asset', 'Mitigation', 'II', 'sources', 'SCRA', 'S', 'knowledge', 'database']\n",
            "[]\n",
            "\n",
            "SENIOR CLIENT ADVOCATE II\n",
            "['product', 'Seven', 'City', 'impact', 'BlueCross', 'Systems', 'projects', 'changes', 'role', 'areas', 'record', 'Project', 'Risk', 'analysts', 'Motivated', 'Wireless', 'development', 'management', 'expense', 'coding', 'employees', 'Northampton', 'player', 'plans', 'FHIR', 'environment', 'Analyst', 'pricing', 'Blood', 'progress', 'years', 'Cable', 'HP', 'University', 'Military', 'planning', 'tools', 'architecture', 'SQL', 'users', 'ability', 'plan', 'Standards', 'programmers', 'Gabron', 'savings', 'Requirements', 'Operations', '-', 'board', 'College', 'project', 'research', 'Experience', 'Physical', 'teams', 'Training', 'Technology', 'Management', 'case', 'Accomplishments', 'Application', 'efficiency', 'Workflow', 'goals', 'acceptance', 'measure', 'Senior', 'acumen', 'Data', 'health', '12/2002', 'Information', 'time', 'Rock', 'Clinical', 'objectives', 'Colorectal', 'level', 'profits', 'members', 'products', '%', 'costs', 'actuals', 'Magna', 'marketing', 'installation', 'improvements', 'meetings', 'EHR', 'Test', 'Cum', 'industry', 'creation', 'defects', 'London', 'Pressure', 'Product', 'communication', 'Merit', 'issues', '03/1992', 'mapping', 'Bachelor', 'Cancer', 'documentation', 'interviews', 'Community', 'telecom', 'billing', 'forecast', 'V2', 'technology', 'Document', 'Manager', 'budget', 'State', 'data', 'stakeholders', 'procedures', 'bench', 'mitigation', 'CBP', 'Computer', 'company', 'principles', 'position', 'matrix', 'Interchange', 'claims', 'Architecture', 'Insurance', 'opportunities', 'Consolidate', 'information', 'SuppCRAIG', 'support', 'Workgroup', 'Developing', 'analyst', 'staff', 'BlueShield', 'telecommunications', 'Organization', 'Use', '12/2017', 'TRICARE', 'Client', 'Health', 'Skills', 'Collaboration', 'business', 'revenue', 'calculation', 'ï¼\\u200b', 'design', 'spending', 'ADVOCATE', 'visits', 'CRAIG', 'Electronic', 'results', 'solutions', 'South', 'row', 'process', 'Screening', 'Brand', 'telephone', 'team', 'performance', 'sessions', 'features', 'Company', 'Pennsylvania', 'CLIENT', 'Name', 'IT', 'tool', 'site', 'Level', 'Affiliations', 'Laude', 'Resources', 'updates', 'packetize', 'Education', 'customer', 'user', 'Duties', 'Service', 'Lifecycle', 'requirements', 'attachments', 'messages', 'system', 'Team', 'focus', 'test', 'MS', 'line', 'care', 'processes', 'Release', 'gap', 'reviews', 'Award', 'Meaningful', 'Fast', 'scripts', 'software', 'reports', 'cases', 'Net', 'cycles', 'needs', 'ordination', 'Carolina', 'Communications', 'Summary', 'leaders', 'Business', 'collaboration', 'use', 'Slippery', 'expertise', 'analysis', 'Advocate', 'feature', 'co', 'WEDI', 'accounting', 'relationship', 'measures', 'enhancements', 'England', 'HEDIS', 'testing', 'Healthcare', 'responsibilities', 'COL', 'sales', 'concepts', 'II', 'Science', 'knowledge']\n",
            "['Bachelor']\n",
            "\n",
            "LINE ATTENDANT\n",
            "['desires', 'City', 'product', 'Externship', 'orders', 'accuracy', 'tissue', 'cash', 'food', 'Talent', 'Retail', 'service', 'Upheld', 'Analysis', 'code', 'inventory', 'Scrubbed', 'Customer', 'Dictation', 'Records', 'merchandise', 'Certificate', 'management', 'development', 'coffee', 'employees', 'Results', 'vehicles', 'player', 'Sep', 'preparation', 'purchases', 'pricing', 'register', 'Trevose', 'Reconciling', 'shelves', 'promotions', 'levels', 'appointments', 'Cpr/', 'office', 'calls', 'Collected', 'beverages', 'Sanford', 'Line', 'slip', 'Described', 'Inventory', '-', 'floor', 'receipts', 'duties', 'assurance', 'Experience', 'shipping', 'Training', 'FDA', 'PA', 'instruments', 'Shipping', 'Accomplishments', 'Attendant', 'bag', 'Player', 'Seasonal', 'quality', 'time', 'equipment', 'Handling', 'CPR', 'ATTENDANT', 'Excellent', 'workers', 'policies', 'products', 'Highlights', 'exchanges', 'instructions', 'security', 'improvements', 'September', 'Fulfillment', 'material', 'standards', 'stores', 'Material', 'containers', 'Certifications', 'work', 'fountain', 'communication', 'order', 'operation', 'steam', 'patients', 'Receptionist', 'dishes', 'flow', 'Practices', 'stock', 'State', 'phone', 'Sales', 'procedures', 'Answering', 'deadlines', 'Cpr', 'break', 'Multi', 'Jan', 'activities', 'company', 'Telephones', 'pace', 'Promote', 'tea', 'dictation', 'physician', 'recommendations', 'shipments', 'information', 'Nov', 'LINE', 'statistics', 'availability', 'Feb', 'US', 'supplies', 'Register', 'glasses', 'Skills', 'Directed', 'items', 'ï¼\\u200b', 'Aug', 'Associate', 'Supervisor', 'background', 'results', 'Aid', 'rooms', '©', 'Pricing', 'tables', 'Office', 'payment', 'drive', 'Restaurant', 'SKILLS', 'tasker', 'laboratory', 'specimens', 'telephone', 'telephones', 'growth', 'examination', 'Company', 'history', 'prices', 'August', 'Strong', 'Name', 'Medical', 'Crew', 'storage', 'Flow', 'CafÃ', 'Brown', 'height', 'refreshments', 'Education', 'temperature', 'services', 'customer', 'Microsoft', 'signs', 'patron', 'Cash', 'Oct', 'Assistant', 'Duties', 'Certification', 'Service', 'Hostess', 'Activities', 'Cooked', 'Communication', 'Culinary', 'Team', 'goods', 'test', 'area', 'Telephone', 'care', 'insurance', 'Excel', 'Recommend', 'reference', 'closing', 'leader', 'Diploma', 'opening', 'lines', 'Ticketed', 'First', 'Competitive', 'needs', 'gauge', 'Osha', 'guidelines', 'Apr', 'counters', 'Fda', 'General', 'records', 'Institute', 'Security', 'Summary', 'credit', 'racks', 'kitchens', 'taking', 'restaurant', 'Assurance', 'Store', 'use', 'Credit', 'analysis', 'fulfillment', 'CERTIFICATIONS', 'blood', 'Word', 'date', 'Leadership', 'forms', 'brand', 'Arts', 'Quality', 'customers', 'practices', 'requests', 'weight', 'Answered', 'Testing', 'Laboratory', 'sales', 'Statistics', 'knowledge']\n",
            "[]\n",
            "\n",
            "SALON DESIGNER\n",
            "['SUNSTATE', 'product', 'City', 'malfunctions', 'desires', 'problem', 'Determine', 'Processor', 'cash', 'questions', 'styles', 'education', 'service', 'styling', 'transactions', 'Schedule', 'Order', 'andself-', 'Responsibilities', 'merchandise', 'package', 'Self', 'Power', 'need', 'techniques', 'player', 'center', 'charge', 'cutting', 'purchases', 'Set', 'Sep', 'shelves', 'promotions', 'appointments', 'October', 'office', 'title', 'employment', 'Appraisal', 'Package', 'Maintain', 'documents', 'Ms', 'Inventory', 'slips', 'Experience', 'client', 'requisition', 'Management', 'DESIGNER', 'month', 'tasks', 'Call', 'contact', 'skills', 'time', 'status', 'December', 'researching', 'decision', 'hair', 'equipment', 'Bilingual', 'level', 'arrange', 'Processors', 'Committed', 'reputation', 'satisfaction', 'products', 'policies', 'United', 'initiative', 'exchanges', 'drawers', 'marketing', 'security', 'registers', 'safety', 'standards', 'Prepare', 'Change', 'Answer', 'call', 'work', 'May', 'salon', 'communication', 'issues', 'Languages', 'validity', 'loans', 'ACADEMY', 'operations', 'order', 'Representative', 'operation', 'SAINT', 'fields', 'problems', 'Manager', 'stock', 'making', 'consultation', 'State', 'data', 'Sales', 'ownership', 'Cosmetology', 'procedures', 'Originators', 'Loan', 'value', 'company', 'Exchange', 'file', 'deposits', 'English', 'opportunities', 'atmosphere', 'information', 'cosmetics', 'support', 'cleanliness', 'professional', 'Point', 'clients', 'integrity', 'loan', 'supplies', 'vouchers', 'Assemble', 'SALON', 'Fulfill', 'January', 'Skills', 'business', 'Compliance', 'Associate', 'ï¼\\u200b', 'beauty', 'print', 'Essential', 'experience', 'appraisals', 'Salon', 'November', 'job', 'Aug', 'PETERSBURG', 'tables', 'Office', 'solutions', 'payment', 'group', 'benefits', 'inventories', 'features', 'Company', 'store', 'Compute', 'August', 'QC', 'Batteries', 'Name', 'prices', 'base', 'Center', 'coupons', 'accounts', 'Flow', 'June', 'Greet', 'stations', 'License', 'training', 'Professional', 'Education', 'style', 'customer', 'services', 'returns', 'Duties', 'inquiries', 'Watch', 'requirements', 'organization', 'Team', 'accomplishments', 'Overview', 'COLLEGE', 'subordinations', 'people', 'eager', 'care', 'periods', 'Excel', 'Regulatory', 'answers', 'Recommend', 'retail', 'closing', 'submission', 'Ticket', 'opening', 'sell', 'needs', 'trends', 'Career', 'maintenance', 'verifications', 'counters', 'General', 'records', 'credit', 'use', 'demeanor', 'money', 'Credit', 'Designer', 'locating', 'Word', 'Arts', 'relationship', 'customers', 'practices', 'States', 'requests', 'gifts', 'selection', 'LOS', 'Owner', 'attorney', 'term', 'Adobe', 'Greek', 'sales', 'mobility', 'knowledge', 'database']\n",
            "[]\n",
            "\n",
            "E-LEARNING DESIGNER\n",
            "['Â', 'Factors', 'sites', 'Patrick', 'development', 'management', 'variety', 'PowerPoint', 'Kutsch', 'storyboards', 'iMovie', '-', 'publications', '2007Â', 'User', 'Preparation', 'owners', 'technologies', 'School', 'Encoder', 'navigation', 'Master', 'leadership', 'Macedo', 'Excellent', 'DB2', 'Dantressangle', 'security', 'Design', 'Kenexa', 'z', 'UNIVERSITY', 'Certifications', 'Captivate', 'Tutorial', 'State', 'VMWare', 'learning', 'Wu', 'magazine', 'Brothers', 'Magazine', 'web', 'We', 'holders', 'WESTERN', 'High', 'information', 'Unix', 'proof', 'Paolo', 'January', 'Soccer', 'Green', 'background', 'Oracle', 'Vitor', 'SCORM', 'process', 'Instructional', 'Planning', 'AIX', 'Company', 'Name', 'forÂ', 'tool', 'June', 'methods', 'Affiliations', 'training', 'editor', 'BoardÂ', 'conferences', 'Board', 'Certification', 'p', 'Stakeholder', 'adult', 'Work', 'Outlook', 'software', 'C', 'LMS', 'learners', 'Math', 'Sabine', 'Designer', 'experts', 'ParticipantsÂ', 'TeamÂ', 'McGeoch', 'Skype', 'Gathered', 'methodologies', 'City', 'Ling', 'Developer', 'Drive', 'education', 'Innovation', 'Talent', 'Current', 'administrators', 'techniques', 'Apple', 'center', 'Tay', 'TECHNOLOGY', 'Technical', 'Hub', 'Swim', 'project', 'Procedures', 'Studio', 'Montini', 'Management', 'Player', 'Application', 'quality', 'Ability', 'Gmail', 'Paint', 'administrator', 'Data', 'resources', 'Academic', 'Record', 'INSTRUCTIONAL', 'COMPUTER', 'United', 'Support', 'Rome', 'DatabaseIBM', '501(r)Â', 'e', 'White', 'Reader', 'May', 'Bachelor', 'Gregory', 'Protecting', 'Media', 'Community', 'technology', 'Jan', 'Ming', 'knowledge', 'Sardana', 'Success', 'Snag', 'HTML', 'design', 'book', 'Society', 'Database', 'trainer', 'matter', 'Chong', 'Forms', 'Kathryn', 'department', 'Dayana', 'ILLINOIS', 'Service', 'expert', 'Team', 'Overview', 'content', 'resource', 'SharePoint', 'Version', 'Safety', 'subject', 'Career', 'Olympiad', 'Marichu', 'collaboration', 'analysis', 'Writing', 'Revolution', 'Voice', 'articles', 'Illinois', 'Workbench', 'American', 'problem', 'Youth', 'Dennis', 'Robert', 'E', 'Pro', 'Customer', 'eBook', 'designÂ', 'Publications', 'educator', 'Explorer', 'SQL', 'PENNSYLVANIA', 'ability', 'scenarios', 'Paper', 'Presentations', 'Experience', 'Training', 'Technology', 'Editing', 'understanding', 'stake', 'skills', 'SAP', 'time', 'David', 'Windows', 'F.', 'Test', 'Unites', 'computer', 'Visio', 'Coach', 'Greenstein', 'April', 'Leung', 'surveysÂ', 'manager', 'Bruni', 'Docs', 'Patient', 'modules', 'NIH', 'assessments', 'Schenker', 'Mark', 'Adept', 'Organization', 'Eaton', 'Skills', 'Michael', 'Kaschta', 'experience', 'SCIENCE', 'Athletic', 'Introduction', 'managers', 'implementation', 'Stored', 'pedagogy', 'Internet', 'Spain', 'budgets', 'York', 'developerWorks', 'compliance', 'Microsoft', 'Corporation', 'eLearning', 'Children', 'Sandburg', 'STATE', 'test', 'videos', 'Archiving', 'ID', 'Marina', 'Debra', 'lines', 'Group', 'Smith', 'Analysed', 'experiences', 'Qualifications', 'Platform', 'class', 'proposals', 'theories', 'Elmhurst', 'Word', 'schedules', 'DEPAUL', 'Adobe', 'concepts', 'Science', 'JavascriptÂ', 'boarding', 'materials', 'delivery', 'Newman', 'Volunteer', 'Marcel', 'Development', 'Project', 'Exam', 'ILT', 'Researched', 'Google', 'tools', 'online', 'Research', 'TRAINER', 'Cross-', 'OS', 'room', 'DESIGNER', 'scheduling', 'K.', 'tasks', 'Ricardo', 'Part', 'solution', 'video', 'Information', 'Boosters', 'objectives', 'President', 'pages', 'proficiency', 'd', 'Redbook', 'Book', 'outcomes', 'Rodrigues', 'data', 'Luca', 'Central', 'Hutchison', 'Facilities', 'Raul', 'Zeidenstein', 'ï¼\\u200b', 'Majcher', 'initiatives', 'Vandensande', 'D.', 'Tech', 'channel', 'Advisory', 'team', 'DESIGN', 'curriculum', 'Association', 'Chrome', 'Bockus', 'Grant', 'executives', 'Education', 'Academy', 'International', 'requirements', 'approaches', 'line', 'UDB', 'Excel', 'story', 'XML', 'Networks', 'IBM', 'feedback', 'needs', 'distance', 'Manoj', 'courses', 'Scanlon', 'Red', 'July', 'Demand', 'parties', 'SheetsÂ', 'States', 'Glenn', 'Expert', 'Human', 'YouTube']\n",
            "['Bachelor', 'Master']\n",
            "\n",
            "\n",
            "\n",
            "\n",
            ">>>>>>>>>>>>>>>>>>>>>>>>>>>>>>>>>>>>>>>>>>>>>>>\n",
            "\n",
            "\n",
            "\n",
            "Zander Insurance Agency\n",
            "Web Designer\n",
            "2+ years of digital design experience driving online sales or marketing. Ability to communicate effectively with high-level clients. Able to thrive in a fast-paced, team environment. Open to new ideas and able to adapt quickly. Proficiency with Adobe Creative Suite including Photoshop, Illustrator, and InDesign. Experience with Sketch and UI wireframing. Ability to articulate design concepts. HTML/CSS/JS experience preferred but not required.\n",
            "N/A\n",
            "\n",
            "SOFTWARE ENGINEERING MANAGER\n",
            "['Beijing', 'engine', 'product', 'City', 'Engineer', 'encoder', 'servers', 'DTA', 'formats', 'bridge', 'projects', 'engineers', 'service', 'Development', 'Visual', 'Transcoder', 'Helper', 'code', 'Current', 'startup', 'developers', 'Project', 'India', 'scalability', 'development', 'management', 'HTML5', 'backup', 'explorer', 'Hercules', 'crash', 'concept', 'player', 'Principal', 'personnel', 'holding', 'desktop', 'years', 'tools', 'architecture', 'Helios', 'Engineering', 'protocol', 'SAX', 'integration', 'documents', 'ScrumMaster', '-', 'project', 'document', 'Experience', 'teams', 'Editing', 'client', 'layer', 'Scavenger', 'backend', 'Technology', 'functions', 'engineering', 'spinoff', 'URI', 'nodes', 'Initiated', 'Encoder', 'MediaBase', 'AAC', 'JavaScript', 'time', 'solution', 'CLI', 'Imagine', 'video', 'ENGINEERING', 'part', 'method', 'UI', 'core', 'level', 'review', 'threads', 'API', 'products', 'Windows', 'hands', 'reader', 'side', 'specification', 'legacy', 'classes', 'source', '24/7', 'pages', 'engineer', 'standards', 'troubleshoot', 'SOFTWARE', 'SDK', 'contents', 'Mercurial', 'issues', 'access', 'operation', 'domains', 'Media', 'effects', 'interviews', 'documentation', 'technology', '08/2009', 'top', 'manager', 'facilities', 'house', 'Manager', 'stack', 'MB', '+', 'State', 'export', 'Nexio', 'Bank', 'procedures', 'import', 'transitions', 'Computer', 'Proxy', 'Playout', 'JS', 'conditions', 'BCD', 'models', 'Burbank', 'modules', 'web', 'space', 'MP4', 'FTP', 'peer', 'opportunities', 'Content', 'evolution', 'clients', 'Suite', 'SAN', 'MANAGER', 'media', 'STL', 'design', 'offers', '09/2009', 'business', 'ï¼\\u200b', 'dump', 'drawing', 'Skills', 'experience', 'Global', 'National', 'HR', 'broadcast', 'HTTP', 'page', 'rendering', 'Jenkins', 'dash', 'container', 'engines', 'MFC', 'json', 'GPRX', 'revision', 'Video', 'NAS', 'handler', 'WinAPI', 'process', 'multi-', 'applications', 'decoder', 'vendor', 'request', 'picon', 'codec', 'audio', 'DASH', 'performance', 'team', 'success', 'Company', 'control', 'Win32', 'driver', 'editing', 'Render', 'Name', 'M.S', 'response', 'storage', 'Scrum', 'methods', 'Star', 'Software', 'JSON', 'C++', 'services', 'customer', 'style', 'Education', 'TCP', 'user', 'K', 'Corporation', 'Service', 'Picon', 'Hardware', 'Leitch', 'Communication', 'Team', 'ATL', 'unit', 'indirect', 'Requestor', 'Win', 'Handler', 'communications', 'content', 'atoms', 'reviews', 'XML', 'software', 'C', 'Harris', 'DLL', 'device', 'rules', 'metadata', 'guidelines', 'SOA', 'Naperville', 'parser', 'completion', 'framework', 'converter', 'IDs', 'Institute', 'Summary', '#', 'LAN', 'DPS', 'use', 'Velocity', 'analysis', 'components', 'domain', 'notification', '08/1997', 'party', 'deliverables', 'Illinois', 'IPC', 'MPEG', 'proxy', 'OOP', 'REST', 'testing', 'playback', 'Electronics', 'header', 'size', 'server', 'hand', 'ftp', 'workflows', 'sources', 'Science', '07/1997']\n",
            "[]\n",
            "\n",
            "MORTGAGE BANKING FORECLOSURE SPECIALIST\n",
            "['liability', 'City', 'weaknesses', 'repayment', 'cash', 'statements', 'Processor', 'Sharepoint', 'Solutions', 'Analysis', 'production', 'Lotus', 'Risk', 'Current', 'error', 'Profit', 'Schedule', 'Solver', 'logic', 'mortgage', 'management', 'Resolution', 'need', 'Bankruptcy', 'Specialist', 'environment', 'Analyst', 'RELS', 'years', 'Loss', 'University', 'Military', 'title', 'mortgages', 'volume', 'Documentation', 'plan', 'documents', 'Vendorscape', 'searches', 'Statements', 'Operations', 'recommendation', 'Clients', 'Experience', 'risk', 'Income', 'Management', 'instruments', 'tax', 'spectrum', 'Accomplishments', 'functions', 'applicant', 'Mae', 'SPECIALIST', 'quality', 'Consumer', 'Fannie', 'Audits', 'Articulate', 'goals', 'Ups', 'status', 'Data', 'review', 'FHA', 'Mortgage', 'level', 'milestones', 'Environment', '10/2011', 'self', 'products', 'policies', '%', 'StateMortgage', 'security', 'standards', 'Internal', 'industry', 'packages', 'Default', 'entry', 'errors', 'work', 'computer', 'Processing', 'Department', 'Federal', 'approvals', 'loans', 'Lenstar', 'Servicing', 'detail', 'Home', 'SLOAD', 'Connection', 'order', 'willingness', 'validity', 'baseline', 'documentation', 'Closing', 'Detail', 'DAT', 'BANKING', 'employer', 'house', 'Operations/', 'Document', 'exceptions', 'State', 'CREDCO', 'Science', 'underwriting', 'feasibility', '01/2014', 'procedures', 'strengths', 'Sales', 'Loan', 'MSP', 'Entry', 'company', 'definition', 'conditions', 'Ambitious', 'file', 'Corps', 'Title', 'Underwriter', 'paystubs', 'capacity', 'Act', 'peer', 'booking', 'Real', 'W2', 'professional', 'passion', '*', 'teammates', 'approval', 'clients', 'applicants', 'loan', 'Use', 'investor', 'Services', 'Financial', 'resolution', 'Compliance', 'Auburn', 'Skills', 'Meeting', 'roles', 'Early', 'Auditing', 'Civil', 'business', 'Associate', 'Control', 'experience', 'companies', 'programs', 'omissions', 'modification', 'Dos', 'in', 'Learner', 'Prevention', 'payment', 'Nss', 'MORTGAGE', 'learner', 'Lead', 'Foreclosure', 'follow', '01/2010', 'Company', 'control', 'history', 'bank', '04/2003', 'Name', 'options', 'Tax', 'Lending', 'evaluation', 'Banking', 'opportunity', 'Loans', 'LES', 'Liability', 'Administration', 'Education', 'services', 'customer', 'Microsoft', 'attention', 'member', 'accordance', 'borrowers', 'inquiries', 'Service', 'property', 'Review', 'Powerpoint', 'income', 'Montgomery', 'Live', 'Preservation', 'requirements', 'Cash', 'F.H.A.', 'Team', 'characteristics', 'consumer', 'File', 'FORECLOSURE', 'DOS', 'Telephone', 'Problem', 'Reviewing', 'banking', 'Excel', 'processes', 'rating', 'reviews', 'Booking', 'Pipeline', 'Fha', 'Outlook', '1120S', 'adherence', 'software', 'C', 'Fast', 'Estate', 'Assessment', 'cases', 'Cases', 'Fixed', 'guidelines', 'Returns', 'verifications', 'LPS', 'maintenance', 'affordability', 'Security', 'ResWare', 'Verified', 'Summary', 'ratio', 'credit', 'Business', 'ups', 'Assurance', 'Credit', 'Underwriting', 'Trading', 'Word', 'Relief', 'methodology', '08/2008', 'Quality', 'customers', 'Management/', 'mainframes', '12/2013', 'transcripts', 'K-1', 'V.A.', 'Prevention/', 'Production', 'asset', 'Mitigation', 'II', 'sources', 'SCRA', 'S', 'knowledge', 'database']\n",
            "[]\n",
            "\n",
            "SENIOR CLIENT ADVOCATE II\n",
            "['product', 'Seven', 'City', 'impact', 'BlueCross', 'Systems', 'projects', 'changes', 'role', 'areas', 'record', 'Project', 'Risk', 'analysts', 'Motivated', 'Wireless', 'development', 'management', 'expense', 'coding', 'employees', 'Northampton', 'player', 'plans', 'FHIR', 'environment', 'Analyst', 'pricing', 'Blood', 'progress', 'years', 'Cable', 'HP', 'University', 'Military', 'planning', 'tools', 'architecture', 'SQL', 'users', 'ability', 'plan', 'Standards', 'programmers', 'Gabron', 'savings', 'Requirements', 'Operations', '-', 'board', 'College', 'project', 'research', 'Experience', 'Physical', 'teams', 'Training', 'Technology', 'Management', 'case', 'Accomplishments', 'Application', 'efficiency', 'Workflow', 'goals', 'acceptance', 'measure', 'Senior', 'acumen', 'Data', 'health', '12/2002', 'Information', 'time', 'Rock', 'Clinical', 'objectives', 'Colorectal', 'level', 'profits', 'members', 'products', '%', 'costs', 'actuals', 'Magna', 'marketing', 'installation', 'improvements', 'meetings', 'EHR', 'Test', 'Cum', 'industry', 'creation', 'defects', 'London', 'Pressure', 'Product', 'communication', 'Merit', 'issues', '03/1992', 'mapping', 'Bachelor', 'Cancer', 'documentation', 'interviews', 'Community', 'telecom', 'billing', 'forecast', 'V2', 'technology', 'Document', 'Manager', 'budget', 'State', 'data', 'stakeholders', 'procedures', 'bench', 'mitigation', 'CBP', 'Computer', 'company', 'principles', 'position', 'matrix', 'Interchange', 'claims', 'Architecture', 'Insurance', 'opportunities', 'Consolidate', 'information', 'SuppCRAIG', 'support', 'Workgroup', 'Developing', 'analyst', 'staff', 'BlueShield', 'telecommunications', 'Organization', 'Use', '12/2017', 'TRICARE', 'Client', 'Health', 'Skills', 'Collaboration', 'business', 'revenue', 'calculation', 'ï¼\\u200b', 'design', 'spending', 'ADVOCATE', 'visits', 'CRAIG', 'Electronic', 'results', 'solutions', 'South', 'row', 'process', 'Screening', 'Brand', 'telephone', 'team', 'performance', 'sessions', 'features', 'Company', 'Pennsylvania', 'CLIENT', 'Name', 'IT', 'tool', 'site', 'Level', 'Affiliations', 'Laude', 'Resources', 'updates', 'packetize', 'Education', 'customer', 'user', 'Duties', 'Service', 'Lifecycle', 'requirements', 'attachments', 'messages', 'system', 'Team', 'focus', 'test', 'MS', 'line', 'care', 'processes', 'Release', 'gap', 'reviews', 'Award', 'Meaningful', 'Fast', 'scripts', 'software', 'reports', 'cases', 'Net', 'cycles', 'needs', 'ordination', 'Carolina', 'Communications', 'Summary', 'leaders', 'Business', 'collaboration', 'use', 'Slippery', 'expertise', 'analysis', 'Advocate', 'feature', 'co', 'WEDI', 'accounting', 'relationship', 'measures', 'enhancements', 'England', 'HEDIS', 'testing', 'Healthcare', 'responsibilities', 'COL', 'sales', 'concepts', 'II', 'Science', 'knowledge']\n",
            "['Bachelor']\n",
            "\n",
            "LINE ATTENDANT\n",
            "['desires', 'City', 'product', 'Externship', 'orders', 'accuracy', 'tissue', 'cash', 'food', 'Talent', 'Retail', 'service', 'Upheld', 'Analysis', 'code', 'inventory', 'Scrubbed', 'Customer', 'Dictation', 'Records', 'merchandise', 'Certificate', 'management', 'development', 'coffee', 'employees', 'Results', 'vehicles', 'player', 'Sep', 'preparation', 'purchases', 'pricing', 'register', 'Trevose', 'Reconciling', 'shelves', 'promotions', 'levels', 'appointments', 'Cpr/', 'office', 'calls', 'Collected', 'beverages', 'Sanford', 'Line', 'slip', 'Described', 'Inventory', '-', 'floor', 'receipts', 'duties', 'assurance', 'Experience', 'shipping', 'Training', 'FDA', 'PA', 'instruments', 'Shipping', 'Accomplishments', 'Attendant', 'bag', 'Player', 'Seasonal', 'quality', 'time', 'equipment', 'Handling', 'CPR', 'ATTENDANT', 'Excellent', 'workers', 'policies', 'products', 'Highlights', 'exchanges', 'instructions', 'security', 'improvements', 'September', 'Fulfillment', 'material', 'standards', 'stores', 'Material', 'containers', 'Certifications', 'work', 'fountain', 'communication', 'order', 'operation', 'steam', 'patients', 'Receptionist', 'dishes', 'flow', 'Practices', 'stock', 'State', 'phone', 'Sales', 'procedures', 'Answering', 'deadlines', 'Cpr', 'break', 'Multi', 'Jan', 'activities', 'company', 'Telephones', 'pace', 'Promote', 'tea', 'dictation', 'physician', 'recommendations', 'shipments', 'information', 'Nov', 'LINE', 'statistics', 'availability', 'Feb', 'US', 'supplies', 'Register', 'glasses', 'Skills', 'Directed', 'items', 'ï¼\\u200b', 'Aug', 'Associate', 'Supervisor', 'background', 'results', 'Aid', 'rooms', '©', 'Pricing', 'tables', 'Office', 'payment', 'drive', 'Restaurant', 'SKILLS', 'tasker', 'laboratory', 'specimens', 'telephone', 'telephones', 'growth', 'examination', 'Company', 'history', 'prices', 'August', 'Strong', 'Name', 'Medical', 'Crew', 'storage', 'Flow', 'CafÃ', 'Brown', 'height', 'refreshments', 'Education', 'temperature', 'services', 'customer', 'Microsoft', 'signs', 'patron', 'Cash', 'Oct', 'Assistant', 'Duties', 'Certification', 'Service', 'Hostess', 'Activities', 'Cooked', 'Communication', 'Culinary', 'Team', 'goods', 'test', 'area', 'Telephone', 'care', 'insurance', 'Excel', 'Recommend', 'reference', 'closing', 'leader', 'Diploma', 'opening', 'lines', 'Ticketed', 'First', 'Competitive', 'needs', 'gauge', 'Osha', 'guidelines', 'Apr', 'counters', 'Fda', 'General', 'records', 'Institute', 'Security', 'Summary', 'credit', 'racks', 'kitchens', 'taking', 'restaurant', 'Assurance', 'Store', 'use', 'Credit', 'analysis', 'fulfillment', 'CERTIFICATIONS', 'blood', 'Word', 'date', 'Leadership', 'forms', 'brand', 'Arts', 'Quality', 'customers', 'practices', 'requests', 'weight', 'Answered', 'Testing', 'Laboratory', 'sales', 'Statistics', 'knowledge']\n",
            "[]\n",
            "\n",
            "SALON DESIGNER\n",
            "['SUNSTATE', 'product', 'City', 'malfunctions', 'desires', 'problem', 'Determine', 'Processor', 'cash', 'questions', 'styles', 'education', 'service', 'styling', 'transactions', 'Schedule', 'Order', 'andself-', 'Responsibilities', 'merchandise', 'package', 'Self', 'Power', 'need', 'techniques', 'player', 'center', 'charge', 'cutting', 'purchases', 'Set', 'Sep', 'shelves', 'promotions', 'appointments', 'October', 'office', 'title', 'employment', 'Appraisal', 'Package', 'Maintain', 'documents', 'Ms', 'Inventory', 'slips', 'Experience', 'client', 'requisition', 'Management', 'DESIGNER', 'month', 'tasks', 'Call', 'contact', 'skills', 'time', 'status', 'December', 'researching', 'decision', 'hair', 'equipment', 'Bilingual', 'level', 'arrange', 'Processors', 'Committed', 'reputation', 'satisfaction', 'products', 'policies', 'United', 'initiative', 'exchanges', 'drawers', 'marketing', 'security', 'registers', 'safety', 'standards', 'Prepare', 'Change', 'Answer', 'call', 'work', 'May', 'salon', 'communication', 'issues', 'Languages', 'validity', 'loans', 'ACADEMY', 'operations', 'order', 'Representative', 'operation', 'SAINT', 'fields', 'problems', 'Manager', 'stock', 'making', 'consultation', 'State', 'data', 'Sales', 'ownership', 'Cosmetology', 'procedures', 'Originators', 'Loan', 'value', 'company', 'Exchange', 'file', 'deposits', 'English', 'opportunities', 'atmosphere', 'information', 'cosmetics', 'support', 'cleanliness', 'professional', 'Point', 'clients', 'integrity', 'loan', 'supplies', 'vouchers', 'Assemble', 'SALON', 'Fulfill', 'January', 'Skills', 'business', 'Compliance', 'Associate', 'ï¼\\u200b', 'beauty', 'print', 'Essential', 'experience', 'appraisals', 'Salon', 'November', 'job', 'Aug', 'PETERSBURG', 'tables', 'Office', 'solutions', 'payment', 'group', 'benefits', 'inventories', 'features', 'Company', 'store', 'Compute', 'August', 'QC', 'Batteries', 'Name', 'prices', 'base', 'Center', 'coupons', 'accounts', 'Flow', 'June', 'Greet', 'stations', 'License', 'training', 'Professional', 'Education', 'style', 'customer', 'services', 'returns', 'Duties', 'inquiries', 'Watch', 'requirements', 'organization', 'Team', 'accomplishments', 'Overview', 'COLLEGE', 'subordinations', 'people', 'eager', 'care', 'periods', 'Excel', 'Regulatory', 'answers', 'Recommend', 'retail', 'closing', 'submission', 'Ticket', 'opening', 'sell', 'needs', 'trends', 'Career', 'maintenance', 'verifications', 'counters', 'General', 'records', 'credit', 'use', 'demeanor', 'money', 'Credit', 'Designer', 'locating', 'Word', 'Arts', 'relationship', 'customers', 'practices', 'States', 'requests', 'gifts', 'selection', 'LOS', 'Owner', 'attorney', 'term', 'Adobe', 'Greek', 'sales', 'mobility', 'knowledge', 'database']\n",
            "[]\n",
            "\n",
            "E-LEARNING DESIGNER\n",
            "['Â', 'Factors', 'sites', 'Patrick', 'development', 'management', 'variety', 'PowerPoint', 'Kutsch', 'storyboards', 'iMovie', '-', 'publications', '2007Â', 'User', 'Preparation', 'owners', 'technologies', 'School', 'Encoder', 'navigation', 'Master', 'leadership', 'Macedo', 'Excellent', 'DB2', 'Dantressangle', 'security', 'Design', 'Kenexa', 'z', 'UNIVERSITY', 'Certifications', 'Captivate', 'Tutorial', 'State', 'VMWare', 'learning', 'Wu', 'magazine', 'Brothers', 'Magazine', 'web', 'We', 'holders', 'WESTERN', 'High', 'information', 'Unix', 'proof', 'Paolo', 'January', 'Soccer', 'Green', 'background', 'Oracle', 'Vitor', 'SCORM', 'process', 'Instructional', 'Planning', 'AIX', 'Company', 'Name', 'forÂ', 'tool', 'June', 'methods', 'Affiliations', 'training', 'editor', 'BoardÂ', 'conferences', 'Board', 'Certification', 'p', 'Stakeholder', 'adult', 'Work', 'Outlook', 'software', 'C', 'LMS', 'learners', 'Math', 'Sabine', 'Designer', 'experts', 'ParticipantsÂ', 'TeamÂ', 'McGeoch', 'Skype', 'Gathered', 'methodologies', 'City', 'Ling', 'Developer', 'Drive', 'education', 'Innovation', 'Talent', 'Current', 'administrators', 'techniques', 'Apple', 'center', 'Tay', 'TECHNOLOGY', 'Technical', 'Hub', 'Swim', 'project', 'Procedures', 'Studio', 'Montini', 'Management', 'Player', 'Application', 'quality', 'Ability', 'Gmail', 'Paint', 'administrator', 'Data', 'resources', 'Academic', 'Record', 'INSTRUCTIONAL', 'COMPUTER', 'United', 'Support', 'Rome', 'DatabaseIBM', '501(r)Â', 'e', 'White', 'Reader', 'May', 'Bachelor', 'Gregory', 'Protecting', 'Media', 'Community', 'technology', 'Jan', 'Ming', 'knowledge', 'Sardana', 'Success', 'Snag', 'HTML', 'design', 'book', 'Society', 'Database', 'trainer', 'matter', 'Chong', 'Forms', 'Kathryn', 'department', 'Dayana', 'ILLINOIS', 'Service', 'expert', 'Team', 'Overview', 'content', 'resource', 'SharePoint', 'Version', 'Safety', 'subject', 'Career', 'Olympiad', 'Marichu', 'collaboration', 'analysis', 'Writing', 'Revolution', 'Voice', 'articles', 'Illinois', 'Workbench', 'American', 'problem', 'Youth', 'Dennis', 'Robert', 'E', 'Pro', 'Customer', 'eBook', 'designÂ', 'Publications', 'educator', 'Explorer', 'SQL', 'PENNSYLVANIA', 'ability', 'scenarios', 'Paper', 'Presentations', 'Experience', 'Training', 'Technology', 'Editing', 'understanding', 'stake', 'skills', 'SAP', 'time', 'David', 'Windows', 'F.', 'Test', 'Unites', 'computer', 'Visio', 'Coach', 'Greenstein', 'April', 'Leung', 'surveysÂ', 'manager', 'Bruni', 'Docs', 'Patient', 'modules', 'NIH', 'assessments', 'Schenker', 'Mark', 'Adept', 'Organization', 'Eaton', 'Skills', 'Michael', 'Kaschta', 'experience', 'SCIENCE', 'Athletic', 'Introduction', 'managers', 'implementation', 'Stored', 'pedagogy', 'Internet', 'Spain', 'budgets', 'York', 'developerWorks', 'compliance', 'Microsoft', 'Corporation', 'eLearning', 'Children', 'Sandburg', 'STATE', 'test', 'videos', 'Archiving', 'ID', 'Marina', 'Debra', 'lines', 'Group', 'Smith', 'Analysed', 'experiences', 'Qualifications', 'Platform', 'class', 'proposals', 'theories', 'Elmhurst', 'Word', 'schedules', 'DEPAUL', 'Adobe', 'concepts', 'Science', 'JavascriptÂ', 'boarding', 'materials', 'delivery', 'Newman', 'Volunteer', 'Marcel', 'Development', 'Project', 'Exam', 'ILT', 'Researched', 'Google', 'tools', 'online', 'Research', 'TRAINER', 'Cross-', 'OS', 'room', 'DESIGNER', 'scheduling', 'K.', 'tasks', 'Ricardo', 'Part', 'solution', 'video', 'Information', 'Boosters', 'objectives', 'President', 'pages', 'proficiency', 'd', 'Redbook', 'Book', 'outcomes', 'Rodrigues', 'data', 'Luca', 'Central', 'Hutchison', 'Facilities', 'Raul', 'Zeidenstein', 'ï¼\\u200b', 'Majcher', 'initiatives', 'Vandensande', 'D.', 'Tech', 'channel', 'Advisory', 'team', 'DESIGN', 'curriculum', 'Association', 'Chrome', 'Bockus', 'Grant', 'executives', 'Education', 'Academy', 'International', 'requirements', 'approaches', 'line', 'UDB', 'Excel', 'story', 'XML', 'Networks', 'IBM', 'feedback', 'needs', 'distance', 'Manoj', 'courses', 'Scanlon', 'Red', 'July', 'Demand', 'parties', 'SheetsÂ', 'States', 'Glenn', 'Expert', 'Human', 'YouTube']\n",
            "['Bachelor', 'Master']\n",
            "\n",
            "\n",
            "\n",
            "\n",
            ">>>>>>>>>>>>>>>>>>>>>>>>>>>>>>>>>>>>>>>>>>>>>>>\n",
            "\n",
            "\n",
            "\n",
            "Tuff\n",
            "Web Designer\n",
            "3+ years experience as a web designer. Experience with creative production tools like Figma and Adobe Suite. Strong project management skills. Clean aesthetic and typography skills. Strategic thinker with passion for brand building and UX. Flexibility to work on multiple brands at once.\n",
            "N/A\n",
            "\n",
            "SOFTWARE ENGINEERING MANAGER\n",
            "['Beijing', 'engine', 'product', 'City', 'Engineer', 'encoder', 'servers', 'DTA', 'formats', 'bridge', 'projects', 'engineers', 'service', 'Development', 'Visual', 'Transcoder', 'Helper', 'code', 'Current', 'startup', 'developers', 'Project', 'India', 'scalability', 'development', 'management', 'HTML5', 'backup', 'explorer', 'Hercules', 'crash', 'concept', 'player', 'Principal', 'personnel', 'holding', 'desktop', 'years', 'tools', 'architecture', 'Helios', 'Engineering', 'protocol', 'SAX', 'integration', 'documents', 'ScrumMaster', '-', 'project', 'document', 'Experience', 'teams', 'Editing', 'client', 'layer', 'Scavenger', 'backend', 'Technology', 'functions', 'engineering', 'spinoff', 'URI', 'nodes', 'Initiated', 'Encoder', 'MediaBase', 'AAC', 'JavaScript', 'time', 'solution', 'CLI', 'Imagine', 'video', 'ENGINEERING', 'part', 'method', 'UI', 'core', 'level', 'review', 'threads', 'API', 'products', 'Windows', 'hands', 'reader', 'side', 'specification', 'legacy', 'classes', 'source', '24/7', 'pages', 'engineer', 'standards', 'troubleshoot', 'SOFTWARE', 'SDK', 'contents', 'Mercurial', 'issues', 'access', 'operation', 'domains', 'Media', 'effects', 'interviews', 'documentation', 'technology', '08/2009', 'top', 'manager', 'facilities', 'house', 'Manager', 'stack', 'MB', '+', 'State', 'export', 'Nexio', 'Bank', 'procedures', 'import', 'transitions', 'Computer', 'Proxy', 'Playout', 'JS', 'conditions', 'BCD', 'models', 'Burbank', 'modules', 'web', 'space', 'MP4', 'FTP', 'peer', 'opportunities', 'Content', 'evolution', 'clients', 'Suite', 'SAN', 'MANAGER', 'media', 'STL', 'design', 'offers', '09/2009', 'business', 'ï¼\\u200b', 'dump', 'drawing', 'Skills', 'experience', 'Global', 'National', 'HR', 'broadcast', 'HTTP', 'page', 'rendering', 'Jenkins', 'dash', 'container', 'engines', 'MFC', 'json', 'GPRX', 'revision', 'Video', 'NAS', 'handler', 'WinAPI', 'process', 'multi-', 'applications', 'decoder', 'vendor', 'request', 'picon', 'codec', 'audio', 'DASH', 'performance', 'team', 'success', 'Company', 'control', 'Win32', 'driver', 'editing', 'Render', 'Name', 'M.S', 'response', 'storage', 'Scrum', 'methods', 'Star', 'Software', 'JSON', 'C++', 'services', 'customer', 'style', 'Education', 'TCP', 'user', 'K', 'Corporation', 'Service', 'Picon', 'Hardware', 'Leitch', 'Communication', 'Team', 'ATL', 'unit', 'indirect', 'Requestor', 'Win', 'Handler', 'communications', 'content', 'atoms', 'reviews', 'XML', 'software', 'C', 'Harris', 'DLL', 'device', 'rules', 'metadata', 'guidelines', 'SOA', 'Naperville', 'parser', 'completion', 'framework', 'converter', 'IDs', 'Institute', 'Summary', '#', 'LAN', 'DPS', 'use', 'Velocity', 'analysis', 'components', 'domain', 'notification', '08/1997', 'party', 'deliverables', 'Illinois', 'IPC', 'MPEG', 'proxy', 'OOP', 'REST', 'testing', 'playback', 'Electronics', 'header', 'size', 'server', 'hand', 'ftp', 'workflows', 'sources', 'Science', '07/1997']\n",
            "[]\n",
            "\n",
            "MORTGAGE BANKING FORECLOSURE SPECIALIST\n",
            "['liability', 'City', 'weaknesses', 'repayment', 'cash', 'statements', 'Processor', 'Sharepoint', 'Solutions', 'Analysis', 'production', 'Lotus', 'Risk', 'Current', 'error', 'Profit', 'Schedule', 'Solver', 'logic', 'mortgage', 'management', 'Resolution', 'need', 'Bankruptcy', 'Specialist', 'environment', 'Analyst', 'RELS', 'years', 'Loss', 'University', 'Military', 'title', 'mortgages', 'volume', 'Documentation', 'plan', 'documents', 'Vendorscape', 'searches', 'Statements', 'Operations', 'recommendation', 'Clients', 'Experience', 'risk', 'Income', 'Management', 'instruments', 'tax', 'spectrum', 'Accomplishments', 'functions', 'applicant', 'Mae', 'SPECIALIST', 'quality', 'Consumer', 'Fannie', 'Audits', 'Articulate', 'goals', 'Ups', 'status', 'Data', 'review', 'FHA', 'Mortgage', 'level', 'milestones', 'Environment', '10/2011', 'self', 'products', 'policies', '%', 'StateMortgage', 'security', 'standards', 'Internal', 'industry', 'packages', 'Default', 'entry', 'errors', 'work', 'computer', 'Processing', 'Department', 'Federal', 'approvals', 'loans', 'Lenstar', 'Servicing', 'detail', 'Home', 'SLOAD', 'Connection', 'order', 'willingness', 'validity', 'baseline', 'documentation', 'Closing', 'Detail', 'DAT', 'BANKING', 'employer', 'house', 'Operations/', 'Document', 'exceptions', 'State', 'CREDCO', 'Science', 'underwriting', 'feasibility', '01/2014', 'procedures', 'strengths', 'Sales', 'Loan', 'MSP', 'Entry', 'company', 'definition', 'conditions', 'Ambitious', 'file', 'Corps', 'Title', 'Underwriter', 'paystubs', 'capacity', 'Act', 'peer', 'booking', 'Real', 'W2', 'professional', 'passion', '*', 'teammates', 'approval', 'clients', 'applicants', 'loan', 'Use', 'investor', 'Services', 'Financial', 'resolution', 'Compliance', 'Auburn', 'Skills', 'Meeting', 'roles', 'Early', 'Auditing', 'Civil', 'business', 'Associate', 'Control', 'experience', 'companies', 'programs', 'omissions', 'modification', 'Dos', 'in', 'Learner', 'Prevention', 'payment', 'Nss', 'MORTGAGE', 'learner', 'Lead', 'Foreclosure', 'follow', '01/2010', 'Company', 'control', 'history', 'bank', '04/2003', 'Name', 'options', 'Tax', 'Lending', 'evaluation', 'Banking', 'opportunity', 'Loans', 'LES', 'Liability', 'Administration', 'Education', 'services', 'customer', 'Microsoft', 'attention', 'member', 'accordance', 'borrowers', 'inquiries', 'Service', 'property', 'Review', 'Powerpoint', 'income', 'Montgomery', 'Live', 'Preservation', 'requirements', 'Cash', 'F.H.A.', 'Team', 'characteristics', 'consumer', 'File', 'FORECLOSURE', 'DOS', 'Telephone', 'Problem', 'Reviewing', 'banking', 'Excel', 'processes', 'rating', 'reviews', 'Booking', 'Pipeline', 'Fha', 'Outlook', '1120S', 'adherence', 'software', 'C', 'Fast', 'Estate', 'Assessment', 'cases', 'Cases', 'Fixed', 'guidelines', 'Returns', 'verifications', 'LPS', 'maintenance', 'affordability', 'Security', 'ResWare', 'Verified', 'Summary', 'ratio', 'credit', 'Business', 'ups', 'Assurance', 'Credit', 'Underwriting', 'Trading', 'Word', 'Relief', 'methodology', '08/2008', 'Quality', 'customers', 'Management/', 'mainframes', '12/2013', 'transcripts', 'K-1', 'V.A.', 'Prevention/', 'Production', 'asset', 'Mitigation', 'II', 'sources', 'SCRA', 'S', 'knowledge', 'database']\n",
            "[]\n",
            "\n",
            "SENIOR CLIENT ADVOCATE II\n",
            "['product', 'Seven', 'City', 'impact', 'BlueCross', 'Systems', 'projects', 'changes', 'role', 'areas', 'record', 'Project', 'Risk', 'analysts', 'Motivated', 'Wireless', 'development', 'management', 'expense', 'coding', 'employees', 'Northampton', 'player', 'plans', 'FHIR', 'environment', 'Analyst', 'pricing', 'Blood', 'progress', 'years', 'Cable', 'HP', 'University', 'Military', 'planning', 'tools', 'architecture', 'SQL', 'users', 'ability', 'plan', 'Standards', 'programmers', 'Gabron', 'savings', 'Requirements', 'Operations', '-', 'board', 'College', 'project', 'research', 'Experience', 'Physical', 'teams', 'Training', 'Technology', 'Management', 'case', 'Accomplishments', 'Application', 'efficiency', 'Workflow', 'goals', 'acceptance', 'measure', 'Senior', 'acumen', 'Data', 'health', '12/2002', 'Information', 'time', 'Rock', 'Clinical', 'objectives', 'Colorectal', 'level', 'profits', 'members', 'products', '%', 'costs', 'actuals', 'Magna', 'marketing', 'installation', 'improvements', 'meetings', 'EHR', 'Test', 'Cum', 'industry', 'creation', 'defects', 'London', 'Pressure', 'Product', 'communication', 'Merit', 'issues', '03/1992', 'mapping', 'Bachelor', 'Cancer', 'documentation', 'interviews', 'Community', 'telecom', 'billing', 'forecast', 'V2', 'technology', 'Document', 'Manager', 'budget', 'State', 'data', 'stakeholders', 'procedures', 'bench', 'mitigation', 'CBP', 'Computer', 'company', 'principles', 'position', 'matrix', 'Interchange', 'claims', 'Architecture', 'Insurance', 'opportunities', 'Consolidate', 'information', 'SuppCRAIG', 'support', 'Workgroup', 'Developing', 'analyst', 'staff', 'BlueShield', 'telecommunications', 'Organization', 'Use', '12/2017', 'TRICARE', 'Client', 'Health', 'Skills', 'Collaboration', 'business', 'revenue', 'calculation', 'ï¼\\u200b', 'design', 'spending', 'ADVOCATE', 'visits', 'CRAIG', 'Electronic', 'results', 'solutions', 'South', 'row', 'process', 'Screening', 'Brand', 'telephone', 'team', 'performance', 'sessions', 'features', 'Company', 'Pennsylvania', 'CLIENT', 'Name', 'IT', 'tool', 'site', 'Level', 'Affiliations', 'Laude', 'Resources', 'updates', 'packetize', 'Education', 'customer', 'user', 'Duties', 'Service', 'Lifecycle', 'requirements', 'attachments', 'messages', 'system', 'Team', 'focus', 'test', 'MS', 'line', 'care', 'processes', 'Release', 'gap', 'reviews', 'Award', 'Meaningful', 'Fast', 'scripts', 'software', 'reports', 'cases', 'Net', 'cycles', 'needs', 'ordination', 'Carolina', 'Communications', 'Summary', 'leaders', 'Business', 'collaboration', 'use', 'Slippery', 'expertise', 'analysis', 'Advocate', 'feature', 'co', 'WEDI', 'accounting', 'relationship', 'measures', 'enhancements', 'England', 'HEDIS', 'testing', 'Healthcare', 'responsibilities', 'COL', 'sales', 'concepts', 'II', 'Science', 'knowledge']\n",
            "['Bachelor']\n",
            "\n",
            "LINE ATTENDANT\n",
            "['desires', 'City', 'product', 'Externship', 'orders', 'accuracy', 'tissue', 'cash', 'food', 'Talent', 'Retail', 'service', 'Upheld', 'Analysis', 'code', 'inventory', 'Scrubbed', 'Customer', 'Dictation', 'Records', 'merchandise', 'Certificate', 'management', 'development', 'coffee', 'employees', 'Results', 'vehicles', 'player', 'Sep', 'preparation', 'purchases', 'pricing', 'register', 'Trevose', 'Reconciling', 'shelves', 'promotions', 'levels', 'appointments', 'Cpr/', 'office', 'calls', 'Collected', 'beverages', 'Sanford', 'Line', 'slip', 'Described', 'Inventory', '-', 'floor', 'receipts', 'duties', 'assurance', 'Experience', 'shipping', 'Training', 'FDA', 'PA', 'instruments', 'Shipping', 'Accomplishments', 'Attendant', 'bag', 'Player', 'Seasonal', 'quality', 'time', 'equipment', 'Handling', 'CPR', 'ATTENDANT', 'Excellent', 'workers', 'policies', 'products', 'Highlights', 'exchanges', 'instructions', 'security', 'improvements', 'September', 'Fulfillment', 'material', 'standards', 'stores', 'Material', 'containers', 'Certifications', 'work', 'fountain', 'communication', 'order', 'operation', 'steam', 'patients', 'Receptionist', 'dishes', 'flow', 'Practices', 'stock', 'State', 'phone', 'Sales', 'procedures', 'Answering', 'deadlines', 'Cpr', 'break', 'Multi', 'Jan', 'activities', 'company', 'Telephones', 'pace', 'Promote', 'tea', 'dictation', 'physician', 'recommendations', 'shipments', 'information', 'Nov', 'LINE', 'statistics', 'availability', 'Feb', 'US', 'supplies', 'Register', 'glasses', 'Skills', 'Directed', 'items', 'ï¼\\u200b', 'Aug', 'Associate', 'Supervisor', 'background', 'results', 'Aid', 'rooms', '©', 'Pricing', 'tables', 'Office', 'payment', 'drive', 'Restaurant', 'SKILLS', 'tasker', 'laboratory', 'specimens', 'telephone', 'telephones', 'growth', 'examination', 'Company', 'history', 'prices', 'August', 'Strong', 'Name', 'Medical', 'Crew', 'storage', 'Flow', 'CafÃ', 'Brown', 'height', 'refreshments', 'Education', 'temperature', 'services', 'customer', 'Microsoft', 'signs', 'patron', 'Cash', 'Oct', 'Assistant', 'Duties', 'Certification', 'Service', 'Hostess', 'Activities', 'Cooked', 'Communication', 'Culinary', 'Team', 'goods', 'test', 'area', 'Telephone', 'care', 'insurance', 'Excel', 'Recommend', 'reference', 'closing', 'leader', 'Diploma', 'opening', 'lines', 'Ticketed', 'First', 'Competitive', 'needs', 'gauge', 'Osha', 'guidelines', 'Apr', 'counters', 'Fda', 'General', 'records', 'Institute', 'Security', 'Summary', 'credit', 'racks', 'kitchens', 'taking', 'restaurant', 'Assurance', 'Store', 'use', 'Credit', 'analysis', 'fulfillment', 'CERTIFICATIONS', 'blood', 'Word', 'date', 'Leadership', 'forms', 'brand', 'Arts', 'Quality', 'customers', 'practices', 'requests', 'weight', 'Answered', 'Testing', 'Laboratory', 'sales', 'Statistics', 'knowledge']\n",
            "[]\n",
            "\n",
            "SALON DESIGNER\n",
            "['SUNSTATE', 'product', 'City', 'malfunctions', 'desires', 'problem', 'Determine', 'Processor', 'cash', 'questions', 'styles', 'education', 'service', 'styling', 'transactions', 'Schedule', 'Order', 'andself-', 'Responsibilities', 'merchandise', 'package', 'Self', 'Power', 'need', 'techniques', 'player', 'center', 'charge', 'cutting', 'purchases', 'Set', 'Sep', 'shelves', 'promotions', 'appointments', 'October', 'office', 'title', 'employment', 'Appraisal', 'Package', 'Maintain', 'documents', 'Ms', 'Inventory', 'slips', 'Experience', 'client', 'requisition', 'Management', 'DESIGNER', 'month', 'tasks', 'Call', 'contact', 'skills', 'time', 'status', 'December', 'researching', 'decision', 'hair', 'equipment', 'Bilingual', 'level', 'arrange', 'Processors', 'Committed', 'reputation', 'satisfaction', 'products', 'policies', 'United', 'initiative', 'exchanges', 'drawers', 'marketing', 'security', 'registers', 'safety', 'standards', 'Prepare', 'Change', 'Answer', 'call', 'work', 'May', 'salon', 'communication', 'issues', 'Languages', 'validity', 'loans', 'ACADEMY', 'operations', 'order', 'Representative', 'operation', 'SAINT', 'fields', 'problems', 'Manager', 'stock', 'making', 'consultation', 'State', 'data', 'Sales', 'ownership', 'Cosmetology', 'procedures', 'Originators', 'Loan', 'value', 'company', 'Exchange', 'file', 'deposits', 'English', 'opportunities', 'atmosphere', 'information', 'cosmetics', 'support', 'cleanliness', 'professional', 'Point', 'clients', 'integrity', 'loan', 'supplies', 'vouchers', 'Assemble', 'SALON', 'Fulfill', 'January', 'Skills', 'business', 'Compliance', 'Associate', 'ï¼\\u200b', 'beauty', 'print', 'Essential', 'experience', 'appraisals', 'Salon', 'November', 'job', 'Aug', 'PETERSBURG', 'tables', 'Office', 'solutions', 'payment', 'group', 'benefits', 'inventories', 'features', 'Company', 'store', 'Compute', 'August', 'QC', 'Batteries', 'Name', 'prices', 'base', 'Center', 'coupons', 'accounts', 'Flow', 'June', 'Greet', 'stations', 'License', 'training', 'Professional', 'Education', 'style', 'customer', 'services', 'returns', 'Duties', 'inquiries', 'Watch', 'requirements', 'organization', 'Team', 'accomplishments', 'Overview', 'COLLEGE', 'subordinations', 'people', 'eager', 'care', 'periods', 'Excel', 'Regulatory', 'answers', 'Recommend', 'retail', 'closing', 'submission', 'Ticket', 'opening', 'sell', 'needs', 'trends', 'Career', 'maintenance', 'verifications', 'counters', 'General', 'records', 'credit', 'use', 'demeanor', 'money', 'Credit', 'Designer', 'locating', 'Word', 'Arts', 'relationship', 'customers', 'practices', 'States', 'requests', 'gifts', 'selection', 'LOS', 'Owner', 'attorney', 'term', 'Adobe', 'Greek', 'sales', 'mobility', 'knowledge', 'database']\n",
            "[]\n",
            "\n",
            "E-LEARNING DESIGNER\n",
            "['Â', 'Factors', 'sites', 'Patrick', 'development', 'management', 'variety', 'PowerPoint', 'Kutsch', 'storyboards', 'iMovie', '-', 'publications', '2007Â', 'User', 'Preparation', 'owners', 'technologies', 'School', 'Encoder', 'navigation', 'Master', 'leadership', 'Macedo', 'Excellent', 'DB2', 'Dantressangle', 'security', 'Design', 'Kenexa', 'z', 'UNIVERSITY', 'Certifications', 'Captivate', 'Tutorial', 'State', 'VMWare', 'learning', 'Wu', 'magazine', 'Brothers', 'Magazine', 'web', 'We', 'holders', 'WESTERN', 'High', 'information', 'Unix', 'proof', 'Paolo', 'January', 'Soccer', 'Green', 'background', 'Oracle', 'Vitor', 'SCORM', 'process', 'Instructional', 'Planning', 'AIX', 'Company', 'Name', 'forÂ', 'tool', 'June', 'methods', 'Affiliations', 'training', 'editor', 'BoardÂ', 'conferences', 'Board', 'Certification', 'p', 'Stakeholder', 'adult', 'Work', 'Outlook', 'software', 'C', 'LMS', 'learners', 'Math', 'Sabine', 'Designer', 'experts', 'ParticipantsÂ', 'TeamÂ', 'McGeoch', 'Skype', 'Gathered', 'methodologies', 'City', 'Ling', 'Developer', 'Drive', 'education', 'Innovation', 'Talent', 'Current', 'administrators', 'techniques', 'Apple', 'center', 'Tay', 'TECHNOLOGY', 'Technical', 'Hub', 'Swim', 'project', 'Procedures', 'Studio', 'Montini', 'Management', 'Player', 'Application', 'quality', 'Ability', 'Gmail', 'Paint', 'administrator', 'Data', 'resources', 'Academic', 'Record', 'INSTRUCTIONAL', 'COMPUTER', 'United', 'Support', 'Rome', 'DatabaseIBM', '501(r)Â', 'e', 'White', 'Reader', 'May', 'Bachelor', 'Gregory', 'Protecting', 'Media', 'Community', 'technology', 'Jan', 'Ming', 'knowledge', 'Sardana', 'Success', 'Snag', 'HTML', 'design', 'book', 'Society', 'Database', 'trainer', 'matter', 'Chong', 'Forms', 'Kathryn', 'department', 'Dayana', 'ILLINOIS', 'Service', 'expert', 'Team', 'Overview', 'content', 'resource', 'SharePoint', 'Version', 'Safety', 'subject', 'Career', 'Olympiad', 'Marichu', 'collaboration', 'analysis', 'Writing', 'Revolution', 'Voice', 'articles', 'Illinois', 'Workbench', 'American', 'problem', 'Youth', 'Dennis', 'Robert', 'E', 'Pro', 'Customer', 'eBook', 'designÂ', 'Publications', 'educator', 'Explorer', 'SQL', 'PENNSYLVANIA', 'ability', 'scenarios', 'Paper', 'Presentations', 'Experience', 'Training', 'Technology', 'Editing', 'understanding', 'stake', 'skills', 'SAP', 'time', 'David', 'Windows', 'F.', 'Test', 'Unites', 'computer', 'Visio', 'Coach', 'Greenstein', 'April', 'Leung', 'surveysÂ', 'manager', 'Bruni', 'Docs', 'Patient', 'modules', 'NIH', 'assessments', 'Schenker', 'Mark', 'Adept', 'Organization', 'Eaton', 'Skills', 'Michael', 'Kaschta', 'experience', 'SCIENCE', 'Athletic', 'Introduction', 'managers', 'implementation', 'Stored', 'pedagogy', 'Internet', 'Spain', 'budgets', 'York', 'developerWorks', 'compliance', 'Microsoft', 'Corporation', 'eLearning', 'Children', 'Sandburg', 'STATE', 'test', 'videos', 'Archiving', 'ID', 'Marina', 'Debra', 'lines', 'Group', 'Smith', 'Analysed', 'experiences', 'Qualifications', 'Platform', 'class', 'proposals', 'theories', 'Elmhurst', 'Word', 'schedules', 'DEPAUL', 'Adobe', 'concepts', 'Science', 'JavascriptÂ', 'boarding', 'materials', 'delivery', 'Newman', 'Volunteer', 'Marcel', 'Development', 'Project', 'Exam', 'ILT', 'Researched', 'Google', 'tools', 'online', 'Research', 'TRAINER', 'Cross-', 'OS', 'room', 'DESIGNER', 'scheduling', 'K.', 'tasks', 'Ricardo', 'Part', 'solution', 'video', 'Information', 'Boosters', 'objectives', 'President', 'pages', 'proficiency', 'd', 'Redbook', 'Book', 'outcomes', 'Rodrigues', 'data', 'Luca', 'Central', 'Hutchison', 'Facilities', 'Raul', 'Zeidenstein', 'ï¼\\u200b', 'Majcher', 'initiatives', 'Vandensande', 'D.', 'Tech', 'channel', 'Advisory', 'team', 'DESIGN', 'curriculum', 'Association', 'Chrome', 'Bockus', 'Grant', 'executives', 'Education', 'Academy', 'International', 'requirements', 'approaches', 'line', 'UDB', 'Excel', 'story', 'XML', 'Networks', 'IBM', 'feedback', 'needs', 'distance', 'Manoj', 'courses', 'Scanlon', 'Red', 'July', 'Demand', 'parties', 'SheetsÂ', 'States', 'Glenn', 'Expert', 'Human', 'YouTube']\n",
            "['Bachelor', 'Master']\n",
            "\n",
            "\n",
            "\n",
            "\n",
            ">>>>>>>>>>>>>>>>>>>>>>>>>>>>>>>>>>>>>>>>>>>>>>>\n",
            "\n",
            "\n",
            "\n",
            "General Dynamics Information Technology\n",
            "SR. Web Designer\n",
            "Proficiency in HTML, CSS, JavaScript, Drupal, Adobe Photoshop, Illustrator, After Effects and Lightroom.\n",
            "Bachelor's degree or equivalent experience.\n",
            "\n",
            "SOFTWARE ENGINEERING MANAGER\n",
            "['Beijing', 'engine', 'product', 'City', 'Engineer', 'encoder', 'servers', 'DTA', 'formats', 'bridge', 'projects', 'engineers', 'service', 'Development', 'Visual', 'Transcoder', 'Helper', 'code', 'Current', 'startup', 'developers', 'Project', 'India', 'scalability', 'development', 'management', 'HTML5', 'backup', 'explorer', 'Hercules', 'crash', 'concept', 'player', 'Principal', 'personnel', 'holding', 'desktop', 'years', 'tools', 'architecture', 'Helios', 'Engineering', 'protocol', 'SAX', 'integration', 'documents', 'ScrumMaster', '-', 'project', 'document', 'Experience', 'teams', 'Editing', 'client', 'layer', 'Scavenger', 'backend', 'Technology', 'functions', 'engineering', 'spinoff', 'URI', 'nodes', 'Initiated', 'Encoder', 'MediaBase', 'AAC', 'JavaScript', 'time', 'solution', 'CLI', 'Imagine', 'video', 'ENGINEERING', 'part', 'method', 'UI', 'core', 'level', 'review', 'threads', 'API', 'products', 'Windows', 'hands', 'reader', 'side', 'specification', 'legacy', 'classes', 'source', '24/7', 'pages', 'engineer', 'standards', 'troubleshoot', 'SOFTWARE', 'SDK', 'contents', 'Mercurial', 'issues', 'access', 'operation', 'domains', 'Media', 'effects', 'interviews', 'documentation', 'technology', '08/2009', 'top', 'manager', 'facilities', 'house', 'Manager', 'stack', 'MB', '+', 'State', 'export', 'Nexio', 'Bank', 'procedures', 'import', 'transitions', 'Computer', 'Proxy', 'Playout', 'JS', 'conditions', 'BCD', 'models', 'Burbank', 'modules', 'web', 'space', 'MP4', 'FTP', 'peer', 'opportunities', 'Content', 'evolution', 'clients', 'Suite', 'SAN', 'MANAGER', 'media', 'STL', 'design', 'offers', '09/2009', 'business', 'ï¼\\u200b', 'dump', 'drawing', 'Skills', 'experience', 'Global', 'National', 'HR', 'broadcast', 'HTTP', 'page', 'rendering', 'Jenkins', 'dash', 'container', 'engines', 'MFC', 'json', 'GPRX', 'revision', 'Video', 'NAS', 'handler', 'WinAPI', 'process', 'multi-', 'applications', 'decoder', 'vendor', 'request', 'picon', 'codec', 'audio', 'DASH', 'performance', 'team', 'success', 'Company', 'control', 'Win32', 'driver', 'editing', 'Render', 'Name', 'M.S', 'response', 'storage', 'Scrum', 'methods', 'Star', 'Software', 'JSON', 'C++', 'services', 'customer', 'style', 'Education', 'TCP', 'user', 'K', 'Corporation', 'Service', 'Picon', 'Hardware', 'Leitch', 'Communication', 'Team', 'ATL', 'unit', 'indirect', 'Requestor', 'Win', 'Handler', 'communications', 'content', 'atoms', 'reviews', 'XML', 'software', 'C', 'Harris', 'DLL', 'device', 'rules', 'metadata', 'guidelines', 'SOA', 'Naperville', 'parser', 'completion', 'framework', 'converter', 'IDs', 'Institute', 'Summary', '#', 'LAN', 'DPS', 'use', 'Velocity', 'analysis', 'components', 'domain', 'notification', '08/1997', 'party', 'deliverables', 'Illinois', 'IPC', 'MPEG', 'proxy', 'OOP', 'REST', 'testing', 'playback', 'Electronics', 'header', 'size', 'server', 'hand', 'ftp', 'workflows', 'sources', 'Science', '07/1997']\n",
            "[]\n",
            "\n",
            "MORTGAGE BANKING FORECLOSURE SPECIALIST\n",
            "['liability', 'City', 'weaknesses', 'repayment', 'cash', 'statements', 'Processor', 'Sharepoint', 'Solutions', 'Analysis', 'production', 'Lotus', 'Risk', 'Current', 'error', 'Profit', 'Schedule', 'Solver', 'logic', 'mortgage', 'management', 'Resolution', 'need', 'Bankruptcy', 'Specialist', 'environment', 'Analyst', 'RELS', 'years', 'Loss', 'University', 'Military', 'title', 'mortgages', 'volume', 'Documentation', 'plan', 'documents', 'Vendorscape', 'searches', 'Statements', 'Operations', 'recommendation', 'Clients', 'Experience', 'risk', 'Income', 'Management', 'instruments', 'tax', 'spectrum', 'Accomplishments', 'functions', 'applicant', 'Mae', 'SPECIALIST', 'quality', 'Consumer', 'Fannie', 'Audits', 'Articulate', 'goals', 'Ups', 'status', 'Data', 'review', 'FHA', 'Mortgage', 'level', 'milestones', 'Environment', '10/2011', 'self', 'products', 'policies', '%', 'StateMortgage', 'security', 'standards', 'Internal', 'industry', 'packages', 'Default', 'entry', 'errors', 'work', 'computer', 'Processing', 'Department', 'Federal', 'approvals', 'loans', 'Lenstar', 'Servicing', 'detail', 'Home', 'SLOAD', 'Connection', 'order', 'willingness', 'validity', 'baseline', 'documentation', 'Closing', 'Detail', 'DAT', 'BANKING', 'employer', 'house', 'Operations/', 'Document', 'exceptions', 'State', 'CREDCO', 'Science', 'underwriting', 'feasibility', '01/2014', 'procedures', 'strengths', 'Sales', 'Loan', 'MSP', 'Entry', 'company', 'definition', 'conditions', 'Ambitious', 'file', 'Corps', 'Title', 'Underwriter', 'paystubs', 'capacity', 'Act', 'peer', 'booking', 'Real', 'W2', 'professional', 'passion', '*', 'teammates', 'approval', 'clients', 'applicants', 'loan', 'Use', 'investor', 'Services', 'Financial', 'resolution', 'Compliance', 'Auburn', 'Skills', 'Meeting', 'roles', 'Early', 'Auditing', 'Civil', 'business', 'Associate', 'Control', 'experience', 'companies', 'programs', 'omissions', 'modification', 'Dos', 'in', 'Learner', 'Prevention', 'payment', 'Nss', 'MORTGAGE', 'learner', 'Lead', 'Foreclosure', 'follow', '01/2010', 'Company', 'control', 'history', 'bank', '04/2003', 'Name', 'options', 'Tax', 'Lending', 'evaluation', 'Banking', 'opportunity', 'Loans', 'LES', 'Liability', 'Administration', 'Education', 'services', 'customer', 'Microsoft', 'attention', 'member', 'accordance', 'borrowers', 'inquiries', 'Service', 'property', 'Review', 'Powerpoint', 'income', 'Montgomery', 'Live', 'Preservation', 'requirements', 'Cash', 'F.H.A.', 'Team', 'characteristics', 'consumer', 'File', 'FORECLOSURE', 'DOS', 'Telephone', 'Problem', 'Reviewing', 'banking', 'Excel', 'processes', 'rating', 'reviews', 'Booking', 'Pipeline', 'Fha', 'Outlook', '1120S', 'adherence', 'software', 'C', 'Fast', 'Estate', 'Assessment', 'cases', 'Cases', 'Fixed', 'guidelines', 'Returns', 'verifications', 'LPS', 'maintenance', 'affordability', 'Security', 'ResWare', 'Verified', 'Summary', 'ratio', 'credit', 'Business', 'ups', 'Assurance', 'Credit', 'Underwriting', 'Trading', 'Word', 'Relief', 'methodology', '08/2008', 'Quality', 'customers', 'Management/', 'mainframes', '12/2013', 'transcripts', 'K-1', 'V.A.', 'Prevention/', 'Production', 'asset', 'Mitigation', 'II', 'sources', 'SCRA', 'S', 'knowledge', 'database']\n",
            "[]\n",
            "\n",
            "SENIOR CLIENT ADVOCATE II\n",
            "['product', 'Seven', 'City', 'impact', 'BlueCross', 'Systems', 'projects', 'changes', 'role', 'areas', 'record', 'Project', 'Risk', 'analysts', 'Motivated', 'Wireless', 'development', 'management', 'expense', 'coding', 'employees', 'Northampton', 'player', 'plans', 'FHIR', 'environment', 'Analyst', 'pricing', 'Blood', 'progress', 'years', 'Cable', 'HP', 'University', 'Military', 'planning', 'tools', 'architecture', 'SQL', 'users', 'ability', 'plan', 'Standards', 'programmers', 'Gabron', 'savings', 'Requirements', 'Operations', '-', 'board', 'College', 'project', 'research', 'Experience', 'Physical', 'teams', 'Training', 'Technology', 'Management', 'case', 'Accomplishments', 'Application', 'efficiency', 'Workflow', 'goals', 'acceptance', 'measure', 'Senior', 'acumen', 'Data', 'health', '12/2002', 'Information', 'time', 'Rock', 'Clinical', 'objectives', 'Colorectal', 'level', 'profits', 'members', 'products', '%', 'costs', 'actuals', 'Magna', 'marketing', 'installation', 'improvements', 'meetings', 'EHR', 'Test', 'Cum', 'industry', 'creation', 'defects', 'London', 'Pressure', 'Product', 'communication', 'Merit', 'issues', '03/1992', 'mapping', 'Bachelor', 'Cancer', 'documentation', 'interviews', 'Community', 'telecom', 'billing', 'forecast', 'V2', 'technology', 'Document', 'Manager', 'budget', 'State', 'data', 'stakeholders', 'procedures', 'bench', 'mitigation', 'CBP', 'Computer', 'company', 'principles', 'position', 'matrix', 'Interchange', 'claims', 'Architecture', 'Insurance', 'opportunities', 'Consolidate', 'information', 'SuppCRAIG', 'support', 'Workgroup', 'Developing', 'analyst', 'staff', 'BlueShield', 'telecommunications', 'Organization', 'Use', '12/2017', 'TRICARE', 'Client', 'Health', 'Skills', 'Collaboration', 'business', 'revenue', 'calculation', 'ï¼\\u200b', 'design', 'spending', 'ADVOCATE', 'visits', 'CRAIG', 'Electronic', 'results', 'solutions', 'South', 'row', 'process', 'Screening', 'Brand', 'telephone', 'team', 'performance', 'sessions', 'features', 'Company', 'Pennsylvania', 'CLIENT', 'Name', 'IT', 'tool', 'site', 'Level', 'Affiliations', 'Laude', 'Resources', 'updates', 'packetize', 'Education', 'customer', 'user', 'Duties', 'Service', 'Lifecycle', 'requirements', 'attachments', 'messages', 'system', 'Team', 'focus', 'test', 'MS', 'line', 'care', 'processes', 'Release', 'gap', 'reviews', 'Award', 'Meaningful', 'Fast', 'scripts', 'software', 'reports', 'cases', 'Net', 'cycles', 'needs', 'ordination', 'Carolina', 'Communications', 'Summary', 'leaders', 'Business', 'collaboration', 'use', 'Slippery', 'expertise', 'analysis', 'Advocate', 'feature', 'co', 'WEDI', 'accounting', 'relationship', 'measures', 'enhancements', 'England', 'HEDIS', 'testing', 'Healthcare', 'responsibilities', 'COL', 'sales', 'concepts', 'II', 'Science', 'knowledge']\n",
            "['Bachelor']\n",
            "\n",
            "LINE ATTENDANT\n",
            "['desires', 'City', 'product', 'Externship', 'orders', 'accuracy', 'tissue', 'cash', 'food', 'Talent', 'Retail', 'service', 'Upheld', 'Analysis', 'code', 'inventory', 'Scrubbed', 'Customer', 'Dictation', 'Records', 'merchandise', 'Certificate', 'management', 'development', 'coffee', 'employees', 'Results', 'vehicles', 'player', 'Sep', 'preparation', 'purchases', 'pricing', 'register', 'Trevose', 'Reconciling', 'shelves', 'promotions', 'levels', 'appointments', 'Cpr/', 'office', 'calls', 'Collected', 'beverages', 'Sanford', 'Line', 'slip', 'Described', 'Inventory', '-', 'floor', 'receipts', 'duties', 'assurance', 'Experience', 'shipping', 'Training', 'FDA', 'PA', 'instruments', 'Shipping', 'Accomplishments', 'Attendant', 'bag', 'Player', 'Seasonal', 'quality', 'time', 'equipment', 'Handling', 'CPR', 'ATTENDANT', 'Excellent', 'workers', 'policies', 'products', 'Highlights', 'exchanges', 'instructions', 'security', 'improvements', 'September', 'Fulfillment', 'material', 'standards', 'stores', 'Material', 'containers', 'Certifications', 'work', 'fountain', 'communication', 'order', 'operation', 'steam', 'patients', 'Receptionist', 'dishes', 'flow', 'Practices', 'stock', 'State', 'phone', 'Sales', 'procedures', 'Answering', 'deadlines', 'Cpr', 'break', 'Multi', 'Jan', 'activities', 'company', 'Telephones', 'pace', 'Promote', 'tea', 'dictation', 'physician', 'recommendations', 'shipments', 'information', 'Nov', 'LINE', 'statistics', 'availability', 'Feb', 'US', 'supplies', 'Register', 'glasses', 'Skills', 'Directed', 'items', 'ï¼\\u200b', 'Aug', 'Associate', 'Supervisor', 'background', 'results', 'Aid', 'rooms', '©', 'Pricing', 'tables', 'Office', 'payment', 'drive', 'Restaurant', 'SKILLS', 'tasker', 'laboratory', 'specimens', 'telephone', 'telephones', 'growth', 'examination', 'Company', 'history', 'prices', 'August', 'Strong', 'Name', 'Medical', 'Crew', 'storage', 'Flow', 'CafÃ', 'Brown', 'height', 'refreshments', 'Education', 'temperature', 'services', 'customer', 'Microsoft', 'signs', 'patron', 'Cash', 'Oct', 'Assistant', 'Duties', 'Certification', 'Service', 'Hostess', 'Activities', 'Cooked', 'Communication', 'Culinary', 'Team', 'goods', 'test', 'area', 'Telephone', 'care', 'insurance', 'Excel', 'Recommend', 'reference', 'closing', 'leader', 'Diploma', 'opening', 'lines', 'Ticketed', 'First', 'Competitive', 'needs', 'gauge', 'Osha', 'guidelines', 'Apr', 'counters', 'Fda', 'General', 'records', 'Institute', 'Security', 'Summary', 'credit', 'racks', 'kitchens', 'taking', 'restaurant', 'Assurance', 'Store', 'use', 'Credit', 'analysis', 'fulfillment', 'CERTIFICATIONS', 'blood', 'Word', 'date', 'Leadership', 'forms', 'brand', 'Arts', 'Quality', 'customers', 'practices', 'requests', 'weight', 'Answered', 'Testing', 'Laboratory', 'sales', 'Statistics', 'knowledge']\n",
            "[]\n",
            "\n",
            "SALON DESIGNER\n",
            "['SUNSTATE', 'product', 'City', 'malfunctions', 'desires', 'problem', 'Determine', 'Processor', 'cash', 'questions', 'styles', 'education', 'service', 'styling', 'transactions', 'Schedule', 'Order', 'andself-', 'Responsibilities', 'merchandise', 'package', 'Self', 'Power', 'need', 'techniques', 'player', 'center', 'charge', 'cutting', 'purchases', 'Set', 'Sep', 'shelves', 'promotions', 'appointments', 'October', 'office', 'title', 'employment', 'Appraisal', 'Package', 'Maintain', 'documents', 'Ms', 'Inventory', 'slips', 'Experience', 'client', 'requisition', 'Management', 'DESIGNER', 'month', 'tasks', 'Call', 'contact', 'skills', 'time', 'status', 'December', 'researching', 'decision', 'hair', 'equipment', 'Bilingual', 'level', 'arrange', 'Processors', 'Committed', 'reputation', 'satisfaction', 'products', 'policies', 'United', 'initiative', 'exchanges', 'drawers', 'marketing', 'security', 'registers', 'safety', 'standards', 'Prepare', 'Change', 'Answer', 'call', 'work', 'May', 'salon', 'communication', 'issues', 'Languages', 'validity', 'loans', 'ACADEMY', 'operations', 'order', 'Representative', 'operation', 'SAINT', 'fields', 'problems', 'Manager', 'stock', 'making', 'consultation', 'State', 'data', 'Sales', 'ownership', 'Cosmetology', 'procedures', 'Originators', 'Loan', 'value', 'company', 'Exchange', 'file', 'deposits', 'English', 'opportunities', 'atmosphere', 'information', 'cosmetics', 'support', 'cleanliness', 'professional', 'Point', 'clients', 'integrity', 'loan', 'supplies', 'vouchers', 'Assemble', 'SALON', 'Fulfill', 'January', 'Skills', 'business', 'Compliance', 'Associate', 'ï¼\\u200b', 'beauty', 'print', 'Essential', 'experience', 'appraisals', 'Salon', 'November', 'job', 'Aug', 'PETERSBURG', 'tables', 'Office', 'solutions', 'payment', 'group', 'benefits', 'inventories', 'features', 'Company', 'store', 'Compute', 'August', 'QC', 'Batteries', 'Name', 'prices', 'base', 'Center', 'coupons', 'accounts', 'Flow', 'June', 'Greet', 'stations', 'License', 'training', 'Professional', 'Education', 'style', 'customer', 'services', 'returns', 'Duties', 'inquiries', 'Watch', 'requirements', 'organization', 'Team', 'accomplishments', 'Overview', 'COLLEGE', 'subordinations', 'people', 'eager', 'care', 'periods', 'Excel', 'Regulatory', 'answers', 'Recommend', 'retail', 'closing', 'submission', 'Ticket', 'opening', 'sell', 'needs', 'trends', 'Career', 'maintenance', 'verifications', 'counters', 'General', 'records', 'credit', 'use', 'demeanor', 'money', 'Credit', 'Designer', 'locating', 'Word', 'Arts', 'relationship', 'customers', 'practices', 'States', 'requests', 'gifts', 'selection', 'LOS', 'Owner', 'attorney', 'term', 'Adobe', 'Greek', 'sales', 'mobility', 'knowledge', 'database']\n",
            "[]\n",
            "\n",
            "E-LEARNING DESIGNER\n",
            "['Â', 'Factors', 'sites', 'Patrick', 'development', 'management', 'variety', 'PowerPoint', 'Kutsch', 'storyboards', 'iMovie', '-', 'publications', '2007Â', 'User', 'Preparation', 'owners', 'technologies', 'School', 'Encoder', 'navigation', 'Master', 'leadership', 'Macedo', 'Excellent', 'DB2', 'Dantressangle', 'security', 'Design', 'Kenexa', 'z', 'UNIVERSITY', 'Certifications', 'Captivate', 'Tutorial', 'State', 'VMWare', 'learning', 'Wu', 'magazine', 'Brothers', 'Magazine', 'web', 'We', 'holders', 'WESTERN', 'High', 'information', 'Unix', 'proof', 'Paolo', 'January', 'Soccer', 'Green', 'background', 'Oracle', 'Vitor', 'SCORM', 'process', 'Instructional', 'Planning', 'AIX', 'Company', 'Name', 'forÂ', 'tool', 'June', 'methods', 'Affiliations', 'training', 'editor', 'BoardÂ', 'conferences', 'Board', 'Certification', 'p', 'Stakeholder', 'adult', 'Work', 'Outlook', 'software', 'C', 'LMS', 'learners', 'Math', 'Sabine', 'Designer', 'experts', 'ParticipantsÂ', 'TeamÂ', 'McGeoch', 'Skype', 'Gathered', 'methodologies', 'City', 'Ling', 'Developer', 'Drive', 'education', 'Innovation', 'Talent', 'Current', 'administrators', 'techniques', 'Apple', 'center', 'Tay', 'TECHNOLOGY', 'Technical', 'Hub', 'Swim', 'project', 'Procedures', 'Studio', 'Montini', 'Management', 'Player', 'Application', 'quality', 'Ability', 'Gmail', 'Paint', 'administrator', 'Data', 'resources', 'Academic', 'Record', 'INSTRUCTIONAL', 'COMPUTER', 'United', 'Support', 'Rome', 'DatabaseIBM', '501(r)Â', 'e', 'White', 'Reader', 'May', 'Bachelor', 'Gregory', 'Protecting', 'Media', 'Community', 'technology', 'Jan', 'Ming', 'knowledge', 'Sardana', 'Success', 'Snag', 'HTML', 'design', 'book', 'Society', 'Database', 'trainer', 'matter', 'Chong', 'Forms', 'Kathryn', 'department', 'Dayana', 'ILLINOIS', 'Service', 'expert', 'Team', 'Overview', 'content', 'resource', 'SharePoint', 'Version', 'Safety', 'subject', 'Career', 'Olympiad', 'Marichu', 'collaboration', 'analysis', 'Writing', 'Revolution', 'Voice', 'articles', 'Illinois', 'Workbench', 'American', 'problem', 'Youth', 'Dennis', 'Robert', 'E', 'Pro', 'Customer', 'eBook', 'designÂ', 'Publications', 'educator', 'Explorer', 'SQL', 'PENNSYLVANIA', 'ability', 'scenarios', 'Paper', 'Presentations', 'Experience', 'Training', 'Technology', 'Editing', 'understanding', 'stake', 'skills', 'SAP', 'time', 'David', 'Windows', 'F.', 'Test', 'Unites', 'computer', 'Visio', 'Coach', 'Greenstein', 'April', 'Leung', 'surveysÂ', 'manager', 'Bruni', 'Docs', 'Patient', 'modules', 'NIH', 'assessments', 'Schenker', 'Mark', 'Adept', 'Organization', 'Eaton', 'Skills', 'Michael', 'Kaschta', 'experience', 'SCIENCE', 'Athletic', 'Introduction', 'managers', 'implementation', 'Stored', 'pedagogy', 'Internet', 'Spain', 'budgets', 'York', 'developerWorks', 'compliance', 'Microsoft', 'Corporation', 'eLearning', 'Children', 'Sandburg', 'STATE', 'test', 'videos', 'Archiving', 'ID', 'Marina', 'Debra', 'lines', 'Group', 'Smith', 'Analysed', 'experiences', 'Qualifications', 'Platform', 'class', 'proposals', 'theories', 'Elmhurst', 'Word', 'schedules', 'DEPAUL', 'Adobe', 'concepts', 'Science', 'JavascriptÂ', 'boarding', 'materials', 'delivery', 'Newman', 'Volunteer', 'Marcel', 'Development', 'Project', 'Exam', 'ILT', 'Researched', 'Google', 'tools', 'online', 'Research', 'TRAINER', 'Cross-', 'OS', 'room', 'DESIGNER', 'scheduling', 'K.', 'tasks', 'Ricardo', 'Part', 'solution', 'video', 'Information', 'Boosters', 'objectives', 'President', 'pages', 'proficiency', 'd', 'Redbook', 'Book', 'outcomes', 'Rodrigues', 'data', 'Luca', 'Central', 'Hutchison', 'Facilities', 'Raul', 'Zeidenstein', 'ï¼\\u200b', 'Majcher', 'initiatives', 'Vandensande', 'D.', 'Tech', 'channel', 'Advisory', 'team', 'DESIGN', 'curriculum', 'Association', 'Chrome', 'Bockus', 'Grant', 'executives', 'Education', 'Academy', 'International', 'requirements', 'approaches', 'line', 'UDB', 'Excel', 'story', 'XML', 'Networks', 'IBM', 'feedback', 'needs', 'distance', 'Manoj', 'courses', 'Scanlon', 'Red', 'July', 'Demand', 'parties', 'SheetsÂ', 'States', 'Glenn', 'Expert', 'Human', 'YouTube']\n",
            "['Bachelor', 'Master']\n",
            "\n",
            "\n",
            "\n",
            "\n",
            ">>>>>>>>>>>>>>>>>>>>>>>>>>>>>>>>>>>>>>>>>>>>>>>\n",
            "\n",
            "\n",
            "\n"
          ]
        }
      ]
    }
  ]
}